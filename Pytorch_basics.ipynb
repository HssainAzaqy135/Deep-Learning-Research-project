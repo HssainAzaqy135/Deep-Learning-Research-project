{
 "cells": [
  {
   "cell_type": "markdown",
   "id": "e8c855b0-c373-451a-a0ef-343967639f2c",
   "metadata": {},
   "source": [
    "#  - - - - - - - - - - - - - - Quickstart - - - - - - - - - - - - - -"
   ]
  },
  {
   "cell_type": "code",
   "execution_count": 1,
   "id": "362d6dd5-cd76-4d8f-b41c-682ef40878b8",
   "metadata": {},
   "outputs": [],
   "source": [
    "import torch\n",
    "from torch import nn\n",
    "from torch.utils.data import DataLoader\n",
    "from torchvision import datasets\n",
    "from torchvision.transforms import ToTensor"
   ]
  },
  {
   "cell_type": "code",
   "execution_count": 2,
   "id": "40f463fe-eb03-4142-a54c-51588a0acc64",
   "metadata": {},
   "outputs": [],
   "source": [
    "# Download training data from open datasets.\n",
    "training_data = datasets.FashionMNIST(\n",
    "    root=\"data\",\n",
    "    train=True,\n",
    "    download=True,\n",
    "    transform=ToTensor(),\n",
    ")\n",
    "\n",
    "# Download test data from open datasets.\n",
    "test_data = datasets.FashionMNIST(\n",
    "    root=\"data\",\n",
    "    train=False,\n",
    "    download=True,\n",
    "    transform=ToTensor(),\n",
    ")"
   ]
  },
  {
   "cell_type": "code",
   "execution_count": 3,
   "id": "c00bc66f-2836-45fe-910e-906e6795474a",
   "metadata": {},
   "outputs": [
    {
     "name": "stdout",
     "output_type": "stream",
     "text": [
      "Shape of X [N, C, H, W]: torch.Size([64, 1, 28, 28])\n",
      "Shape of y: torch.Size([64]) torch.int64\n"
     ]
    }
   ],
   "source": [
    "batch_size = 64\n",
    "\n",
    "# Create data loaders.\n",
    "train_dataloader = DataLoader(training_data, batch_size=batch_size)\n",
    "test_dataloader = DataLoader(test_data, batch_size=batch_size)\n",
    "\n",
    "for X, y in test_dataloader:\n",
    "    print(f\"Shape of X [N, C, H, W]: {X.shape}\")\n",
    "    print(f\"Shape of y: {y.shape} {y.dtype}\")\n",
    "    break"
   ]
  },
  {
   "cell_type": "code",
   "execution_count": 4,
   "id": "b0505d6a-9ba3-4a29-89e7-7ea529597530",
   "metadata": {},
   "outputs": [
    {
     "name": "stdout",
     "output_type": "stream",
     "text": [
      "Using cuda device\n"
     ]
    }
   ],
   "source": [
    "# Get cpu, gpu or mps device for training.\n",
    "device = (\n",
    "    \"cuda\"\n",
    "    if torch.cuda.is_available()\n",
    "    else \"mps\"\n",
    "    if torch.backends.mps.is_available()\n",
    "    else \"cpu\"\n",
    ")\n",
    "print(f\"Using {device} device\")\n"
   ]
  },
  {
   "cell_type": "code",
   "execution_count": 5,
   "id": "7a6b672c-e986-41be-be9e-30c3be5101fb",
   "metadata": {},
   "outputs": [
    {
     "name": "stdout",
     "output_type": "stream",
     "text": [
      "NeuralNetwork(\n",
      "  (flatten): Flatten(start_dim=1, end_dim=-1)\n",
      "  (linear_relu_stack): Sequential(\n",
      "    (0): Linear(in_features=784, out_features=512, bias=True)\n",
      "    (1): ReLU()\n",
      "    (2): Linear(in_features=512, out_features=512, bias=True)\n",
      "    (3): ReLU()\n",
      "    (4): Linear(in_features=512, out_features=10, bias=True)\n",
      "  )\n",
      ")\n"
     ]
    }
   ],
   "source": [
    "# Define model\n",
    "class NeuralNetwork(nn.Module):\n",
    "    def __init__(self):\n",
    "        super().__init__()\n",
    "        self.flatten = nn.Flatten()\n",
    "        self.linear_relu_stack = nn.Sequential(\n",
    "            nn.Linear(28*28, 512),\n",
    "            nn.ReLU(),\n",
    "            nn.Linear(512, 512),\n",
    "            nn.ReLU(),\n",
    "            nn.Linear(512, 10)\n",
    "        )\n",
    "\n",
    "    def forward(self, x):\n",
    "        x = self.flatten(x)\n",
    "        logits = self.linear_relu_stack(x)\n",
    "        return logits\n",
    "\n",
    "model = NeuralNetwork().to(device)\n",
    "print(model)"
   ]
  },
  {
   "cell_type": "markdown",
   "id": "d0783fa0-895f-4f50-b61e-781906e64254",
   "metadata": {},
   "source": [
    "### Setting up loss function and optimizer"
   ]
  },
  {
   "cell_type": "code",
   "execution_count": 6,
   "id": "fbca6918-464f-4a4e-8520-476c5d15f043",
   "metadata": {},
   "outputs": [],
   "source": [
    "loss_fn = nn.CrossEntropyLoss()\n",
    "optimizer = torch.optim.SGD(model.parameters(), lr=1e-3)"
   ]
  },
  {
   "cell_type": "markdown",
   "id": "8fbdd92f-97b6-4a29-857f-f1a259879e02",
   "metadata": {},
   "source": [
    "### Setting up training function"
   ]
  },
  {
   "cell_type": "code",
   "execution_count": 7,
   "id": "6769e199-6ef3-458e-8f05-43a6209b24ad",
   "metadata": {},
   "outputs": [],
   "source": [
    "def train(dataloader, model, loss_fn, optimizer):\n",
    "    size = len(dataloader.dataset)\n",
    "    model.train()\n",
    "    for batch, (X, y) in enumerate(dataloader):\n",
    "        X, y = X.to(device), y.to(device)\n",
    "\n",
    "        # Compute prediction error\n",
    "        pred = model(X)\n",
    "        loss = loss_fn(pred, y)\n",
    "\n",
    "        # Backpropagation\n",
    "        loss.backward()\n",
    "        optimizer.step()\n",
    "        optimizer.zero_grad()\n",
    "\n",
    "        if batch % 100 == 0:\n",
    "            loss, current = loss.item(), (batch + 1) * len(X)\n",
    "            print(f\"loss: {loss:>7f}  [{current:>5d}/{size:>5d}]\")"
   ]
  },
  {
   "cell_type": "markdown",
   "id": "5ad6eb73-6aa1-414b-9bd7-ecadf92c527d",
   "metadata": {},
   "source": [
    "### Setting up testing function"
   ]
  },
  {
   "cell_type": "code",
   "execution_count": 8,
   "id": "4c171f96-ae90-4f1b-a6ba-62ab0d5b10b1",
   "metadata": {},
   "outputs": [],
   "source": [
    "def test(dataloader, model, loss_fn):\n",
    "    size = len(dataloader.dataset)\n",
    "    num_batches = len(dataloader)\n",
    "    model.eval()\n",
    "    test_loss, correct = 0, 0\n",
    "    with torch.no_grad():\n",
    "        for X, y in dataloader:\n",
    "            X, y = X.to(device), y.to(device)\n",
    "            pred = model(X)\n",
    "            test_loss += loss_fn(pred, y).item()\n",
    "            correct += (pred.argmax(1) == y).type(torch.float).sum().item()\n",
    "    test_loss /= num_batches\n",
    "    correct /= size\n",
    "    print(f\"Test Error: \\n Accuracy: {(100*correct):>0.1f}%, Avg loss: {test_loss:>8f} \\n\")"
   ]
  },
  {
   "cell_type": "markdown",
   "id": "0927acd6-f1c6-48cc-bd00-148e236095fb",
   "metadata": {},
   "source": [
    "### Training model and checking convergence"
   ]
  },
  {
   "cell_type": "code",
   "execution_count": 9,
   "id": "29557c3e-e2a7-4cad-8332-474a0ba1d964",
   "metadata": {},
   "outputs": [
    {
     "name": "stdout",
     "output_type": "stream",
     "text": [
      "Epoch 1\n",
      "-------------------------------\n",
      "loss: 2.296331  [   64/60000]\n",
      "loss: 2.287886  [ 6464/60000]\n",
      "loss: 2.267708  [12864/60000]\n",
      "loss: 2.263647  [19264/60000]\n",
      "loss: 2.253893  [25664/60000]\n",
      "loss: 2.218504  [32064/60000]\n",
      "loss: 2.234668  [38464/60000]\n",
      "loss: 2.193980  [44864/60000]\n",
      "loss: 2.187432  [51264/60000]\n",
      "loss: 2.167984  [57664/60000]\n",
      "Test Error: \n",
      " Accuracy: 47.9%, Avg loss: 2.158977 \n",
      "\n",
      "Epoch 2\n",
      "-------------------------------\n",
      "loss: 2.162203  [   64/60000]\n",
      "loss: 2.156393  [ 6464/60000]\n",
      "loss: 2.101485  [12864/60000]\n",
      "loss: 2.120743  [19264/60000]\n",
      "loss: 2.076495  [25664/60000]\n",
      "loss: 2.018410  [32064/60000]\n",
      "loss: 2.051293  [38464/60000]\n",
      "loss: 1.968677  [44864/60000]\n",
      "loss: 1.964950  [51264/60000]\n",
      "loss: 1.909909  [57664/60000]\n",
      "Test Error: \n",
      " Accuracy: 59.2%, Avg loss: 1.903686 \n",
      "\n",
      "Epoch 3\n",
      "-------------------------------\n",
      "loss: 1.933614  [   64/60000]\n",
      "loss: 1.908042  [ 6464/60000]\n",
      "loss: 1.794913  [12864/60000]\n",
      "loss: 1.829716  [19264/60000]\n",
      "loss: 1.733391  [25664/60000]\n",
      "loss: 1.684664  [32064/60000]\n",
      "loss: 1.707087  [38464/60000]\n",
      "loss: 1.601874  [44864/60000]\n",
      "loss: 1.620348  [51264/60000]\n",
      "loss: 1.522793  [57664/60000]\n",
      "Test Error: \n",
      " Accuracy: 61.8%, Avg loss: 1.538898 \n",
      "\n",
      "Epoch 4\n",
      "-------------------------------\n",
      "loss: 1.610088  [   64/60000]\n",
      "loss: 1.573557  [ 6464/60000]\n",
      "loss: 1.424760  [12864/60000]\n",
      "loss: 1.485932  [19264/60000]\n",
      "loss: 1.381310  [25664/60000]\n",
      "loss: 1.369242  [32064/60000]\n",
      "loss: 1.383309  [38464/60000]\n",
      "loss: 1.298517  [44864/60000]\n",
      "loss: 1.332590  [51264/60000]\n",
      "loss: 1.234749  [57664/60000]\n",
      "Test Error: \n",
      " Accuracy: 64.0%, Avg loss: 1.263722 \n",
      "\n",
      "Epoch 5\n",
      "-------------------------------\n",
      "loss: 1.345948  [   64/60000]\n",
      "loss: 1.324446  [ 6464/60000]\n",
      "loss: 1.160893  [12864/60000]\n",
      "loss: 1.256082  [19264/60000]\n",
      "loss: 1.146069  [25664/60000]\n",
      "loss: 1.161647  [32064/60000]\n",
      "loss: 1.181507  [38464/60000]\n",
      "loss: 1.109214  [44864/60000]\n",
      "loss: 1.149324  [51264/60000]\n",
      "loss: 1.066960  [57664/60000]\n",
      "Test Error: \n",
      " Accuracy: 65.1%, Avg loss: 1.091647 \n",
      "\n",
      "Done!\n"
     ]
    }
   ],
   "source": [
    "epochs = 5\n",
    "for t in range(epochs):\n",
    "    print(f\"Epoch {t+1}\\n-------------------------------\")\n",
    "    train(train_dataloader, model, loss_fn, optimizer)\n",
    "    test(test_dataloader, model, loss_fn)\n",
    "print(\"Done!\")"
   ]
  },
  {
   "cell_type": "markdown",
   "id": "5b543c15-ef5e-4c24-9420-92eef84d76f1",
   "metadata": {},
   "source": [
    "### Model saving"
   ]
  },
  {
   "cell_type": "code",
   "execution_count": 10,
   "id": "bf7d5a93-c503-4821-9d32-48b86dc17570",
   "metadata": {},
   "outputs": [
    {
     "name": "stdout",
     "output_type": "stream",
     "text": [
      "Saved PyTorch Model State to Trained_models/first_model.pth\n"
     ]
    }
   ],
   "source": [
    "torch.save(model.state_dict(), \"Trained_models/first_model.pth\")\n",
    "print(\"Saved PyTorch Model State to Trained_models/first_model.pth\")"
   ]
  },
  {
   "cell_type": "markdown",
   "id": "a277b506-c7a6-4dfc-a6b4-b4f670215445",
   "metadata": {},
   "source": [
    "### Loading Model"
   ]
  },
  {
   "cell_type": "code",
   "execution_count": 11,
   "id": "090ead6a-1e8f-4a07-bb63-03daba7ccaa6",
   "metadata": {},
   "outputs": [
    {
     "data": {
      "text/plain": [
       "<All keys matched successfully>"
      ]
     },
     "execution_count": 11,
     "metadata": {},
     "output_type": "execute_result"
    }
   ],
   "source": [
    "model = NeuralNetwork().to(device)\n",
    "model.load_state_dict(torch.load(\"Trained_models/first_model.pth\"))"
   ]
  },
  {
   "cell_type": "markdown",
   "id": "729300aa-2075-4820-aef7-7c43a53bf620",
   "metadata": {},
   "source": [
    "### Making predictions"
   ]
  },
  {
   "cell_type": "code",
   "execution_count": 12,
   "id": "8f7853eb-1ac7-4972-9607-8de4285ef324",
   "metadata": {},
   "outputs": [
    {
     "name": "stdout",
     "output_type": "stream",
     "text": [
      "Predicted: \"Ankle boot\", Actual: \"Ankle boot\"\n"
     ]
    }
   ],
   "source": [
    "classes = [\n",
    "    \"T-shirt/top\",\n",
    "    \"Trouser\",\n",
    "    \"Pullover\",\n",
    "    \"Dress\",\n",
    "    \"Coat\",\n",
    "    \"Sandal\",\n",
    "    \"Shirt\",\n",
    "    \"Sneaker\",\n",
    "    \"Bag\",\n",
    "    \"Ankle boot\",\n",
    "]\n",
    "\n",
    "model.eval()\n",
    "x, y = test_data[0][0], test_data[0][1]\n",
    "with torch.no_grad():\n",
    "    x = x.to(device)\n",
    "    pred = model(x)\n",
    "    predicted = classes[pred[0].argmax(0)]\n",
    "    actual = classes[y]\n",
    "    print(f'Predicted: \"{predicted}\", Actual: \"{actual}\"')"
   ]
  },
  {
   "cell_type": "markdown",
   "id": "14333f3b-b531-42d2-b9f3-f220f2df3502",
   "metadata": {},
   "source": [
    "#  - - - - - - - - - - - - - - Tensors - - - - - - - - - - - - - -"
   ]
  },
  {
   "cell_type": "code",
   "execution_count": 13,
   "id": "c2397754-283d-4263-a0b1-174da5928768",
   "metadata": {},
   "outputs": [],
   "source": [
    "import torch\n",
    "import numpy as np"
   ]
  },
  {
   "cell_type": "markdown",
   "id": "961f0d46-f06d-4059-b17c-ed88fee51c34",
   "metadata": {},
   "source": [
    "### Tensor initialization methods"
   ]
  },
  {
   "cell_type": "code",
   "execution_count": 14,
   "id": "5864327a-3b98-4d7d-9a0a-5f9c4e44a499",
   "metadata": {},
   "outputs": [
    {
     "data": {
      "text/plain": [
       "tensor([[1, 2],\n",
       "        [3, 4]])"
      ]
     },
     "execution_count": 14,
     "metadata": {},
     "output_type": "execute_result"
    }
   ],
   "source": [
    "data = [[1, 2],[3, 4]]\n",
    "x_data = torch.tensor(data)\n",
    "x_data"
   ]
  },
  {
   "cell_type": "code",
   "execution_count": 15,
   "id": "60d0a4db-11d5-41dd-81f7-c609d6ea4e8e",
   "metadata": {},
   "outputs": [
    {
     "data": {
      "text/plain": [
       "tensor([[1, 2],\n",
       "        [3, 4]], dtype=torch.int32)"
      ]
     },
     "execution_count": 15,
     "metadata": {},
     "output_type": "execute_result"
    }
   ],
   "source": [
    "np_array = np.array(data)\n",
    "x_np = torch.from_numpy(np_array)\n",
    "x_np"
   ]
  },
  {
   "cell_type": "code",
   "execution_count": 16,
   "id": "28ded06a-5ac1-496e-a390-f0089d240d15",
   "metadata": {},
   "outputs": [
    {
     "name": "stdout",
     "output_type": "stream",
     "text": [
      "Ones Tensor: \n",
      " tensor([[1, 1],\n",
      "        [1, 1]]) \n",
      "\n",
      "Random Tensor: \n",
      " tensor([[0.1131, 0.2622],\n",
      "        [0.9568, 0.9630]]) \n",
      "\n"
     ]
    }
   ],
   "source": [
    "x_ones = torch.ones_like(x_data) # retains the properties of x_data\n",
    "print(f\"Ones Tensor: \\n {x_ones} \\n\")\n",
    "\n",
    "x_rand = torch.rand_like(x_data, dtype=torch.float) # overrides the datatype of x_data\n",
    "print(f\"Random Tensor: \\n {x_rand} \\n\")"
   ]
  },
  {
   "cell_type": "code",
   "execution_count": 17,
   "id": "ed3a3945-be1d-4b37-94e4-1a91a9007c8b",
   "metadata": {},
   "outputs": [
    {
     "name": "stdout",
     "output_type": "stream",
     "text": [
      "Random Tensor: \n",
      " tensor([[0.8051, 0.6207, 0.2252],\n",
      "        [0.6125, 0.3250, 0.0443]]) \n",
      "\n",
      "Ones Tensor: \n",
      " tensor([[1., 1., 1.],\n",
      "        [1., 1., 1.]]) \n",
      "\n",
      "Zeros Tensor: \n",
      " tensor([[0., 0., 0.],\n",
      "        [0., 0., 0.]])\n"
     ]
    }
   ],
   "source": [
    "shape = (2,3,)\n",
    "rand_tensor = torch.rand(shape)\n",
    "ones_tensor = torch.ones(shape)\n",
    "zeros_tensor = torch.zeros(shape)\n",
    "\n",
    "print(f\"Random Tensor: \\n {rand_tensor} \\n\")\n",
    "print(f\"Ones Tensor: \\n {ones_tensor} \\n\")\n",
    "print(f\"Zeros Tensor: \\n {zeros_tensor}\")"
   ]
  },
  {
   "cell_type": "markdown",
   "id": "dc67414f-2534-4340-99d1-3f528aeb3ba3",
   "metadata": {},
   "source": [
    "### Tensor attributes"
   ]
  },
  {
   "cell_type": "code",
   "execution_count": 18,
   "id": "dd88fe3f-8263-46ad-9974-a76cad22e5cb",
   "metadata": {},
   "outputs": [
    {
     "name": "stdout",
     "output_type": "stream",
     "text": [
      "Shape of tensor: torch.Size([3, 4])\n",
      "Datatype of tensor: torch.float32\n",
      "Device tensor is stored on: cpu\n"
     ]
    }
   ],
   "source": [
    "tensor = torch.rand(3,4)\n",
    "\n",
    "print(f\"Shape of tensor: {tensor.shape}\")\n",
    "print(f\"Datatype of tensor: {tensor.dtype}\")\n",
    "print(f\"Device tensor is stored on: {tensor.device}\")"
   ]
  },
  {
   "cell_type": "markdown",
   "id": "16c9e3a4-943b-4945-9cd0-a2a54cbefdeb",
   "metadata": {},
   "source": [
    "### Tensor operations"
   ]
  },
  {
   "cell_type": "code",
   "execution_count": 19,
   "id": "eda8d729-45ec-4e23-9525-4a059a1f467a",
   "metadata": {},
   "outputs": [
    {
     "name": "stdout",
     "output_type": "stream",
     "text": [
      "Device tensor is stored on: cuda:0\n"
     ]
    }
   ],
   "source": [
    "# We move our tensor to the GPU if available\n",
    "if torch.cuda.is_available():\n",
    "    tensor = tensor.to(\"cuda\")\n",
    "print(f\"Device tensor is stored on: {tensor.device}\")"
   ]
  },
  {
   "cell_type": "code",
   "execution_count": 20,
   "id": "8cbdac28-c682-4947-8f6a-218d2ce761c5",
   "metadata": {},
   "outputs": [
    {
     "name": "stdout",
     "output_type": "stream",
     "text": [
      "First row: tensor([1., 1., 1., 1.])\n",
      "First column: tensor([1., 1., 1., 1.])\n",
      "Last column: tensor([1., 1., 1., 1.])\n",
      "tensor([[1., 0., 1., 1.],\n",
      "        [1., 0., 1., 1.],\n",
      "        [1., 0., 1., 1.],\n",
      "        [1., 0., 1., 1.]])\n"
     ]
    }
   ],
   "source": [
    "tensor = torch.ones(4, 4)\n",
    "print(f\"First row: {tensor[0]}\")\n",
    "print(f\"First column: {tensor[:, 0]}\")\n",
    "print(f\"Last column: {tensor[..., -1]}\")\n",
    "tensor[:,1] = 0\n",
    "print(tensor)"
   ]
  },
  {
   "cell_type": "code",
   "execution_count": 21,
   "id": "ec3eaed1-b224-4f8c-8d44-40ec11162852",
   "metadata": {},
   "outputs": [
    {
     "name": "stdout",
     "output_type": "stream",
     "text": [
      "tensor([[1., 0., 1., 1., 1., 0., 1., 1., 1., 0., 1., 1.],\n",
      "        [1., 0., 1., 1., 1., 0., 1., 1., 1., 0., 1., 1.],\n",
      "        [1., 0., 1., 1., 1., 0., 1., 1., 1., 0., 1., 1.],\n",
      "        [1., 0., 1., 1., 1., 0., 1., 1., 1., 0., 1., 1.]])\n"
     ]
    }
   ],
   "source": [
    "t1 = torch.cat([tensor, tensor, tensor], dim=1)\n",
    "print(t1)"
   ]
  },
  {
   "cell_type": "code",
   "execution_count": 22,
   "id": "a2107f75-2bd1-4c58-954b-9f5c46f2e1a3",
   "metadata": {},
   "outputs": [
    {
     "data": {
      "text/plain": [
       "tensor([[1., 0., 1., 1.],\n",
       "        [1., 0., 1., 1.],\n",
       "        [1., 0., 1., 1.],\n",
       "        [1., 0., 1., 1.]])"
      ]
     },
     "execution_count": 22,
     "metadata": {},
     "output_type": "execute_result"
    }
   ],
   "source": [
    "# This computes the matrix multiplication between two tensors. y1, y2, y3 will have the same value\n",
    "# ``tensor.T`` returns the transpose of a tensor\n",
    "y1 = tensor @ tensor.T\n",
    "y2 = tensor.matmul(tensor.T)\n",
    "\n",
    "y3 = torch.rand_like(y1)\n",
    "torch.matmul(tensor, tensor.T, out=y3)\n",
    "\n",
    "\n",
    "# This computes the element-wise product. z1, z2, z3 will have the same value\n",
    "z1 = tensor * tensor\n",
    "z2 = tensor.mul(tensor)\n",
    "\n",
    "z3 = torch.rand_like(tensor)\n",
    "torch.mul(tensor, tensor, out=z3)"
   ]
  },
  {
   "cell_type": "code",
   "execution_count": 23,
   "id": "a2d23864-cc29-4de2-9305-23802bdf3bae",
   "metadata": {},
   "outputs": [
    {
     "name": "stdout",
     "output_type": "stream",
     "text": [
      "12.0 <class 'float'>\n"
     ]
    }
   ],
   "source": [
    "agg = tensor.sum()\n",
    "agg_item = agg.item()\n",
    "print(agg_item, type(agg_item))"
   ]
  },
  {
   "cell_type": "code",
   "execution_count": 24,
   "id": "2c728b81-8e33-4767-aad2-c1e846a354b1",
   "metadata": {},
   "outputs": [
    {
     "name": "stdout",
     "output_type": "stream",
     "text": [
      "tensor([[1., 0., 1., 1.],\n",
      "        [1., 0., 1., 1.],\n",
      "        [1., 0., 1., 1.],\n",
      "        [1., 0., 1., 1.]]) \n",
      "\n",
      "tensor([[6., 5., 6., 6.],\n",
      "        [6., 5., 6., 6.],\n",
      "        [6., 5., 6., 6.],\n",
      "        [6., 5., 6., 6.]])\n"
     ]
    }
   ],
   "source": [
    "print(f\"{tensor} \\n\")\n",
    "tensor.add_(5)\n",
    "print(tensor)"
   ]
  },
  {
   "cell_type": "markdown",
   "id": "df90eb87-d574-4086-b44a-eec2b77593ef",
   "metadata": {},
   "source": [
    "### NOTE:\n",
    "    \n",
    "    In-place operations save some memory,\n",
    "    but can be problematic when computing derivatives because of an immediate loss of history. \n",
    "    Hence, their use is discouraged."
   ]
  },
  {
   "cell_type": "code",
   "execution_count": 25,
   "id": "143bca2f-73ab-46ac-9da7-117fcc37801c",
   "metadata": {},
   "outputs": [
    {
     "name": "stdout",
     "output_type": "stream",
     "text": [
      "t: tensor([1., 1., 1., 1., 1.])\n",
      "n: [1. 1. 1. 1. 1.]\n"
     ]
    }
   ],
   "source": [
    "t = torch.ones(5)\n",
    "print(f\"t: {t}\")\n",
    "n = t.numpy()\n",
    "print(f\"n: {n}\")"
   ]
  },
  {
   "cell_type": "code",
   "execution_count": 26,
   "id": "b9f5d5c4-d21d-476d-9291-b879524fb8f1",
   "metadata": {},
   "outputs": [
    {
     "name": "stdout",
     "output_type": "stream",
     "text": [
      "t: tensor([2., 2., 2., 2., 2.])\n",
      "n: [2. 2. 2. 2. 2.]\n"
     ]
    }
   ],
   "source": [
    "t.add_(1)\n",
    "print(f\"t: {t}\")\n",
    "print(f\"n: {n}\")"
   ]
  },
  {
   "cell_type": "code",
   "execution_count": 27,
   "id": "c174a4f9-b23e-420b-bb3f-8f4b3d552ae5",
   "metadata": {},
   "outputs": [],
   "source": [
    "n = np.ones(5)\n",
    "t = torch.from_numpy(n)"
   ]
  },
  {
   "cell_type": "code",
   "execution_count": 28,
   "id": "df2957ff-1492-4690-95af-0fbbd250eaa0",
   "metadata": {},
   "outputs": [
    {
     "name": "stdout",
     "output_type": "stream",
     "text": [
      "t: tensor([2., 2., 2., 2., 2.], dtype=torch.float64)\n",
      "n: [2. 2. 2. 2. 2.]\n"
     ]
    }
   ],
   "source": [
    "np.add(n, 1, out=n)\n",
    "print(f\"t: {t}\")\n",
    "print(f\"n: {n}\")"
   ]
  },
  {
   "cell_type": "markdown",
   "id": "ff99d682-277b-49d8-8bd7-f979afc641eb",
   "metadata": {},
   "source": [
    "# Datasets & DataLoaders"
   ]
  },
  {
   "cell_type": "code",
   "execution_count": 29,
   "id": "4c8191e5-a70e-45aa-a9b0-d8d449bf7119",
   "metadata": {},
   "outputs": [],
   "source": [
    "import torch\n",
    "from torch.utils.data import Dataset\n",
    "from torchvision import datasets\n",
    "from torchvision.transforms import ToTensor\n",
    "import matplotlib.pyplot as plt\n",
    "\n",
    "\n",
    "training_data = datasets.FashionMNIST(\n",
    "    root=\"data\",\n",
    "    train=True,\n",
    "    download=True,\n",
    "    transform=ToTensor()\n",
    ")\n",
    "\n",
    "test_data = datasets.FashionMNIST(\n",
    "    root=\"data\",\n",
    "    train=False,\n",
    "    download=True,\n",
    "    transform=ToTensor()\n",
    ")"
   ]
  },
  {
   "cell_type": "code",
   "execution_count": 30,
   "id": "f5eb947f-2c00-4b8d-916b-924208630c4a",
   "metadata": {},
   "outputs": [
    {
     "data": {
      "image/png": "[encoded data removed]",
      "text/plain": [
       "<Figure size 800x800 with 9 Axes>"
      ]
     },
     "metadata": {},
     "output_type": "display_data"
    }
   ],
   "source": [
    "labels_map = {\n",
    "    0: \"T-Shirt\",\n",
    "    1: \"Trouser\",\n",
    "    2: \"Pullover\",\n",
    "    3: \"Dress\",\n",
    "    4: \"Coat\",\n",
    "    5: \"Sandal\",\n",
    "    6: \"Shirt\",\n",
    "    7: \"Sneaker\",\n",
    "    8: \"Bag\",\n",
    "    9: \"Ankle Boot\",\n",
    "}\n",
    "figure = plt.figure(figsize=(8, 8))\n",
    "cols, rows = 3, 3\n",
    "for i in range(1, cols * rows + 1):\n",
    "    sample_idx = torch.randint(len(training_data), size=(1,)).item()\n",
    "    img, label = training_data[sample_idx]\n",
    "    figure.add_subplot(rows, cols, i)\n",
    "    plt.title(labels_map[label])\n",
    "    plt.axis(\"off\")\n",
    "    plt.imshow(img.squeeze(),cmap=\"gray\")\n",
    "plt.show()"
   ]
  },
  {
   "cell_type": "markdown",
   "id": "5968a938-2a77-444a-a34e-ea0891730736",
   "metadata": {},
   "source": [
    "# Preparing your data for training with DataLoaders"
   ]
  },
  {
   "cell_type": "code",
   "execution_count": 31,
   "id": "36c3a2a9-d26b-4548-95c8-ac259da08f8d",
   "metadata": {},
   "outputs": [],
   "source": [
    "from torch.utils.data import DataLoader\n",
    "\n",
    "train_dataloader = DataLoader(training_data, batch_size=64, shuffle=True)\n",
    "test_dataloader = DataLoader(test_data, batch_size=64, shuffle=True)"
   ]
  },
  {
   "cell_type": "code",
   "execution_count": 32,
   "id": "beddbc6f-901f-4bb4-acd0-f04659e40a32",
   "metadata": {},
   "outputs": [
    {
     "name": "stdout",
     "output_type": "stream",
     "text": [
      "Feature batch shape: torch.Size([64, 1, 28, 28])\n",
      "Labels batch shape: torch.Size([64])\n"
     ]
    },
    {
     "data": {
      "image/png": "[encoded data removed]",
      "text/plain": [
       "<Figure size 640x480 with 1 Axes>"
      ]
     },
     "metadata": {},
     "output_type": "display_data"
    },
    {
     "name": "stdout",
     "output_type": "stream",
     "text": [
      "Label: 1\n"
     ]
    }
   ],
   "source": [
    "# Display image and label.\n",
    "train_features, train_labels = next(iter(train_dataloader))\n",
    "print(f\"Feature batch shape: {train_features.size()}\")\n",
    "print(f\"Labels batch shape: {train_labels.size()}\")\n",
    "img = train_features[0].squeeze()\n",
    "label = train_labels[0]\n",
    "plt.imshow(img, cmap=\"gray\")\n",
    "plt.show()\n",
    "print(f\"Label: {label}\")"
   ]
  },
  {
   "cell_type": "markdown",
   "id": "a2d847f6-cfd0-4641-a128-3089bbca9bef",
   "metadata": {},
   "source": [
    "# Transforms"
   ]
  },
  {
   "cell_type": "markdown",
   "id": "c4dcb836-1e4f-4e51-ae8b-8fe72630c431",
   "metadata": {},
   "source": [
    "The FashionMNIST features are in PIL Image format, and the labels are integers. For training, we need the features as normalized tensors,\n",
    "and the labels as one-hot encoded tensors.\n",
    "To make these transformations, we use ToTensor and Lambda."
   ]
  },
  {
   "cell_type": "code",
   "execution_count": 33,
   "id": "e375421a-f32a-4558-b266-cf40347f19f1",
   "metadata": {},
   "outputs": [],
   "source": [
    "import torch\n",
    "from torchvision import datasets\n",
    "from torchvision.transforms import ToTensor, Lambda\n",
    "\n",
    "ds = datasets.FashionMNIST(\n",
    "    root=\"data\",\n",
    "    train=True,\n",
    "    download=True,\n",
    "    transform=ToTensor(),\n",
    "    target_transform=Lambda(lambda y: torch.zeros(10, dtype=torch.float).scatter_(0, torch.tensor(y), value=1))\n",
    ")"
   ]
  },
  {
   "cell_type": "markdown",
   "id": "473df41d-cd4e-4183-8a41-a12ea9df454b",
   "metadata": {},
   "source": [
    "# Build a Neural Network"
   ]
  },
  {
   "cell_type": "code",
   "execution_count": 34,
   "id": "5ec47d4d-8e3a-4a8e-b574-cfd85dee184a",
   "metadata": {},
   "outputs": [],
   "source": [
    "import os\n",
    "import torch\n",
    "from torch import nn\n",
    "from torch.utils.data import DataLoader\n",
    "from torchvision import datasets, transforms"
   ]
  },
  {
   "cell_type": "code",
   "execution_count": 35,
   "id": "9e138715-fb96-4274-8f5f-ca6d1844f4e6",
   "metadata": {},
   "outputs": [
    {
     "name": "stdout",
     "output_type": "stream",
     "text": [
      "Using cuda:0 device\n"
     ]
    }
   ],
   "source": [
    "device = (\n",
    "    \"cuda:0\"\n",
    "    if torch.cuda.is_available()\n",
    "    else \"mps\"\n",
    "    if torch.backends.mps.is_available()\n",
    "    else \"cpu\"\n",
    ")\n",
    "\n",
    "print(f\"Using {device} device\")"
   ]
  },
  {
   "cell_type": "markdown",
   "id": "afa76516-125d-4000-8f0a-aa6e54bd1314",
   "metadata": {},
   "source": [
    "### Network class definition"
   ]
  },
  {
   "cell_type": "code",
   "execution_count": 36,
   "id": "3be741f1-ffb2-407a-adaf-31e81f7c3950",
   "metadata": {},
   "outputs": [],
   "source": [
    "class NeuralNetwork(nn.Module):\n",
    "    def __init__(self):\n",
    "        super().__init__()\n",
    "        self.flatten = nn.Flatten()\n",
    "        self.linear_relu_stack = nn.Sequential(\n",
    "            nn.Linear(28*28, 512),\n",
    "            nn.ReLU(),\n",
    "            nn.Linear(512, 512),\n",
    "            nn.ReLU(),\n",
    "            nn.Linear(512, 10),\n",
    "        )\n",
    "\n",
    "    def forward(self, x):\n",
    "        x = self.flatten(x)\n",
    "        logits = self.linear_relu_stack(x)\n",
    "        return logits"
   ]
  },
  {
   "cell_type": "code",
   "execution_count": 37,
   "id": "3113b807-3585-4dcd-8b4d-d800d07da1bc",
   "metadata": {},
   "outputs": [
    {
     "name": "stdout",
     "output_type": "stream",
     "text": [
      "NeuralNetwork(\n",
      "  (flatten): Flatten(start_dim=1, end_dim=-1)\n",
      "  (linear_relu_stack): Sequential(\n",
      "    (0): Linear(in_features=784, out_features=512, bias=True)\n",
      "    (1): ReLU()\n",
      "    (2): Linear(in_features=512, out_features=512, bias=True)\n",
      "    (3): ReLU()\n",
      "    (4): Linear(in_features=512, out_features=10, bias=True)\n",
      "  )\n",
      ")\n"
     ]
    }
   ],
   "source": [
    "model = NeuralNetwork().to(device)\n",
    "print(model)"
   ]
  },
  {
   "cell_type": "code",
   "execution_count": 38,
   "id": "a3811919-4d47-4cde-8f2e-2dd9efc2425c",
   "metadata": {},
   "outputs": [
    {
     "name": "stdout",
     "output_type": "stream",
     "text": [
      "Predicted class: tensor([8], device='cuda:0')\n"
     ]
    }
   ],
   "source": [
    "X = torch.rand(1, 28, 28, device=device)\n",
    "logits = model(X)\n",
    "pred_probab = nn.Softmax(dim=1)(logits)\n",
    "y_pred = pred_probab.argmax(1)\n",
    "print(f\"Predicted class: {y_pred}\")"
   ]
  },
  {
   "cell_type": "code",
   "execution_count": 39,
   "id": "9af23854-e784-463b-8fab-0a832f0e5459",
   "metadata": {},
   "outputs": [
    {
     "name": "stdout",
     "output_type": "stream",
     "text": [
      "torch.Size([3, 28, 28])\n"
     ]
    }
   ],
   "source": [
    "input_image = torch.rand(3,28,28)\n",
    "print(input_image.size())"
   ]
  },
  {
   "cell_type": "code",
   "execution_count": 40,
   "id": "9a58283d-1a4e-4b52-ae17-51c7dadb757c",
   "metadata": {},
   "outputs": [
    {
     "name": "stdout",
     "output_type": "stream",
     "text": [
      "torch.Size([3, 784])\n"
     ]
    }
   ],
   "source": [
    "flatten = nn.Flatten()\n",
    "flat_image = flatten(input_image)\n",
    "print(flat_image.size())"
   ]
  },
  {
   "cell_type": "code",
   "execution_count": 41,
   "id": "d0866b33-653c-432e-adfc-6afdc8ac1f72",
   "metadata": {},
   "outputs": [
    {
     "name": "stdout",
     "output_type": "stream",
     "text": [
      "torch.Size([3, 20])\n"
     ]
    }
   ],
   "source": [
    "layer1 = nn.Linear(in_features=28*28, out_features=20)\n",
    "hidden1 = layer1(flat_image)\n",
    "print(hidden1.size())"
   ]
  },
  {
   "cell_type": "code",
   "execution_count": 42,
   "id": "4b5037d2-a722-4eb9-b839-dd6a52cd5612",
   "metadata": {},
   "outputs": [
    {
     "name": "stdout",
     "output_type": "stream",
     "text": [
      "Before ReLU: tensor([[ 0.2065, -0.1330, -0.0251,  0.0987,  0.1624,  0.7256, -0.6338,  0.4060,\n",
      "         -0.3554,  0.0539, -0.4405,  0.1631, -0.2651,  0.8276,  0.1992, -0.6297,\n",
      "          0.1825,  0.2981, -0.0370, -0.1099],\n",
      "        [-0.1062,  0.2066, -0.3068,  0.4363, -0.1954,  0.7946, -0.1899,  0.3351,\n",
      "          0.1422,  0.0897, -0.1320,  0.2493, -0.5164,  0.7324,  0.3641, -0.5082,\n",
      "          0.3774,  0.4471,  0.0307, -0.0307],\n",
      "        [ 0.1263, -0.2197, -0.1216, -0.1046, -0.0995,  0.6576, -0.3785,  0.0160,\n",
      "          0.3689,  0.3667, -0.5679,  0.2219, -0.3101,  0.9885,  0.0731, -0.7331,\n",
      "          0.3971,  0.4173,  0.0086,  0.0465]], grad_fn=<AddmmBackward0>)\n",
      "\n",
      "\n",
      "After ReLU: tensor([[0.2065, 0.0000, 0.0000, 0.0987, 0.1624, 0.7256, 0.0000, 0.4060, 0.0000,\n",
      "         0.0539, 0.0000, 0.1631, 0.0000, 0.8276, 0.1992, 0.0000, 0.1825, 0.2981,\n",
      "         0.0000, 0.0000],\n",
      "        [0.0000, 0.2066, 0.0000, 0.4363, 0.0000, 0.7946, 0.0000, 0.3351, 0.1422,\n",
      "         0.0897, 0.0000, 0.2493, 0.0000, 0.7324, 0.3641, 0.0000, 0.3774, 0.4471,\n",
      "         0.0307, 0.0000],\n",
      "        [0.1263, 0.0000, 0.0000, 0.0000, 0.0000, 0.6576, 0.0000, 0.0160, 0.3689,\n",
      "         0.3667, 0.0000, 0.2219, 0.0000, 0.9885, 0.0731, 0.0000, 0.3971, 0.4173,\n",
      "         0.0086, 0.0465]], grad_fn=<ReluBackward0>)\n"
     ]
    }
   ],
   "source": [
    "print(f\"Before ReLU: {hidden1}\\n\\n\")\n",
    "hidden1 = nn.ReLU()(hidden1)\n",
    "print(f\"After ReLU: {hidden1}\")"
   ]
  },
  {
   "cell_type": "code",
   "execution_count": 43,
   "id": "cdba3b89-5094-4449-9882-23cbf201854a",
   "metadata": {},
   "outputs": [],
   "source": [
    "seq_modules = nn.Sequential(\n",
    "    flatten,\n",
    "    layer1,\n",
    "    nn.ReLU(),\n",
    "    nn.Linear(20, 10)\n",
    ")\n",
    "input_image = torch.rand(3,28,28)\n",
    "logits = seq_modules(input_image)"
   ]
  },
  {
   "cell_type": "code",
   "execution_count": 44,
   "id": "66fe58c1-2b0b-4d69-bc01-ccf9e0f22818",
   "metadata": {},
   "outputs": [
    {
     "data": {
      "text/plain": [
       "tensor([1.0000, 1.0000, 1.0000], grad_fn=<SumBackward1>)"
      ]
     },
     "execution_count": 44,
     "metadata": {},
     "output_type": "execute_result"
    }
   ],
   "source": [
    "softmax = nn.Softmax(dim=1)\n",
    "pred_probab = softmax(logits)\n",
    "pred_probab.sum(axis = 1)"
   ]
  },
  {
   "cell_type": "code",
   "execution_count": 45,
   "id": "276359df-4531-4886-8ffb-1572beb66a11",
   "metadata": {},
   "outputs": [
    {
     "name": "stdout",
     "output_type": "stream",
     "text": [
      "Model structure: NeuralNetwork(\n",
      "  (flatten): Flatten(start_dim=1, end_dim=-1)\n",
      "  (linear_relu_stack): Sequential(\n",
      "    (0): Linear(in_features=784, out_features=512, bias=True)\n",
      "    (1): ReLU()\n",
      "    (2): Linear(in_features=512, out_features=512, bias=True)\n",
      "    (3): ReLU()\n",
      "    (4): Linear(in_features=512, out_features=10, bias=True)\n",
      "  )\n",
      ")\n",
      "\n",
      "\n",
      "Layer: linear_relu_stack.0.weight | Size: torch.Size([512, 784]) | Values : tensor([[ 0.0001,  0.0043, -0.0259,  ...,  0.0161, -0.0244, -0.0066],\n",
      "        [ 0.0323, -0.0235, -0.0064,  ...,  0.0097, -0.0099, -0.0113]],\n",
      "       device='cuda:0', grad_fn=<SliceBackward0>) \n",
      "\n",
      "Layer: linear_relu_stack.0.bias | Size: torch.Size([512]) | Values : tensor([-0.0097,  0.0203], device='cuda:0', grad_fn=<SliceBackward0>) \n",
      "\n",
      "Layer: linear_relu_stack.2.weight | Size: torch.Size([512, 512]) | Values : tensor([[-0.0327,  0.0368,  0.0026,  ...,  0.0438, -0.0280,  0.0004],\n",
      "        [-0.0152,  0.0435,  0.0023,  ...,  0.0366,  0.0282, -0.0258]],\n",
      "       device='cuda:0', grad_fn=<SliceBackward0>) \n",
      "\n",
      "Layer: linear_relu_stack.2.bias | Size: torch.Size([512]) | Values : tensor([0.0302, 0.0016], device='cuda:0', grad_fn=<SliceBackward0>) \n",
      "\n",
      "Layer: linear_relu_stack.4.weight | Size: torch.Size([10, 512]) | Values : tensor([[ 0.0418,  0.0310,  0.0077,  ..., -0.0075, -0.0421, -0.0032],\n",
      "        [-0.0215,  0.0318,  0.0008,  ..., -0.0319,  0.0432, -0.0344]],\n",
      "       device='cuda:0', grad_fn=<SliceBackward0>) \n",
      "\n",
      "Layer: linear_relu_stack.4.bias | Size: torch.Size([10]) | Values : tensor([ 0.0052, -0.0344], device='cuda:0', grad_fn=<SliceBackward0>) \n",
      "\n"
     ]
    }
   ],
   "source": [
    "print(f\"Model structure: {model}\\n\\n\")\n",
    "\n",
    "for name, param in model.named_parameters():\n",
    "    print(f\"Layer: {name} | Size: {param.size()} | Values : {param[:2]} \\n\")"
   ]
  },
  {
   "cell_type": "markdown",
   "id": "2e8c6382-670c-464e-9a25-5b3d264a5e5e",
   "metadata": {},
   "source": [
    "# Automatic Differentiation with torch.autograd"
   ]
  },
  {
   "cell_type": "code",
   "execution_count": 46,
   "id": "fcd6d6b4-a287-4524-9cd1-9276d10760d9",
   "metadata": {},
   "outputs": [],
   "source": [
    "import torch\n",
    "\n",
    "x = torch.ones(5)  # input tensor\n",
    "y = torch.zeros(3)  # expected output\n",
    "w = torch.randn(5, 3, requires_grad=True)\n",
    "b = torch.randn(3, requires_grad=True)\n",
    "z = torch.matmul(x, w)+b\n",
    "loss = torch.nn.functional.binary_cross_entropy_with_logits(z, y)"
   ]
  },
  {
   "cell_type": "code",
   "execution_count": 47,
   "id": "dabd7bba-402e-4934-80bf-2517a96cc029",
   "metadata": {},
   "outputs": [
    {
     "name": "stdout",
     "output_type": "stream",
     "text": [
      "Gradient function for z = <AddBackward0 object at 0x000002298CBF1960>\n",
      "Gradient function for loss = <BinaryCrossEntropyWithLogitsBackward0 object at 0x000002298CBF1960>\n"
     ]
    }
   ],
   "source": [
    "print(f\"Gradient function for z = {z.grad_fn}\")\n",
    "print(f\"Gradient function for loss = {loss.grad_fn}\")"
   ]
  },
  {
   "cell_type": "code",
   "execution_count": 48,
   "id": "e4ff48ed-a5b9-41ee-a0cf-02208f5733e6",
   "metadata": {},
   "outputs": [
    {
     "name": "stdout",
     "output_type": "stream",
     "text": [
      "tensor([[0.0087, 0.0233, 0.0164],\n",
      "        [0.0087, 0.0233, 0.0164],\n",
      "        [0.0087, 0.0233, 0.0164],\n",
      "        [0.0087, 0.0233, 0.0164],\n",
      "        [0.0087, 0.0233, 0.0164]])\n",
      "tensor([0.0087, 0.0233, 0.0164])\n"
     ]
    }
   ],
   "source": [
    "loss.backward()\n",
    "print(w.grad)\n",
    "print(b.grad)"
   ]
  },
  {
   "cell_type": "markdown",
   "id": "450f7ed6-907d-4284-bf30-808e867f6135",
   "metadata": {},
   "source": [
    "### NOTE\n",
    "\n",
    "We can only obtain the grad properties for the leaf nodes of the computational graph, \n",
    "which have requires_grad property set to True. For all other nodes in our graph, gradients will not be available.\n",
    "\n",
    "We can only perform gradient calculations using backward once on a given graph,\n",
    "for performance reasons. If we need to do several backward calls on the same graph, we need to pass retain_graph=True to the backward call."
   ]
  },
  {
   "cell_type": "code",
   "execution_count": 49,
   "id": "c08ec7c3-8332-434d-87df-63635989d3ac",
   "metadata": {},
   "outputs": [
    {
     "name": "stdout",
     "output_type": "stream",
     "text": [
      "True\n",
      "False\n"
     ]
    }
   ],
   "source": [
    "z = torch.matmul(x, w)+b\n",
    "print(z.requires_grad)\n",
    "\n",
    "with torch.no_grad():\n",
    "    z = torch.matmul(x, w)+b\n",
    "print(z.requires_grad)"
   ]
  },
  {
   "cell_type": "code",
   "execution_count": 50,
   "id": "91a77dde-c671-4d40-94a9-6dbbf1118ef0",
   "metadata": {},
   "outputs": [
    {
     "name": "stdout",
     "output_type": "stream",
     "text": [
      "False\n"
     ]
    }
   ],
   "source": [
    "z = torch.matmul(x, w)+b\n",
    "z_det = z.detach()\n",
    "print(z_det.requires_grad)"
   ]
  },
  {
   "cell_type": "markdown",
   "id": "3efe38d0-8211-4d65-9f8c-347b3935b75b",
   "metadata": {},
   "source": [
    "There are reasons you might want to disable gradient tracking:\n",
    " - To mark some parameters in your neural network as frozen parameters.\n",
    "\n",
    " - To speed up computations when you are only doing forward pass,\n",
    "because computations on tensors that do not track gradients would be more efficient."
   ]
  },
  {
   "cell_type": "markdown",
   "id": "2af375be-c137-449e-bf29-46bca38e9a2f",
   "metadata": {},
   "source": [
    "NOTE\n",
    "\n",
    " - Previously we were calling backward() function without parameters. This is essentially equivalent to calling backward(torch.tensor(1.0)), \n",
    "which is a useful way to compute the gradients in case of a scalar-valued function,\n",
    "such as loss during neural network training."
   ]
  },
  {
   "cell_type": "code",
   "execution_count": 51,
   "id": "0b633e62-b386-4b6a-a6cc-26c1ee5138d0",
   "metadata": {},
   "outputs": [
    {
     "name": "stdout",
     "output_type": "stream",
     "text": [
      "First call\n",
      "tensor([[4., 2., 2., 2., 2.],\n",
      "        [2., 4., 2., 2., 2.],\n",
      "        [2., 2., 4., 2., 2.],\n",
      "        [2., 2., 2., 4., 2.]])\n",
      "\n",
      "Second call\n",
      "tensor([[8., 4., 4., 4., 4.],\n",
      "        [4., 8., 4., 4., 4.],\n",
      "        [4., 4., 8., 4., 4.],\n",
      "        [4., 4., 4., 8., 4.]])\n",
      "\n",
      "Call after zeroing gradients\n",
      "tensor([[4., 2., 2., 2., 2.],\n",
      "        [2., 4., 2., 2., 2.],\n",
      "        [2., 2., 4., 2., 2.],\n",
      "        [2., 2., 2., 4., 2.]])\n"
     ]
    }
   ],
   "source": [
    "inp = torch.eye(4, 5, requires_grad=True)\n",
    "out = (inp+1).pow(2).t()\n",
    "out.backward(torch.ones_like(out), retain_graph=True)\n",
    "print(f\"First call\\n{inp.grad}\")\n",
    "out.backward(torch.ones_like(out), retain_graph=True)\n",
    "print(f\"\\nSecond call\\n{inp.grad}\")\n",
    "inp.grad.zero_()\n",
    "out.backward(torch.ones_like(out), retain_graph=True)\n",
    "print(f\"\\nCall after zeroing gradients\\n{inp.grad}\")"
   ]
  },
  {
   "cell_type": "markdown",
   "id": "a8c1055e-efe7-49ee-9546-9de85b22f253",
   "metadata": {},
   "source": [
    "# Optimizing Model Parameters"
   ]
  },
  {
   "cell_type": "code",
   "execution_count": 52,
   "id": "3a5c90b7-039c-4296-90c6-08cd97e1e00d",
   "metadata": {},
   "outputs": [],
   "source": [
    "import torch\n",
    "from torch import nn\n",
    "from torch.utils.data import DataLoader\n",
    "from torchvision import datasets\n",
    "from torchvision.transforms import ToTensor\n",
    "\n",
    "training_data = datasets.FashionMNIST(\n",
    "    root=\"data\",\n",
    "    train=True,\n",
    "    download=True,\n",
    "    transform=ToTensor()\n",
    ")\n",
    "\n",
    "test_data = datasets.FashionMNIST(\n",
    "    root=\"data\",\n",
    "    train=False,\n",
    "    download=True,\n",
    "    transform=ToTensor()\n",
    ")\n",
    "\n",
    "train_dataloader = DataLoader(training_data, batch_size=64)\n",
    "test_dataloader = DataLoader(test_data, batch_size=64)\n",
    "\n",
    "class NeuralNetwork(nn.Module):\n",
    "    def __init__(self):\n",
    "        super().__init__()\n",
    "        self.flatten = nn.Flatten()\n",
    "        self.linear_relu_stack = nn.Sequential(\n",
    "            nn.Linear(28*28, 512),\n",
    "            nn.ReLU(),\n",
    "            nn.Linear(512, 512),\n",
    "            nn.ReLU(),\n",
    "            nn.Linear(512, 128),\n",
    "            nn.ReLU(),\n",
    "            nn.Linear(128, 10),\n",
    "        )\n",
    "\n",
    "    def forward(self, x):\n",
    "        x = self.flatten(x)\n",
    "        logits = self.linear_relu_stack(x)\n",
    "        return logits\n",
    "\n",
    "model = NeuralNetwork().to(device)"
   ]
  },
  {
   "cell_type": "markdown",
   "id": "853836d9-59cc-4c8a-9627-f5e7579905a6",
   "metadata": {},
   "source": [
    "### Hyper parameters"
   ]
  },
  {
   "cell_type": "code",
   "execution_count": 53,
   "id": "8447881c-535a-4c7a-b791-f2613d4a927b",
   "metadata": {},
   "outputs": [],
   "source": [
    "learning_rate = 1e-3\n",
    "batch_size = 64\n",
    "epochs = 5 # not used actually\n"
   ]
  },
  {
   "cell_type": "markdown",
   "id": "03c7e43d-d8b1-414e-bfe6-002b3da23a75",
   "metadata": {},
   "source": [
    "### Optimization Loop\n",
    "Each epoch consists of two main parts:\n",
    "\n",
    "\n",
    "The Train Loop - iterate over the training dataset and try to converge to optimal parameters\n",
    "  .\n",
    "\r\n",
    "The Validation/Test Loop - iterate over the test dataset to check if model performance is improving."
   ]
  },
  {
   "cell_type": "markdown",
   "id": "634319b2-3b8f-437d-9453-a4c73a132c28",
   "metadata": {},
   "source": [
    "### Setup Loss function"
   ]
  },
  {
   "cell_type": "code",
   "execution_count": 54,
   "id": "a06f7617-1c88-4f11-b9ae-56c80eca8534",
   "metadata": {},
   "outputs": [],
   "source": [
    "# Initialize the loss function\n",
    "loss_fn = nn.CrossEntropyLoss()"
   ]
  },
  {
   "cell_type": "markdown",
   "id": "62cfd29d-eed6-48e6-b58c-f0dba8063994",
   "metadata": {},
   "source": [
    "### Setup Optimizer"
   ]
  },
  {
   "cell_type": "code",
   "execution_count": 55,
   "id": "5ef6be5d-e356-401e-a686-84dd34a9e94c",
   "metadata": {},
   "outputs": [],
   "source": [
    "optimizer = torch.optim.SGD(model.parameters(), lr=learning_rate)"
   ]
  },
  {
   "cell_type": "markdown",
   "id": "63f1a6a8-bd37-4543-b791-141d03a019aa",
   "metadata": {},
   "source": [
    "Inside the training loop, optimization happens in three steps:\n",
    "1. Call optimizer.zero_grad() to reset the gradients of model parameters. \n",
    "Gradients by default add up; to prevent double-counting, we explicitly zero them at each iteration.\n",
    "\n",
    "2. Backpropagate the prediction loss with a call to loss.backward(). PyTorch deposits the gradients of the loss w.r.t. each parameter.\n",
    "\n",
    "3. Once we have our gradients, we call optimizer.step() to adjust the parameters by the gradients collected in the backward pass."
   ]
  },
  {
   "cell_type": "markdown",
   "id": "95e0af5e-7fae-40d8-83f8-f833edda4f61",
   "metadata": {},
   "source": [
    "### Train loop and test loop full implementation"
   ]
  },
  {
   "cell_type": "code",
   "execution_count": 56,
   "id": "29074c4c-ffc3-422e-b6a4-9522f2b5e402",
   "metadata": {},
   "outputs": [],
   "source": [
    "def train_loop(dataloader, model, loss_fn, optimizer,device):\n",
    "    size = len(dataloader.dataset)\n",
    "    # Set the model to training mode - important for batch normalization and dropout layers\n",
    "    # Unnecessary in this situation but added for best practices\n",
    "    model.train()\n",
    "    for batch, (X, y) in enumerate(dataloader):\n",
    "        # Compute prediction and loss\n",
    "        pred = model(X.to(device)).cpu()\n",
    "        loss = loss_fn(pred, y)\n",
    "\n",
    "        # Backpropagation\n",
    "        loss.backward()\n",
    "        optimizer.step()\n",
    "        optimizer.zero_grad()\n",
    "\n",
    "        if batch % 100 == 0:\n",
    "            loss, current = loss.item(), batch * batch_size + len(X)\n",
    "            print(f\"loss: {loss:>7f}  [{current:>5d}/{size:>5d}]\")\n",
    "\n",
    "\n",
    "def test_loop(dataloader, model, loss_fn,device):\n",
    "    # Set the model to evaluation mode - important for batch normalization and dropout layers\n",
    "    # Unnecessary in this situation but added for best practices\n",
    "    model.eval()\n",
    "    size = len(dataloader.dataset)\n",
    "    num_batches = len(dataloader)\n",
    "    test_loss, correct = 0, 0\n",
    "\n",
    "    # Evaluating the model with torch.no_grad() ensures that no gradients are computed during test mode\n",
    "    # also serves to reduce unnecessary gradient computations and memory usage for tensors with requires_grad=True\n",
    "    with torch.no_grad():\n",
    "        for X, y in dataloader:\n",
    "            pred = model(X.to(device)).cpu()\n",
    "            test_loss += loss_fn(pred, y).item()\n",
    "            correct += (pred.argmax(1) == y).type(torch.float).sum().item()\n",
    "\n",
    "    test_loss /= num_batches\n",
    "    correct /= size\n",
    "    print(f\"Test Error: \\n Accuracy: {(100*correct):>0.1f}%, Avg loss: {test_loss:>8f} \\n\")\n",
    "    return correct , test_loss"
   ]
  },
  {
   "cell_type": "markdown",
   "id": "ed9e66d3-3f7d-44f4-af9b-c09bb251947f",
   "metadata": {},
   "source": [
    "### Full learning testing run"
   ]
  },
  {
   "cell_type": "code",
   "execution_count": 57,
   "id": "b09e9acf-0d61-433b-81a0-54d163be9a9c",
   "metadata": {},
   "outputs": [
    {
     "name": "stdout",
     "output_type": "stream",
     "text": [
      "Epoch 1\n",
      "-------------------------------\n",
      "loss: 2.304715  [   64/60000]\n",
      "loss: 2.296616  [ 6464/60000]\n",
      "loss: 2.296467  [12864/60000]\n",
      "loss: 2.297432  [19264/60000]\n",
      "loss: 2.291063  [25664/60000]\n",
      "loss: 2.284117  [32064/60000]\n",
      "loss: 2.292626  [38464/60000]\n",
      "loss: 2.285282  [44864/60000]\n",
      "loss: 2.290929  [51264/60000]\n",
      "loss: 2.278281  [57664/60000]\n",
      "Test Error: \n",
      " Accuracy: 21.6%, Avg loss: 2.277315 \n",
      "\n",
      "Epoch 2\n",
      "-------------------------------\n",
      "loss: 2.280775  [   64/60000]\n",
      "loss: 2.273830  [ 6464/60000]\n",
      "loss: 2.268472  [12864/60000]\n",
      "loss: 2.275659  [19264/60000]\n",
      "loss: 2.260890  [25664/60000]\n",
      "loss: 2.250326  [32064/60000]\n",
      "loss: 2.264051  [38464/60000]\n",
      "loss: 2.249786  [44864/60000]\n",
      "loss: 2.259597  [51264/60000]\n",
      "loss: 2.239938  [57664/60000]\n",
      "Test Error: \n",
      " Accuracy: 36.6%, Avg loss: 2.239254 \n",
      "\n",
      "Epoch 3\n",
      "-------------------------------\n",
      "loss: 2.244795  [   64/60000]\n",
      "loss: 2.238487  [ 6464/60000]\n",
      "loss: 2.223322  [12864/60000]\n",
      "loss: 2.238804  [19264/60000]\n",
      "loss: 2.205936  [25664/60000]\n",
      "loss: 2.188363  [32064/60000]\n",
      "loss: 2.209103  [38464/60000]\n",
      "loss: 2.181594  [44864/60000]\n",
      "loss: 2.197186  [51264/60000]\n",
      "loss: 2.162310  [57664/60000]\n",
      "Test Error: \n",
      " Accuracy: 33.2%, Avg loss: 2.162766 \n",
      "\n",
      "Epoch 4\n",
      "-------------------------------\n",
      "loss: 2.173948  [   64/60000]\n",
      "loss: 2.163816  [ 6464/60000]\n",
      "loss: 2.128931  [12864/60000]\n",
      "loss: 2.156361  [19264/60000]\n",
      "loss: 2.085020  [25664/60000]\n",
      "loss: 2.054015  [32064/60000]\n",
      "loss: 2.085005  [38464/60000]\n",
      "loss: 2.027630  [44864/60000]\n",
      "loss: 2.051349  [51264/60000]\n",
      "loss: 1.980265  [57664/60000]\n",
      "Test Error: \n",
      " Accuracy: 32.6%, Avg loss: 1.987708 \n",
      "\n",
      "Epoch 5\n",
      "-------------------------------\n",
      "loss: 2.015564  [   64/60000]\n",
      "loss: 1.987291  [ 6464/60000]\n",
      "loss: 1.915136  [12864/60000]\n",
      "loss: 1.960920  [19264/60000]\n",
      "loss: 1.816448  [25664/60000]\n",
      "loss: 1.789741  [32064/60000]\n",
      "loss: 1.827066  [38464/60000]\n",
      "loss: 1.738387  [44864/60000]\n",
      "loss: 1.777800  [51264/60000]\n",
      "loss: 1.672639  [57664/60000]\n",
      "Test Error: \n",
      " Accuracy: 41.4%, Avg loss: 1.691379 \n",
      "\n",
      "Epoch 6\n",
      "-------------------------------\n",
      "loss: 1.753625  [   64/60000]\n",
      "loss: 1.703364  [ 6464/60000]\n",
      "loss: 1.596331  [12864/60000]\n",
      "loss: 1.650251  [19264/60000]\n",
      "loss: 1.501292  [25664/60000]\n",
      "loss: 1.513469  [32064/60000]\n",
      "loss: 1.525513  [38464/60000]\n",
      "loss: 1.454343  [44864/60000]\n",
      "loss: 1.486846  [51264/60000]\n",
      "loss: 1.389916  [57664/60000]\n",
      "Test Error: \n",
      " Accuracy: 53.4%, Avg loss: 1.409450 \n",
      "\n",
      "Epoch 7\n",
      "-------------------------------\n",
      "loss: 1.500219  [   64/60000]\n",
      "loss: 1.451590  [ 6464/60000]\n",
      "loss: 1.317209  [12864/60000]\n",
      "loss: 1.385718  [19264/60000]\n",
      "loss: 1.271769  [25664/60000]\n",
      "loss: 1.307487  [32064/60000]\n",
      "loss: 1.309070  [38464/60000]\n",
      "loss: 1.253832  [44864/60000]\n",
      "loss: 1.283527  [51264/60000]\n",
      "loss: 1.212659  [57664/60000]\n",
      "Test Error: \n",
      " Accuracy: 57.3%, Avg loss: 1.221517 \n",
      "\n",
      "Epoch 8\n",
      "-------------------------------\n",
      "loss: 1.315488  [   64/60000]\n",
      "loss: 1.282088  [ 6464/60000]\n",
      "loss: 1.126877  [12864/60000]\n",
      "loss: 1.224352  [19264/60000]\n",
      "loss: 1.115646  [25664/60000]\n",
      "loss: 1.163191  [32064/60000]\n",
      "loss: 1.175260  [38464/60000]\n",
      "loss: 1.121341  [44864/60000]\n",
      "loss: 1.150137  [51264/60000]\n",
      "loss: 1.099522  [57664/60000]\n",
      "Test Error: \n",
      " Accuracy: 59.9%, Avg loss: 1.098660 \n",
      "\n",
      "Epoch 9\n",
      "-------------------------------\n",
      "loss: 1.184830  [   64/60000]\n",
      "loss: 1.171331  [ 6464/60000]\n",
      "loss: 0.994042  [12864/60000]\n",
      "loss: 1.116831  [19264/60000]\n",
      "loss: 1.005885  [25664/60000]\n",
      "loss: 1.054526  [32064/60000]\n",
      "loss: 1.083619  [38464/60000]\n",
      "loss: 1.026351  [44864/60000]\n",
      "loss: 1.048194  [51264/60000]\n",
      "loss: 1.019396  [57664/60000]\n",
      "Test Error: \n",
      " Accuracy: 62.3%, Avg loss: 1.010784 \n",
      "\n",
      "Epoch 10\n",
      "-------------------------------\n",
      "loss: 1.084636  [   64/60000]\n",
      "loss: 1.092464  [ 6464/60000]\n",
      "loss: 0.894803  [12864/60000]\n",
      "loss: 1.037598  [19264/60000]\n",
      "loss: 0.929292  [25664/60000]\n",
      "loss: 0.968124  [32064/60000]\n",
      "loss: 1.015575  [38464/60000]\n",
      "loss: 0.958930  [44864/60000]\n",
      "loss: 0.968658  [51264/60000]\n",
      "loss: 0.959417  [57664/60000]\n",
      "Test Error: \n",
      " Accuracy: 64.6%, Avg loss: 0.945895 \n",
      "\n",
      "Epoch 11\n",
      "-------------------------------\n",
      "loss: 1.005464  [   64/60000]\n",
      "loss: 1.033429  [ 6464/60000]\n",
      "loss: 0.819633  [12864/60000]\n",
      "loss: 0.975895  [19264/60000]\n",
      "loss: 0.875838  [25664/60000]\n",
      "loss: 0.898185  [32064/60000]\n",
      "loss: 0.964074  [38464/60000]\n",
      "loss: 0.910526  [44864/60000]\n",
      "loss: 0.905820  [51264/60000]\n",
      "loss: 0.913807  [57664/60000]\n",
      "Test Error: \n",
      " Accuracy: 66.2%, Avg loss: 0.896395 \n",
      "\n",
      "Epoch 12\n",
      "-------------------------------\n",
      "loss: 0.941688  [   64/60000]\n",
      "loss: 0.985679  [ 6464/60000]\n",
      "loss: 0.760552  [12864/60000]\n",
      "loss: 0.926331  [19264/60000]\n",
      "loss: 0.838104  [25664/60000]\n",
      "loss: 0.841264  [32064/60000]\n",
      "loss: 0.924007  [38464/60000]\n",
      "loss: 0.875814  [44864/60000]\n",
      "loss: 0.857687  [51264/60000]\n",
      "loss: 0.876458  [57664/60000]\n",
      "Test Error: \n",
      " Accuracy: 67.5%, Avg loss: 0.857475 \n",
      "\n",
      "Epoch 13\n",
      "-------------------------------\n",
      "loss: 0.889978  [   64/60000]\n",
      "loss: 0.945426  [ 6464/60000]\n",
      "loss: 0.712289  [12864/60000]\n",
      "loss: 0.885932  [19264/60000]\n",
      "loss: 0.809510  [25664/60000]\n",
      "loss: 0.794308  [32064/60000]\n",
      "loss: 0.889812  [38464/60000]\n",
      "loss: 0.850535  [44864/60000]\n",
      "loss: 0.820244  [51264/60000]\n",
      "loss: 0.846244  [57664/60000]\n",
      "Test Error: \n",
      " Accuracy: 68.6%, Avg loss: 0.825941 \n",
      "\n",
      "Epoch 14\n",
      "-------------------------------\n",
      "loss: 0.846222  [   64/60000]\n",
      "loss: 0.910870  [ 6464/60000]\n",
      "loss: 0.672620  [12864/60000]\n",
      "loss: 0.854077  [19264/60000]\n",
      "loss: 0.786319  [25664/60000]\n",
      "loss: 0.756671  [32064/60000]\n",
      "loss: 0.861801  [38464/60000]\n",
      "loss: 0.830065  [44864/60000]\n",
      "loss: 0.791835  [51264/60000]\n",
      "loss: 0.819686  [57664/60000]\n",
      "Test Error: \n",
      " Accuracy: 69.3%, Avg loss: 0.800160 \n",
      "\n",
      "Epoch 15\n",
      "-------------------------------\n",
      "loss: 0.808805  [   64/60000]\n",
      "loss: 0.880023  [ 6464/60000]\n",
      "loss: 0.639376  [12864/60000]\n",
      "loss: 0.827863  [19264/60000]\n",
      "loss: 0.766548  [25664/60000]\n",
      "loss: 0.725450  [32064/60000]\n",
      "loss: 0.837682  [38464/60000]\n",
      "loss: 0.813054  [44864/60000]\n",
      "loss: 0.769731  [51264/60000]\n",
      "loss: 0.796318  [57664/60000]\n",
      "Test Error: \n",
      " Accuracy: 70.4%, Avg loss: 0.777993 \n",
      "\n",
      "Epoch 16\n",
      "-------------------------------\n",
      "loss: 0.775976  [   64/60000]\n",
      "loss: 0.851701  [ 6464/60000]\n",
      "loss: 0.610929  [12864/60000]\n",
      "loss: 0.806183  [19264/60000]\n",
      "loss: 0.748997  [25664/60000]\n",
      "loss: 0.698758  [32064/60000]\n",
      "loss: 0.816168  [38464/60000]\n",
      "loss: 0.798036  [44864/60000]\n",
      "loss: 0.751879  [51264/60000]\n",
      "loss: 0.775210  [57664/60000]\n",
      "Test Error: \n",
      " Accuracy: 71.2%, Avg loss: 0.758330 \n",
      "\n",
      "Epoch 17\n",
      "-------------------------------\n",
      "loss: 0.746508  [   64/60000]\n",
      "loss: 0.825695  [ 6464/60000]\n",
      "loss: 0.586331  [12864/60000]\n",
      "loss: 0.787565  [19264/60000]\n",
      "loss: 0.732869  [25664/60000]\n",
      "loss: 0.675431  [32064/60000]\n",
      "loss: 0.795806  [38464/60000]\n",
      "loss: 0.784157  [44864/60000]\n",
      "loss: 0.736928  [51264/60000]\n",
      "loss: 0.756091  [57664/60000]\n",
      "Test Error: \n",
      " Accuracy: 72.3%, Avg loss: 0.740495 \n",
      "\n",
      "Epoch 18\n",
      "-------------------------------\n",
      "loss: 0.719425  [   64/60000]\n",
      "loss: 0.801948  [ 6464/60000]\n",
      "loss: 0.564801  [12864/60000]\n",
      "loss: 0.771074  [19264/60000]\n",
      "loss: 0.718156  [25664/60000]\n",
      "loss: 0.655167  [32064/60000]\n",
      "loss: 0.776054  [38464/60000]\n",
      "loss: 0.770867  [44864/60000]\n",
      "loss: 0.724098  [51264/60000]\n",
      "loss: 0.738944  [57664/60000]\n",
      "Test Error: \n",
      " Accuracy: 73.4%, Avg loss: 0.724039 \n",
      "\n",
      "Epoch 19\n",
      "-------------------------------\n",
      "loss: 0.694457  [   64/60000]\n",
      "loss: 0.780478  [ 6464/60000]\n",
      "loss: 0.545732  [12864/60000]\n",
      "loss: 0.755972  [19264/60000]\n",
      "loss: 0.704763  [25664/60000]\n",
      "loss: 0.637663  [32064/60000]\n",
      "loss: 0.756683  [38464/60000]\n",
      "loss: 0.758285  [44864/60000]\n",
      "loss: 0.712427  [51264/60000]\n",
      "loss: 0.723352  [57664/60000]\n",
      "Test Error: \n",
      " Accuracy: 74.4%, Avg loss: 0.708749 \n",
      "\n",
      "Epoch 20\n",
      "-------------------------------\n",
      "loss: 0.671207  [   64/60000]\n",
      "loss: 0.761303  [ 6464/60000]\n",
      "loss: 0.528749  [12864/60000]\n",
      "loss: 0.742045  [19264/60000]\n",
      "loss: 0.693046  [25664/60000]\n",
      "loss: 0.622434  [32064/60000]\n",
      "loss: 0.738135  [38464/60000]\n",
      "loss: 0.746152  [44864/60000]\n",
      "loss: 0.701628  [51264/60000]\n",
      "loss: 0.708911  [57664/60000]\n",
      "Test Error: \n",
      " Accuracy: 75.1%, Avg loss: 0.694424 \n",
      "\n",
      "Epoch 21\n",
      "-------------------------------\n",
      "loss: 0.649785  [   64/60000]\n",
      "loss: 0.744013  [ 6464/60000]\n",
      "loss: 0.513518  [12864/60000]\n",
      "loss: 0.729194  [19264/60000]\n",
      "loss: 0.682913  [25664/60000]\n",
      "loss: 0.609017  [32064/60000]\n",
      "loss: 0.720237  [38464/60000]\n",
      "loss: 0.734402  [44864/60000]\n",
      "loss: 0.691515  [51264/60000]\n",
      "loss: 0.695536  [57664/60000]\n",
      "Test Error: \n",
      " Accuracy: 75.7%, Avg loss: 0.680971 \n",
      "\n",
      "Epoch 22\n",
      "-------------------------------\n",
      "loss: 0.630096  [   64/60000]\n",
      "loss: 0.728136  [ 6464/60000]\n",
      "loss: 0.499803  [12864/60000]\n",
      "loss: 0.717194  [19264/60000]\n",
      "loss: 0.674333  [25664/60000]\n",
      "loss: 0.597220  [32064/60000]\n",
      "loss: 0.702963  [38464/60000]\n",
      "loss: 0.723709  [44864/60000]\n",
      "loss: 0.681945  [51264/60000]\n",
      "loss: 0.682829  [57664/60000]\n",
      "Test Error: \n",
      " Accuracy: 76.2%, Avg loss: 0.668364 \n",
      "\n",
      "Epoch 23\n",
      "-------------------------------\n",
      "loss: 0.611936  [   64/60000]\n",
      "loss: 0.713707  [ 6464/60000]\n",
      "loss: 0.487384  [12864/60000]\n",
      "loss: 0.706024  [19264/60000]\n",
      "loss: 0.667081  [25664/60000]\n",
      "loss: 0.587004  [32064/60000]\n",
      "loss: 0.686206  [38464/60000]\n",
      "loss: 0.713698  [44864/60000]\n",
      "loss: 0.673197  [51264/60000]\n",
      "loss: 0.670733  [57664/60000]\n",
      "Test Error: \n",
      " Accuracy: 76.8%, Avg loss: 0.656608 \n",
      "\n",
      "Epoch 24\n",
      "-------------------------------\n",
      "loss: 0.595167  [   64/60000]\n",
      "loss: 0.700461  [ 6464/60000]\n",
      "loss: 0.475924  [12864/60000]\n",
      "loss: 0.695607  [19264/60000]\n",
      "loss: 0.661090  [25664/60000]\n",
      "loss: 0.578066  [32064/60000]\n",
      "loss: 0.669986  [38464/60000]\n",
      "loss: 0.704526  [44864/60000]\n",
      "loss: 0.665071  [51264/60000]\n",
      "loss: 0.659350  [57664/60000]\n",
      "Test Error: \n",
      " Accuracy: 77.3%, Avg loss: 0.645679 \n",
      "\n",
      "Epoch 25\n",
      "-------------------------------\n",
      "loss: 0.579763  [   64/60000]\n",
      "loss: 0.688223  [ 6464/60000]\n",
      "loss: 0.465410  [12864/60000]\n",
      "loss: 0.685843  [19264/60000]\n",
      "loss: 0.655906  [25664/60000]\n",
      "loss: 0.570388  [32064/60000]\n",
      "loss: 0.654442  [38464/60000]\n",
      "loss: 0.696329  [44864/60000]\n",
      "loss: 0.657640  [51264/60000]\n",
      "loss: 0.648232  [57664/60000]\n",
      "Test Error: \n",
      " Accuracy: 77.6%, Avg loss: 0.635548 \n",
      "\n",
      "Epoch 26\n",
      "-------------------------------\n",
      "loss: 0.565362  [   64/60000]\n",
      "loss: 0.676888  [ 6464/60000]\n",
      "loss: 0.455716  [12864/60000]\n",
      "loss: 0.676585  [19264/60000]\n",
      "loss: 0.651449  [25664/60000]\n",
      "loss: 0.563713  [32064/60000]\n",
      "loss: 0.639517  [38464/60000]\n",
      "loss: 0.689040  [44864/60000]\n",
      "loss: 0.650808  [51264/60000]\n",
      "loss: 0.637414  [57664/60000]\n",
      "Test Error: \n",
      " Accuracy: 78.2%, Avg loss: 0.626173 \n",
      "\n",
      "Epoch 27\n",
      "-------------------------------\n",
      "loss: 0.551815  [   64/60000]\n",
      "loss: 0.666402  [ 6464/60000]\n",
      "loss: 0.446731  [12864/60000]\n",
      "loss: 0.667814  [19264/60000]\n",
      "loss: 0.647359  [25664/60000]\n",
      "loss: 0.557785  [32064/60000]\n",
      "loss: 0.625306  [38464/60000]\n",
      "loss: 0.682604  [44864/60000]\n",
      "loss: 0.644697  [51264/60000]\n",
      "loss: 0.626963  [57664/60000]\n",
      "Test Error: \n",
      " Accuracy: 78.5%, Avg loss: 0.617466 \n",
      "\n",
      "Epoch 28\n",
      "-------------------------------\n",
      "loss: 0.538969  [   64/60000]\n",
      "loss: 0.656731  [ 6464/60000]\n",
      "loss: 0.438351  [12864/60000]\n",
      "loss: 0.659548  [19264/60000]\n",
      "loss: 0.643301  [25664/60000]\n",
      "loss: 0.552414  [32064/60000]\n",
      "loss: 0.611698  [38464/60000]\n",
      "loss: 0.676826  [44864/60000]\n",
      "loss: 0.639091  [51264/60000]\n",
      "loss: 0.616811  [57664/60000]\n",
      "Test Error: \n",
      " Accuracy: 78.5%, Avg loss: 0.609363 \n",
      "\n",
      "Epoch 29\n",
      "-------------------------------\n",
      "loss: 0.526882  [   64/60000]\n",
      "loss: 0.647639  [ 6464/60000]\n",
      "loss: 0.430533  [12864/60000]\n",
      "loss: 0.651541  [19264/60000]\n",
      "loss: 0.639604  [25664/60000]\n",
      "loss: 0.547566  [32064/60000]\n",
      "loss: 0.598774  [38464/60000]\n",
      "loss: 0.671860  [44864/60000]\n",
      "loss: 0.634083  [51264/60000]\n",
      "loss: 0.606972  [57664/60000]\n",
      "Test Error: \n",
      " Accuracy: 79.0%, Avg loss: 0.601838 \n",
      "\n",
      "Epoch 30\n",
      "-------------------------------\n",
      "loss: 0.515320  [   64/60000]\n",
      "loss: 0.639035  [ 6464/60000]\n",
      "loss: 0.423308  [12864/60000]\n",
      "loss: 0.643779  [19264/60000]\n",
      "loss: 0.636168  [25664/60000]\n",
      "loss: 0.543010  [32064/60000]\n",
      "loss: 0.586604  [38464/60000]\n",
      "loss: 0.667490  [44864/60000]\n",
      "loss: 0.629695  [51264/60000]\n",
      "loss: 0.597397  [57664/60000]\n",
      "Test Error: \n",
      " Accuracy: 79.2%, Avg loss: 0.594809 \n",
      "\n",
      "Epoch 31\n",
      "-------------------------------\n",
      "loss: 0.504042  [   64/60000]\n",
      "loss: 0.630725  [ 6464/60000]\n",
      "loss: 0.416507  [12864/60000]\n",
      "loss: 0.636446  [19264/60000]\n",
      "loss: 0.632588  [25664/60000]\n",
      "loss: 0.538719  [32064/60000]\n",
      "loss: 0.575160  [38464/60000]\n",
      "loss: 0.663842  [44864/60000]\n",
      "loss: 0.625858  [51264/60000]\n",
      "loss: 0.588120  [57664/60000]\n",
      "Test Error: \n",
      " Accuracy: 79.3%, Avg loss: 0.588209 \n",
      "\n",
      "Epoch 32\n",
      "-------------------------------\n",
      "loss: 0.493373  [   64/60000]\n",
      "loss: 0.622923  [ 6464/60000]\n",
      "loss: 0.410157  [12864/60000]\n",
      "loss: 0.629375  [19264/60000]\n",
      "loss: 0.628778  [25664/60000]\n",
      "loss: 0.534463  [32064/60000]\n",
      "loss: 0.564351  [38464/60000]\n",
      "loss: 0.660707  [44864/60000]\n",
      "loss: 0.622309  [51264/60000]\n",
      "loss: 0.579350  [57664/60000]\n",
      "Test Error: \n",
      " Accuracy: 79.5%, Avg loss: 0.581994 \n",
      "\n",
      "Epoch 33\n",
      "-------------------------------\n",
      "loss: 0.483122  [   64/60000]\n",
      "loss: 0.615596  [ 6464/60000]\n",
      "loss: 0.404220  [12864/60000]\n",
      "loss: 0.622537  [19264/60000]\n",
      "loss: 0.624740  [25664/60000]\n",
      "loss: 0.530278  [32064/60000]\n",
      "loss: 0.554293  [38464/60000]\n",
      "loss: 0.657953  [44864/60000]\n",
      "loss: 0.619163  [51264/60000]\n",
      "loss: 0.570797  [57664/60000]\n",
      "Test Error: \n",
      " Accuracy: 79.6%, Avg loss: 0.576121 \n",
      "\n",
      "Epoch 34\n",
      "-------------------------------\n",
      "loss: 0.473281  [   64/60000]\n",
      "loss: 0.608542  [ 6464/60000]\n",
      "loss: 0.398575  [12864/60000]\n",
      "loss: 0.616020  [19264/60000]\n",
      "loss: 0.620449  [25664/60000]\n",
      "loss: 0.526058  [32064/60000]\n",
      "loss: 0.544864  [38464/60000]\n",
      "loss: 0.655527  [44864/60000]\n",
      "loss: 0.616412  [51264/60000]\n",
      "loss: 0.562419  [57664/60000]\n",
      "Test Error: \n",
      " Accuracy: 79.9%, Avg loss: 0.570539 \n",
      "\n",
      "Epoch 35\n",
      "-------------------------------\n",
      "loss: 0.463757  [   64/60000]\n",
      "loss: 0.601762  [ 6464/60000]\n",
      "loss: 0.393228  [12864/60000]\n",
      "loss: 0.609664  [19264/60000]\n",
      "loss: 0.616073  [25664/60000]\n",
      "loss: 0.521787  [32064/60000]\n",
      "loss: 0.535954  [38464/60000]\n",
      "loss: 0.653354  [44864/60000]\n",
      "loss: 0.613927  [51264/60000]\n",
      "loss: 0.554371  [57664/60000]\n",
      "Test Error: \n",
      " Accuracy: 80.0%, Avg loss: 0.565249 \n",
      "\n",
      "Epoch 36\n",
      "-------------------------------\n",
      "loss: 0.454657  [   64/60000]\n",
      "loss: 0.595229  [ 6464/60000]\n",
      "loss: 0.388072  [12864/60000]\n",
      "loss: 0.603507  [19264/60000]\n",
      "loss: 0.611410  [25664/60000]\n",
      "loss: 0.517516  [32064/60000]\n",
      "loss: 0.527677  [38464/60000]\n",
      "loss: 0.651468  [44864/60000]\n",
      "loss: 0.611598  [51264/60000]\n",
      "loss: 0.546539  [57664/60000]\n",
      "Test Error: \n",
      " Accuracy: 80.1%, Avg loss: 0.560196 \n",
      "\n",
      "Epoch 37\n",
      "-------------------------------\n",
      "loss: 0.446063  [   64/60000]\n",
      "loss: 0.588991  [ 6464/60000]\n",
      "loss: 0.383175  [12864/60000]\n",
      "loss: 0.597520  [19264/60000]\n",
      "loss: 0.606630  [25664/60000]\n",
      "loss: 0.513155  [32064/60000]\n",
      "loss: 0.519870  [38464/60000]\n",
      "loss: 0.649974  [44864/60000]\n",
      "loss: 0.609312  [51264/60000]\n",
      "loss: 0.538989  [57664/60000]\n",
      "Test Error: \n",
      " Accuracy: 80.2%, Avg loss: 0.555348 \n",
      "\n",
      "Epoch 38\n",
      "-------------------------------\n",
      "loss: 0.437949  [   64/60000]\n",
      "loss: 0.582929  [ 6464/60000]\n",
      "loss: 0.378546  [12864/60000]\n",
      "loss: 0.591401  [19264/60000]\n",
      "loss: 0.601539  [25664/60000]\n",
      "loss: 0.508625  [32064/60000]\n",
      "loss: 0.512508  [38464/60000]\n",
      "loss: 0.648580  [44864/60000]\n",
      "loss: 0.607273  [51264/60000]\n",
      "loss: 0.531566  [57664/60000]\n",
      "Test Error: \n",
      " Accuracy: 80.3%, Avg loss: 0.550686 \n",
      "\n",
      "Epoch 39\n",
      "-------------------------------\n",
      "loss: 0.430162  [   64/60000]\n",
      "loss: 0.577038  [ 6464/60000]\n",
      "loss: 0.374023  [12864/60000]\n",
      "loss: 0.585465  [19264/60000]\n",
      "loss: 0.596467  [25664/60000]\n",
      "loss: 0.504260  [32064/60000]\n",
      "loss: 0.505660  [38464/60000]\n",
      "loss: 0.647204  [44864/60000]\n",
      "loss: 0.605629  [51264/60000]\n",
      "loss: 0.524622  [57664/60000]\n",
      "Test Error: \n",
      " Accuracy: 80.5%, Avg loss: 0.546266 \n",
      "\n",
      "Epoch 40\n",
      "-------------------------------\n",
      "loss: 0.422423  [   64/60000]\n",
      "loss: 0.571421  [ 6464/60000]\n",
      "loss: 0.369737  [12864/60000]\n",
      "loss: 0.579829  [19264/60000]\n",
      "loss: 0.591162  [25664/60000]\n",
      "loss: 0.499933  [32064/60000]\n",
      "loss: 0.499246  [38464/60000]\n",
      "loss: 0.646100  [44864/60000]\n",
      "loss: 0.604005  [51264/60000]\n",
      "loss: 0.517865  [57664/60000]\n",
      "Test Error: \n",
      " Accuracy: 80.7%, Avg loss: 0.542018 \n",
      "\n",
      "Done!\n"
     ]
    }
   ],
   "source": [
    "# Set-up\n",
    "device = (\n",
    "    \"cuda:0\"\n",
    "    if torch.cuda.is_available()\n",
    "    else \"mps\"\n",
    "    if torch.backends.mps.is_available()\n",
    "    else \"cpu\"\n",
    ")\n",
    "# Model instance\n",
    "model = NeuralNetwork().to(device)\n",
    "# Loss and optimizer\n",
    "loss_fn = nn.CrossEntropyLoss()\n",
    "optimizer = torch.optim.SGD(model.parameters(), lr=learning_rate)\n",
    "# Hyper params\n",
    "learning_rate = 1e-3\n",
    "batch_size = 64\n",
    "epochs = 40\n",
    "# data set up\n",
    "train_dataloader = DataLoader(training_data, batch_size=batch_size)\n",
    "test_dataloader = DataLoader(test_data, batch_size=batch_size)\n",
    "\n",
    "avg_acc = np.ones(epochs)\n",
    "avg_loss = np.ones(epochs)\n",
    "# Training and test loops\n",
    "for t in range(epochs):\n",
    "    print(f\"Epoch {t+1}\\n-------------------------------\")\n",
    "    train_loop(dataloader= train_dataloader, model= model, loss_fn= loss_fn, optimizer= optimizer,device= device)\n",
    "    avg_acc[t],avg_loss[t] = test_loop(dataloader= test_dataloader, model= model, loss_fn= loss_fn,device= device)\n",
    "print(\"Done!\")"
   ]
  },
  {
   "cell_type": "code",
   "execution_count": 58,
   "id": "8870f973-1e9f-4ade-8564-66fa394493d0",
   "metadata": {},
   "outputs": [
    {
     "name": "stdout",
     "output_type": "stream",
     "text": [
      "Model saved to Trained_models/pre_trained_network\n"
     ]
    }
   ],
   "source": [
    "# Save model\n",
    "model_path = \"Trained_models/pre_trained_network\"\n",
    "torch.save(model.state_dict(), model_path)\n",
    "print(f\"Model saved to {model_path}\")\n"
   ]
  },
  {
   "cell_type": "code",
   "execution_count": 59,
   "id": "8bb7eb4e-a6cd-4d12-beac-c1fa083726a3",
   "metadata": {},
   "outputs": [
    {
     "name": "stdout",
     "output_type": "stream",
     "text": [
      "Model loaded successfully\n"
     ]
    }
   ],
   "source": [
    "model_path = \"Trained_models/pre_trained_network\"\n",
    "model = NeuralNetwork().to(device)\n",
    "\n",
    "# Load the model parameters from the file\n",
    "model.load_state_dict(torch.load(model_path))\n",
    "model.eval()  # Set the model to evaluation mode if you're going to use it for inference\n",
    "print(\"Model loaded successfully\")\n"
   ]
  },
  {
   "cell_type": "code",
   "execution_count": 60,
   "id": "fa5004fd-371c-4ae0-b23e-4164eb40c795",
   "metadata": {},
   "outputs": [
    {
     "data": {
      "image/png": "[encoded data removed]",
      "text/plain": [
       "<Figure size 1200x600 with 1 Axes>"
      ]
     },
     "metadata": {},
     "output_type": "display_data"
    },
    {
     "data": {
      "image/png": "[encoded data removed]",
      "text/plain": [
       "<Figure size 1200x600 with 1 Axes>"
      ]
     },
     "metadata": {},
     "output_type": "display_data"
    }
   ],
   "source": [
    "import seaborn as sns\n",
    "import matplotlib.pyplot as plt\n",
    "\n",
    "\n",
    "# Create an index array\n",
    "indices = np.arange(len(avg_acc))\n",
    "\n",
    "# Plot for Average Accuracy\n",
    "plt.figure(figsize=(12, 6))\n",
    "sns.scatterplot(x=indices, y=avg_acc, label='Average Accuracy', color='blue')\n",
    "sns.lineplot(x=indices, y=avg_acc, label='Accuracy Trend', color='blue')\n",
    "plt.xlabel('Index')\n",
    "plt.ylabel('Average Accuracy')\n",
    "plt.title('Scatter plot of Average Accuracy vs. Indices with Trend Line')\n",
    "plt.legend()\n",
    "plt.show()\n",
    "\n",
    "# Plot for Average Loss\n",
    "plt.figure(figsize=(12, 6))\n",
    "sns.scatterplot(x=indices, y=avg_loss, label='Average Loss', color='red')\n",
    "sns.lineplot(x=indices, y=avg_loss, label='Loss Trend', color='red')\n",
    "plt.xlabel('Index')\n",
    "plt.ylabel('Average Loss')\n",
    "plt.title('Scatter plot of Average Loss vs. Indices with Trend Line')\n",
    "plt.legend()\n",
    "plt.show()\n"
   ]
  },
  {
   "cell_type": "markdown",
   "id": "d7f87fdf-028c-4678-8d62-6e6e0cda2e12",
   "metadata": {},
   "source": [
    "### Timing predictions"
   ]
  },
  {
   "cell_type": "code",
   "execution_count": 62,
   "id": "165e5f32-5a21-40a3-93c4-13301b3609af",
   "metadata": {},
   "outputs": [
    {
     "name": "stdout",
     "output_type": "stream",
     "text": [
      "Time taken (Neural network):4.198442697525024 for 10000 predictions\n"
     ]
    }
   ],
   "source": [
    "import time\n",
    "model.eval()\n",
    "with torch.no_grad():\n",
    "    start_time = time.time()\n",
    "    for (x,y) in test_data:\n",
    "        x = x.to(device)\n",
    "        model(x)\n",
    "\n",
    "print(f\"Time taken (Neural network):{time.time() - start_time} for {len(test_data)} predictions\")\n",
    "\n"
   ]
  },
  {
   "cell_type": "code",
   "execution_count": null,
   "id": "87f9fe08-1c47-40a1-8c0f-090b76757144",
   "metadata": {},
   "outputs": [],
   "source": []
  }
 ],
 "metadata": {
  "kernelspec": {
   "display_name": "Python 3 (ipykernel)",
   "language": "python",
   "name": "python3"
  },
  "language_info": {
   "codemirror_mode": {
    "name": "ipython",
    "version": 3
   },
   "file_extension": ".py",
   "mimetype": "text/x-python",
   "name": "python",
   "nbconvert_exporter": "python",
   "pygments_lexer": "ipython3",
   "version": "3.12.3"
  }
 },
 "nbformat": 4,
 "nbformat_minor": 5
}
