{
 "cells": [
  {
   "cell_type": "markdown",
   "id": "e8c855b0-c373-451a-a0ef-343967639f2c",
   "metadata": {},
   "source": [
    "#  - - - - - - - - - - - - - - Quickstart - - - - - - - - - - - - - -"
   ]
  },
  {
   "cell_type": "code",
   "execution_count": 1,
   "id": "362d6dd5-cd76-4d8f-b41c-682ef40878b8",
   "metadata": {},
   "outputs": [],
   "source": [
    "import torch\n",
    "from torch import nn\n",
    "from torch.utils.data import DataLoader\n",
    "from torchvision import datasets\n",
    "from torchvision.transforms import ToTensor"
   ]
  },
  {
   "cell_type": "code",
   "execution_count": 2,
   "id": "40f463fe-eb03-4142-a54c-51588a0acc64",
   "metadata": {},
   "outputs": [],
   "source": [
    "# Download training data from open datasets.\n",
    "training_data = datasets.FashionMNIST(\n",
    "    root=\"data\",\n",
    "    train=True,\n",
    "    download=True,\n",
    "    transform=ToTensor(),\n",
    ")\n",
    "\n",
    "# Download test data from open datasets.\n",
    "test_data = datasets.FashionMNIST(\n",
    "    root=\"data\",\n",
    "    train=False,\n",
    "    download=True,\n",
    "    transform=ToTensor(),\n",
    ")"
   ]
  },
  {
   "cell_type": "code",
   "execution_count": 3,
   "id": "c00bc66f-2836-45fe-910e-906e6795474a",
   "metadata": {},
   "outputs": [
    {
     "name": "stdout",
     "output_type": "stream",
     "text": [
      "Shape of X [N, C, H, W]: torch.Size([64, 1, 28, 28])\n",
      "Shape of y: torch.Size([64]) torch.int64\n"
     ]
    }
   ],
   "source": [
    "batch_size = 64\n",
    "\n",
    "# Create data loaders.\n",
    "train_dataloader = DataLoader(training_data, batch_size=batch_size)\n",
    "test_dataloader = DataLoader(test_data, batch_size=batch_size)\n",
    "\n",
    "for X, y in test_dataloader:\n",
    "    print(f\"Shape of X [N, C, H, W]: {X.shape}\")\n",
    "    print(f\"Shape of y: {y.shape} {y.dtype}\")\n",
    "    break"
   ]
  },
  {
   "cell_type": "code",
   "execution_count": 4,
   "id": "b0505d6a-9ba3-4a29-89e7-7ea529597530",
   "metadata": {},
   "outputs": [
    {
     "name": "stdout",
     "output_type": "stream",
     "text": [
      "Using cuda device\n"
     ]
    }
   ],
   "source": [
    "# Get cpu, gpu or mps device for training.\n",
    "device = (\n",
    "    \"cuda\"\n",
    "    if torch.cuda.is_available()\n",
    "    else \"mps\"\n",
    "    if torch.backends.mps.is_available()\n",
    "    else \"cpu\"\n",
    ")\n",
    "print(f\"Using {device} device\")\n"
   ]
  },
  {
   "cell_type": "code",
   "execution_count": 5,
   "id": "7a6b672c-e986-41be-be9e-30c3be5101fb",
   "metadata": {},
   "outputs": [
    {
     "name": "stdout",
     "output_type": "stream",
     "text": [
      "NeuralNetwork(\n",
      "  (flatten): Flatten(start_dim=1, end_dim=-1)\n",
      "  (linear_relu_stack): Sequential(\n",
      "    (0): Linear(in_features=784, out_features=512, bias=True)\n",
      "    (1): ReLU()\n",
      "    (2): Linear(in_features=512, out_features=512, bias=True)\n",
      "    (3): ReLU()\n",
      "    (4): Linear(in_features=512, out_features=10, bias=True)\n",
      "  )\n",
      ")\n"
     ]
    }
   ],
   "source": [
    "# Define model\n",
    "class NeuralNetwork(nn.Module):\n",
    "    def __init__(self):\n",
    "        super().__init__()\n",
    "        self.flatten = nn.Flatten()\n",
    "        self.linear_relu_stack = nn.Sequential(\n",
    "            nn.Linear(28*28, 512),\n",
    "            nn.ReLU(),\n",
    "            nn.Linear(512, 512),\n",
    "            nn.ReLU(),\n",
    "            nn.Linear(512, 10)\n",
    "        )\n",
    "\n",
    "    def forward(self, x):\n",
    "        x = self.flatten(x)\n",
    "        logits = self.linear_relu_stack(x)\n",
    "        return logits\n",
    "\n",
    "model = NeuralNetwork().to(device)\n",
    "print(model)"
   ]
  },
  {
   "cell_type": "markdown",
   "id": "d0783fa0-895f-4f50-b61e-781906e64254",
   "metadata": {},
   "source": [
    "### Setting up loss function and optimizer"
   ]
  },
  {
   "cell_type": "code",
   "execution_count": 6,
   "id": "fbca6918-464f-4a4e-8520-476c5d15f043",
   "metadata": {},
   "outputs": [],
   "source": [
    "loss_fn = nn.CrossEntropyLoss()\n",
    "optimizer = torch.optim.SGD(model.parameters(), lr=1e-3)"
   ]
  },
  {
   "cell_type": "markdown",
   "id": "8fbdd92f-97b6-4a29-857f-f1a259879e02",
   "metadata": {},
   "source": [
    "### Setting up training function"
   ]
  },
  {
   "cell_type": "code",
   "execution_count": 7,
   "id": "6769e199-6ef3-458e-8f05-43a6209b24ad",
   "metadata": {},
   "outputs": [],
   "source": [
    "def train(dataloader, model, loss_fn, optimizer):\n",
    "    size = len(dataloader.dataset)\n",
    "    model.train()\n",
    "    for batch, (X, y) in enumerate(dataloader):\n",
    "        X, y = X.to(device), y.to(device)\n",
    "\n",
    "        # Compute prediction error\n",
    "        pred = model(X)\n",
    "        loss = loss_fn(pred, y)\n",
    "\n",
    "        # Backpropagation\n",
    "        loss.backward()\n",
    "        optimizer.step()\n",
    "        optimizer.zero_grad()\n",
    "\n",
    "        if batch % 100 == 0:\n",
    "            loss, current = loss.item(), (batch + 1) * len(X)\n",
    "            print(f\"loss: {loss:>7f}  [{current:>5d}/{size:>5d}]\")"
   ]
  },
  {
   "cell_type": "markdown",
   "id": "5ad6eb73-6aa1-414b-9bd7-ecadf92c527d",
   "metadata": {},
   "source": [
    "### Setting up testing function"
   ]
  },
  {
   "cell_type": "code",
   "execution_count": 8,
   "id": "4c171f96-ae90-4f1b-a6ba-62ab0d5b10b1",
   "metadata": {},
   "outputs": [],
   "source": [
    "def test(dataloader, model, loss_fn):\n",
    "    size = len(dataloader.dataset)\n",
    "    num_batches = len(dataloader)\n",
    "    model.eval()\n",
    "    test_loss, correct = 0, 0\n",
    "    with torch.no_grad():\n",
    "        for X, y in dataloader:\n",
    "            X, y = X.to(device), y.to(device)\n",
    "            pred = model(X)\n",
    "            test_loss += loss_fn(pred, y).item()\n",
    "            correct += (pred.argmax(1) == y).type(torch.float).sum().item()\n",
    "    test_loss /= num_batches\n",
    "    correct /= size\n",
    "    print(f\"Test Error: \\n Accuracy: {(100*correct):>0.1f}%, Avg loss: {test_loss:>8f} \\n\")"
   ]
  },
  {
   "cell_type": "markdown",
   "id": "0927acd6-f1c6-48cc-bd00-148e236095fb",
   "metadata": {},
   "source": [
    "### Training model and checking convergence"
   ]
  },
  {
   "cell_type": "code",
   "execution_count": 9,
   "id": "29557c3e-e2a7-4cad-8332-474a0ba1d964",
   "metadata": {},
   "outputs": [
    {
     "name": "stdout",
     "output_type": "stream",
     "text": [
      "Epoch 1\n",
      "-------------------------------\n",
      "loss: 2.305623  [   64/60000]\n",
      "loss: 2.293790  [ 6464/60000]\n",
      "loss: 2.284343  [12864/60000]\n",
      "loss: 2.286017  [19264/60000]\n",
      "loss: 2.265083  [25664/60000]\n",
      "loss: 2.236182  [32064/60000]\n",
      "loss: 2.241286  [38464/60000]\n",
      "loss: 2.208699  [44864/60000]\n",
      "loss: 2.213473  [51264/60000]\n",
      "loss: 2.187771  [57664/60000]\n",
      "Test Error: \n",
      " Accuracy: 43.6%, Avg loss: 2.181495 \n",
      "\n",
      "Epoch 2\n",
      "-------------------------------\n",
      "loss: 2.182659  [   64/60000]\n",
      "loss: 2.172243  [ 6464/60000]\n",
      "loss: 2.130452  [12864/60000]\n",
      "loss: 2.156027  [19264/60000]\n",
      "loss: 2.102840  [25664/60000]\n",
      "loss: 2.045969  [32064/60000]\n",
      "loss: 2.074126  [38464/60000]\n",
      "loss: 2.002542  [44864/60000]\n",
      "loss: 2.011498  [51264/60000]\n",
      "loss: 1.951326  [57664/60000]\n",
      "Test Error: \n",
      " Accuracy: 55.1%, Avg loss: 1.946757 \n",
      "\n",
      "Epoch 3\n",
      "-------------------------------\n",
      "loss: 1.964424  [   64/60000]\n",
      "loss: 1.937782  [ 6464/60000]\n",
      "loss: 1.841009  [12864/60000]\n",
      "loss: 1.891916  [19264/60000]\n",
      "loss: 1.772267  [25664/60000]\n",
      "loss: 1.716687  [32064/60000]\n",
      "loss: 1.740766  [38464/60000]\n",
      "loss: 1.641510  [44864/60000]\n",
      "loss: 1.665585  [51264/60000]\n",
      "loss: 1.566357  [57664/60000]\n",
      "Test Error: \n",
      " Accuracy: 60.0%, Avg loss: 1.578637 \n",
      "\n",
      "Epoch 4\n",
      "-------------------------------\n",
      "loss: 1.632479  [   64/60000]\n",
      "loss: 1.597528  [ 6464/60000]\n",
      "loss: 1.457605  [12864/60000]\n",
      "loss: 1.536627  [19264/60000]\n",
      "loss: 1.403397  [25664/60000]\n",
      "loss: 1.390100  [32064/60000]\n",
      "loss: 1.406158  [38464/60000]\n",
      "loss: 1.325092  [44864/60000]\n",
      "loss: 1.359516  [51264/60000]\n",
      "loss: 1.267423  [57664/60000]\n",
      "Test Error: \n",
      " Accuracy: 63.4%, Avg loss: 1.287094 \n",
      "\n",
      "Epoch 5\n",
      "-------------------------------\n",
      "loss: 1.357507  [   64/60000]\n",
      "loss: 1.338923  [ 6464/60000]\n",
      "loss: 1.178495  [12864/60000]\n",
      "loss: 1.291532  [19264/60000]\n",
      "loss: 1.156637  [25664/60000]\n",
      "loss: 1.176730  [32064/60000]\n",
      "loss: 1.199611  [38464/60000]\n",
      "loss: 1.128712  [44864/60000]\n",
      "loss: 1.167194  [51264/60000]\n",
      "loss: 1.095975  [57664/60000]\n",
      "Test Error: \n",
      " Accuracy: 65.0%, Avg loss: 1.108729 \n",
      "\n",
      "Done!\n"
     ]
    }
   ],
   "source": [
    "epochs = 5\n",
    "for t in range(epochs):\n",
    "    print(f\"Epoch {t+1}\\n-------------------------------\")\n",
    "    train(train_dataloader, model, loss_fn, optimizer)\n",
    "    test(test_dataloader, model, loss_fn)\n",
    "print(\"Done!\")"
   ]
  },
  {
   "cell_type": "markdown",
   "id": "5b543c15-ef5e-4c24-9420-92eef84d76f1",
   "metadata": {},
   "source": [
    "### Model saving"
   ]
  },
  {
   "cell_type": "code",
   "execution_count": 10,
   "id": "bf7d5a93-c503-4821-9d32-48b86dc17570",
   "metadata": {},
   "outputs": [
    {
     "name": "stdout",
     "output_type": "stream",
     "text": [
      "Saved PyTorch Model State to Trained_models/first_model.pth\n"
     ]
    }
   ],
   "source": [
    "torch.save(model.state_dict(), \"Trained_models/first_model.pth\")\n",
    "print(\"Saved PyTorch Model State to Trained_models/first_model.pth\")"
   ]
  },
  {
   "cell_type": "markdown",
   "id": "a277b506-c7a6-4dfc-a6b4-b4f670215445",
   "metadata": {},
   "source": [
    "### Loading Model"
   ]
  },
  {
   "cell_type": "code",
   "execution_count": 11,
   "id": "090ead6a-1e8f-4a07-bb63-03daba7ccaa6",
   "metadata": {},
   "outputs": [
    {
     "data": {
      "text/plain": [
       "<All keys matched successfully>"
      ]
     },
     "execution_count": 11,
     "metadata": {},
     "output_type": "execute_result"
    }
   ],
   "source": [
    "model = NeuralNetwork().to(device)\n",
    "model.load_state_dict(torch.load(\"Trained_models/first_model.pth\"))"
   ]
  },
  {
   "cell_type": "markdown",
   "id": "729300aa-2075-4820-aef7-7c43a53bf620",
   "metadata": {},
   "source": [
    "### Making predictions"
   ]
  },
  {
   "cell_type": "code",
   "execution_count": 12,
   "id": "8f7853eb-1ac7-4972-9607-8de4285ef324",
   "metadata": {},
   "outputs": [
    {
     "name": "stdout",
     "output_type": "stream",
     "text": [
      "Predicted: \"Ankle boot\", Actual: \"Ankle boot\"\n"
     ]
    }
   ],
   "source": [
    "classes = [\n",
    "    \"T-shirt/top\",\n",
    "    \"Trouser\",\n",
    "    \"Pullover\",\n",
    "    \"Dress\",\n",
    "    \"Coat\",\n",
    "    \"Sandal\",\n",
    "    \"Shirt\",\n",
    "    \"Sneaker\",\n",
    "    \"Bag\",\n",
    "    \"Ankle boot\",\n",
    "]\n",
    "\n",
    "model.eval()\n",
    "x, y = test_data[0][0], test_data[0][1]\n",
    "with torch.no_grad():\n",
    "    x = x.to(device)\n",
    "    pred = model(x)\n",
    "    predicted = classes[pred[0].argmax(0)]\n",
    "    actual = classes[y]\n",
    "    print(f'Predicted: \"{predicted}\", Actual: \"{actual}\"')"
   ]
  },
  {
   "cell_type": "markdown",
   "id": "14333f3b-b531-42d2-b9f3-f220f2df3502",
   "metadata": {},
   "source": [
    "#  - - - - - - - - - - - - - - Tensors - - - - - - - - - - - - - -"
   ]
  },
  {
   "cell_type": "code",
   "execution_count": 13,
   "id": "c2397754-283d-4263-a0b1-174da5928768",
   "metadata": {},
   "outputs": [],
   "source": [
    "import torch\n",
    "import numpy as np"
   ]
  },
  {
   "cell_type": "markdown",
   "id": "961f0d46-f06d-4059-b17c-ed88fee51c34",
   "metadata": {},
   "source": [
    "### Tensor initialization methods"
   ]
  },
  {
   "cell_type": "code",
   "execution_count": 14,
   "id": "5864327a-3b98-4d7d-9a0a-5f9c4e44a499",
   "metadata": {},
   "outputs": [
    {
     "data": {
      "text/plain": [
       "tensor([[1, 2],\n",
       "        [3, 4]])"
      ]
     },
     "execution_count": 14,
     "metadata": {},
     "output_type": "execute_result"
    }
   ],
   "source": [
    "data = [[1, 2],[3, 4]]\n",
    "x_data = torch.tensor(data)\n",
    "x_data"
   ]
  },
  {
   "cell_type": "code",
   "execution_count": 15,
   "id": "60d0a4db-11d5-41dd-81f7-c609d6ea4e8e",
   "metadata": {},
   "outputs": [
    {
     "data": {
      "text/plain": [
       "tensor([[1, 2],\n",
       "        [3, 4]], dtype=torch.int32)"
      ]
     },
     "execution_count": 15,
     "metadata": {},
     "output_type": "execute_result"
    }
   ],
   "source": [
    "np_array = np.array(data)\n",
    "x_np = torch.from_numpy(np_array)\n",
    "x_np"
   ]
  },
  {
   "cell_type": "code",
   "execution_count": 16,
   "id": "28ded06a-5ac1-496e-a390-f0089d240d15",
   "metadata": {},
   "outputs": [
    {
     "name": "stdout",
     "output_type": "stream",
     "text": [
      "Ones Tensor: \n",
      " tensor([[1, 1],\n",
      "        [1, 1]]) \n",
      "\n",
      "Random Tensor: \n",
      " tensor([[0.9493, 0.9896],\n",
      "        [0.0750, 0.7037]]) \n",
      "\n"
     ]
    }
   ],
   "source": [
    "x_ones = torch.ones_like(x_data) # retains the properties of x_data\n",
    "print(f\"Ones Tensor: \\n {x_ones} \\n\")\n",
    "\n",
    "x_rand = torch.rand_like(x_data, dtype=torch.float) # overrides the datatype of x_data\n",
    "print(f\"Random Tensor: \\n {x_rand} \\n\")"
   ]
  },
  {
   "cell_type": "code",
   "execution_count": 17,
   "id": "ed3a3945-be1d-4b37-94e4-1a91a9007c8b",
   "metadata": {},
   "outputs": [
    {
     "name": "stdout",
     "output_type": "stream",
     "text": [
      "Random Tensor: \n",
      " tensor([[0.3354, 0.4093, 0.4206],\n",
      "        [0.0176, 0.0095, 0.5188]]) \n",
      "\n",
      "Ones Tensor: \n",
      " tensor([[1., 1., 1.],\n",
      "        [1., 1., 1.]]) \n",
      "\n",
      "Zeros Tensor: \n",
      " tensor([[0., 0., 0.],\n",
      "        [0., 0., 0.]])\n"
     ]
    }
   ],
   "source": [
    "shape = (2,3,)\n",
    "rand_tensor = torch.rand(shape)\n",
    "ones_tensor = torch.ones(shape)\n",
    "zeros_tensor = torch.zeros(shape)\n",
    "\n",
    "print(f\"Random Tensor: \\n {rand_tensor} \\n\")\n",
    "print(f\"Ones Tensor: \\n {ones_tensor} \\n\")\n",
    "print(f\"Zeros Tensor: \\n {zeros_tensor}\")"
   ]
  },
  {
   "cell_type": "markdown",
   "id": "dc67414f-2534-4340-99d1-3f528aeb3ba3",
   "metadata": {},
   "source": [
    "### Tensor attributes"
   ]
  },
  {
   "cell_type": "code",
   "execution_count": 18,
   "id": "dd88fe3f-8263-46ad-9974-a76cad22e5cb",
   "metadata": {},
   "outputs": [
    {
     "name": "stdout",
     "output_type": "stream",
     "text": [
      "Shape of tensor: torch.Size([3, 4])\n",
      "Datatype of tensor: torch.float32\n",
      "Device tensor is stored on: cpu\n"
     ]
    }
   ],
   "source": [
    "tensor = torch.rand(3,4)\n",
    "\n",
    "print(f\"Shape of tensor: {tensor.shape}\")\n",
    "print(f\"Datatype of tensor: {tensor.dtype}\")\n",
    "print(f\"Device tensor is stored on: {tensor.device}\")"
   ]
  },
  {
   "cell_type": "markdown",
   "id": "16c9e3a4-943b-4945-9cd0-a2a54cbefdeb",
   "metadata": {},
   "source": [
    "### Tensor operations"
   ]
  },
  {
   "cell_type": "code",
   "execution_count": 19,
   "id": "eda8d729-45ec-4e23-9525-4a059a1f467a",
   "metadata": {},
   "outputs": [
    {
     "name": "stdout",
     "output_type": "stream",
     "text": [
      "Device tensor is stored on: cuda:0\n"
     ]
    }
   ],
   "source": [
    "# We move our tensor to the GPU if available\n",
    "if torch.cuda.is_available():\n",
    "    tensor = tensor.to(\"cuda\")\n",
    "print(f\"Device tensor is stored on: {tensor.device}\")"
   ]
  },
  {
   "cell_type": "code",
   "execution_count": 20,
   "id": "8cbdac28-c682-4947-8f6a-218d2ce761c5",
   "metadata": {},
   "outputs": [
    {
     "name": "stdout",
     "output_type": "stream",
     "text": [
      "First row: tensor([1., 1., 1., 1.])\n",
      "First column: tensor([1., 1., 1., 1.])\n",
      "Last column: tensor([1., 1., 1., 1.])\n",
      "tensor([[1., 0., 1., 1.],\n",
      "        [1., 0., 1., 1.],\n",
      "        [1., 0., 1., 1.],\n",
      "        [1., 0., 1., 1.]])\n"
     ]
    }
   ],
   "source": [
    "tensor = torch.ones(4, 4)\n",
    "print(f\"First row: {tensor[0]}\")\n",
    "print(f\"First column: {tensor[:, 0]}\")\n",
    "print(f\"Last column: {tensor[..., -1]}\")\n",
    "tensor[:,1] = 0\n",
    "print(tensor)"
   ]
  },
  {
   "cell_type": "code",
   "execution_count": 21,
   "id": "ec3eaed1-b224-4f8c-8d44-40ec11162852",
   "metadata": {},
   "outputs": [
    {
     "name": "stdout",
     "output_type": "stream",
     "text": [
      "tensor([[1., 0., 1., 1., 1., 0., 1., 1., 1., 0., 1., 1.],\n",
      "        [1., 0., 1., 1., 1., 0., 1., 1., 1., 0., 1., 1.],\n",
      "        [1., 0., 1., 1., 1., 0., 1., 1., 1., 0., 1., 1.],\n",
      "        [1., 0., 1., 1., 1., 0., 1., 1., 1., 0., 1., 1.]])\n"
     ]
    }
   ],
   "source": [
    "t1 = torch.cat([tensor, tensor, tensor], dim=1)\n",
    "print(t1)"
   ]
  },
  {
   "cell_type": "code",
   "execution_count": 22,
   "id": "a2107f75-2bd1-4c58-954b-9f5c46f2e1a3",
   "metadata": {},
   "outputs": [
    {
     "data": {
      "text/plain": [
       "tensor([[1., 0., 1., 1.],\n",
       "        [1., 0., 1., 1.],\n",
       "        [1., 0., 1., 1.],\n",
       "        [1., 0., 1., 1.]])"
      ]
     },
     "execution_count": 22,
     "metadata": {},
     "output_type": "execute_result"
    }
   ],
   "source": [
    "# This computes the matrix multiplication between two tensors. y1, y2, y3 will have the same value\n",
    "# ``tensor.T`` returns the transpose of a tensor\n",
    "y1 = tensor @ tensor.T\n",
    "y2 = tensor.matmul(tensor.T)\n",
    "\n",
    "y3 = torch.rand_like(y1)\n",
    "torch.matmul(tensor, tensor.T, out=y3)\n",
    "\n",
    "\n",
    "# This computes the element-wise product. z1, z2, z3 will have the same value\n",
    "z1 = tensor * tensor\n",
    "z2 = tensor.mul(tensor)\n",
    "\n",
    "z3 = torch.rand_like(tensor)\n",
    "torch.mul(tensor, tensor, out=z3)"
   ]
  },
  {
   "cell_type": "code",
   "execution_count": 23,
   "id": "a2d23864-cc29-4de2-9305-23802bdf3bae",
   "metadata": {},
   "outputs": [
    {
     "name": "stdout",
     "output_type": "stream",
     "text": [
      "12.0 <class 'float'>\n"
     ]
    }
   ],
   "source": [
    "agg = tensor.sum()\n",
    "agg_item = agg.item()\n",
    "print(agg_item, type(agg_item))"
   ]
  },
  {
   "cell_type": "code",
   "execution_count": 24,
   "id": "2c728b81-8e33-4767-aad2-c1e846a354b1",
   "metadata": {},
   "outputs": [
    {
     "name": "stdout",
     "output_type": "stream",
     "text": [
      "tensor([[1., 0., 1., 1.],\n",
      "        [1., 0., 1., 1.],\n",
      "        [1., 0., 1., 1.],\n",
      "        [1., 0., 1., 1.]]) \n",
      "\n",
      "tensor([[6., 5., 6., 6.],\n",
      "        [6., 5., 6., 6.],\n",
      "        [6., 5., 6., 6.],\n",
      "        [6., 5., 6., 6.]])\n"
     ]
    }
   ],
   "source": [
    "print(f\"{tensor} \\n\")\n",
    "tensor.add_(5)\n",
    "print(tensor)"
   ]
  },
  {
   "cell_type": "markdown",
   "id": "df90eb87-d574-4086-b44a-eec2b77593ef",
   "metadata": {},
   "source": [
    "### NOTE:\n",
    "    \n",
    "    In-place operations save some memory,\n",
    "    but can be problematic when computing derivatives because of an immediate loss of history. \n",
    "    Hence, their use is discouraged."
   ]
  },
  {
   "cell_type": "code",
   "execution_count": 25,
   "id": "143bca2f-73ab-46ac-9da7-117fcc37801c",
   "metadata": {},
   "outputs": [
    {
     "name": "stdout",
     "output_type": "stream",
     "text": [
      "t: tensor([1., 1., 1., 1., 1.])\n",
      "n: [1. 1. 1. 1. 1.]\n"
     ]
    }
   ],
   "source": [
    "t = torch.ones(5)\n",
    "print(f\"t: {t}\")\n",
    "n = t.numpy()\n",
    "print(f\"n: {n}\")"
   ]
  },
  {
   "cell_type": "code",
   "execution_count": 26,
   "id": "b9f5d5c4-d21d-476d-9291-b879524fb8f1",
   "metadata": {},
   "outputs": [
    {
     "name": "stdout",
     "output_type": "stream",
     "text": [
      "t: tensor([2., 2., 2., 2., 2.])\n",
      "n: [2. 2. 2. 2. 2.]\n"
     ]
    }
   ],
   "source": [
    "t.add_(1)\n",
    "print(f\"t: {t}\")\n",
    "print(f\"n: {n}\")"
   ]
  },
  {
   "cell_type": "code",
   "execution_count": 27,
   "id": "c174a4f9-b23e-420b-bb3f-8f4b3d552ae5",
   "metadata": {},
   "outputs": [],
   "source": [
    "n = np.ones(5)\n",
    "t = torch.from_numpy(n)"
   ]
  },
  {
   "cell_type": "code",
   "execution_count": 28,
   "id": "df2957ff-1492-4690-95af-0fbbd250eaa0",
   "metadata": {},
   "outputs": [
    {
     "name": "stdout",
     "output_type": "stream",
     "text": [
      "t: tensor([2., 2., 2., 2., 2.], dtype=torch.float64)\n",
      "n: [2. 2. 2. 2. 2.]\n"
     ]
    }
   ],
   "source": [
    "np.add(n, 1, out=n)\n",
    "print(f\"t: {t}\")\n",
    "print(f\"n: {n}\")"
   ]
  },
  {
   "cell_type": "markdown",
   "id": "ff99d682-277b-49d8-8bd7-f979afc641eb",
   "metadata": {},
   "source": [
    "# Datasets & DataLoaders"
   ]
  },
  {
   "cell_type": "code",
   "execution_count": 29,
   "id": "4c8191e5-a70e-45aa-a9b0-d8d449bf7119",
   "metadata": {},
   "outputs": [],
   "source": [
    "import torch\n",
    "from torch.utils.data import Dataset\n",
    "from torchvision import datasets\n",
    "from torchvision.transforms import ToTensor\n",
    "import matplotlib.pyplot as plt\n",
    "\n",
    "\n",
    "training_data = datasets.FashionMNIST(\n",
    "    root=\"data\",\n",
    "    train=True,\n",
    "    download=True,\n",
    "    transform=ToTensor()\n",
    ")\n",
    "\n",
    "test_data = datasets.FashionMNIST(\n",
    "    root=\"data\",\n",
    "    train=False,\n",
    "    download=True,\n",
    "    transform=ToTensor()\n",
    ")"
   ]
  },
  {
   "cell_type": "code",
   "execution_count": 30,
   "id": "f5eb947f-2c00-4b8d-916b-924208630c4a",
   "metadata": {},
   "outputs": [
    {
     "data": {
      "image/png": "[encoded data removed]",
      "text/plain": [
       "<Figure size 800x800 with 9 Axes>"
      ]
     },
     "metadata": {},
     "output_type": "display_data"
    }
   ],
   "source": [
    "labels_map = {\n",
    "    0: \"T-Shirt\",\n",
    "    1: \"Trouser\",\n",
    "    2: \"Pullover\",\n",
    "    3: \"Dress\",\n",
    "    4: \"Coat\",\n",
    "    5: \"Sandal\",\n",
    "    6: \"Shirt\",\n",
    "    7: \"Sneaker\",\n",
    "    8: \"Bag\",\n",
    "    9: \"Ankle Boot\",\n",
    "}\n",
    "figure = plt.figure(figsize=(8, 8))\n",
    "cols, rows = 3, 3\n",
    "for i in range(1, cols * rows + 1):\n",
    "    sample_idx = torch.randint(len(training_data), size=(1,)).item()\n",
    "    img, label = training_data[sample_idx]\n",
    "    figure.add_subplot(rows, cols, i)\n",
    "    plt.title(labels_map[label])\n",
    "    plt.axis(\"off\")\n",
    "    plt.imshow(img.squeeze(),cmap=\"gray\")\n",
    "plt.show()"
   ]
  },
  {
   "cell_type": "markdown",
   "id": "5968a938-2a77-444a-a34e-ea0891730736",
   "metadata": {},
   "source": [
    "# Preparing your data for training with DataLoaders"
   ]
  },
  {
   "cell_type": "code",
   "execution_count": 31,
   "id": "36c3a2a9-d26b-4548-95c8-ac259da08f8d",
   "metadata": {},
   "outputs": [],
   "source": [
    "from torch.utils.data import DataLoader\n",
    "\n",
    "train_dataloader = DataLoader(training_data, batch_size=64, shuffle=True)\n",
    "test_dataloader = DataLoader(test_data, batch_size=64, shuffle=True)"
   ]
  },
  {
   "cell_type": "code",
   "execution_count": 32,
   "id": "beddbc6f-901f-4bb4-acd0-f04659e40a32",
   "metadata": {},
   "outputs": [
    {
     "name": "stdout",
     "output_type": "stream",
     "text": [
      "Feature batch shape: torch.Size([64, 1, 28, 28])\n",
      "Labels batch shape: torch.Size([64])\n"
     ]
    },
    {
     "data": {
      "image/png": "[encoded data removed]",
      "text/plain": [
       "<Figure size 640x480 with 1 Axes>"
      ]
     },
     "metadata": {},
     "output_type": "display_data"
    },
    {
     "name": "stdout",
     "output_type": "stream",
     "text": [
      "Label: 6\n"
     ]
    }
   ],
   "source": [
    "# Display image and label.\n",
    "train_features, train_labels = next(iter(train_dataloader))\n",
    "print(f\"Feature batch shape: {train_features.size()}\")\n",
    "print(f\"Labels batch shape: {train_labels.size()}\")\n",
    "img = train_features[0].squeeze()\n",
    "label = train_labels[0]\n",
    "plt.imshow(img, cmap=\"gray\")\n",
    "plt.show()\n",
    "print(f\"Label: {label}\")"
   ]
  },
  {
   "cell_type": "markdown",
   "id": "a2d847f6-cfd0-4641-a128-3089bbca9bef",
   "metadata": {},
   "source": [
    "# Transforms"
   ]
  },
  {
   "cell_type": "markdown",
   "id": "c4dcb836-1e4f-4e51-ae8b-8fe72630c431",
   "metadata": {},
   "source": [
    "The FashionMNIST features are in PIL Image format, and the labels are integers. For training, we need the features as normalized tensors,\n",
    "and the labels as one-hot encoded tensors.\n",
    "To make these transformations, we use ToTensor and Lambda."
   ]
  },
  {
   "cell_type": "code",
   "execution_count": 33,
   "id": "e375421a-f32a-4558-b266-cf40347f19f1",
   "metadata": {},
   "outputs": [],
   "source": [
    "import torch\n",
    "from torchvision import datasets\n",
    "from torchvision.transforms import ToTensor, Lambda\n",
    "\n",
    "ds = datasets.FashionMNIST(\n",
    "    root=\"data\",\n",
    "    train=True,\n",
    "    download=True,\n",
    "    transform=ToTensor(),\n",
    "    target_transform=Lambda(lambda y: torch.zeros(10, dtype=torch.float).scatter_(0, torch.tensor(y), value=1))\n",
    ")"
   ]
  },
  {
   "cell_type": "markdown",
   "id": "473df41d-cd4e-4183-8a41-a12ea9df454b",
   "metadata": {},
   "source": [
    "# Build a Neural Network"
   ]
  },
  {
   "cell_type": "code",
   "execution_count": 34,
   "id": "5ec47d4d-8e3a-4a8e-b574-cfd85dee184a",
   "metadata": {},
   "outputs": [],
   "source": [
    "import os\n",
    "import torch\n",
    "from torch import nn\n",
    "from torch.utils.data import DataLoader\n",
    "from torchvision import datasets, transforms"
   ]
  },
  {
   "cell_type": "code",
   "execution_count": 58,
   "id": "9e138715-fb96-4274-8f5f-ca6d1844f4e6",
   "metadata": {},
   "outputs": [
    {
     "name": "stdout",
     "output_type": "stream",
     "text": [
      "Using cuda:1 device\n"
     ]
    }
   ],
   "source": [
    "device = (\n",
    "    \"cuda:1\"\n",
    "    if torch.cuda.is_available()\n",
    "    else \"mps\"\n",
    "    if torch.backends.mps.is_available()\n",
    "    else \"cpu\"\n",
    ")\n",
    "\n",
    "print(f\"Using {device} device\")"
   ]
  },
  {
   "cell_type": "markdown",
   "id": "afa76516-125d-4000-8f0a-aa6e54bd1314",
   "metadata": {},
   "source": [
    "### Network class definition"
   ]
  },
  {
   "cell_type": "code",
   "execution_count": 59,
   "id": "3be741f1-ffb2-407a-adaf-31e81f7c3950",
   "metadata": {},
   "outputs": [],
   "source": [
    "class NeuralNetwork(nn.Module):\n",
    "    def __init__(self):\n",
    "        super().__init__()\n",
    "        self.flatten = nn.Flatten()\n",
    "        self.linear_relu_stack = nn.Sequential(\n",
    "            nn.Linear(28*28, 512),\n",
    "            nn.ReLU(),\n",
    "            nn.Linear(512, 512),\n",
    "            nn.ReLU(),\n",
    "            nn.Linear(512, 10),\n",
    "        )\n",
    "\n",
    "    def forward(self, x):\n",
    "        x = self.flatten(x)\n",
    "        logits = self.linear_relu_stack(x)\n",
    "        return logits"
   ]
  },
  {
   "cell_type": "code",
   "execution_count": 60,
   "id": "3113b807-3585-4dcd-8b4d-d800d07da1bc",
   "metadata": {},
   "outputs": [
    {
     "ename": "RuntimeError",
     "evalue": "CUDA error: invalid device ordinal\nCUDA kernel errors might be asynchronously reported at some other API call, so the stacktrace below might be incorrect.\nFor debugging consider passing CUDA_LAUNCH_BLOCKING=1.\nCompile with `TORCH_USE_CUDA_DSA` to enable device-side assertions.\n",
     "output_type": "error",
     "traceback": [
      "\u001b[1;31m---------------------------------------------------------------------------\u001b[0m",
      "\u001b[1;31mRuntimeError\u001b[0m                              Traceback (most recent call last)",
      "Cell \u001b[1;32mIn[60], line 1\u001b[0m\n\u001b[1;32m----> 1\u001b[0m model \u001b[38;5;241m=\u001b[39m NeuralNetwork()\u001b[38;5;241m.\u001b[39mto(device)\n\u001b[0;32m      2\u001b[0m \u001b[38;5;28mprint\u001b[39m(model)\n",
      "File \u001b[1;32m~\\Desktop\\Semester6\\Deep-Learning-Research-project\\env\\Lib\\site-packages\\torch\\nn\\modules\\module.py:1173\u001b[0m, in \u001b[0;36mModule.to\u001b[1;34m(self, *args, **kwargs)\u001b[0m\n\u001b[0;32m   1170\u001b[0m         \u001b[38;5;28;01melse\u001b[39;00m:\n\u001b[0;32m   1171\u001b[0m             \u001b[38;5;28;01mraise\u001b[39;00m\n\u001b[1;32m-> 1173\u001b[0m \u001b[38;5;28;01mreturn\u001b[39;00m \u001b[38;5;28mself\u001b[39m\u001b[38;5;241m.\u001b[39m_apply(convert)\n",
      "File \u001b[1;32m~\\Desktop\\Semester6\\Deep-Learning-Research-project\\env\\Lib\\site-packages\\torch\\nn\\modules\\module.py:779\u001b[0m, in \u001b[0;36mModule._apply\u001b[1;34m(self, fn, recurse)\u001b[0m\n\u001b[0;32m    777\u001b[0m \u001b[38;5;28;01mif\u001b[39;00m recurse:\n\u001b[0;32m    778\u001b[0m     \u001b[38;5;28;01mfor\u001b[39;00m module \u001b[38;5;129;01min\u001b[39;00m \u001b[38;5;28mself\u001b[39m\u001b[38;5;241m.\u001b[39mchildren():\n\u001b[1;32m--> 779\u001b[0m         module\u001b[38;5;241m.\u001b[39m_apply(fn)\n\u001b[0;32m    781\u001b[0m \u001b[38;5;28;01mdef\u001b[39;00m \u001b[38;5;21mcompute_should_use_set_data\u001b[39m(tensor, tensor_applied):\n\u001b[0;32m    782\u001b[0m     \u001b[38;5;28;01mif\u001b[39;00m torch\u001b[38;5;241m.\u001b[39m_has_compatible_shallow_copy_type(tensor, tensor_applied):\n\u001b[0;32m    783\u001b[0m         \u001b[38;5;66;03m# If the new tensor has compatible tensor type as the existing tensor,\u001b[39;00m\n\u001b[0;32m    784\u001b[0m         \u001b[38;5;66;03m# the current behavior is to change the tensor in-place using `.data =`,\u001b[39;00m\n\u001b[1;32m   (...)\u001b[0m\n\u001b[0;32m    789\u001b[0m         \u001b[38;5;66;03m# global flag to let the user control whether they want the future\u001b[39;00m\n\u001b[0;32m    790\u001b[0m         \u001b[38;5;66;03m# behavior of overwriting the existing tensor or not.\u001b[39;00m\n",
      "File \u001b[1;32m~\\Desktop\\Semester6\\Deep-Learning-Research-project\\env\\Lib\\site-packages\\torch\\nn\\modules\\module.py:779\u001b[0m, in \u001b[0;36mModule._apply\u001b[1;34m(self, fn, recurse)\u001b[0m\n\u001b[0;32m    777\u001b[0m \u001b[38;5;28;01mif\u001b[39;00m recurse:\n\u001b[0;32m    778\u001b[0m     \u001b[38;5;28;01mfor\u001b[39;00m module \u001b[38;5;129;01min\u001b[39;00m \u001b[38;5;28mself\u001b[39m\u001b[38;5;241m.\u001b[39mchildren():\n\u001b[1;32m--> 779\u001b[0m         module\u001b[38;5;241m.\u001b[39m_apply(fn)\n\u001b[0;32m    781\u001b[0m \u001b[38;5;28;01mdef\u001b[39;00m \u001b[38;5;21mcompute_should_use_set_data\u001b[39m(tensor, tensor_applied):\n\u001b[0;32m    782\u001b[0m     \u001b[38;5;28;01mif\u001b[39;00m torch\u001b[38;5;241m.\u001b[39m_has_compatible_shallow_copy_type(tensor, tensor_applied):\n\u001b[0;32m    783\u001b[0m         \u001b[38;5;66;03m# If the new tensor has compatible tensor type as the existing tensor,\u001b[39;00m\n\u001b[0;32m    784\u001b[0m         \u001b[38;5;66;03m# the current behavior is to change the tensor in-place using `.data =`,\u001b[39;00m\n\u001b[1;32m   (...)\u001b[0m\n\u001b[0;32m    789\u001b[0m         \u001b[38;5;66;03m# global flag to let the user control whether they want the future\u001b[39;00m\n\u001b[0;32m    790\u001b[0m         \u001b[38;5;66;03m# behavior of overwriting the existing tensor or not.\u001b[39;00m\n",
      "File \u001b[1;32m~\\Desktop\\Semester6\\Deep-Learning-Research-project\\env\\Lib\\site-packages\\torch\\nn\\modules\\module.py:804\u001b[0m, in \u001b[0;36mModule._apply\u001b[1;34m(self, fn, recurse)\u001b[0m\n\u001b[0;32m    800\u001b[0m \u001b[38;5;66;03m# Tensors stored in modules are graph leaves, and we don't want to\u001b[39;00m\n\u001b[0;32m    801\u001b[0m \u001b[38;5;66;03m# track autograd history of `param_applied`, so we have to use\u001b[39;00m\n\u001b[0;32m    802\u001b[0m \u001b[38;5;66;03m# `with torch.no_grad():`\u001b[39;00m\n\u001b[0;32m    803\u001b[0m \u001b[38;5;28;01mwith\u001b[39;00m torch\u001b[38;5;241m.\u001b[39mno_grad():\n\u001b[1;32m--> 804\u001b[0m     param_applied \u001b[38;5;241m=\u001b[39m fn(param)\n\u001b[0;32m    805\u001b[0m p_should_use_set_data \u001b[38;5;241m=\u001b[39m compute_should_use_set_data(param, param_applied)\n\u001b[0;32m    807\u001b[0m \u001b[38;5;66;03m# subclasses may have multiple child tensors so we need to use swap_tensors\u001b[39;00m\n",
      "File \u001b[1;32m~\\Desktop\\Semester6\\Deep-Learning-Research-project\\env\\Lib\\site-packages\\torch\\nn\\modules\\module.py:1159\u001b[0m, in \u001b[0;36mModule.to.<locals>.convert\u001b[1;34m(t)\u001b[0m\n\u001b[0;32m   1152\u001b[0m     \u001b[38;5;28;01mif\u001b[39;00m convert_to_format \u001b[38;5;129;01mis\u001b[39;00m \u001b[38;5;129;01mnot\u001b[39;00m \u001b[38;5;28;01mNone\u001b[39;00m \u001b[38;5;129;01mand\u001b[39;00m t\u001b[38;5;241m.\u001b[39mdim() \u001b[38;5;129;01min\u001b[39;00m (\u001b[38;5;241m4\u001b[39m, \u001b[38;5;241m5\u001b[39m):\n\u001b[0;32m   1153\u001b[0m         \u001b[38;5;28;01mreturn\u001b[39;00m t\u001b[38;5;241m.\u001b[39mto(\n\u001b[0;32m   1154\u001b[0m             device,\n\u001b[0;32m   1155\u001b[0m             dtype \u001b[38;5;28;01mif\u001b[39;00m t\u001b[38;5;241m.\u001b[39mis_floating_point() \u001b[38;5;129;01mor\u001b[39;00m t\u001b[38;5;241m.\u001b[39mis_complex() \u001b[38;5;28;01melse\u001b[39;00m \u001b[38;5;28;01mNone\u001b[39;00m,\n\u001b[0;32m   1156\u001b[0m             non_blocking,\n\u001b[0;32m   1157\u001b[0m             memory_format\u001b[38;5;241m=\u001b[39mconvert_to_format,\n\u001b[0;32m   1158\u001b[0m         )\n\u001b[1;32m-> 1159\u001b[0m     \u001b[38;5;28;01mreturn\u001b[39;00m t\u001b[38;5;241m.\u001b[39mto(\n\u001b[0;32m   1160\u001b[0m         device,\n\u001b[0;32m   1161\u001b[0m         dtype \u001b[38;5;28;01mif\u001b[39;00m t\u001b[38;5;241m.\u001b[39mis_floating_point() \u001b[38;5;129;01mor\u001b[39;00m t\u001b[38;5;241m.\u001b[39mis_complex() \u001b[38;5;28;01melse\u001b[39;00m \u001b[38;5;28;01mNone\u001b[39;00m,\n\u001b[0;32m   1162\u001b[0m         non_blocking,\n\u001b[0;32m   1163\u001b[0m     )\n\u001b[0;32m   1164\u001b[0m \u001b[38;5;28;01mexcept\u001b[39;00m \u001b[38;5;167;01mNotImplementedError\u001b[39;00m \u001b[38;5;28;01mas\u001b[39;00m e:\n\u001b[0;32m   1165\u001b[0m     \u001b[38;5;28;01mif\u001b[39;00m \u001b[38;5;28mstr\u001b[39m(e) \u001b[38;5;241m==\u001b[39m \u001b[38;5;124m\"\u001b[39m\u001b[38;5;124mCannot copy out of meta tensor; no data!\u001b[39m\u001b[38;5;124m\"\u001b[39m:\n",
      "\u001b[1;31mRuntimeError\u001b[0m: CUDA error: invalid device ordinal\nCUDA kernel errors might be asynchronously reported at some other API call, so the stacktrace below might be incorrect.\nFor debugging consider passing CUDA_LAUNCH_BLOCKING=1.\nCompile with `TORCH_USE_CUDA_DSA` to enable device-side assertions.\n"
     ]
    }
   ],
   "source": [
    "model = NeuralNetwork().to(device)\n",
    "print(model)"
   ]
  },
  {
   "cell_type": "code",
   "execution_count": null,
   "id": "a3811919-4d47-4cde-8f2e-2dd9efc2425c",
   "metadata": {},
   "outputs": [],
   "source": [
    "X = torch.rand(1, 28, 28, device=device)\n",
    "logits = model(X)\n",
    "pred_probab = nn.Softmax(dim=1)(logits)\n",
    "y_pred = pred_probab.argmax(1)\n",
    "print(f\"Predicted class: {y_pred}\")"
   ]
  },
  {
   "cell_type": "code",
   "execution_count": null,
   "id": "9af23854-e784-463b-8fab-0a832f0e5459",
   "metadata": {},
   "outputs": [],
   "source": [
    "input_image = torch.rand(3,28,28)\n",
    "print(input_image.size())"
   ]
  },
  {
   "cell_type": "code",
   "execution_count": null,
   "id": "9a58283d-1a4e-4b52-ae17-51c7dadb757c",
   "metadata": {},
   "outputs": [],
   "source": [
    "flatten = nn.Flatten()\n",
    "flat_image = flatten(input_image)\n",
    "print(flat_image.size())"
   ]
  },
  {
   "cell_type": "code",
   "execution_count": null,
   "id": "d0866b33-653c-432e-adfc-6afdc8ac1f72",
   "metadata": {},
   "outputs": [],
   "source": [
    "layer1 = nn.Linear(in_features=28*28, out_features=20)\n",
    "hidden1 = layer1(flat_image)\n",
    "print(hidden1.size())"
   ]
  },
  {
   "cell_type": "code",
   "execution_count": 61,
   "id": "4b5037d2-a722-4eb9-b839-dd6a52cd5612",
   "metadata": {},
   "outputs": [
    {
     "name": "stdout",
     "output_type": "stream",
     "text": [
      "Before ReLU: tensor([[0.0000, 0.0235, 0.0000, 0.0000, 0.0000, 0.0000, 0.0473, 0.0565, 0.0000,\n",
      "         0.0000, 0.0000, 0.0623, 0.0000, 0.0953, 0.1988, 0.0000, 0.0000, 0.0000,\n",
      "         0.0067, 0.0000],\n",
      "        [0.1973, 0.0011, 0.0000, 0.0000, 0.0000, 0.0959, 0.0000, 0.5061, 0.2791,\n",
      "         0.0962, 0.0000, 0.0000, 0.0000, 0.0000, 0.0000, 0.0000, 0.0000, 0.0000,\n",
      "         0.0063, 0.3092],\n",
      "        [0.4153, 0.2350, 0.0000, 0.0000, 0.0000, 0.0173, 0.0000, 0.4724, 0.0000,\n",
      "         0.0000, 0.0029, 0.0485, 0.0000, 0.0000, 0.3673, 0.1260, 0.0000, 0.0000,\n",
      "         0.2177, 0.5280]], grad_fn=<ReluBackward0>)\n",
      "\n",
      "\n",
      "After ReLU: tensor([[0.0000, 0.0235, 0.0000, 0.0000, 0.0000, 0.0000, 0.0473, 0.0565, 0.0000,\n",
      "         0.0000, 0.0000, 0.0623, 0.0000, 0.0953, 0.1988, 0.0000, 0.0000, 0.0000,\n",
      "         0.0067, 0.0000],\n",
      "        [0.1973, 0.0011, 0.0000, 0.0000, 0.0000, 0.0959, 0.0000, 0.5061, 0.2791,\n",
      "         0.0962, 0.0000, 0.0000, 0.0000, 0.0000, 0.0000, 0.0000, 0.0000, 0.0000,\n",
      "         0.0063, 0.3092],\n",
      "        [0.4153, 0.2350, 0.0000, 0.0000, 0.0000, 0.0173, 0.0000, 0.4724, 0.0000,\n",
      "         0.0000, 0.0029, 0.0485, 0.0000, 0.0000, 0.3673, 0.1260, 0.0000, 0.0000,\n",
      "         0.2177, 0.5280]], grad_fn=<ReluBackward0>)\n"
     ]
    }
   ],
   "source": [
    "print(f\"Before ReLU: {hidden1}\\n\\n\")\n",
    "hidden1 = nn.ReLU()(hidden1)\n",
    "print(f\"After ReLU: {hidden1}\")"
   ]
  },
  {
   "cell_type": "code",
   "execution_count": 62,
   "id": "cdba3b89-5094-4449-9882-23cbf201854a",
   "metadata": {},
   "outputs": [],
   "source": [
    "seq_modules = nn.Sequential(\n",
    "    flatten,\n",
    "    layer1,\n",
    "    nn.ReLU(),\n",
    "    nn.Linear(20, 10)\n",
    ")\n",
    "input_image = torch.rand(3,28,28)\n",
    "logits = seq_modules(input_image)"
   ]
  },
  {
   "cell_type": "code",
   "execution_count": 63,
   "id": "66fe58c1-2b0b-4d69-bc01-ccf9e0f22818",
   "metadata": {},
   "outputs": [
    {
     "data": {
      "text/plain": [
       "tensor([1.0000, 1.0000, 1.0000], grad_fn=<SumBackward1>)"
      ]
     },
     "execution_count": 63,
     "metadata": {},
     "output_type": "execute_result"
    }
   ],
   "source": [
    "softmax = nn.Softmax(dim=1)\n",
    "pred_probab = softmax(logits)\n",
    "pred_probab.sum(axis = 1)"
   ]
  },
  {
   "cell_type": "code",
   "execution_count": 64,
   "id": "276359df-4531-4886-8ffb-1572beb66a11",
   "metadata": {},
   "outputs": [
    {
     "name": "stdout",
     "output_type": "stream",
     "text": [
      "Model structure: NeuralNetwork(\n",
      "  (flatten): Flatten(start_dim=1, end_dim=-1)\n",
      "  (linear_relu_stack): Sequential(\n",
      "    (0): Linear(in_features=784, out_features=512, bias=True)\n",
      "    (1): ReLU()\n",
      "    (2): Linear(in_features=512, out_features=512, bias=True)\n",
      "    (3): ReLU()\n",
      "    (4): Linear(in_features=512, out_features=10, bias=True)\n",
      "  )\n",
      ")\n",
      "\n",
      "\n",
      "Layer: linear_relu_stack.0.weight | Size: torch.Size([512, 784]) | Values : tensor([[ 0.0043,  0.0107, -0.0010,  ...,  0.0056,  0.0147, -0.0273],\n",
      "        [-0.0296, -0.0086, -0.0095,  ...,  0.0101,  0.0155,  0.0139]],\n",
      "       grad_fn=<SliceBackward0>) \n",
      "\n",
      "Layer: linear_relu_stack.0.bias | Size: torch.Size([512]) | Values : tensor([-0.0118, -0.0123], grad_fn=<SliceBackward0>) \n",
      "\n",
      "Layer: linear_relu_stack.2.weight | Size: torch.Size([512, 512]) | Values : tensor([[-0.0405, -0.0133, -0.0277,  ...,  0.0410,  0.0068,  0.0108],\n",
      "        [ 0.0103,  0.0323, -0.0132,  ...,  0.0400,  0.0341,  0.0191]],\n",
      "       grad_fn=<SliceBackward0>) \n",
      "\n",
      "Layer: linear_relu_stack.2.bias | Size: torch.Size([512]) | Values : tensor([0.0152, 0.0098], grad_fn=<SliceBackward0>) \n",
      "\n",
      "Layer: linear_relu_stack.4.weight | Size: torch.Size([10, 512]) | Values : tensor([[ 0.0374,  0.0691, -0.0122,  ..., -0.0315, -0.0097,  0.0018],\n",
      "        [ 0.0257,  0.0009,  0.0257,  ..., -0.1017,  0.0353, -0.1572]],\n",
      "       grad_fn=<SliceBackward0>) \n",
      "\n",
      "Layer: linear_relu_stack.4.bias | Size: torch.Size([10]) | Values : tensor([ 0.0170, -0.0180], grad_fn=<SliceBackward0>) \n",
      "\n"
     ]
    }
   ],
   "source": [
    "print(f\"Model structure: {model}\\n\\n\")\n",
    "\n",
    "for name, param in model.named_parameters():\n",
    "    print(f\"Layer: {name} | Size: {param.size()} | Values : {param[:2]} \\n\")"
   ]
  },
  {
   "cell_type": "markdown",
   "id": "2e8c6382-670c-464e-9a25-5b3d264a5e5e",
   "metadata": {},
   "source": [
    "# Automatic Differentiation with torch.autograd"
   ]
  },
  {
   "cell_type": "code",
   "execution_count": 65,
   "id": "fcd6d6b4-a287-4524-9cd1-9276d10760d9",
   "metadata": {},
   "outputs": [],
   "source": [
    "import torch\n",
    "\n",
    "x = torch.ones(5)  # input tensor\n",
    "y = torch.zeros(3)  # expected output\n",
    "w = torch.randn(5, 3, requires_grad=True)\n",
    "b = torch.randn(3, requires_grad=True)\n",
    "z = torch.matmul(x, w)+b\n",
    "loss = torch.nn.functional.binary_cross_entropy_with_logits(z, y)"
   ]
  },
  {
   "cell_type": "code",
   "execution_count": 66,
   "id": "dabd7bba-402e-4934-80bf-2517a96cc029",
   "metadata": {},
   "outputs": [
    {
     "name": "stdout",
     "output_type": "stream",
     "text": [
      "Gradient function for z = <AddBackward0 object at 0x000002A1B34B6FE0>\n",
      "Gradient function for loss = <BinaryCrossEntropyWithLogitsBackward0 object at 0x000002A1C11F6C80>\n"
     ]
    }
   ],
   "source": [
    "print(f\"Gradient function for z = {z.grad_fn}\")\n",
    "print(f\"Gradient function for loss = {loss.grad_fn}\")"
   ]
  },
  {
   "cell_type": "code",
   "execution_count": 67,
   "id": "e4ff48ed-a5b9-41ee-a0cf-02208f5733e6",
   "metadata": {},
   "outputs": [
    {
     "name": "stdout",
     "output_type": "stream",
     "text": [
      "tensor([[0.0081, 0.0102, 0.2156],\n",
      "        [0.0081, 0.0102, 0.2156],\n",
      "        [0.0081, 0.0102, 0.2156],\n",
      "        [0.0081, 0.0102, 0.2156],\n",
      "        [0.0081, 0.0102, 0.2156]])\n",
      "tensor([0.0081, 0.0102, 0.2156])\n"
     ]
    }
   ],
   "source": [
    "loss.backward()\n",
    "print(w.grad)\n",
    "print(b.grad)"
   ]
  },
  {
   "cell_type": "markdown",
   "id": "450f7ed6-907d-4284-bf30-808e867f6135",
   "metadata": {},
   "source": [
    "### NOTE\n",
    "\n",
    "We can only obtain the grad properties for the leaf nodes of the computational graph, \n",
    "which have requires_grad property set to True. For all other nodes in our graph, gradients will not be available.\n",
    "\n",
    "We can only perform gradient calculations using backward once on a given graph,\n",
    "for performance reasons. If we need to do several backward calls on the same graph, we need to pass retain_graph=True to the backward call."
   ]
  },
  {
   "cell_type": "code",
   "execution_count": 68,
   "id": "c08ec7c3-8332-434d-87df-63635989d3ac",
   "metadata": {},
   "outputs": [
    {
     "name": "stdout",
     "output_type": "stream",
     "text": [
      "True\n",
      "False\n"
     ]
    }
   ],
   "source": [
    "z = torch.matmul(x, w)+b\n",
    "print(z.requires_grad)\n",
    "\n",
    "with torch.no_grad():\n",
    "    z = torch.matmul(x, w)+b\n",
    "print(z.requires_grad)"
   ]
  },
  {
   "cell_type": "code",
   "execution_count": 69,
   "id": "91a77dde-c671-4d40-94a9-6dbbf1118ef0",
   "metadata": {},
   "outputs": [
    {
     "name": "stdout",
     "output_type": "stream",
     "text": [
      "False\n"
     ]
    }
   ],
   "source": [
    "z = torch.matmul(x, w)+b\n",
    "z_det = z.detach()\n",
    "print(z_det.requires_grad)"
   ]
  },
  {
   "cell_type": "markdown",
   "id": "3efe38d0-8211-4d65-9f8c-347b3935b75b",
   "metadata": {},
   "source": [
    "There are reasons you might want to disable gradient tracking:\n",
    " - To mark some parameters in your neural network as frozen parameters.\n",
    "\n",
    " - To speed up computations when you are only doing forward pass,\n",
    "because computations on tensors that do not track gradients would be more efficient."
   ]
  },
  {
   "cell_type": "markdown",
   "id": "2af375be-c137-449e-bf29-46bca38e9a2f",
   "metadata": {},
   "source": [
    "NOTE\n",
    "\n",
    " - Previously we were calling backward() function without parameters. This is essentially equivalent to calling backward(torch.tensor(1.0)), \n",
    "which is a useful way to compute the gradients in case of a scalar-valued function,\n",
    "such as loss during neural network training."
   ]
  },
  {
   "cell_type": "code",
   "execution_count": 70,
   "id": "0b633e62-b386-4b6a-a6cc-26c1ee5138d0",
   "metadata": {},
   "outputs": [
    {
     "name": "stdout",
     "output_type": "stream",
     "text": [
      "First call\n",
      "tensor([[4., 2., 2., 2., 2.],\n",
      "        [2., 4., 2., 2., 2.],\n",
      "        [2., 2., 4., 2., 2.],\n",
      "        [2., 2., 2., 4., 2.]])\n",
      "\n",
      "Second call\n",
      "tensor([[8., 4., 4., 4., 4.],\n",
      "        [4., 8., 4., 4., 4.],\n",
      "        [4., 4., 8., 4., 4.],\n",
      "        [4., 4., 4., 8., 4.]])\n",
      "\n",
      "Call after zeroing gradients\n",
      "tensor([[4., 2., 2., 2., 2.],\n",
      "        [2., 4., 2., 2., 2.],\n",
      "        [2., 2., 4., 2., 2.],\n",
      "        [2., 2., 2., 4., 2.]])\n"
     ]
    }
   ],
   "source": [
    "inp = torch.eye(4, 5, requires_grad=True)\n",
    "out = (inp+1).pow(2).t()\n",
    "out.backward(torch.ones_like(out), retain_graph=True)\n",
    "print(f\"First call\\n{inp.grad}\")\n",
    "out.backward(torch.ones_like(out), retain_graph=True)\n",
    "print(f\"\\nSecond call\\n{inp.grad}\")\n",
    "inp.grad.zero_()\n",
    "out.backward(torch.ones_like(out), retain_graph=True)\n",
    "print(f\"\\nCall after zeroing gradients\\n{inp.grad}\")"
   ]
  },
  {
   "cell_type": "markdown",
   "id": "a8c1055e-efe7-49ee-9546-9de85b22f253",
   "metadata": {},
   "source": [
    "# Optimizing Model Parameters"
   ]
  },
  {
   "cell_type": "code",
   "execution_count": 83,
   "id": "3a5c90b7-039c-4296-90c6-08cd97e1e00d",
   "metadata": {},
   "outputs": [],
   "source": [
    "import torch\n",
    "from torch import nn\n",
    "from torch.utils.data import DataLoader\n",
    "from torchvision import datasets\n",
    "from torchvision.transforms import ToTensor\n",
    "\n",
    "training_data = datasets.FashionMNIST(\n",
    "    root=\"data\",\n",
    "    train=True,\n",
    "    download=True,\n",
    "    transform=ToTensor()\n",
    ")\n",
    "\n",
    "test_data = datasets.FashionMNIST(\n",
    "    root=\"data\",\n",
    "    train=False,\n",
    "    download=True,\n",
    "    transform=ToTensor()\n",
    ")\n",
    "\n",
    "train_dataloader = DataLoader(training_data, batch_size=64)\n",
    "test_dataloader = DataLoader(test_data, batch_size=64)\n",
    "\n",
    "class NeuralNetwork(nn.Module):\n",
    "    def __init__(self):\n",
    "        super().__init__()\n",
    "        self.flatten = nn.Flatten()\n",
    "        self.linear_relu_stack = nn.Sequential(\n",
    "            nn.Linear(28*28, 512),\n",
    "            nn.ReLU(),\n",
    "            nn.Linear(512, 512),\n",
    "            nn.ReLU(),\n",
    "            nn.Linear(512, 10),\n",
    "        )\n",
    "\n",
    "    def forward(self, x):\n",
    "        x = self.flatten(x)\n",
    "        logits = self.linear_relu_stack(x)\n",
    "        return logits\n",
    "\n",
    "model = NeuralNetwork()"
   ]
  },
  {
   "cell_type": "markdown",
   "id": "853836d9-59cc-4c8a-9627-f5e7579905a6",
   "metadata": {},
   "source": [
    "### Hyper parameters"
   ]
  },
  {
   "cell_type": "code",
   "execution_count": 87,
   "id": "8447881c-535a-4c7a-b791-f2613d4a927b",
   "metadata": {},
   "outputs": [],
   "source": [
    "learning_rate = 1e-3\n",
    "batch_size = 64\n",
    "epochs = 5 # not used actually\n"
   ]
  },
  {
   "cell_type": "markdown",
   "id": "03c7e43d-d8b1-414e-bfe6-002b3da23a75",
   "metadata": {},
   "source": [
    "### Optimization Loop\n",
    "Each epoch consists of two main parts:\n",
    "\n",
    "\n",
    "The Train Loop - iterate over the training dataset and try to converge to optimal parameters\n",
    "  .\n",
    "\r\n",
    "The Validation/Test Loop - iterate over the test dataset to check if model performance is improving."
   ]
  },
  {
   "cell_type": "markdown",
   "id": "634319b2-3b8f-437d-9453-a4c73a132c28",
   "metadata": {},
   "source": [
    "### Setup Loss function"
   ]
  },
  {
   "cell_type": "code",
   "execution_count": 88,
   "id": "a06f7617-1c88-4f11-b9ae-56c80eca8534",
   "metadata": {},
   "outputs": [],
   "source": [
    "# Initialize the loss function\n",
    "loss_fn = nn.CrossEntropyLoss()"
   ]
  },
  {
   "cell_type": "markdown",
   "id": "62cfd29d-eed6-48e6-b58c-f0dba8063994",
   "metadata": {},
   "source": [
    "### Setup Optimizer"
   ]
  },
  {
   "cell_type": "code",
   "execution_count": 89,
   "id": "5ef6be5d-e356-401e-a686-84dd34a9e94c",
   "metadata": {},
   "outputs": [],
   "source": [
    "optimizer = torch.optim.SGD(model.parameters(), lr=learning_rate)"
   ]
  },
  {
   "cell_type": "markdown",
   "id": "63f1a6a8-bd37-4543-b791-141d03a019aa",
   "metadata": {},
   "source": [
    "Inside the training loop, optimization happens in three steps:\n",
    "1. Call optimizer.zero_grad() to reset the gradients of model parameters. \n",
    "Gradients by default add up; to prevent double-counting, we explicitly zero them at each iteration.\n",
    "\n",
    "2. Backpropagate the prediction loss with a call to loss.backward(). PyTorch deposits the gradients of the loss w.r.t. each parameter.\n",
    "\n",
    "3. Once we have our gradients, we call optimizer.step() to adjust the parameters by the gradients collected in the backward pass."
   ]
  },
  {
   "cell_type": "markdown",
   "id": "95e0af5e-7fae-40d8-83f8-f833edda4f61",
   "metadata": {},
   "source": [
    "### Train loop and test loop full implementation"
   ]
  },
  {
   "cell_type": "code",
   "execution_count": 90,
   "id": "29074c4c-ffc3-422e-b6a4-9522f2b5e402",
   "metadata": {},
   "outputs": [],
   "source": [
    "def train_loop(dataloader, model, loss_fn, optimizer):\n",
    "    size = len(dataloader.dataset)\n",
    "    # Set the model to training mode - important for batch normalization and dropout layers\n",
    "    # Unnecessary in this situation but added for best practices\n",
    "    model.train()\n",
    "    for batch, (X, y) in enumerate(dataloader):\n",
    "        # Compute prediction and loss\n",
    "        pred = model(X)\n",
    "        loss = loss_fn(pred, y)\n",
    "\n",
    "        # Backpropagation\n",
    "        loss.backward()\n",
    "        optimizer.step()\n",
    "        optimizer.zero_grad()\n",
    "\n",
    "        if batch % 100 == 0:\n",
    "            loss, current = loss.item(), batch * batch_size + len(X)\n",
    "            print(f\"loss: {loss:>7f}  [{current:>5d}/{size:>5d}]\")\n",
    "\n",
    "\n",
    "def test_loop(dataloader, model, loss_fn):\n",
    "    # Set the model to evaluation mode - important for batch normalization and dropout layers\n",
    "    # Unnecessary in this situation but added for best practices\n",
    "    model.eval()\n",
    "    size = len(dataloader.dataset)\n",
    "    num_batches = len(dataloader)\n",
    "    test_loss, correct = 0, 0\n",
    "\n",
    "    # Evaluating the model with torch.no_grad() ensures that no gradients are computed during test mode\n",
    "    # also serves to reduce unnecessary gradient computations and memory usage for tensors with requires_grad=True\n",
    "    with torch.no_grad():\n",
    "        for X, y in dataloader:\n",
    "            pred = model(X)\n",
    "            test_loss += loss_fn(pred, y).item()\n",
    "            correct += (pred.argmax(1) == y).type(torch.float).sum().item()\n",
    "\n",
    "    test_loss /= num_batches\n",
    "    correct /= size\n",
    "    print(f\"Test Error: \\n Accuracy: {(100*correct):>0.1f}%, Avg loss: {test_loss:>8f} \\n\")"
   ]
  },
  {
   "cell_type": "markdown",
   "id": "ed9e66d3-3f7d-44f4-af9b-c09bb251947f",
   "metadata": {},
   "source": [
    "### Full learning testing run"
   ]
  },
  {
   "cell_type": "code",
   "execution_count": 91,
   "id": "b09e9acf-0d61-433b-81a0-54d163be9a9c",
   "metadata": {},
   "outputs": [
    {
     "name": "stdout",
     "output_type": "stream",
     "text": [
      "Epoch 1\n",
      "-------------------------------\n",
      "loss: 2.292016  [   64/60000]\n",
      "loss: 2.295952  [ 6464/60000]\n",
      "loss: 2.272824  [12864/60000]\n",
      "loss: 2.274248  [19264/60000]\n",
      "loss: 2.260049  [25664/60000]\n",
      "loss: 2.214980  [32064/60000]\n",
      "loss: 2.236586  [38464/60000]\n",
      "loss: 2.200264  [44864/60000]\n",
      "loss: 2.191515  [51264/60000]\n",
      "loss: 2.160996  [57664/60000]\n",
      "Test Error: \n",
      " Accuracy: 42.3%, Avg loss: 2.164093 \n",
      "\n",
      "Epoch 2\n",
      "-------------------------------\n",
      "loss: 2.169984  [   64/60000]\n",
      "loss: 2.172561  [ 6464/60000]\n",
      "loss: 2.111219  [12864/60000]\n",
      "loss: 2.132084  [19264/60000]\n",
      "loss: 2.089107  [25664/60000]\n",
      "loss: 2.015428  [32064/60000]\n",
      "loss: 2.063778  [38464/60000]\n",
      "loss: 1.982461  [44864/60000]\n",
      "loss: 1.987002  [51264/60000]\n",
      "loss: 1.915203  [57664/60000]\n",
      "Test Error: \n",
      " Accuracy: 58.5%, Avg loss: 1.914706 \n",
      "\n",
      "Epoch 3\n",
      "-------------------------------\n",
      "loss: 1.947199  [   64/60000]\n",
      "loss: 1.928544  [ 6464/60000]\n",
      "loss: 1.801282  [12864/60000]\n",
      "loss: 1.847003  [19264/60000]\n",
      "loss: 1.738319  [25664/60000]\n",
      "loss: 1.677485  [32064/60000]\n",
      "loss: 1.717034  [38464/60000]\n",
      "loss: 1.604493  [44864/60000]\n",
      "loss: 1.632204  [51264/60000]\n",
      "loss: 1.520728  [57664/60000]\n",
      "Test Error: \n",
      " Accuracy: 61.6%, Avg loss: 1.535846 \n",
      "\n",
      "Epoch 4\n",
      "-------------------------------\n",
      "loss: 1.606872  [   64/60000]\n",
      "loss: 1.575106  [ 6464/60000]\n",
      "loss: 1.406838  [12864/60000]\n",
      "loss: 1.486038  [19264/60000]\n",
      "loss: 1.359090  [25664/60000]\n",
      "loss: 1.351643  [32064/60000]\n",
      "loss: 1.371812  [38464/60000]\n",
      "loss: 1.287315  [44864/60000]\n",
      "loss: 1.324336  [51264/60000]\n",
      "loss: 1.217532  [57664/60000]\n",
      "Test Error: \n",
      " Accuracy: 63.4%, Avg loss: 1.248601 \n",
      "\n",
      "Epoch 5\n",
      "-------------------------------\n",
      "loss: 1.331798  [   64/60000]\n",
      "loss: 1.317037  [ 6464/60000]\n",
      "loss: 1.134894  [12864/60000]\n",
      "loss: 1.248500  [19264/60000]\n",
      "loss: 1.121269  [25664/60000]\n",
      "loss: 1.146171  [32064/60000]\n",
      "loss: 1.167045  [38464/60000]\n",
      "loss: 1.101727  [44864/60000]\n",
      "loss: 1.139064  [51264/60000]\n",
      "loss: 1.051451  [57664/60000]\n",
      "Test Error: \n",
      " Accuracy: 64.7%, Avg loss: 1.079491 \n",
      "\n",
      "Epoch 6\n",
      "-------------------------------\n",
      "loss: 1.153907  [   64/60000]\n",
      "loss: 1.161226  [ 6464/60000]\n",
      "loss: 0.964314  [12864/60000]\n",
      "loss: 1.108501  [19264/60000]\n",
      "loss: 0.985428  [25664/60000]\n",
      "loss: 1.014585  [32064/60000]\n",
      "loss: 1.048578  [38464/60000]\n",
      "loss: 0.990641  [44864/60000]\n",
      "loss: 1.025030  [51264/60000]\n",
      "loss: 0.952828  [57664/60000]\n",
      "Test Error: \n",
      " Accuracy: 65.6%, Avg loss: 0.975065 \n",
      "\n",
      "Epoch 7\n",
      "-------------------------------\n",
      "loss: 1.034651  [   64/60000]\n",
      "loss: 1.063047  [ 6464/60000]\n",
      "loss: 0.851157  [12864/60000]\n",
      "loss: 1.018588  [19264/60000]\n",
      "loss: 0.903909  [25664/60000]\n",
      "loss: 0.923379  [32064/60000]\n",
      "loss: 0.973364  [38464/60000]\n",
      "loss: 0.920579  [44864/60000]\n",
      "loss: 0.948358  [51264/60000]\n",
      "loss: 0.887494  [57664/60000]\n",
      "Test Error: \n",
      " Accuracy: 67.0%, Avg loss: 0.904914 \n",
      "\n",
      "Epoch 8\n",
      "-------------------------------\n",
      "loss: 0.947995  [   64/60000]\n",
      "loss: 0.995260  [ 6464/60000]\n",
      "loss: 0.771210  [12864/60000]\n",
      "loss: 0.955739  [19264/60000]\n",
      "loss: 0.850017  [25664/60000]\n",
      "loss: 0.856810  [32064/60000]\n",
      "loss: 0.920770  [38464/60000]\n",
      "loss: 0.874202  [44864/60000]\n",
      "loss: 0.893606  [51264/60000]\n",
      "loss: 0.840144  [57664/60000]\n",
      "Test Error: \n",
      " Accuracy: 68.0%, Avg loss: 0.854352 \n",
      "\n",
      "Epoch 9\n",
      "-------------------------------\n",
      "loss: 0.881373  [   64/60000]\n",
      "loss: 0.944438  [ 6464/60000]\n",
      "loss: 0.711931  [12864/60000]\n",
      "loss: 0.908927  [19264/60000]\n",
      "loss: 0.811592  [25664/60000]\n",
      "loss: 0.806731  [32064/60000]\n",
      "loss: 0.880926  [38464/60000]\n",
      "loss: 0.841875  [44864/60000]\n",
      "loss: 0.852602  [51264/60000]\n",
      "loss: 0.803627  [57664/60000]\n",
      "Test Error: \n",
      " Accuracy: 69.2%, Avg loss: 0.815983 \n",
      "\n",
      "Epoch 10\n",
      "-------------------------------\n",
      "loss: 0.828425  [   64/60000]\n",
      "loss: 0.903553  [ 6464/60000]\n",
      "loss: 0.666186  [12864/60000]\n",
      "loss: 0.872598  [19264/60000]\n",
      "loss: 0.782301  [25664/60000]\n",
      "loss: 0.768442  [32064/60000]\n",
      "loss: 0.848587  [38464/60000]\n",
      "loss: 0.818004  [44864/60000]\n",
      "loss: 0.820741  [51264/60000]\n",
      "loss: 0.774144  [57664/60000]\n",
      "Test Error: \n",
      " Accuracy: 70.5%, Avg loss: 0.785400 \n",
      "\n",
      "Epoch 11\n",
      "-------------------------------\n",
      "loss: 0.784861  [   64/60000]\n",
      "loss: 0.868907  [ 6464/60000]\n",
      "loss: 0.629467  [12864/60000]\n",
      "loss: 0.843340  [19264/60000]\n",
      "loss: 0.758513  [25664/60000]\n",
      "loss: 0.738455  [32064/60000]\n",
      "loss: 0.821005  [38464/60000]\n",
      "loss: 0.799179  [44864/60000]\n",
      "loss: 0.794928  [51264/60000]\n",
      "loss: 0.749206  [57664/60000]\n",
      "Test Error: \n",
      " Accuracy: 71.9%, Avg loss: 0.759921 \n",
      "\n",
      "Epoch 12\n",
      "-------------------------------\n",
      "loss: 0.747906  [   64/60000]\n",
      "loss: 0.838431  [ 6464/60000]\n",
      "loss: 0.599077  [12864/60000]\n",
      "loss: 0.818950  [19264/60000]\n",
      "loss: 0.738349  [25664/60000]\n",
      "loss: 0.714411  [32064/60000]\n",
      "loss: 0.796498  [38464/60000]\n",
      "loss: 0.783396  [44864/60000]\n",
      "loss: 0.773438  [51264/60000]\n",
      "loss: 0.727674  [57664/60000]\n",
      "Test Error: \n",
      " Accuracy: 73.2%, Avg loss: 0.737915 \n",
      "\n",
      "Epoch 13\n",
      "-------------------------------\n",
      "loss: 0.715761  [   64/60000]\n",
      "loss: 0.811147  [ 6464/60000]\n",
      "loss: 0.573247  [12864/60000]\n",
      "loss: 0.798011  [19264/60000]\n",
      "loss: 0.720917  [25664/60000]\n",
      "loss: 0.694542  [32064/60000]\n",
      "loss: 0.774073  [38464/60000]\n",
      "loss: 0.769457  [44864/60000]\n",
      "loss: 0.755116  [51264/60000]\n",
      "loss: 0.708514  [57664/60000]\n",
      "Test Error: \n",
      " Accuracy: 74.0%, Avg loss: 0.718378 \n",
      "\n",
      "Epoch 14\n",
      "-------------------------------\n",
      "loss: 0.687150  [   64/60000]\n",
      "loss: 0.786294  [ 6464/60000]\n",
      "loss: 0.550808  [12864/60000]\n",
      "loss: 0.779667  [19264/60000]\n",
      "loss: 0.705539  [25664/60000]\n",
      "loss: 0.677835  [32064/60000]\n",
      "loss: 0.753198  [38464/60000]\n",
      "loss: 0.756696  [44864/60000]\n",
      "loss: 0.739051  [51264/60000]\n",
      "loss: 0.691013  [57664/60000]\n",
      "Test Error: \n",
      " Accuracy: 74.9%, Avg loss: 0.700672 \n",
      "\n",
      "Epoch 15\n",
      "-------------------------------\n",
      "loss: 0.661496  [   64/60000]\n",
      "loss: 0.763481  [ 6464/60000]\n",
      "loss: 0.530909  [12864/60000]\n",
      "loss: 0.763295  [19264/60000]\n",
      "loss: 0.691617  [25664/60000]\n",
      "loss: 0.663469  [32064/60000]\n",
      "loss: 0.733472  [38464/60000]\n",
      "loss: 0.745086  [44864/60000]\n",
      "loss: 0.724639  [51264/60000]\n",
      "loss: 0.674924  [57664/60000]\n",
      "Test Error: \n",
      " Accuracy: 75.8%, Avg loss: 0.684420 \n",
      "\n",
      "Epoch 16\n",
      "-------------------------------\n",
      "loss: 0.638363  [   64/60000]\n",
      "loss: 0.742547  [ 6464/60000]\n",
      "loss: 0.513143  [12864/60000]\n",
      "loss: 0.748306  [19264/60000]\n",
      "loss: 0.678862  [25664/60000]\n",
      "loss: 0.650872  [32064/60000]\n",
      "loss: 0.714845  [38464/60000]\n",
      "loss: 0.734341  [44864/60000]\n",
      "loss: 0.711865  [51264/60000]\n",
      "loss: 0.659990  [57664/60000]\n",
      "Test Error: \n",
      " Accuracy: 76.5%, Avg loss: 0.669462 \n",
      "\n",
      "Epoch 17\n",
      "-------------------------------\n",
      "loss: 0.617260  [   64/60000]\n",
      "loss: 0.723297  [ 6464/60000]\n",
      "loss: 0.497256  [12864/60000]\n",
      "loss: 0.734531  [19264/60000]\n",
      "loss: 0.667363  [25664/60000]\n",
      "loss: 0.639728  [32064/60000]\n",
      "loss: 0.697441  [38464/60000]\n",
      "loss: 0.724607  [44864/60000]\n",
      "loss: 0.700726  [51264/60000]\n",
      "loss: 0.646074  [57664/60000]\n",
      "Test Error: \n",
      " Accuracy: 77.1%, Avg loss: 0.655698 \n",
      "\n",
      "Epoch 18\n",
      "-------------------------------\n",
      "loss: 0.598168  [   64/60000]\n",
      "loss: 0.705572  [ 6464/60000]\n",
      "loss: 0.482858  [12864/60000]\n",
      "loss: 0.721807  [19264/60000]\n",
      "loss: 0.657040  [25664/60000]\n",
      "loss: 0.629934  [32064/60000]\n",
      "loss: 0.681193  [38464/60000]\n",
      "loss: 0.715958  [44864/60000]\n",
      "loss: 0.690983  [51264/60000]\n",
      "loss: 0.633191  [57664/60000]\n",
      "Test Error: \n",
      " Accuracy: 77.8%, Avg loss: 0.643013 \n",
      "\n",
      "Epoch 19\n",
      "-------------------------------\n",
      "loss: 0.580821  [   64/60000]\n",
      "loss: 0.689326  [ 6464/60000]\n",
      "loss: 0.469713  [12864/60000]\n",
      "loss: 0.710042  [19264/60000]\n",
      "loss: 0.647700  [25664/60000]\n",
      "loss: 0.621182  [32064/60000]\n",
      "loss: 0.666062  [38464/60000]\n",
      "loss: 0.708280  [44864/60000]\n",
      "loss: 0.682513  [51264/60000]\n",
      "loss: 0.621182  [57664/60000]\n",
      "Test Error: \n",
      " Accuracy: 78.2%, Avg loss: 0.631326 \n",
      "\n",
      "Epoch 20\n",
      "-------------------------------\n",
      "loss: 0.565021  [   64/60000]\n",
      "loss: 0.674381  [ 6464/60000]\n",
      "loss: 0.457692  [12864/60000]\n",
      "loss: 0.699072  [19264/60000]\n",
      "loss: 0.639226  [25664/60000]\n",
      "loss: 0.613330  [32064/60000]\n",
      "loss: 0.652055  [38464/60000]\n",
      "loss: 0.701610  [44864/60000]\n",
      "loss: 0.675188  [51264/60000]\n",
      "loss: 0.609902  [57664/60000]\n",
      "Test Error: \n",
      " Accuracy: 78.6%, Avg loss: 0.620574 \n",
      "\n",
      "Epoch 21\n",
      "-------------------------------\n",
      "loss: 0.550610  [   64/60000]\n",
      "loss: 0.660642  [ 6464/60000]\n",
      "loss: 0.446736  [12864/60000]\n",
      "loss: 0.688871  [19264/60000]\n",
      "loss: 0.631361  [25664/60000]\n",
      "loss: 0.606211  [32064/60000]\n",
      "loss: 0.639071  [38464/60000]\n",
      "loss: 0.695952  [44864/60000]\n",
      "loss: 0.668880  [51264/60000]\n",
      "loss: 0.599278  [57664/60000]\n",
      "Test Error: \n",
      " Accuracy: 79.0%, Avg loss: 0.610678 \n",
      "\n",
      "Epoch 22\n",
      "-------------------------------\n",
      "loss: 0.537349  [   64/60000]\n",
      "loss: 0.648003  [ 6464/60000]\n",
      "loss: 0.436684  [12864/60000]\n",
      "loss: 0.679322  [19264/60000]\n",
      "loss: 0.623969  [25664/60000]\n",
      "loss: 0.599674  [32064/60000]\n",
      "loss: 0.627052  [38464/60000]\n",
      "loss: 0.691310  [44864/60000]\n",
      "loss: 0.663523  [51264/60000]\n",
      "loss: 0.589204  [57664/60000]\n",
      "Test Error: \n",
      " Accuracy: 79.1%, Avg loss: 0.601562 \n",
      "\n",
      "Epoch 23\n",
      "-------------------------------\n",
      "loss: 0.525153  [   64/60000]\n",
      "loss: 0.636389  [ 6464/60000]\n",
      "loss: 0.427425  [12864/60000]\n",
      "loss: 0.670379  [19264/60000]\n",
      "loss: 0.616935  [25664/60000]\n",
      "loss: 0.593699  [32064/60000]\n",
      "loss: 0.615926  [38464/60000]\n",
      "loss: 0.687573  [44864/60000]\n",
      "loss: 0.658979  [51264/60000]\n",
      "loss: 0.579585  [57664/60000]\n",
      "Test Error: \n",
      " Accuracy: 79.5%, Avg loss: 0.593152 \n",
      "\n",
      "Epoch 24\n",
      "-------------------------------\n",
      "loss: 0.513873  [   64/60000]\n",
      "loss: 0.625680  [ 6464/60000]\n",
      "loss: 0.418877  [12864/60000]\n",
      "loss: 0.661905  [19264/60000]\n",
      "loss: 0.610176  [25664/60000]\n",
      "loss: 0.588140  [32064/60000]\n",
      "loss: 0.605651  [38464/60000]\n",
      "loss: 0.684570  [44864/60000]\n",
      "loss: 0.655162  [51264/60000]\n",
      "loss: 0.570383  [57664/60000]\n",
      "Test Error: \n",
      " Accuracy: 79.8%, Avg loss: 0.585388 \n",
      "\n",
      "Epoch 25\n",
      "-------------------------------\n",
      "loss: 0.503347  [   64/60000]\n",
      "loss: 0.615768  [ 6464/60000]\n",
      "loss: 0.410960  [12864/60000]\n",
      "loss: 0.653896  [19264/60000]\n",
      "loss: 0.603593  [25664/60000]\n",
      "loss: 0.582946  [32064/60000]\n",
      "loss: 0.596178  [38464/60000]\n",
      "loss: 0.682250  [44864/60000]\n",
      "loss: 0.651923  [51264/60000]\n",
      "loss: 0.561485  [57664/60000]\n",
      "Test Error: \n",
      " Accuracy: 80.0%, Avg loss: 0.578200 \n",
      "\n",
      "Epoch 26\n",
      "-------------------------------\n",
      "loss: 0.493504  [   64/60000]\n",
      "loss: 0.606598  [ 6464/60000]\n",
      "loss: 0.403635  [12864/60000]\n",
      "loss: 0.646332  [19264/60000]\n",
      "loss: 0.597155  [25664/60000]\n",
      "loss: 0.578045  [32064/60000]\n",
      "loss: 0.587395  [38464/60000]\n",
      "loss: 0.680610  [44864/60000]\n",
      "loss: 0.649120  [51264/60000]\n",
      "loss: 0.552958  [57664/60000]\n",
      "Test Error: \n",
      " Accuracy: 80.3%, Avg loss: 0.571538 \n",
      "\n",
      "Epoch 27\n",
      "-------------------------------\n",
      "loss: 0.484266  [   64/60000]\n",
      "loss: 0.598105  [ 6464/60000]\n",
      "loss: 0.396782  [12864/60000]\n",
      "loss: 0.639151  [19264/60000]\n",
      "loss: 0.590780  [25664/60000]\n",
      "loss: 0.573317  [32064/60000]\n",
      "loss: 0.579328  [38464/60000]\n",
      "loss: 0.679483  [44864/60000]\n",
      "loss: 0.646705  [51264/60000]\n",
      "loss: 0.544720  [57664/60000]\n",
      "Test Error: \n",
      " Accuracy: 80.5%, Avg loss: 0.565348 \n",
      "\n",
      "Epoch 28\n",
      "-------------------------------\n",
      "loss: 0.475616  [   64/60000]\n",
      "loss: 0.590230  [ 6464/60000]\n",
      "loss: 0.390384  [12864/60000]\n",
      "loss: 0.632321  [19264/60000]\n",
      "loss: 0.584518  [25664/60000]\n",
      "loss: 0.568639  [32064/60000]\n",
      "loss: 0.571933  [38464/60000]\n",
      "loss: 0.678843  [44864/60000]\n",
      "loss: 0.644614  [51264/60000]\n",
      "loss: 0.536745  [57664/60000]\n",
      "Test Error: \n",
      " Accuracy: 80.7%, Avg loss: 0.559587 \n",
      "\n",
      "Epoch 29\n",
      "-------------------------------\n",
      "loss: 0.467470  [   64/60000]\n",
      "loss: 0.582967  [ 6464/60000]\n",
      "loss: 0.384388  [12864/60000]\n",
      "loss: 0.625819  [19264/60000]\n",
      "loss: 0.578361  [25664/60000]\n",
      "loss: 0.563967  [32064/60000]\n",
      "loss: 0.565136  [38464/60000]\n",
      "loss: 0.678521  [44864/60000]\n",
      "loss: 0.642757  [51264/60000]\n",
      "loss: 0.529067  [57664/60000]\n",
      "Test Error: \n",
      " Accuracy: 80.7%, Avg loss: 0.554220 \n",
      "\n",
      "Epoch 30\n",
      "-------------------------------\n",
      "loss: 0.459818  [   64/60000]\n",
      "loss: 0.576267  [ 6464/60000]\n",
      "loss: 0.378799  [12864/60000]\n",
      "loss: 0.619594  [19264/60000]\n",
      "loss: 0.572352  [25664/60000]\n",
      "loss: 0.559424  [32064/60000]\n",
      "loss: 0.558836  [38464/60000]\n",
      "loss: 0.678497  [44864/60000]\n",
      "loss: 0.641075  [51264/60000]\n",
      "loss: 0.521647  [57664/60000]\n",
      "Test Error: \n",
      " Accuracy: 80.9%, Avg loss: 0.549210 \n",
      "\n",
      "Epoch 31\n",
      "-------------------------------\n",
      "loss: 0.452500  [   64/60000]\n",
      "loss: 0.570087  [ 6464/60000]\n",
      "loss: 0.373585  [12864/60000]\n",
      "loss: 0.613608  [19264/60000]\n",
      "loss: 0.566410  [25664/60000]\n",
      "loss: 0.554920  [32064/60000]\n",
      "loss: 0.553007  [38464/60000]\n",
      "loss: 0.678637  [44864/60000]\n",
      "loss: 0.639476  [51264/60000]\n",
      "loss: 0.514530  [57664/60000]\n",
      "Test Error: \n",
      " Accuracy: 81.1%, Avg loss: 0.544518 \n",
      "\n",
      "Epoch 32\n",
      "-------------------------------\n",
      "loss: 0.445595  [   64/60000]\n",
      "loss: 0.564368  [ 6464/60000]\n",
      "loss: 0.368676  [12864/60000]\n",
      "loss: 0.607897  [19264/60000]\n",
      "loss: 0.560550  [25664/60000]\n",
      "loss: 0.550459  [32064/60000]\n",
      "loss: 0.547612  [38464/60000]\n",
      "loss: 0.678906  [44864/60000]\n",
      "loss: 0.637906  [51264/60000]\n",
      "loss: 0.507670  [57664/60000]\n",
      "Test Error: \n",
      " Accuracy: 81.2%, Avg loss: 0.540115 \n",
      "\n",
      "Epoch 33\n",
      "-------------------------------\n",
      "loss: 0.439026  [   64/60000]\n",
      "loss: 0.559063  [ 6464/60000]\n",
      "loss: 0.364061  [12864/60000]\n",
      "loss: 0.602356  [19264/60000]\n",
      "loss: 0.554788  [25664/60000]\n",
      "loss: 0.546043  [32064/60000]\n",
      "loss: 0.542565  [38464/60000]\n",
      "loss: 0.679245  [44864/60000]\n",
      "loss: 0.636389  [51264/60000]\n",
      "loss: 0.501052  [57664/60000]\n",
      "Test Error: \n",
      " Accuracy: 81.4%, Avg loss: 0.535975 \n",
      "\n",
      "Epoch 34\n",
      "-------------------------------\n",
      "loss: 0.432819  [   64/60000]\n",
      "loss: 0.554135  [ 6464/60000]\n",
      "loss: 0.359731  [12864/60000]\n",
      "loss: 0.597021  [19264/60000]\n",
      "loss: 0.549098  [25664/60000]\n",
      "loss: 0.541722  [32064/60000]\n",
      "loss: 0.537828  [38464/60000]\n",
      "loss: 0.679625  [44864/60000]\n",
      "loss: 0.634832  [51264/60000]\n",
      "loss: 0.494719  [57664/60000]\n",
      "Test Error: \n",
      " Accuracy: 81.3%, Avg loss: 0.532077 \n",
      "\n",
      "Epoch 35\n",
      "-------------------------------\n",
      "loss: 0.426838  [   64/60000]\n",
      "loss: 0.549527  [ 6464/60000]\n",
      "loss: 0.355593  [12864/60000]\n",
      "loss: 0.591939  [19264/60000]\n",
      "loss: 0.543489  [25664/60000]\n",
      "loss: 0.537472  [32064/60000]\n",
      "loss: 0.533386  [38464/60000]\n",
      "loss: 0.680030  [44864/60000]\n",
      "loss: 0.633327  [51264/60000]\n",
      "loss: 0.488589  [57664/60000]\n",
      "Test Error: \n",
      " Accuracy: 81.4%, Avg loss: 0.528398 \n",
      "\n",
      "Epoch 36\n",
      "-------------------------------\n",
      "loss: 0.421107  [   64/60000]\n",
      "loss: 0.545219  [ 6464/60000]\n",
      "loss: 0.351735  [12864/60000]\n",
      "loss: 0.587054  [19264/60000]\n",
      "loss: 0.537977  [25664/60000]\n",
      "loss: 0.533279  [32064/60000]\n",
      "loss: 0.529170  [38464/60000]\n",
      "loss: 0.680389  [44864/60000]\n",
      "loss: 0.631857  [51264/60000]\n",
      "loss: 0.482688  [57664/60000]\n",
      "Test Error: \n",
      " Accuracy: 81.5%, Avg loss: 0.524916 \n",
      "\n",
      "Epoch 37\n",
      "-------------------------------\n",
      "loss: 0.415633  [   64/60000]\n",
      "loss: 0.541175  [ 6464/60000]\n",
      "loss: 0.348140  [12864/60000]\n",
      "loss: 0.582348  [19264/60000]\n",
      "loss: 0.532567  [25664/60000]\n",
      "loss: 0.529084  [32064/60000]\n",
      "loss: 0.525180  [38464/60000]\n",
      "loss: 0.680665  [44864/60000]\n",
      "loss: 0.630325  [51264/60000]\n",
      "loss: 0.477017  [57664/60000]\n",
      "Test Error: \n",
      " Accuracy: 81.6%, Avg loss: 0.521620 \n",
      "\n",
      "Epoch 38\n",
      "-------------------------------\n",
      "loss: 0.410338  [   64/60000]\n",
      "loss: 0.537384  [ 6464/60000]\n",
      "loss: 0.344715  [12864/60000]\n",
      "loss: 0.577769  [19264/60000]\n",
      "loss: 0.527283  [25664/60000]\n",
      "loss: 0.524955  [32064/60000]\n",
      "loss: 0.521392  [38464/60000]\n",
      "loss: 0.680814  [44864/60000]\n",
      "loss: 0.628757  [51264/60000]\n",
      "loss: 0.471571  [57664/60000]\n",
      "Test Error: \n",
      " Accuracy: 81.7%, Avg loss: 0.518493 \n",
      "\n",
      "Epoch 39\n",
      "-------------------------------\n",
      "loss: 0.405260  [   64/60000]\n",
      "loss: 0.533839  [ 6464/60000]\n",
      "loss: 0.341456  [12864/60000]\n",
      "loss: 0.573374  [19264/60000]\n",
      "loss: 0.522083  [25664/60000]\n",
      "loss: 0.520966  [32064/60000]\n",
      "loss: 0.517807  [38464/60000]\n",
      "loss: 0.680871  [44864/60000]\n",
      "loss: 0.627188  [51264/60000]\n",
      "loss: 0.466377  [57664/60000]\n",
      "Test Error: \n",
      " Accuracy: 81.8%, Avg loss: 0.515523 \n",
      "\n",
      "Epoch 40\n",
      "-------------------------------\n",
      "loss: 0.400348  [   64/60000]\n",
      "loss: 0.530508  [ 6464/60000]\n",
      "loss: 0.338367  [12864/60000]\n",
      "loss: 0.569122  [19264/60000]\n",
      "loss: 0.517005  [25664/60000]\n",
      "loss: 0.517021  [32064/60000]\n",
      "loss: 0.514400  [38464/60000]\n",
      "loss: 0.680788  [44864/60000]\n",
      "loss: 0.625594  [51264/60000]\n",
      "loss: 0.461476  [57664/60000]\n",
      "Test Error: \n",
      " Accuracy: 81.9%, Avg loss: 0.512696 \n",
      "\n",
      "Done!\n"
     ]
    }
   ],
   "source": [
    "loss_fn = nn.CrossEntropyLoss()\n",
    "optimizer = torch.optim.SGD(model.parameters(), lr=learning_rate)\n",
    "\n",
    "epochs = 40\n",
    "for t in range(epochs):\n",
    "    print(f\"Epoch {t+1}\\n-------------------------------\")\n",
    "    train_loop(train_dataloader, model, loss_fn, optimizer)\n",
    "    test_loop(test_dataloader, model, loss_fn)\n",
    "print(\"Done!\")"
   ]
  },
  {
   "cell_type": "markdown",
   "id": "c7385127-d091-45f2-bb9a-acc72436e673",
   "metadata": {},
   "source": [
    "# Save and load model"
   ]
  },
  {
   "cell_type": "code",
   "execution_count": 77,
   "id": "fa92163a-c575-4db0-b636-c315fcb64fae",
   "metadata": {},
   "outputs": [],
   "source": [
    "import torch\n",
    "import torchvision.models as models"
   ]
  },
  {
   "cell_type": "code",
   "execution_count": 78,
   "id": "23e5f20a-2674-4603-aa50-1c9101039502",
   "metadata": {},
   "outputs": [
    {
     "name": "stderr",
     "output_type": "stream",
     "text": [
      "Downloading: \"https://download.pytorch.org/models/vgg16-397923af.pth\" to C:\\Users\\kingh/.cache\\torch\\hub\\checkpoints\\vgg16-397923af.pth\n",
      "100.0%\n"
     ]
    }
   ],
   "source": [
    "model = models.vgg16(weights='IMAGENET1K_V1')\n",
    "torch.save(model.state_dict(), 'model_weights.pth')"
   ]
  },
  {
   "cell_type": "code",
   "execution_count": 79,
   "id": "90bc18fe-c28f-4323-9de3-eb03b59eb3aa",
   "metadata": {},
   "outputs": [
    {
     "data": {
      "text/plain": [
       "VGG(\n",
       "  (features): Sequential(\n",
       "    (0): Conv2d(3, 64, kernel_size=(3, 3), stride=(1, 1), padding=(1, 1))\n",
       "    (1): ReLU(inplace=True)\n",
       "    (2): Conv2d(64, 64, kernel_size=(3, 3), stride=(1, 1), padding=(1, 1))\n",
       "    (3): ReLU(inplace=True)\n",
       "    (4): MaxPool2d(kernel_size=2, stride=2, padding=0, dilation=1, ceil_mode=False)\n",
       "    (5): Conv2d(64, 128, kernel_size=(3, 3), stride=(1, 1), padding=(1, 1))\n",
       "    (6): ReLU(inplace=True)\n",
       "    (7): Conv2d(128, 128, kernel_size=(3, 3), stride=(1, 1), padding=(1, 1))\n",
       "    (8): ReLU(inplace=True)\n",
       "    (9): MaxPool2d(kernel_size=2, stride=2, padding=0, dilation=1, ceil_mode=False)\n",
       "    (10): Conv2d(128, 256, kernel_size=(3, 3), stride=(1, 1), padding=(1, 1))\n",
       "    (11): ReLU(inplace=True)\n",
       "    (12): Conv2d(256, 256, kernel_size=(3, 3), stride=(1, 1), padding=(1, 1))\n",
       "    (13): ReLU(inplace=True)\n",
       "    (14): Conv2d(256, 256, kernel_size=(3, 3), stride=(1, 1), padding=(1, 1))\n",
       "    (15): ReLU(inplace=True)\n",
       "    (16): MaxPool2d(kernel_size=2, stride=2, padding=0, dilation=1, ceil_mode=False)\n",
       "    (17): Conv2d(256, 512, kernel_size=(3, 3), stride=(1, 1), padding=(1, 1))\n",
       "    (18): ReLU(inplace=True)\n",
       "    (19): Conv2d(512, 512, kernel_size=(3, 3), stride=(1, 1), padding=(1, 1))\n",
       "    (20): ReLU(inplace=True)\n",
       "    (21): Conv2d(512, 512, kernel_size=(3, 3), stride=(1, 1), padding=(1, 1))\n",
       "    (22): ReLU(inplace=True)\n",
       "    (23): MaxPool2d(kernel_size=2, stride=2, padding=0, dilation=1, ceil_mode=False)\n",
       "    (24): Conv2d(512, 512, kernel_size=(3, 3), stride=(1, 1), padding=(1, 1))\n",
       "    (25): ReLU(inplace=True)\n",
       "    (26): Conv2d(512, 512, kernel_size=(3, 3), stride=(1, 1), padding=(1, 1))\n",
       "    (27): ReLU(inplace=True)\n",
       "    (28): Conv2d(512, 512, kernel_size=(3, 3), stride=(1, 1), padding=(1, 1))\n",
       "    (29): ReLU(inplace=True)\n",
       "    (30): MaxPool2d(kernel_size=2, stride=2, padding=0, dilation=1, ceil_mode=False)\n",
       "  )\n",
       "  (avgpool): AdaptiveAvgPool2d(output_size=(7, 7))\n",
       "  (classifier): Sequential(\n",
       "    (0): Linear(in_features=25088, out_features=4096, bias=True)\n",
       "    (1): ReLU(inplace=True)\n",
       "    (2): Dropout(p=0.5, inplace=False)\n",
       "    (3): Linear(in_features=4096, out_features=4096, bias=True)\n",
       "    (4): ReLU(inplace=True)\n",
       "    (5): Dropout(p=0.5, inplace=False)\n",
       "    (6): Linear(in_features=4096, out_features=1000, bias=True)\n",
       "  )\n",
       ")"
      ]
     },
     "execution_count": 79,
     "metadata": {},
     "output_type": "execute_result"
    }
   ],
   "source": [
    "model = models.vgg16() # we do not specify ``weights``, i.e. create untrained model\n",
    "model.load_state_dict(torch.load('model_weights.pth'))\n",
    "model.eval()"
   ]
  },
  {
   "cell_type": "code",
   "execution_count": 80,
   "id": "0cd01a7e-8871-4e7b-ac11-192d48a0c9f2",
   "metadata": {},
   "outputs": [],
   "source": [
    "torch.save(model, \"Trained_models/toy_model_to_save\")"
   ]
  },
  {
   "cell_type": "code",
   "execution_count": 81,
   "id": "e62f8882-2997-4fdc-93a9-86d7a15b65d6",
   "metadata": {},
   "outputs": [],
   "source": [
    "model = torch.load(\"Trained_models/toy_model_to_save\")"
   ]
  },
  {
   "cell_type": "code",
   "execution_count": null,
   "id": "2a0082f3-b1f0-4b8e-9dcb-652403129553",
   "metadata": {},
   "outputs": [],
   "source": []
  }
 ],
 "metadata": {
  "kernelspec": {
   "display_name": "Python 3 (ipykernel)",
   "language": "python",
   "name": "python3"
  },
  "language_info": {
   "codemirror_mode": {
    "name": "ipython",
    "version": 3
   },
   "file_extension": ".py",
   "mimetype": "text/x-python",
   "name": "python",
   "nbconvert_exporter": "python",
   "pygments_lexer": "ipython3",
   "version": "3.12.3"
  }
 },
 "nbformat": 4,
 "nbformat_minor": 5
}
