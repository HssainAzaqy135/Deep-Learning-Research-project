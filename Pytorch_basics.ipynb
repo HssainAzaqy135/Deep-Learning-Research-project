{
 "cells": [
  {
   "cell_type": "markdown",
   "id": "e8c855b0-c373-451a-a0ef-343967639f2c",
   "metadata": {},
   "source": [
    "#  - - - - - - - - - - - - - - Quickstart - - - - - - - - - - - - - -"
   ]
  },
  {
   "cell_type": "code",
   "execution_count": 1,
   "id": "362d6dd5-cd76-4d8f-b41c-682ef40878b8",
   "metadata": {},
   "outputs": [],
   "source": [
    "import torch\n",
    "from torch import nn\n",
    "from torch.utils.data import DataLoader\n",
    "from torchvision import datasets\n",
    "from torchvision.transforms import ToTensor"
   ]
  },
  {
   "cell_type": "code",
   "execution_count": 2,
   "id": "40f463fe-eb03-4142-a54c-51588a0acc64",
   "metadata": {},
   "outputs": [],
   "source": [
    "# Download training data from open datasets.\n",
    "training_data = datasets.FashionMNIST(\n",
    "    root=\"data\",\n",
    "    train=True,\n",
    "    download=True,\n",
    "    transform=ToTensor(),\n",
    ")\n",
    "\n",
    "# Download test data from open datasets.\n",
    "test_data = datasets.FashionMNIST(\n",
    "    root=\"data\",\n",
    "    train=False,\n",
    "    download=True,\n",
    "    transform=ToTensor(),\n",
    ")"
   ]
  },
  {
   "cell_type": "code",
   "execution_count": 3,
   "id": "c00bc66f-2836-45fe-910e-906e6795474a",
   "metadata": {},
   "outputs": [
    {
     "name": "stdout",
     "output_type": "stream",
     "text": [
      "Shape of X [N, C, H, W]: torch.Size([64, 1, 28, 28])\n",
      "Shape of y: torch.Size([64]) torch.int64\n"
     ]
    }
   ],
   "source": [
    "batch_size = 64\n",
    "\n",
    "# Create data loaders.\n",
    "train_dataloader = DataLoader(training_data, batch_size=batch_size)\n",
    "test_dataloader = DataLoader(test_data, batch_size=batch_size)\n",
    "\n",
    "for X, y in test_dataloader:\n",
    "    print(f\"Shape of X [N, C, H, W]: {X.shape}\")\n",
    "    print(f\"Shape of y: {y.shape} {y.dtype}\")\n",
    "    break"
   ]
  },
  {
   "cell_type": "code",
   "execution_count": 4,
   "id": "b0505d6a-9ba3-4a29-89e7-7ea529597530",
   "metadata": {},
   "outputs": [
    {
     "name": "stdout",
     "output_type": "stream",
     "text": [
      "Using cuda device\n"
     ]
    }
   ],
   "source": [
    "# Get cpu, gpu or mps device for training.\n",
    "device = (\n",
    "    \"cuda\"\n",
    "    if torch.cuda.is_available()\n",
    "    else \"mps\"\n",
    "    if torch.backends.mps.is_available()\n",
    "    else \"cpu\"\n",
    ")\n",
    "print(f\"Using {device} device\")\n"
   ]
  },
  {
   "cell_type": "code",
   "execution_count": 5,
   "id": "7a6b672c-e986-41be-be9e-30c3be5101fb",
   "metadata": {},
   "outputs": [
    {
     "name": "stdout",
     "output_type": "stream",
     "text": [
      "NeuralNetwork(\n",
      "  (flatten): Flatten(start_dim=1, end_dim=-1)\n",
      "  (linear_relu_stack): Sequential(\n",
      "    (0): Linear(in_features=784, out_features=512, bias=True)\n",
      "    (1): ReLU()\n",
      "    (2): Linear(in_features=512, out_features=512, bias=True)\n",
      "    (3): ReLU()\n",
      "    (4): Linear(in_features=512, out_features=10, bias=True)\n",
      "  )\n",
      ")\n"
     ]
    }
   ],
   "source": [
    "# Define model\n",
    "class NeuralNetwork(nn.Module):\n",
    "    def __init__(self):\n",
    "        super().__init__()\n",
    "        self.flatten = nn.Flatten()\n",
    "        self.linear_relu_stack = nn.Sequential(\n",
    "            nn.Linear(28*28, 512),\n",
    "            nn.ReLU(),\n",
    "            nn.Linear(512, 512),\n",
    "            nn.ReLU(),\n",
    "            nn.Linear(512, 10)\n",
    "        )\n",
    "\n",
    "    def forward(self, x):\n",
    "        x = self.flatten(x)\n",
    "        logits = self.linear_relu_stack(x)\n",
    "        return logits\n",
    "\n",
    "model = NeuralNetwork().to(device)\n",
    "print(model)"
   ]
  },
  {
   "cell_type": "markdown",
   "id": "d0783fa0-895f-4f50-b61e-781906e64254",
   "metadata": {},
   "source": [
    "### Setting up loss function and optimizer"
   ]
  },
  {
   "cell_type": "code",
   "execution_count": 6,
   "id": "fbca6918-464f-4a4e-8520-476c5d15f043",
   "metadata": {},
   "outputs": [],
   "source": [
    "loss_fn = nn.CrossEntropyLoss()\n",
    "optimizer = torch.optim.SGD(model.parameters(), lr=1e-3)"
   ]
  },
  {
   "cell_type": "markdown",
   "id": "8fbdd92f-97b6-4a29-857f-f1a259879e02",
   "metadata": {},
   "source": [
    "### Setting up training function"
   ]
  },
  {
   "cell_type": "code",
   "execution_count": 7,
   "id": "6769e199-6ef3-458e-8f05-43a6209b24ad",
   "metadata": {},
   "outputs": [],
   "source": [
    "def train(dataloader, model, loss_fn, optimizer):\n",
    "    size = len(dataloader.dataset)\n",
    "    model.train()\n",
    "    for batch, (X, y) in enumerate(dataloader):\n",
    "        X, y = X.to(device), y.to(device)\n",
    "\n",
    "        # Compute prediction error\n",
    "        pred = model(X)\n",
    "        loss = loss_fn(pred, y)\n",
    "\n",
    "        # Backpropagation\n",
    "        loss.backward()\n",
    "        optimizer.step()\n",
    "        optimizer.zero_grad()\n",
    "\n",
    "        if batch % 100 == 0:\n",
    "            loss, current = loss.item(), (batch + 1) * len(X)\n",
    "            print(f\"loss: {loss:>7f}  [{current:>5d}/{size:>5d}]\")"
   ]
  },
  {
   "cell_type": "markdown",
   "id": "5ad6eb73-6aa1-414b-9bd7-ecadf92c527d",
   "metadata": {},
   "source": [
    "### Setting up testing function"
   ]
  },
  {
   "cell_type": "code",
   "execution_count": 8,
   "id": "4c171f96-ae90-4f1b-a6ba-62ab0d5b10b1",
   "metadata": {},
   "outputs": [],
   "source": [
    "def test(dataloader, model, loss_fn):\n",
    "    size = len(dataloader.dataset)\n",
    "    num_batches = len(dataloader)\n",
    "    model.eval()\n",
    "    test_loss, correct = 0, 0\n",
    "    with torch.no_grad():\n",
    "        for X, y in dataloader:\n",
    "            X, y = X.to(device), y.to(device)\n",
    "            pred = model(X)\n",
    "            test_loss += loss_fn(pred, y).item()\n",
    "            correct += (pred.argmax(1) == y).type(torch.float).sum().item()\n",
    "    test_loss /= num_batches\n",
    "    correct /= size\n",
    "    print(f\"Test Error: \\n Accuracy: {(100*correct):>0.1f}%, Avg loss: {test_loss:>8f} \\n\")"
   ]
  },
  {
   "cell_type": "markdown",
   "id": "0927acd6-f1c6-48cc-bd00-148e236095fb",
   "metadata": {},
   "source": [
    "### Training model and checking convergence"
   ]
  },
  {
   "cell_type": "code",
   "execution_count": 9,
   "id": "29557c3e-e2a7-4cad-8332-474a0ba1d964",
   "metadata": {},
   "outputs": [
    {
     "name": "stdout",
     "output_type": "stream",
     "text": [
      "Epoch 1\n",
      "-------------------------------\n",
      "loss: 2.304603  [   64/60000]\n",
      "loss: 2.289523  [ 6464/60000]\n",
      "loss: 2.270493  [12864/60000]\n",
      "loss: 2.268512  [19264/60000]\n",
      "loss: 2.244614  [25664/60000]\n",
      "loss: 2.216828  [32064/60000]\n",
      "loss: 2.228327  [38464/60000]\n",
      "loss: 2.189015  [44864/60000]\n",
      "loss: 2.194517  [51264/60000]\n",
      "loss: 2.161732  [57664/60000]\n",
      "Test Error: \n",
      " Accuracy: 46.2%, Avg loss: 2.153281 \n",
      "\n",
      "Epoch 2\n",
      "-------------------------------\n",
      "loss: 2.163530  [   64/60000]\n",
      "loss: 2.151865  [ 6464/60000]\n",
      "loss: 2.094124  [12864/60000]\n",
      "loss: 2.117656  [19264/60000]\n",
      "loss: 2.053451  [25664/60000]\n",
      "loss: 1.996823  [32064/60000]\n",
      "loss: 2.031531  [38464/60000]\n",
      "loss: 1.945932  [44864/60000]\n",
      "loss: 1.963789  [51264/60000]\n",
      "loss: 1.885255  [57664/60000]\n",
      "Test Error: \n",
      " Accuracy: 54.6%, Avg loss: 1.880916 \n",
      "\n",
      "Epoch 3\n",
      "-------------------------------\n",
      "loss: 1.916030  [   64/60000]\n",
      "loss: 1.882100  [ 6464/60000]\n",
      "loss: 1.762844  [12864/60000]\n",
      "loss: 1.815122  [19264/60000]\n",
      "loss: 1.682390  [25664/60000]\n",
      "loss: 1.642150  [32064/60000]\n",
      "loss: 1.671378  [38464/60000]\n",
      "loss: 1.562669  [44864/60000]\n",
      "loss: 1.596418  [51264/60000]\n",
      "loss: 1.486833  [57664/60000]\n",
      "Test Error: \n",
      " Accuracy: 59.9%, Avg loss: 1.501810 \n",
      "\n",
      "Epoch 4\n",
      "-------------------------------\n",
      "loss: 1.572488  [   64/60000]\n",
      "loss: 1.532682  [ 6464/60000]\n",
      "loss: 1.378710  [12864/60000]\n",
      "loss: 1.462358  [19264/60000]\n",
      "loss: 1.324465  [25664/60000]\n",
      "loss: 1.331542  [32064/60000]\n",
      "loss: 1.352355  [38464/60000]\n",
      "loss: 1.267195  [44864/60000]\n",
      "loss: 1.307223  [51264/60000]\n",
      "loss: 1.210126  [57664/60000]\n",
      "Test Error: \n",
      " Accuracy: 63.1%, Avg loss: 1.232983 \n",
      "\n",
      "Epoch 5\n",
      "-------------------------------\n",
      "loss: 1.312869  [   64/60000]\n",
      "loss: 1.293109  [ 6464/60000]\n",
      "loss: 1.122080  [12864/60000]\n",
      "loss: 1.238823  [19264/60000]\n",
      "loss: 1.103658  [25664/60000]\n",
      "loss: 1.133956  [32064/60000]\n",
      "loss: 1.164404  [38464/60000]\n",
      "loss: 1.091670  [44864/60000]\n",
      "loss: 1.133270  [51264/60000]\n",
      "loss: 1.055579  [57664/60000]\n",
      "Test Error: \n",
      " Accuracy: 64.7%, Avg loss: 1.072258 \n",
      "\n",
      "Done!\n"
     ]
    }
   ],
   "source": [
    "epochs = 5\n",
    "for t in range(epochs):\n",
    "    print(f\"Epoch {t+1}\\n-------------------------------\")\n",
    "    train(train_dataloader, model, loss_fn, optimizer)\n",
    "    test(test_dataloader, model, loss_fn)\n",
    "print(\"Done!\")"
   ]
  },
  {
   "cell_type": "markdown",
   "id": "5b543c15-ef5e-4c24-9420-92eef84d76f1",
   "metadata": {},
   "source": [
    "### Model saving"
   ]
  },
  {
   "cell_type": "code",
   "execution_count": 10,
   "id": "bf7d5a93-c503-4821-9d32-48b86dc17570",
   "metadata": {},
   "outputs": [
    {
     "name": "stdout",
     "output_type": "stream",
     "text": [
      "Saved PyTorch Model State to Trained_models/first_model.pth\n"
     ]
    }
   ],
   "source": [
    "torch.save(model.state_dict(), \"Trained_models/first_model.pth\")\n",
    "print(\"Saved PyTorch Model State to Trained_models/first_model.pth\")"
   ]
  },
  {
   "cell_type": "markdown",
   "id": "a277b506-c7a6-4dfc-a6b4-b4f670215445",
   "metadata": {},
   "source": [
    "### Loading Model"
   ]
  },
  {
   "cell_type": "code",
   "execution_count": 11,
   "id": "090ead6a-1e8f-4a07-bb63-03daba7ccaa6",
   "metadata": {},
   "outputs": [
    {
     "data": {
      "text/plain": [
       "<All keys matched successfully>"
      ]
     },
     "execution_count": 11,
     "metadata": {},
     "output_type": "execute_result"
    }
   ],
   "source": [
    "model = NeuralNetwork().to(device)\n",
    "model.load_state_dict(torch.load(\"Trained_models/first_model.pth\"))"
   ]
  },
  {
   "cell_type": "markdown",
   "id": "729300aa-2075-4820-aef7-7c43a53bf620",
   "metadata": {},
   "source": [
    "### Making predictions"
   ]
  },
  {
   "cell_type": "code",
   "execution_count": 12,
   "id": "8f7853eb-1ac7-4972-9607-8de4285ef324",
   "metadata": {},
   "outputs": [
    {
     "name": "stdout",
     "output_type": "stream",
     "text": [
      "Predicted: \"Ankle boot\", Actual: \"Ankle boot\"\n"
     ]
    }
   ],
   "source": [
    "classes = [\n",
    "    \"T-shirt/top\",\n",
    "    \"Trouser\",\n",
    "    \"Pullover\",\n",
    "    \"Dress\",\n",
    "    \"Coat\",\n",
    "    \"Sandal\",\n",
    "    \"Shirt\",\n",
    "    \"Sneaker\",\n",
    "    \"Bag\",\n",
    "    \"Ankle boot\",\n",
    "]\n",
    "\n",
    "model.eval()\n",
    "x, y = test_data[0][0], test_data[0][1]\n",
    "with torch.no_grad():\n",
    "    x = x.to(device)\n",
    "    pred = model(x)\n",
    "    predicted = classes[pred[0].argmax(0)]\n",
    "    actual = classes[y]\n",
    "    print(f'Predicted: \"{predicted}\", Actual: \"{actual}\"')"
   ]
  },
  {
   "cell_type": "markdown",
   "id": "14333f3b-b531-42d2-b9f3-f220f2df3502",
   "metadata": {},
   "source": [
    "#  - - - - - - - - - - - - - - Tensors - - - - - - - - - - - - - -"
   ]
  },
  {
   "cell_type": "code",
   "execution_count": 13,
   "id": "c2397754-283d-4263-a0b1-174da5928768",
   "metadata": {},
   "outputs": [],
   "source": [
    "import torch\n",
    "import numpy as np"
   ]
  },
  {
   "cell_type": "markdown",
   "id": "961f0d46-f06d-4059-b17c-ed88fee51c34",
   "metadata": {},
   "source": [
    "### Tensor initialization methods"
   ]
  },
  {
   "cell_type": "code",
   "execution_count": 14,
   "id": "5864327a-3b98-4d7d-9a0a-5f9c4e44a499",
   "metadata": {},
   "outputs": [
    {
     "data": {
      "text/plain": [
       "tensor([[1, 2],\n",
       "        [3, 4]])"
      ]
     },
     "execution_count": 14,
     "metadata": {},
     "output_type": "execute_result"
    }
   ],
   "source": [
    "data = [[1, 2],[3, 4]]\n",
    "x_data = torch.tensor(data)\n",
    "x_data"
   ]
  },
  {
   "cell_type": "code",
   "execution_count": 15,
   "id": "60d0a4db-11d5-41dd-81f7-c609d6ea4e8e",
   "metadata": {},
   "outputs": [
    {
     "data": {
      "text/plain": [
       "tensor([[1, 2],\n",
       "        [3, 4]], dtype=torch.int32)"
      ]
     },
     "execution_count": 15,
     "metadata": {},
     "output_type": "execute_result"
    }
   ],
   "source": [
    "np_array = np.array(data)\n",
    "x_np = torch.from_numpy(np_array)\n",
    "x_np"
   ]
  },
  {
   "cell_type": "code",
   "execution_count": 16,
   "id": "28ded06a-5ac1-496e-a390-f0089d240d15",
   "metadata": {},
   "outputs": [
    {
     "name": "stdout",
     "output_type": "stream",
     "text": [
      "Ones Tensor: \n",
      " tensor([[1, 1],\n",
      "        [1, 1]]) \n",
      "\n",
      "Random Tensor: \n",
      " tensor([[0.0302, 0.9759],\n",
      "        [0.4341, 0.3631]]) \n",
      "\n"
     ]
    }
   ],
   "source": [
    "x_ones = torch.ones_like(x_data) # retains the properties of x_data\n",
    "print(f\"Ones Tensor: \\n {x_ones} \\n\")\n",
    "\n",
    "x_rand = torch.rand_like(x_data, dtype=torch.float) # overrides the datatype of x_data\n",
    "print(f\"Random Tensor: \\n {x_rand} \\n\")"
   ]
  },
  {
   "cell_type": "code",
   "execution_count": 17,
   "id": "ed3a3945-be1d-4b37-94e4-1a91a9007c8b",
   "metadata": {},
   "outputs": [
    {
     "name": "stdout",
     "output_type": "stream",
     "text": [
      "Random Tensor: \n",
      " tensor([[0.2723, 0.0064, 0.0346],\n",
      "        [0.4600, 0.4585, 0.1310]]) \n",
      "\n",
      "Ones Tensor: \n",
      " tensor([[1., 1., 1.],\n",
      "        [1., 1., 1.]]) \n",
      "\n",
      "Zeros Tensor: \n",
      " tensor([[0., 0., 0.],\n",
      "        [0., 0., 0.]])\n"
     ]
    }
   ],
   "source": [
    "shape = (2,3,)\n",
    "rand_tensor = torch.rand(shape)\n",
    "ones_tensor = torch.ones(shape)\n",
    "zeros_tensor = torch.zeros(shape)\n",
    "\n",
    "print(f\"Random Tensor: \\n {rand_tensor} \\n\")\n",
    "print(f\"Ones Tensor: \\n {ones_tensor} \\n\")\n",
    "print(f\"Zeros Tensor: \\n {zeros_tensor}\")"
   ]
  },
  {
   "cell_type": "markdown",
   "id": "dc67414f-2534-4340-99d1-3f528aeb3ba3",
   "metadata": {},
   "source": [
    "### Tensor attributes"
   ]
  },
  {
   "cell_type": "code",
   "execution_count": 18,
   "id": "dd88fe3f-8263-46ad-9974-a76cad22e5cb",
   "metadata": {},
   "outputs": [
    {
     "name": "stdout",
     "output_type": "stream",
     "text": [
      "Shape of tensor: torch.Size([3, 4])\n",
      "Datatype of tensor: torch.float32\n",
      "Device tensor is stored on: cpu\n"
     ]
    }
   ],
   "source": [
    "tensor = torch.rand(3,4)\n",
    "\n",
    "print(f\"Shape of tensor: {tensor.shape}\")\n",
    "print(f\"Datatype of tensor: {tensor.dtype}\")\n",
    "print(f\"Device tensor is stored on: {tensor.device}\")"
   ]
  },
  {
   "cell_type": "markdown",
   "id": "16c9e3a4-943b-4945-9cd0-a2a54cbefdeb",
   "metadata": {},
   "source": [
    "### Tensor operations"
   ]
  },
  {
   "cell_type": "code",
   "execution_count": 19,
   "id": "eda8d729-45ec-4e23-9525-4a059a1f467a",
   "metadata": {},
   "outputs": [
    {
     "name": "stdout",
     "output_type": "stream",
     "text": [
      "Device tensor is stored on: cuda:0\n"
     ]
    }
   ],
   "source": [
    "# We move our tensor to the GPU if available\n",
    "if torch.cuda.is_available():\n",
    "    tensor = tensor.to(\"cuda\")\n",
    "print(f\"Device tensor is stored on: {tensor.device}\")"
   ]
  },
  {
   "cell_type": "code",
   "execution_count": 20,
   "id": "8cbdac28-c682-4947-8f6a-218d2ce761c5",
   "metadata": {},
   "outputs": [
    {
     "name": "stdout",
     "output_type": "stream",
     "text": [
      "First row: tensor([1., 1., 1., 1.])\n",
      "First column: tensor([1., 1., 1., 1.])\n",
      "Last column: tensor([1., 1., 1., 1.])\n",
      "tensor([[1., 0., 1., 1.],\n",
      "        [1., 0., 1., 1.],\n",
      "        [1., 0., 1., 1.],\n",
      "        [1., 0., 1., 1.]])\n"
     ]
    }
   ],
   "source": [
    "tensor = torch.ones(4, 4)\n",
    "print(f\"First row: {tensor[0]}\")\n",
    "print(f\"First column: {tensor[:, 0]}\")\n",
    "print(f\"Last column: {tensor[..., -1]}\")\n",
    "tensor[:,1] = 0\n",
    "print(tensor)"
   ]
  },
  {
   "cell_type": "code",
   "execution_count": 21,
   "id": "ec3eaed1-b224-4f8c-8d44-40ec11162852",
   "metadata": {},
   "outputs": [
    {
     "name": "stdout",
     "output_type": "stream",
     "text": [
      "tensor([[1., 0., 1., 1., 1., 0., 1., 1., 1., 0., 1., 1.],\n",
      "        [1., 0., 1., 1., 1., 0., 1., 1., 1., 0., 1., 1.],\n",
      "        [1., 0., 1., 1., 1., 0., 1., 1., 1., 0., 1., 1.],\n",
      "        [1., 0., 1., 1., 1., 0., 1., 1., 1., 0., 1., 1.]])\n"
     ]
    }
   ],
   "source": [
    "t1 = torch.cat([tensor, tensor, tensor], dim=1)\n",
    "print(t1)"
   ]
  },
  {
   "cell_type": "code",
   "execution_count": 22,
   "id": "a2107f75-2bd1-4c58-954b-9f5c46f2e1a3",
   "metadata": {},
   "outputs": [
    {
     "data": {
      "text/plain": [
       "tensor([[1., 0., 1., 1.],\n",
       "        [1., 0., 1., 1.],\n",
       "        [1., 0., 1., 1.],\n",
       "        [1., 0., 1., 1.]])"
      ]
     },
     "execution_count": 22,
     "metadata": {},
     "output_type": "execute_result"
    }
   ],
   "source": [
    "# This computes the matrix multiplication between two tensors. y1, y2, y3 will have the same value\n",
    "# ``tensor.T`` returns the transpose of a tensor\n",
    "y1 = tensor @ tensor.T\n",
    "y2 = tensor.matmul(tensor.T)\n",
    "\n",
    "y3 = torch.rand_like(y1)\n",
    "torch.matmul(tensor, tensor.T, out=y3)\n",
    "\n",
    "\n",
    "# This computes the element-wise product. z1, z2, z3 will have the same value\n",
    "z1 = tensor * tensor\n",
    "z2 = tensor.mul(tensor)\n",
    "\n",
    "z3 = torch.rand_like(tensor)\n",
    "torch.mul(tensor, tensor, out=z3)"
   ]
  },
  {
   "cell_type": "code",
   "execution_count": 23,
   "id": "a2d23864-cc29-4de2-9305-23802bdf3bae",
   "metadata": {},
   "outputs": [
    {
     "name": "stdout",
     "output_type": "stream",
     "text": [
      "12.0 <class 'float'>\n"
     ]
    }
   ],
   "source": [
    "agg = tensor.sum()\n",
    "agg_item = agg.item()\n",
    "print(agg_item, type(agg_item))"
   ]
  },
  {
   "cell_type": "code",
   "execution_count": 24,
   "id": "2c728b81-8e33-4767-aad2-c1e846a354b1",
   "metadata": {},
   "outputs": [
    {
     "name": "stdout",
     "output_type": "stream",
     "text": [
      "tensor([[1., 0., 1., 1.],\n",
      "        [1., 0., 1., 1.],\n",
      "        [1., 0., 1., 1.],\n",
      "        [1., 0., 1., 1.]]) \n",
      "\n",
      "tensor([[6., 5., 6., 6.],\n",
      "        [6., 5., 6., 6.],\n",
      "        [6., 5., 6., 6.],\n",
      "        [6., 5., 6., 6.]])\n"
     ]
    }
   ],
   "source": [
    "print(f\"{tensor} \\n\")\n",
    "tensor.add_(5)\n",
    "print(tensor)"
   ]
  },
  {
   "cell_type": "markdown",
   "id": "df90eb87-d574-4086-b44a-eec2b77593ef",
   "metadata": {},
   "source": [
    "### NOTE:\n",
    "    \n",
    "    In-place operations save some memory,\n",
    "    but can be problematic when computing derivatives because of an immediate loss of history. \n",
    "    Hence, their use is discouraged."
   ]
  },
  {
   "cell_type": "code",
   "execution_count": 25,
   "id": "143bca2f-73ab-46ac-9da7-117fcc37801c",
   "metadata": {},
   "outputs": [
    {
     "name": "stdout",
     "output_type": "stream",
     "text": [
      "t: tensor([1., 1., 1., 1., 1.])\n",
      "n: [1. 1. 1. 1. 1.]\n"
     ]
    }
   ],
   "source": [
    "t = torch.ones(5)\n",
    "print(f\"t: {t}\")\n",
    "n = t.numpy()\n",
    "print(f\"n: {n}\")"
   ]
  },
  {
   "cell_type": "code",
   "execution_count": 26,
   "id": "b9f5d5c4-d21d-476d-9291-b879524fb8f1",
   "metadata": {},
   "outputs": [
    {
     "name": "stdout",
     "output_type": "stream",
     "text": [
      "t: tensor([2., 2., 2., 2., 2.])\n",
      "n: [2. 2. 2. 2. 2.]\n"
     ]
    }
   ],
   "source": [
    "t.add_(1)\n",
    "print(f\"t: {t}\")\n",
    "print(f\"n: {n}\")"
   ]
  },
  {
   "cell_type": "code",
   "execution_count": 27,
   "id": "c174a4f9-b23e-420b-bb3f-8f4b3d552ae5",
   "metadata": {},
   "outputs": [],
   "source": [
    "n = np.ones(5)\n",
    "t = torch.from_numpy(n)"
   ]
  },
  {
   "cell_type": "code",
   "execution_count": 28,
   "id": "df2957ff-1492-4690-95af-0fbbd250eaa0",
   "metadata": {},
   "outputs": [
    {
     "name": "stdout",
     "output_type": "stream",
     "text": [
      "t: tensor([2., 2., 2., 2., 2.], dtype=torch.float64)\n",
      "n: [2. 2. 2. 2. 2.]\n"
     ]
    }
   ],
   "source": [
    "np.add(n, 1, out=n)\n",
    "print(f\"t: {t}\")\n",
    "print(f\"n: {n}\")"
   ]
  },
  {
   "cell_type": "markdown",
   "id": "ff99d682-277b-49d8-8bd7-f979afc641eb",
   "metadata": {},
   "source": [
    "# Datasets & DataLoaders"
   ]
  },
  {
   "cell_type": "code",
   "execution_count": 29,
   "id": "4c8191e5-a70e-45aa-a9b0-d8d449bf7119",
   "metadata": {},
   "outputs": [],
   "source": [
    "import torch\n",
    "from torch.utils.data import Dataset\n",
    "from torchvision import datasets\n",
    "from torchvision.transforms import ToTensor\n",
    "import matplotlib.pyplot as plt\n",
    "\n",
    "\n",
    "training_data = datasets.FashionMNIST(\n",
    "    root=\"data\",\n",
    "    train=True,\n",
    "    download=True,\n",
    "    transform=ToTensor()\n",
    ")\n",
    "\n",
    "test_data = datasets.FashionMNIST(\n",
    "    root=\"data\",\n",
    "    train=False,\n",
    "    download=True,\n",
    "    transform=ToTensor()\n",
    ")"
   ]
  },
  {
   "cell_type": "code",
   "execution_count": 30,
   "id": "f5eb947f-2c00-4b8d-916b-924208630c4a",
   "metadata": {},
   "outputs": [
    {
     "data": {
      "image/png": "[encoded data removed]",
      "text/plain": [
       "<Figure size 800x800 with 9 Axes>"
      ]
     },
     "metadata": {},
     "output_type": "display_data"
    }
   ],
   "source": [
    "labels_map = {\n",
    "    0: \"T-Shirt\",\n",
    "    1: \"Trouser\",\n",
    "    2: \"Pullover\",\n",
    "    3: \"Dress\",\n",
    "    4: \"Coat\",\n",
    "    5: \"Sandal\",\n",
    "    6: \"Shirt\",\n",
    "    7: \"Sneaker\",\n",
    "    8: \"Bag\",\n",
    "    9: \"Ankle Boot\",\n",
    "}\n",
    "figure = plt.figure(figsize=(8, 8))\n",
    "cols, rows = 3, 3\n",
    "for i in range(1, cols * rows + 1):\n",
    "    sample_idx = torch.randint(len(training_data), size=(1,)).item()\n",
    "    img, label = training_data[sample_idx]\n",
    "    figure.add_subplot(rows, cols, i)\n",
    "    plt.title(labels_map[label])\n",
    "    plt.axis(\"off\")\n",
    "    plt.imshow(img.squeeze(),cmap=\"gray\")\n",
    "plt.show()"
   ]
  },
  {
   "cell_type": "markdown",
   "id": "5968a938-2a77-444a-a34e-ea0891730736",
   "metadata": {},
   "source": [
    "# Preparing your data for training with DataLoaders"
   ]
  },
  {
   "cell_type": "code",
   "execution_count": 31,
   "id": "36c3a2a9-d26b-4548-95c8-ac259da08f8d",
   "metadata": {},
   "outputs": [],
   "source": [
    "from torch.utils.data import DataLoader\n",
    "\n",
    "train_dataloader = DataLoader(training_data, batch_size=64, shuffle=True)\n",
    "test_dataloader = DataLoader(test_data, batch_size=64, shuffle=True)"
   ]
  },
  {
   "cell_type": "code",
   "execution_count": 32,
   "id": "beddbc6f-901f-4bb4-acd0-f04659e40a32",
   "metadata": {},
   "outputs": [
    {
     "name": "stdout",
     "output_type": "stream",
     "text": [
      "Feature batch shape: torch.Size([64, 1, 28, 28])\n",
      "Labels batch shape: torch.Size([64])\n"
     ]
    },
    {
     "data": {
      "image/png": "[encoded data removed]",
      "text/plain": [
       "<Figure size 640x480 with 1 Axes>"
      ]
     },
     "metadata": {},
     "output_type": "display_data"
    },
    {
     "name": "stdout",
     "output_type": "stream",
     "text": [
      "Label: 2\n"
     ]
    }
   ],
   "source": [
    "# Display image and label.\n",
    "train_features, train_labels = next(iter(train_dataloader))\n",
    "print(f\"Feature batch shape: {train_features.size()}\")\n",
    "print(f\"Labels batch shape: {train_labels.size()}\")\n",
    "img = train_features[0].squeeze()\n",
    "label = train_labels[0]\n",
    "plt.imshow(img, cmap=\"gray\")\n",
    "plt.show()\n",
    "print(f\"Label: {label}\")"
   ]
  },
  {
   "cell_type": "markdown",
   "id": "a2d847f6-cfd0-4641-a128-3089bbca9bef",
   "metadata": {},
   "source": [
    "# Transforms"
   ]
  },
  {
   "cell_type": "markdown",
   "id": "c4dcb836-1e4f-4e51-ae8b-8fe72630c431",
   "metadata": {},
   "source": [
    "The FashionMNIST features are in PIL Image format, and the labels are integers. For training, we need the features as normalized tensors,\n",
    "and the labels as one-hot encoded tensors.\n",
    "To make these transformations, we use ToTensor and Lambda."
   ]
  },
  {
   "cell_type": "code",
   "execution_count": 33,
   "id": "e375421a-f32a-4558-b266-cf40347f19f1",
   "metadata": {},
   "outputs": [],
   "source": [
    "import torch\n",
    "from torchvision import datasets\n",
    "from torchvision.transforms import ToTensor, Lambda\n",
    "\n",
    "ds = datasets.FashionMNIST(\n",
    "    root=\"data\",\n",
    "    train=True,\n",
    "    download=True,\n",
    "    transform=ToTensor(),\n",
    "    target_transform=Lambda(lambda y: torch.zeros(10, dtype=torch.float).scatter_(0, torch.tensor(y), value=1))\n",
    ")"
   ]
  },
  {
   "cell_type": "markdown",
   "id": "473df41d-cd4e-4183-8a41-a12ea9df454b",
   "metadata": {},
   "source": [
    "# Build a Neural Network"
   ]
  },
  {
   "cell_type": "code",
   "execution_count": 34,
   "id": "5ec47d4d-8e3a-4a8e-b574-cfd85dee184a",
   "metadata": {},
   "outputs": [],
   "source": [
    "import os\n",
    "import torch\n",
    "from torch import nn\n",
    "from torch.utils.data import DataLoader\n",
    "from torchvision import datasets, transforms"
   ]
  },
  {
   "cell_type": "code",
   "execution_count": 39,
   "id": "9e138715-fb96-4274-8f5f-ca6d1844f4e6",
   "metadata": {},
   "outputs": [
    {
     "name": "stdout",
     "output_type": "stream",
     "text": [
      "Using cuda:0 device\n"
     ]
    }
   ],
   "source": [
    "device = (\n",
    "    \"cuda:0\"\n",
    "    if torch.cuda.is_available()\n",
    "    else \"mps\"\n",
    "    if torch.backends.mps.is_available()\n",
    "    else \"cpu\"\n",
    ")\n",
    "\n",
    "print(f\"Using {device} device\")"
   ]
  },
  {
   "cell_type": "markdown",
   "id": "afa76516-125d-4000-8f0a-aa6e54bd1314",
   "metadata": {},
   "source": [
    "### Network class definition"
   ]
  },
  {
   "cell_type": "code",
   "execution_count": 40,
   "id": "3be741f1-ffb2-407a-adaf-31e81f7c3950",
   "metadata": {},
   "outputs": [],
   "source": [
    "class NeuralNetwork(nn.Module):\n",
    "    def __init__(self):\n",
    "        super().__init__()\n",
    "        self.flatten = nn.Flatten()\n",
    "        self.linear_relu_stack = nn.Sequential(\n",
    "            nn.Linear(28*28, 512),\n",
    "            nn.ReLU(),\n",
    "            nn.Linear(512, 512),\n",
    "            nn.ReLU(),\n",
    "            nn.Linear(512, 10),\n",
    "        )\n",
    "\n",
    "    def forward(self, x):\n",
    "        x = self.flatten(x)\n",
    "        logits = self.linear_relu_stack(x)\n",
    "        return logits"
   ]
  },
  {
   "cell_type": "code",
   "execution_count": 41,
   "id": "3113b807-3585-4dcd-8b4d-d800d07da1bc",
   "metadata": {},
   "outputs": [
    {
     "name": "stdout",
     "output_type": "stream",
     "text": [
      "NeuralNetwork(\n",
      "  (flatten): Flatten(start_dim=1, end_dim=-1)\n",
      "  (linear_relu_stack): Sequential(\n",
      "    (0): Linear(in_features=784, out_features=512, bias=True)\n",
      "    (1): ReLU()\n",
      "    (2): Linear(in_features=512, out_features=512, bias=True)\n",
      "    (3): ReLU()\n",
      "    (4): Linear(in_features=512, out_features=10, bias=True)\n",
      "  )\n",
      ")\n"
     ]
    }
   ],
   "source": [
    "model = NeuralNetwork().to(device)\n",
    "print(model)"
   ]
  },
  {
   "cell_type": "code",
   "execution_count": 42,
   "id": "a3811919-4d47-4cde-8f2e-2dd9efc2425c",
   "metadata": {},
   "outputs": [
    {
     "name": "stdout",
     "output_type": "stream",
     "text": [
      "Predicted class: tensor([0], device='cuda:0')\n"
     ]
    }
   ],
   "source": [
    "X = torch.rand(1, 28, 28, device=device)\n",
    "logits = model(X)\n",
    "pred_probab = nn.Softmax(dim=1)(logits)\n",
    "y_pred = pred_probab.argmax(1)\n",
    "print(f\"Predicted class: {y_pred}\")"
   ]
  },
  {
   "cell_type": "code",
   "execution_count": 43,
   "id": "9af23854-e784-463b-8fab-0a832f0e5459",
   "metadata": {},
   "outputs": [
    {
     "name": "stdout",
     "output_type": "stream",
     "text": [
      "torch.Size([3, 28, 28])\n"
     ]
    }
   ],
   "source": [
    "input_image = torch.rand(3,28,28)\n",
    "print(input_image.size())"
   ]
  },
  {
   "cell_type": "code",
   "execution_count": 44,
   "id": "9a58283d-1a4e-4b52-ae17-51c7dadb757c",
   "metadata": {},
   "outputs": [
    {
     "name": "stdout",
     "output_type": "stream",
     "text": [
      "torch.Size([3, 784])\n"
     ]
    }
   ],
   "source": [
    "flatten = nn.Flatten()\n",
    "flat_image = flatten(input_image)\n",
    "print(flat_image.size())"
   ]
  },
  {
   "cell_type": "code",
   "execution_count": 45,
   "id": "d0866b33-653c-432e-adfc-6afdc8ac1f72",
   "metadata": {},
   "outputs": [
    {
     "name": "stdout",
     "output_type": "stream",
     "text": [
      "torch.Size([3, 20])\n"
     ]
    }
   ],
   "source": [
    "layer1 = nn.Linear(in_features=28*28, out_features=20)\n",
    "hidden1 = layer1(flat_image)\n",
    "print(hidden1.size())"
   ]
  },
  {
   "cell_type": "code",
   "execution_count": 46,
   "id": "4b5037d2-a722-4eb9-b839-dd6a52cd5612",
   "metadata": {},
   "outputs": [
    {
     "name": "stdout",
     "output_type": "stream",
     "text": [
      "Before ReLU: tensor([[ 0.0219,  0.1053,  0.7579, -0.0364, -0.3477, -0.0930, -0.3303, -0.1028,\n",
      "          0.3348, -0.6808,  0.2309, -0.1583, -0.1213, -0.0093,  0.0939, -0.2227,\n",
      "          0.5040,  0.3500, -0.0144,  0.1653],\n",
      "        [ 0.4760,  0.1110,  0.6200, -0.4041, -0.3482,  0.0532, -0.2073, -0.3711,\n",
      "          0.0206, -0.7547,  0.0833, -0.3705, -0.3331,  0.1419,  0.3204, -0.3732,\n",
      "          0.7229,  0.1946,  0.3915,  0.1544],\n",
      "        [ 0.5051,  0.2535,  0.5202, -0.7021, -0.0452, -0.2284, -0.1199, -0.1483,\n",
      "          0.1309, -0.8741,  0.2117, -0.1369, -0.0959,  0.0500, -0.3800, -0.4135,\n",
      "          0.7986,  0.0072,  0.2036, -0.0690]], grad_fn=<AddmmBackward0>)\n",
      "\n",
      "\n",
      "After ReLU: tensor([[0.0219, 0.1053, 0.7579, 0.0000, 0.0000, 0.0000, 0.0000, 0.0000, 0.3348,\n",
      "         0.0000, 0.2309, 0.0000, 0.0000, 0.0000, 0.0939, 0.0000, 0.5040, 0.3500,\n",
      "         0.0000, 0.1653],\n",
      "        [0.4760, 0.1110, 0.6200, 0.0000, 0.0000, 0.0532, 0.0000, 0.0000, 0.0206,\n",
      "         0.0000, 0.0833, 0.0000, 0.0000, 0.1419, 0.3204, 0.0000, 0.7229, 0.1946,\n",
      "         0.3915, 0.1544],\n",
      "        [0.5051, 0.2535, 0.5202, 0.0000, 0.0000, 0.0000, 0.0000, 0.0000, 0.1309,\n",
      "         0.0000, 0.2117, 0.0000, 0.0000, 0.0500, 0.0000, 0.0000, 0.7986, 0.0072,\n",
      "         0.2036, 0.0000]], grad_fn=<ReluBackward0>)\n"
     ]
    }
   ],
   "source": [
    "print(f\"Before ReLU: {hidden1}\\n\\n\")\n",
    "hidden1 = nn.ReLU()(hidden1)\n",
    "print(f\"After ReLU: {hidden1}\")"
   ]
  },
  {
   "cell_type": "code",
   "execution_count": 47,
   "id": "cdba3b89-5094-4449-9882-23cbf201854a",
   "metadata": {},
   "outputs": [],
   "source": [
    "seq_modules = nn.Sequential(\n",
    "    flatten,\n",
    "    layer1,\n",
    "    nn.ReLU(),\n",
    "    nn.Linear(20, 10)\n",
    ")\n",
    "input_image = torch.rand(3,28,28)\n",
    "logits = seq_modules(input_image)"
   ]
  },
  {
   "cell_type": "code",
   "execution_count": 48,
   "id": "66fe58c1-2b0b-4d69-bc01-ccf9e0f22818",
   "metadata": {},
   "outputs": [
    {
     "data": {
      "text/plain": [
       "tensor([1.0000, 1.0000, 1.0000], grad_fn=<SumBackward1>)"
      ]
     },
     "execution_count": 48,
     "metadata": {},
     "output_type": "execute_result"
    }
   ],
   "source": [
    "softmax = nn.Softmax(dim=1)\n",
    "pred_probab = softmax(logits)\n",
    "pred_probab.sum(axis = 1)"
   ]
  },
  {
   "cell_type": "code",
   "execution_count": 49,
   "id": "276359df-4531-4886-8ffb-1572beb66a11",
   "metadata": {},
   "outputs": [
    {
     "name": "stdout",
     "output_type": "stream",
     "text": [
      "Model structure: NeuralNetwork(\n",
      "  (flatten): Flatten(start_dim=1, end_dim=-1)\n",
      "  (linear_relu_stack): Sequential(\n",
      "    (0): Linear(in_features=784, out_features=512, bias=True)\n",
      "    (1): ReLU()\n",
      "    (2): Linear(in_features=512, out_features=512, bias=True)\n",
      "    (3): ReLU()\n",
      "    (4): Linear(in_features=512, out_features=10, bias=True)\n",
      "  )\n",
      ")\n",
      "\n",
      "\n",
      "Layer: linear_relu_stack.0.weight | Size: torch.Size([512, 784]) | Values : tensor([[ 0.0128,  0.0290,  0.0134,  ...,  0.0017, -0.0111, -0.0232],\n",
      "        [-0.0125, -0.0159,  0.0136,  ..., -0.0036, -0.0053, -0.0304]],\n",
      "       device='cuda:0', grad_fn=<SliceBackward0>) \n",
      "\n",
      "Layer: linear_relu_stack.0.bias | Size: torch.Size([512]) | Values : tensor([-0.0029, -0.0139], device='cuda:0', grad_fn=<SliceBackward0>) \n",
      "\n",
      "Layer: linear_relu_stack.2.weight | Size: torch.Size([512, 512]) | Values : tensor([[-0.0325, -0.0325,  0.0307,  ..., -0.0418,  0.0345, -0.0228],\n",
      "        [-0.0408,  0.0205,  0.0371,  ...,  0.0104,  0.0317, -0.0026]],\n",
      "       device='cuda:0', grad_fn=<SliceBackward0>) \n",
      "\n",
      "Layer: linear_relu_stack.2.bias | Size: torch.Size([512]) | Values : tensor([-0.0036,  0.0206], device='cuda:0', grad_fn=<SliceBackward0>) \n",
      "\n",
      "Layer: linear_relu_stack.4.weight | Size: torch.Size([10, 512]) | Values : tensor([[-0.0184, -0.0409, -0.0428,  ...,  0.0192, -0.0320, -0.0086],\n",
      "        [-0.0009, -0.0244,  0.0284,  ...,  0.0241, -0.0061, -0.0141]],\n",
      "       device='cuda:0', grad_fn=<SliceBackward0>) \n",
      "\n",
      "Layer: linear_relu_stack.4.bias | Size: torch.Size([10]) | Values : tensor([0.0314, 0.0136], device='cuda:0', grad_fn=<SliceBackward0>) \n",
      "\n"
     ]
    }
   ],
   "source": [
    "print(f\"Model structure: {model}\\n\\n\")\n",
    "\n",
    "for name, param in model.named_parameters():\n",
    "    print(f\"Layer: {name} | Size: {param.size()} | Values : {param[:2]} \\n\")"
   ]
  },
  {
   "cell_type": "markdown",
   "id": "2e8c6382-670c-464e-9a25-5b3d264a5e5e",
   "metadata": {},
   "source": [
    "# Automatic Differentiation with torch.autograd"
   ]
  },
  {
   "cell_type": "code",
   "execution_count": 50,
   "id": "fcd6d6b4-a287-4524-9cd1-9276d10760d9",
   "metadata": {},
   "outputs": [],
   "source": [
    "import torch\n",
    "\n",
    "x = torch.ones(5)  # input tensor\n",
    "y = torch.zeros(3)  # expected output\n",
    "w = torch.randn(5, 3, requires_grad=True)\n",
    "b = torch.randn(3, requires_grad=True)\n",
    "z = torch.matmul(x, w)+b\n",
    "loss = torch.nn.functional.binary_cross_entropy_with_logits(z, y)"
   ]
  },
  {
   "cell_type": "code",
   "execution_count": 51,
   "id": "dabd7bba-402e-4934-80bf-2517a96cc029",
   "metadata": {},
   "outputs": [
    {
     "name": "stdout",
     "output_type": "stream",
     "text": [
      "Gradient function for z = <AddBackward0 object at 0x000002709D8148E0>\n",
      "Gradient function for loss = <BinaryCrossEntropyWithLogitsBackward0 object at 0x00000270BE512C80>\n"
     ]
    }
   ],
   "source": [
    "print(f\"Gradient function for z = {z.grad_fn}\")\n",
    "print(f\"Gradient function for loss = {loss.grad_fn}\")"
   ]
  },
  {
   "cell_type": "code",
   "execution_count": 52,
   "id": "e4ff48ed-a5b9-41ee-a0cf-02208f5733e6",
   "metadata": {},
   "outputs": [
    {
     "name": "stdout",
     "output_type": "stream",
     "text": [
      "tensor([[0.0240, 0.0097, 0.3275],\n",
      "        [0.0240, 0.0097, 0.3275],\n",
      "        [0.0240, 0.0097, 0.3275],\n",
      "        [0.0240, 0.0097, 0.3275],\n",
      "        [0.0240, 0.0097, 0.3275]])\n",
      "tensor([0.0240, 0.0097, 0.3275])\n"
     ]
    }
   ],
   "source": [
    "loss.backward()\n",
    "print(w.grad)\n",
    "print(b.grad)"
   ]
  },
  {
   "cell_type": "markdown",
   "id": "450f7ed6-907d-4284-bf30-808e867f6135",
   "metadata": {},
   "source": [
    "### NOTE\n",
    "\n",
    "We can only obtain the grad properties for the leaf nodes of the computational graph, \n",
    "which have requires_grad property set to True. For all other nodes in our graph, gradients will not be available.\n",
    "\n",
    "We can only perform gradient calculations using backward once on a given graph,\n",
    "for performance reasons. If we need to do several backward calls on the same graph, we need to pass retain_graph=True to the backward call."
   ]
  },
  {
   "cell_type": "code",
   "execution_count": 53,
   "id": "c08ec7c3-8332-434d-87df-63635989d3ac",
   "metadata": {},
   "outputs": [
    {
     "name": "stdout",
     "output_type": "stream",
     "text": [
      "True\n",
      "False\n"
     ]
    }
   ],
   "source": [
    "z = torch.matmul(x, w)+b\n",
    "print(z.requires_grad)\n",
    "\n",
    "with torch.no_grad():\n",
    "    z = torch.matmul(x, w)+b\n",
    "print(z.requires_grad)"
   ]
  },
  {
   "cell_type": "code",
   "execution_count": 54,
   "id": "91a77dde-c671-4d40-94a9-6dbbf1118ef0",
   "metadata": {},
   "outputs": [
    {
     "name": "stdout",
     "output_type": "stream",
     "text": [
      "False\n"
     ]
    }
   ],
   "source": [
    "z = torch.matmul(x, w)+b\n",
    "z_det = z.detach()\n",
    "print(z_det.requires_grad)"
   ]
  },
  {
   "cell_type": "markdown",
   "id": "3efe38d0-8211-4d65-9f8c-347b3935b75b",
   "metadata": {},
   "source": [
    "There are reasons you might want to disable gradient tracking:\n",
    " - To mark some parameters in your neural network as frozen parameters.\n",
    "\n",
    " - To speed up computations when you are only doing forward pass,\n",
    "because computations on tensors that do not track gradients would be more efficient."
   ]
  },
  {
   "cell_type": "markdown",
   "id": "2af375be-c137-449e-bf29-46bca38e9a2f",
   "metadata": {},
   "source": [
    "NOTE\n",
    "\n",
    " - Previously we were calling backward() function without parameters. This is essentially equivalent to calling backward(torch.tensor(1.0)), \n",
    "which is a useful way to compute the gradients in case of a scalar-valued function,\n",
    "such as loss during neural network training."
   ]
  },
  {
   "cell_type": "code",
   "execution_count": 55,
   "id": "0b633e62-b386-4b6a-a6cc-26c1ee5138d0",
   "metadata": {},
   "outputs": [
    {
     "name": "stdout",
     "output_type": "stream",
     "text": [
      "First call\n",
      "tensor([[4., 2., 2., 2., 2.],\n",
      "        [2., 4., 2., 2., 2.],\n",
      "        [2., 2., 4., 2., 2.],\n",
      "        [2., 2., 2., 4., 2.]])\n",
      "\n",
      "Second call\n",
      "tensor([[8., 4., 4., 4., 4.],\n",
      "        [4., 8., 4., 4., 4.],\n",
      "        [4., 4., 8., 4., 4.],\n",
      "        [4., 4., 4., 8., 4.]])\n",
      "\n",
      "Call after zeroing gradients\n",
      "tensor([[4., 2., 2., 2., 2.],\n",
      "        [2., 4., 2., 2., 2.],\n",
      "        [2., 2., 4., 2., 2.],\n",
      "        [2., 2., 2., 4., 2.]])\n"
     ]
    }
   ],
   "source": [
    "inp = torch.eye(4, 5, requires_grad=True)\n",
    "out = (inp+1).pow(2).t()\n",
    "out.backward(torch.ones_like(out), retain_graph=True)\n",
    "print(f\"First call\\n{inp.grad}\")\n",
    "out.backward(torch.ones_like(out), retain_graph=True)\n",
    "print(f\"\\nSecond call\\n{inp.grad}\")\n",
    "inp.grad.zero_()\n",
    "out.backward(torch.ones_like(out), retain_graph=True)\n",
    "print(f\"\\nCall after zeroing gradients\\n{inp.grad}\")"
   ]
  },
  {
   "cell_type": "markdown",
   "id": "a8c1055e-efe7-49ee-9546-9de85b22f253",
   "metadata": {},
   "source": [
    "# Optimizing Model Parameters"
   ]
  },
  {
   "cell_type": "code",
   "execution_count": 63,
   "id": "3a5c90b7-039c-4296-90c6-08cd97e1e00d",
   "metadata": {},
   "outputs": [],
   "source": [
    "import torch\n",
    "from torch import nn\n",
    "from torch.utils.data import DataLoader\n",
    "from torchvision import datasets\n",
    "from torchvision.transforms import ToTensor\n",
    "\n",
    "training_data = datasets.FashionMNIST(\n",
    "    root=\"data\",\n",
    "    train=True,\n",
    "    download=True,\n",
    "    transform=ToTensor()\n",
    ")\n",
    "\n",
    "test_data = datasets.FashionMNIST(\n",
    "    root=\"data\",\n",
    "    train=False,\n",
    "    download=True,\n",
    "    transform=ToTensor()\n",
    ")\n",
    "\n",
    "train_dataloader = DataLoader(training_data, batch_size=64)\n",
    "test_dataloader = DataLoader(test_data, batch_size=64)\n",
    "\n",
    "class NeuralNetwork(nn.Module):\n",
    "    def __init__(self):\n",
    "        super().__init__()\n",
    "        self.flatten = nn.Flatten()\n",
    "        self.linear_relu_stack = nn.Sequential(\n",
    "            nn.Linear(28*28, 512),\n",
    "            nn.ReLU(),\n",
    "            nn.Linear(512, 512),\n",
    "            nn.ReLU(),\n",
    "            nn.Linear(512, 10),\n",
    "        )\n",
    "\n",
    "    def forward(self, x):\n",
    "        x = self.flatten(x)\n",
    "        logits = self.linear_relu_stack(x)\n",
    "        return logits\n",
    "\n",
    "model = NeuralNetwork().to(device)"
   ]
  },
  {
   "cell_type": "markdown",
   "id": "853836d9-59cc-4c8a-9627-f5e7579905a6",
   "metadata": {},
   "source": [
    "### Hyper parameters"
   ]
  },
  {
   "cell_type": "code",
   "execution_count": 64,
   "id": "8447881c-535a-4c7a-b791-f2613d4a927b",
   "metadata": {},
   "outputs": [],
   "source": [
    "learning_rate = 1e-3\n",
    "batch_size = 64\n",
    "epochs = 5 # not used actually\n"
   ]
  },
  {
   "cell_type": "markdown",
   "id": "03c7e43d-d8b1-414e-bfe6-002b3da23a75",
   "metadata": {},
   "source": [
    "### Optimization Loop\n",
    "Each epoch consists of two main parts:\n",
    "\n",
    "\n",
    "The Train Loop - iterate over the training dataset and try to converge to optimal parameters\n",
    "  .\n",
    "\r\n",
    "The Validation/Test Loop - iterate over the test dataset to check if model performance is improving."
   ]
  },
  {
   "cell_type": "markdown",
   "id": "634319b2-3b8f-437d-9453-a4c73a132c28",
   "metadata": {},
   "source": [
    "### Setup Loss function"
   ]
  },
  {
   "cell_type": "code",
   "execution_count": 65,
   "id": "a06f7617-1c88-4f11-b9ae-56c80eca8534",
   "metadata": {},
   "outputs": [],
   "source": [
    "# Initialize the loss function\n",
    "loss_fn = nn.CrossEntropyLoss()"
   ]
  },
  {
   "cell_type": "markdown",
   "id": "62cfd29d-eed6-48e6-b58c-f0dba8063994",
   "metadata": {},
   "source": [
    "### Setup Optimizer"
   ]
  },
  {
   "cell_type": "code",
   "execution_count": 66,
   "id": "5ef6be5d-e356-401e-a686-84dd34a9e94c",
   "metadata": {},
   "outputs": [],
   "source": [
    "optimizer = torch.optim.SGD(model.parameters(), lr=learning_rate)"
   ]
  },
  {
   "cell_type": "markdown",
   "id": "63f1a6a8-bd37-4543-b791-141d03a019aa",
   "metadata": {},
   "source": [
    "Inside the training loop, optimization happens in three steps:\n",
    "1. Call optimizer.zero_grad() to reset the gradients of model parameters. \n",
    "Gradients by default add up; to prevent double-counting, we explicitly zero them at each iteration.\n",
    "\n",
    "2. Backpropagate the prediction loss with a call to loss.backward(). PyTorch deposits the gradients of the loss w.r.t. each parameter.\n",
    "\n",
    "3. Once we have our gradients, we call optimizer.step() to adjust the parameters by the gradients collected in the backward pass."
   ]
  },
  {
   "cell_type": "markdown",
   "id": "95e0af5e-7fae-40d8-83f8-f833edda4f61",
   "metadata": {},
   "source": [
    "### Train loop and test loop full implementation"
   ]
  },
  {
   "cell_type": "code",
   "execution_count": 79,
   "id": "29074c4c-ffc3-422e-b6a4-9522f2b5e402",
   "metadata": {},
   "outputs": [],
   "source": [
    "def train_loop(dataloader, model, loss_fn, optimizer,device):\n",
    "    size = len(dataloader.dataset)\n",
    "    # Set the model to training mode - important for batch normalization and dropout layers\n",
    "    # Unnecessary in this situation but added for best practices\n",
    "    model.train()\n",
    "    for batch, (X, y) in enumerate(dataloader):\n",
    "        # Compute prediction and loss\n",
    "        pred = model(X.to(device)).cpu()\n",
    "        loss = loss_fn(pred, y)\n",
    "\n",
    "        # Backpropagation\n",
    "        loss.backward()\n",
    "        optimizer.step()\n",
    "        optimizer.zero_grad()\n",
    "\n",
    "        if batch % 100 == 0:\n",
    "            loss, current = loss.item(), batch * batch_size + len(X)\n",
    "            print(f\"loss: {loss:>7f}  [{current:>5d}/{size:>5d}]\")\n",
    "\n",
    "\n",
    "def test_loop(dataloader, model, loss_fn,device):\n",
    "    # Set the model to evaluation mode - important for batch normalization and dropout layers\n",
    "    # Unnecessary in this situation but added for best practices\n",
    "    model.eval()\n",
    "    size = len(dataloader.dataset)\n",
    "    num_batches = len(dataloader)\n",
    "    test_loss, correct = 0, 0\n",
    "\n",
    "    # Evaluating the model with torch.no_grad() ensures that no gradients are computed during test mode\n",
    "    # also serves to reduce unnecessary gradient computations and memory usage for tensors with requires_grad=True\n",
    "    with torch.no_grad():\n",
    "        for X, y in dataloader:\n",
    "            pred = model(X.to(device)).cpu()\n",
    "            test_loss += loss_fn(pred, y).item()\n",
    "            correct += (pred.argmax(1) == y).type(torch.float).sum().item()\n",
    "\n",
    "    test_loss /= num_batches\n",
    "    correct /= size\n",
    "    print(f\"Test Error: \\n Accuracy: {(100*correct):>0.1f}%, Avg loss: {test_loss:>8f} \\n\")\n",
    "    return correct , test_loss"
   ]
  },
  {
   "cell_type": "markdown",
   "id": "ed9e66d3-3f7d-44f4-af9b-c09bb251947f",
   "metadata": {},
   "source": [
    "### Full learning testing run"
   ]
  },
  {
   "cell_type": "code",
   "execution_count": 87,
   "id": "b09e9acf-0d61-433b-81a0-54d163be9a9c",
   "metadata": {},
   "outputs": [
    {
     "name": "stdout",
     "output_type": "stream",
     "text": [
      "Epoch 1\n",
      "-------------------------------\n",
      "loss: 2.286621  [   64/60000]\n",
      "loss: 2.285966  [ 6464/60000]\n",
      "loss: 2.260768  [12864/60000]\n",
      "loss: 2.266475  [19264/60000]\n",
      "loss: 2.251693  [25664/60000]\n",
      "loss: 2.214025  [32064/60000]\n",
      "loss: 2.233579  [38464/60000]\n",
      "loss: 2.195832  [44864/60000]\n",
      "loss: 2.189356  [51264/60000]\n",
      "loss: 2.168930  [57664/60000]\n",
      "Test Error: \n",
      " Accuracy: 37.6%, Avg loss: 2.157382 \n",
      "\n",
      "Epoch 2\n",
      "-------------------------------\n",
      "loss: 2.160709  [   64/60000]\n",
      "loss: 2.156217  [ 6464/60000]\n",
      "loss: 2.099153  [12864/60000]\n",
      "loss: 2.121345  [19264/60000]\n",
      "loss: 2.067135  [25664/60000]\n",
      "loss: 2.010334  [32064/60000]\n",
      "loss: 2.044636  [38464/60000]\n",
      "loss: 1.968916  [44864/60000]\n",
      "loss: 1.969852  [51264/60000]\n",
      "loss: 1.905010  [57664/60000]\n",
      "Test Error: \n",
      " Accuracy: 58.1%, Avg loss: 1.897825 \n",
      "\n",
      "Epoch 3\n",
      "-------------------------------\n",
      "loss: 1.922889  [   64/60000]\n",
      "loss: 1.896660  [ 6464/60000]\n",
      "loss: 1.784725  [12864/60000]\n",
      "loss: 1.829570  [19264/60000]\n",
      "loss: 1.705332  [25664/60000]\n",
      "loss: 1.669210  [32064/60000]\n",
      "loss: 1.690692  [38464/60000]\n",
      "loss: 1.595254  [44864/60000]\n",
      "loss: 1.614684  [51264/60000]\n",
      "loss: 1.516569  [57664/60000]\n",
      "Test Error: \n",
      " Accuracy: 62.3%, Avg loss: 1.527614 \n",
      "\n",
      "Epoch 4\n",
      "-------------------------------\n",
      "loss: 1.587376  [   64/60000]\n",
      "loss: 1.554654  [ 6464/60000]\n",
      "loss: 1.410313  [12864/60000]\n",
      "loss: 1.481750  [19264/60000]\n",
      "loss: 1.348845  [25664/60000]\n",
      "loss: 1.359881  [32064/60000]\n",
      "loss: 1.369370  [38464/60000]\n",
      "loss: 1.296862  [44864/60000]\n",
      "loss: 1.326877  [51264/60000]\n",
      "loss: 1.236158  [57664/60000]\n",
      "Test Error: \n",
      " Accuracy: 64.0%, Avg loss: 1.254692 \n",
      "\n",
      "Epoch 5\n",
      "-------------------------------\n",
      "loss: 1.326261  [   64/60000]\n",
      "loss: 1.310343  [ 6464/60000]\n",
      "loss: 1.148967  [12864/60000]\n",
      "loss: 1.253750  [19264/60000]\n",
      "loss: 1.120278  [25664/60000]\n",
      "loss: 1.156752  [32064/60000]\n",
      "loss: 1.174082  [38464/60000]\n",
      "loss: 1.111211  [44864/60000]\n",
      "loss: 1.148564  [51264/60000]\n",
      "loss: 1.074287  [57664/60000]\n",
      "Test Error: \n",
      " Accuracy: 65.1%, Avg loss: 1.086845 \n",
      "\n",
      "Epoch 6\n",
      "-------------------------------\n",
      "loss: 1.152855  [   64/60000]\n",
      "loss: 1.157069  [ 6464/60000]\n",
      "loss: 0.978162  [12864/60000]\n",
      "loss: 1.113012  [19264/60000]\n",
      "loss: 0.982148  [25664/60000]\n",
      "loss: 1.022036  [32064/60000]\n",
      "loss: 1.055094  [38464/60000]\n",
      "loss: 0.994163  [44864/60000]\n",
      "loss: 1.033748  [51264/60000]\n",
      "loss: 0.974390  [57664/60000]\n",
      "Test Error: \n",
      " Accuracy: 66.0%, Avg loss: 0.979772 \n",
      "\n",
      "Epoch 7\n",
      "-------------------------------\n",
      "loss: 1.033659  [   64/60000]\n",
      "loss: 1.058405  [ 6464/60000]\n",
      "loss: 0.862355  [12864/60000]\n",
      "loss: 1.020715  [19264/60000]\n",
      "loss: 0.896697  [25664/60000]\n",
      "loss: 0.928643  [32064/60000]\n",
      "loss: 0.978494  [38464/60000]\n",
      "loss: 0.918539  [44864/60000]\n",
      "loss: 0.954959  [51264/60000]\n",
      "loss: 0.907876  [57664/60000]\n",
      "Test Error: \n",
      " Accuracy: 67.2%, Avg loss: 0.907374 \n",
      "\n",
      "Epoch 8\n",
      "-------------------------------\n",
      "loss: 0.946679  [   64/60000]\n",
      "loss: 0.990091  [ 6464/60000]\n",
      "loss: 0.779830  [12864/60000]\n",
      "loss: 0.955877  [19264/60000]\n",
      "loss: 0.840270  [25664/60000]\n",
      "loss: 0.861081  [32064/60000]\n",
      "loss: 0.924947  [38464/60000]\n",
      "loss: 0.867953  [44864/60000]\n",
      "loss: 0.898441  [51264/60000]\n",
      "loss: 0.859850  [57664/60000]\n",
      "Test Error: \n",
      " Accuracy: 68.3%, Avg loss: 0.855369 \n",
      "\n",
      "Epoch 9\n",
      "-------------------------------\n",
      "loss: 0.880201  [   64/60000]\n",
      "loss: 0.938870  [ 6464/60000]\n",
      "loss: 0.718303  [12864/60000]\n",
      "loss: 0.907674  [19264/60000]\n",
      "loss: 0.799704  [25664/60000]\n",
      "loss: 0.810895  [32064/60000]\n",
      "loss: 0.884616  [38464/60000]\n",
      "loss: 0.832533  [44864/60000]\n",
      "loss: 0.856375  [51264/60000]\n",
      "loss: 0.822925  [57664/60000]\n",
      "Test Error: \n",
      " Accuracy: 69.5%, Avg loss: 0.816017 \n",
      "\n",
      "Epoch 10\n",
      "-------------------------------\n",
      "loss: 0.827287  [   64/60000]\n",
      "loss: 0.897648  [ 6464/60000]\n",
      "loss: 0.670407  [12864/60000]\n",
      "loss: 0.870247  [19264/60000]\n",
      "loss: 0.768582  [25664/60000]\n",
      "loss: 0.772281  [32064/60000]\n",
      "loss: 0.852017  [38464/60000]\n",
      "loss: 0.806460  [44864/60000]\n",
      "loss: 0.823798  [51264/60000]\n",
      "loss: 0.792899  [57664/60000]\n",
      "Test Error: \n",
      " Accuracy: 70.7%, Avg loss: 0.784704 \n",
      "\n",
      "Epoch 11\n",
      "-------------------------------\n",
      "loss: 0.783494  [   64/60000]\n",
      "loss: 0.862552  [ 6464/60000]\n",
      "loss: 0.631742  [12864/60000]\n",
      "loss: 0.839926  [19264/60000]\n",
      "loss: 0.743241  [25664/60000]\n",
      "loss: 0.741726  [32064/60000]\n",
      "loss: 0.824162  [38464/60000]\n",
      "loss: 0.785920  [44864/60000]\n",
      "loss: 0.797617  [51264/60000]\n",
      "loss: 0.767647  [57664/60000]\n",
      "Test Error: \n",
      " Accuracy: 71.9%, Avg loss: 0.758656 \n",
      "\n",
      "Epoch 12\n",
      "-------------------------------\n",
      "loss: 0.746123  [   64/60000]\n",
      "loss: 0.831727  [ 6464/60000]\n",
      "loss: 0.599632  [12864/60000]\n",
      "loss: 0.814736  [19264/60000]\n",
      "loss: 0.721627  [25664/60000]\n",
      "loss: 0.717029  [32064/60000]\n",
      "loss: 0.799368  [38464/60000]\n",
      "loss: 0.768862  [44864/60000]\n",
      "loss: 0.775841  [51264/60000]\n",
      "loss: 0.745825  [57664/60000]\n",
      "Test Error: \n",
      " Accuracy: 73.2%, Avg loss: 0.736204 \n",
      "\n",
      "Epoch 13\n",
      "-------------------------------\n",
      "loss: 0.713499  [   64/60000]\n",
      "loss: 0.804052  [ 6464/60000]\n",
      "loss: 0.572210  [12864/60000]\n",
      "loss: 0.793113  [19264/60000]\n",
      "loss: 0.702557  [25664/60000]\n",
      "loss: 0.696480  [32064/60000]\n",
      "loss: 0.776558  [38464/60000]\n",
      "loss: 0.753938  [44864/60000]\n",
      "loss: 0.757232  [51264/60000]\n",
      "loss: 0.726514  [57664/60000]\n",
      "Test Error: \n",
      " Accuracy: 74.2%, Avg loss: 0.716262 \n",
      "\n",
      "Epoch 14\n",
      "-------------------------------\n",
      "loss: 0.684534  [   64/60000]\n",
      "loss: 0.778848  [ 6464/60000]\n",
      "loss: 0.548303  [12864/60000]\n",
      "loss: 0.774047  [19264/60000]\n",
      "loss: 0.685483  [25664/60000]\n",
      "loss: 0.678949  [32064/60000]\n",
      "loss: 0.755156  [38464/60000]\n",
      "loss: 0.740481  [44864/60000]\n",
      "loss: 0.741083  [51264/60000]\n",
      "loss: 0.709042  [57664/60000]\n",
      "Test Error: \n",
      " Accuracy: 75.1%, Avg loss: 0.698186 \n",
      "\n",
      "Epoch 15\n",
      "-------------------------------\n",
      "loss: 0.658669  [   64/60000]\n",
      "loss: 0.755668  [ 6464/60000]\n",
      "loss: 0.527238  [12864/60000]\n",
      "loss: 0.757035  [19264/60000]\n",
      "loss: 0.670060  [25664/60000]\n",
      "loss: 0.663797  [32064/60000]\n",
      "loss: 0.734996  [38464/60000]\n",
      "loss: 0.728257  [44864/60000]\n",
      "loss: 0.726919  [51264/60000]\n",
      "loss: 0.692971  [57664/60000]\n",
      "Test Error: \n",
      " Accuracy: 75.8%, Avg loss: 0.681624 \n",
      "\n",
      "Epoch 16\n",
      "-------------------------------\n",
      "loss: 0.635288  [   64/60000]\n",
      "loss: 0.734362  [ 6464/60000]\n",
      "loss: 0.508445  [12864/60000]\n",
      "loss: 0.741600  [19264/60000]\n",
      "loss: 0.656020  [25664/60000]\n",
      "loss: 0.650608  [32064/60000]\n",
      "loss: 0.716017  [38464/60000]\n",
      "loss: 0.717120  [44864/60000]\n",
      "loss: 0.714521  [51264/60000]\n",
      "loss: 0.678164  [57664/60000]\n",
      "Test Error: \n",
      " Accuracy: 76.4%, Avg loss: 0.666372 \n",
      "\n",
      "Epoch 17\n",
      "-------------------------------\n",
      "loss: 0.614167  [   64/60000]\n",
      "loss: 0.714719  [ 6464/60000]\n",
      "loss: 0.491720  [12864/60000]\n",
      "loss: 0.727451  [19264/60000]\n",
      "loss: 0.643304  [25664/60000]\n",
      "loss: 0.638892  [32064/60000]\n",
      "loss: 0.698120  [38464/60000]\n",
      "loss: 0.707121  [44864/60000]\n",
      "loss: 0.703607  [51264/60000]\n",
      "loss: 0.664343  [57664/60000]\n",
      "Test Error: \n",
      " Accuracy: 77.0%, Avg loss: 0.652321 \n",
      "\n",
      "Epoch 18\n",
      "-------------------------------\n",
      "loss: 0.595132  [   64/60000]\n",
      "loss: 0.696652  [ 6464/60000]\n",
      "loss: 0.476766  [12864/60000]\n",
      "loss: 0.714373  [19264/60000]\n",
      "loss: 0.631816  [25664/60000]\n",
      "loss: 0.628538  [32064/60000]\n",
      "loss: 0.681263  [38464/60000]\n",
      "loss: 0.698238  [44864/60000]\n",
      "loss: 0.694073  [51264/60000]\n",
      "loss: 0.651435  [57664/60000]\n",
      "Test Error: \n",
      " Accuracy: 77.6%, Avg loss: 0.639394 \n",
      "\n",
      "Epoch 19\n",
      "-------------------------------\n",
      "loss: 0.577914  [   64/60000]\n",
      "loss: 0.680043  [ 6464/60000]\n",
      "loss: 0.463305  [12864/60000]\n",
      "loss: 0.702311  [19264/60000]\n",
      "loss: 0.621499  [25664/60000]\n",
      "loss: 0.619295  [32064/60000]\n",
      "loss: 0.665450  [38464/60000]\n",
      "loss: 0.690413  [44864/60000]\n",
      "loss: 0.685799  [51264/60000]\n",
      "loss: 0.639352  [57664/60000]\n",
      "Test Error: \n",
      " Accuracy: 78.1%, Avg loss: 0.627519 \n",
      "\n",
      "Epoch 20\n",
      "-------------------------------\n",
      "loss: 0.562324  [   64/60000]\n",
      "loss: 0.664791  [ 6464/60000]\n",
      "loss: 0.451182  [12864/60000]\n",
      "loss: 0.691118  [19264/60000]\n",
      "loss: 0.612175  [25664/60000]\n",
      "loss: 0.611040  [32064/60000]\n",
      "loss: 0.650640  [38464/60000]\n",
      "loss: 0.683752  [44864/60000]\n",
      "loss: 0.678649  [51264/60000]\n",
      "loss: 0.627971  [57664/60000]\n",
      "Test Error: \n",
      " Accuracy: 78.7%, Avg loss: 0.616620 \n",
      "\n",
      "Epoch 21\n",
      "-------------------------------\n",
      "loss: 0.548134  [   64/60000]\n",
      "loss: 0.650803  [ 6464/60000]\n",
      "loss: 0.440172  [12864/60000]\n",
      "loss: 0.680718  [19264/60000]\n",
      "loss: 0.603688  [25664/60000]\n",
      "loss: 0.603570  [32064/60000]\n",
      "loss: 0.636926  [38464/60000]\n",
      "loss: 0.678126  [44864/60000]\n",
      "loss: 0.672523  [51264/60000]\n",
      "loss: 0.617209  [57664/60000]\n",
      "Test Error: \n",
      " Accuracy: 78.9%, Avg loss: 0.606615 \n",
      "\n",
      "Epoch 22\n",
      "-------------------------------\n",
      "loss: 0.535131  [   64/60000]\n",
      "loss: 0.637955  [ 6464/60000]\n",
      "loss: 0.430179  [12864/60000]\n",
      "loss: 0.671004  [19264/60000]\n",
      "loss: 0.595833  [25664/60000]\n",
      "loss: 0.596772  [32064/60000]\n",
      "loss: 0.624134  [38464/60000]\n",
      "loss: 0.673534  [44864/60000]\n",
      "loss: 0.667323  [51264/60000]\n",
      "loss: 0.606979  [57664/60000]\n",
      "Test Error: \n",
      " Accuracy: 79.3%, Avg loss: 0.597441 \n",
      "\n",
      "Epoch 23\n",
      "-------------------------------\n",
      "loss: 0.523187  [   64/60000]\n",
      "loss: 0.626182  [ 6464/60000]\n",
      "loss: 0.421069  [12864/60000]\n",
      "loss: 0.661876  [19264/60000]\n",
      "loss: 0.588477  [25664/60000]\n",
      "loss: 0.590439  [32064/60000]\n",
      "loss: 0.612328  [38464/60000]\n",
      "loss: 0.669934  [44864/60000]\n",
      "loss: 0.662886  [51264/60000]\n",
      "loss: 0.597304  [57664/60000]\n",
      "Test Error: \n",
      " Accuracy: 79.5%, Avg loss: 0.589025 \n",
      "\n",
      "Epoch 24\n",
      "-------------------------------\n",
      "loss: 0.512141  [   64/60000]\n",
      "loss: 0.615357  [ 6464/60000]\n",
      "loss: 0.412766  [12864/60000]\n",
      "loss: 0.653320  [19264/60000]\n",
      "loss: 0.581530  [25664/60000]\n",
      "loss: 0.584418  [32064/60000]\n",
      "loss: 0.601408  [38464/60000]\n",
      "loss: 0.667154  [44864/60000]\n",
      "loss: 0.659139  [51264/60000]\n",
      "loss: 0.588045  [57664/60000]\n",
      "Test Error: \n",
      " Accuracy: 79.8%, Avg loss: 0.581295 \n",
      "\n",
      "Epoch 25\n",
      "-------------------------------\n",
      "loss: 0.501866  [   64/60000]\n",
      "loss: 0.605383  [ 6464/60000]\n",
      "loss: 0.405119  [12864/60000]\n",
      "loss: 0.645216  [19264/60000]\n",
      "loss: 0.574898  [25664/60000]\n",
      "loss: 0.578676  [32064/60000]\n",
      "loss: 0.591301  [38464/60000]\n",
      "loss: 0.665068  [44864/60000]\n",
      "loss: 0.656015  [51264/60000]\n",
      "loss: 0.579100  [57664/60000]\n",
      "Test Error: \n",
      " Accuracy: 80.0%, Avg loss: 0.574181 \n",
      "\n",
      "Epoch 26\n",
      "-------------------------------\n",
      "loss: 0.492279  [   64/60000]\n",
      "loss: 0.596177  [ 6464/60000]\n",
      "loss: 0.397999  [12864/60000]\n",
      "loss: 0.637529  [19264/60000]\n",
      "loss: 0.568459  [25664/60000]\n",
      "loss: 0.573134  [32064/60000]\n",
      "loss: 0.581943  [38464/60000]\n",
      "loss: 0.663585  [44864/60000]\n",
      "loss: 0.653278  [51264/60000]\n",
      "loss: 0.570484  [57664/60000]\n",
      "Test Error: \n",
      " Accuracy: 80.1%, Avg loss: 0.567621 \n",
      "\n",
      "Epoch 27\n",
      "-------------------------------\n",
      "loss: 0.483264  [   64/60000]\n",
      "loss: 0.587708  [ 6464/60000]\n",
      "loss: 0.391393  [12864/60000]\n",
      "loss: 0.630207  [19264/60000]\n",
      "loss: 0.562251  [25664/60000]\n",
      "loss: 0.567752  [32064/60000]\n",
      "loss: 0.573365  [38464/60000]\n",
      "loss: 0.662558  [44864/60000]\n",
      "loss: 0.650883  [51264/60000]\n",
      "loss: 0.562149  [57664/60000]\n",
      "Test Error: \n",
      " Accuracy: 80.3%, Avg loss: 0.561555 \n",
      "\n",
      "Epoch 28\n",
      "-------------------------------\n",
      "loss: 0.474760  [   64/60000]\n",
      "loss: 0.579865  [ 6464/60000]\n",
      "loss: 0.385237  [12864/60000]\n",
      "loss: 0.623227  [19264/60000]\n",
      "loss: 0.556210  [25664/60000]\n",
      "loss: 0.562496  [32064/60000]\n",
      "loss: 0.565474  [38464/60000]\n",
      "loss: 0.661936  [44864/60000]\n",
      "loss: 0.648786  [51264/60000]\n",
      "loss: 0.554093  [57664/60000]\n",
      "Test Error: \n",
      " Accuracy: 80.5%, Avg loss: 0.555939 \n",
      "\n",
      "Epoch 29\n",
      "-------------------------------\n",
      "loss: 0.466744  [   64/60000]\n",
      "loss: 0.572613  [ 6464/60000]\n",
      "loss: 0.379497  [12864/60000]\n",
      "loss: 0.616576  [19264/60000]\n",
      "loss: 0.550351  [25664/60000]\n",
      "loss: 0.557387  [32064/60000]\n",
      "loss: 0.558180  [38464/60000]\n",
      "loss: 0.661667  [44864/60000]\n",
      "loss: 0.646873  [51264/60000]\n",
      "loss: 0.546296  [57664/60000]\n",
      "Test Error: \n",
      " Accuracy: 80.7%, Avg loss: 0.550730 \n",
      "\n",
      "Epoch 30\n",
      "-------------------------------\n",
      "loss: 0.459154  [   64/60000]\n",
      "loss: 0.565912  [ 6464/60000]\n",
      "loss: 0.374114  [12864/60000]\n",
      "loss: 0.610253  [19264/60000]\n",
      "loss: 0.544637  [25664/60000]\n",
      "loss: 0.552404  [32064/60000]\n",
      "loss: 0.551477  [38464/60000]\n",
      "loss: 0.661680  [44864/60000]\n",
      "loss: 0.645150  [51264/60000]\n",
      "loss: 0.538788  [57664/60000]\n",
      "Test Error: \n",
      " Accuracy: 80.9%, Avg loss: 0.545887 \n",
      "\n",
      "Epoch 31\n",
      "-------------------------------\n",
      "loss: 0.451970  [   64/60000]\n",
      "loss: 0.559753  [ 6464/60000]\n",
      "loss: 0.369031  [12864/60000]\n",
      "loss: 0.604244  [19264/60000]\n",
      "loss: 0.538972  [25664/60000]\n",
      "loss: 0.547558  [32064/60000]\n",
      "loss: 0.545307  [38464/60000]\n",
      "loss: 0.661860  [44864/60000]\n",
      "loss: 0.643536  [51264/60000]\n",
      "loss: 0.531519  [57664/60000]\n",
      "Test Error: \n",
      " Accuracy: 81.0%, Avg loss: 0.541369 \n",
      "\n",
      "Epoch 32\n",
      "-------------------------------\n",
      "loss: 0.445134  [   64/60000]\n",
      "loss: 0.554027  [ 6464/60000]\n",
      "loss: 0.364257  [12864/60000]\n",
      "loss: 0.598513  [19264/60000]\n",
      "loss: 0.533374  [25664/60000]\n",
      "loss: 0.542789  [32064/60000]\n",
      "loss: 0.539549  [38464/60000]\n",
      "loss: 0.662160  [44864/60000]\n",
      "loss: 0.641984  [51264/60000]\n",
      "loss: 0.524550  [57664/60000]\n",
      "Test Error: \n",
      " Accuracy: 81.2%, Avg loss: 0.537146 \n",
      "\n",
      "Epoch 33\n",
      "-------------------------------\n",
      "loss: 0.438620  [   64/60000]\n",
      "loss: 0.548764  [ 6464/60000]\n",
      "loss: 0.359703  [12864/60000]\n",
      "loss: 0.593107  [19264/60000]\n",
      "loss: 0.527942  [25664/60000]\n",
      "loss: 0.538096  [32064/60000]\n",
      "loss: 0.534215  [38464/60000]\n",
      "loss: 0.662516  [44864/60000]\n",
      "loss: 0.640471  [51264/60000]\n",
      "loss: 0.517870  [57664/60000]\n",
      "Test Error: \n",
      " Accuracy: 81.4%, Avg loss: 0.533191 \n",
      "\n",
      "Epoch 34\n",
      "-------------------------------\n",
      "loss: 0.432385  [   64/60000]\n",
      "loss: 0.543880  [ 6464/60000]\n",
      "loss: 0.355416  [12864/60000]\n",
      "loss: 0.587954  [19264/60000]\n",
      "loss: 0.522633  [25664/60000]\n",
      "loss: 0.533443  [32064/60000]\n",
      "loss: 0.529215  [38464/60000]\n",
      "loss: 0.662939  [44864/60000]\n",
      "loss: 0.638928  [51264/60000]\n",
      "loss: 0.511430  [57664/60000]\n",
      "Test Error: \n",
      " Accuracy: 81.4%, Avg loss: 0.529482 \n",
      "\n",
      "Epoch 35\n",
      "-------------------------------\n",
      "loss: 0.426387  [   64/60000]\n",
      "loss: 0.539328  [ 6464/60000]\n",
      "loss: 0.351370  [12864/60000]\n",
      "loss: 0.583011  [19264/60000]\n",
      "loss: 0.517431  [25664/60000]\n",
      "loss: 0.528889  [32064/60000]\n",
      "loss: 0.524543  [38464/60000]\n",
      "loss: 0.663330  [44864/60000]\n",
      "loss: 0.637365  [51264/60000]\n",
      "loss: 0.505248  [57664/60000]\n",
      "Test Error: \n",
      " Accuracy: 81.4%, Avg loss: 0.525994 \n",
      "\n",
      "Epoch 36\n",
      "-------------------------------\n",
      "loss: 0.420628  [   64/60000]\n",
      "loss: 0.535114  [ 6464/60000]\n",
      "loss: 0.347513  [12864/60000]\n",
      "loss: 0.578232  [19264/60000]\n",
      "loss: 0.512389  [25664/60000]\n",
      "loss: 0.524495  [32064/60000]\n",
      "loss: 0.520147  [38464/60000]\n",
      "loss: 0.663670  [44864/60000]\n",
      "loss: 0.635785  [51264/60000]\n",
      "loss: 0.499352  [57664/60000]\n",
      "Test Error: \n",
      " Accuracy: 81.4%, Avg loss: 0.522709 \n",
      "\n",
      "Epoch 37\n",
      "-------------------------------\n",
      "loss: 0.415048  [   64/60000]\n",
      "loss: 0.531167  [ 6464/60000]\n",
      "loss: 0.343886  [12864/60000]\n",
      "loss: 0.573679  [19264/60000]\n",
      "loss: 0.507516  [25664/60000]\n",
      "loss: 0.520247  [32064/60000]\n",
      "loss: 0.516029  [38464/60000]\n",
      "loss: 0.663938  [44864/60000]\n",
      "loss: 0.634139  [51264/60000]\n",
      "loss: 0.493723  [57664/60000]\n",
      "Test Error: \n",
      " Accuracy: 81.5%, Avg loss: 0.519608 \n",
      "\n",
      "Epoch 38\n",
      "-------------------------------\n",
      "loss: 0.409636  [   64/60000]\n",
      "loss: 0.527492  [ 6464/60000]\n",
      "loss: 0.340444  [12864/60000]\n",
      "loss: 0.569267  [19264/60000]\n",
      "loss: 0.502841  [25664/60000]\n",
      "loss: 0.516140  [32064/60000]\n",
      "loss: 0.512153  [38464/60000]\n",
      "loss: 0.664012  [44864/60000]\n",
      "loss: 0.632489  [51264/60000]\n",
      "loss: 0.488371  [57664/60000]\n",
      "Test Error: \n",
      " Accuracy: 81.6%, Avg loss: 0.516667 \n",
      "\n",
      "Epoch 39\n",
      "-------------------------------\n",
      "loss: 0.404456  [   64/60000]\n",
      "loss: 0.524036  [ 6464/60000]\n",
      "loss: 0.337201  [12864/60000]\n",
      "loss: 0.564997  [19264/60000]\n",
      "loss: 0.498218  [25664/60000]\n",
      "loss: 0.512106  [32064/60000]\n",
      "loss: 0.508537  [38464/60000]\n",
      "loss: 0.664046  [44864/60000]\n",
      "loss: 0.630779  [51264/60000]\n",
      "loss: 0.483291  [57664/60000]\n",
      "Test Error: \n",
      " Accuracy: 81.7%, Avg loss: 0.513876 \n",
      "\n",
      "Epoch 40\n",
      "-------------------------------\n",
      "loss: 0.399417  [   64/60000]\n",
      "loss: 0.520822  [ 6464/60000]\n",
      "loss: 0.334052  [12864/60000]\n",
      "loss: 0.560870  [19264/60000]\n",
      "loss: 0.493762  [25664/60000]\n",
      "loss: 0.508214  [32064/60000]\n",
      "loss: 0.505086  [38464/60000]\n",
      "loss: 0.663960  [44864/60000]\n",
      "loss: 0.629034  [51264/60000]\n",
      "loss: 0.478451  [57664/60000]\n",
      "Test Error: \n",
      " Accuracy: 81.8%, Avg loss: 0.511223 \n",
      "\n",
      "Done!\n"
     ]
    }
   ],
   "source": [
    "# Set-up\n",
    "device = (\n",
    "    \"cuda:0\"\n",
    "    if torch.cuda.is_available()\n",
    "    else \"mps\"\n",
    "    if torch.backends.mps.is_available()\n",
    "    else \"cpu\"\n",
    ")\n",
    "# Model instance\n",
    "model = NeuralNetwork().to(device)\n",
    "# Loss and optimizer\n",
    "loss_fn = nn.CrossEntropyLoss()\n",
    "optimizer = torch.optim.SGD(model.parameters(), lr=learning_rate)\n",
    "# Hyper params\n",
    "learning_rate = 1e-3\n",
    "batch_size = 64\n",
    "epochs = 40\n",
    "# data set up\n",
    "train_dataloader = DataLoader(training_data, batch_size=batch_size)\n",
    "test_dataloader = DataLoader(test_data, batch_size=batch_size)\n",
    "\n",
    "avg_acc = np.ones(epochs)\n",
    "avg_loss = np.ones(epochs)\n",
    "# Training and test loops\n",
    "for t in range(epochs):\n",
    "    print(f\"Epoch {t+1}\\n-------------------------------\")\n",
    "    train_loop(dataloader= train_dataloader, model= model, loss_fn= loss_fn, optimizer= optimizer,device= device)\n",
    "    avg_acc[t],avg_loss[t] = test_loop(dataloader= test_dataloader, model= model, loss_fn= loss_fn,device= device)\n",
    "print(\"Done!\")"
   ]
  },
  {
   "cell_type": "code",
   "execution_count": 88,
   "id": "fa5004fd-371c-4ae0-b23e-4164eb40c795",
   "metadata": {},
   "outputs": [
    {
     "data": {
      "image/png": "[encoded data removed]",
      "text/plain": [
       "<Figure size 1200x600 with 1 Axes>"
      ]
     },
     "metadata": {},
     "output_type": "display_data"
    },
    {
     "data": {
      "image/png": "[encoded data removed]",
      "text/plain": [
       "<Figure size 1200x600 with 1 Axes>"
      ]
     },
     "metadata": {},
     "output_type": "display_data"
    }
   ],
   "source": [
    "import seaborn as sns\n",
    "import matplotlib.pyplot as plt\n",
    "\n",
    "# Example data, replace these with your actual avg_acc and avg_loss arrays\n",
    "# avg_acc = np.array([...])\n",
    "# avg_loss = np.array([...])\n",
    "\n",
    "# Create an index array\n",
    "indices = np.arange(len(avg_acc))\n",
    "\n",
    "# Plot for Average Accuracy\n",
    "plt.figure(figsize=(12, 6))\n",
    "sns.scatterplot(x=indices, y=avg_acc, label='Average Accuracy', color='blue')\n",
    "sns.lineplot(x=indices, y=avg_acc, label='Accuracy Trend', color='blue')\n",
    "plt.xlabel('Index')\n",
    "plt.ylabel('Average Accuracy')\n",
    "plt.title('Scatter plot of Average Accuracy vs. Indices with Trend Line')\n",
    "plt.legend()\n",
    "plt.show()\n",
    "\n",
    "# Plot for Average Loss\n",
    "plt.figure(figsize=(12, 6))\n",
    "sns.scatterplot(x=indices, y=avg_loss, label='Average Loss', color='red')\n",
    "sns.lineplot(x=indices, y=avg_loss, label='Loss Trend', color='red')\n",
    "plt.xlabel('Index')\n",
    "plt.ylabel('Average Loss')\n",
    "plt.title('Scatter plot of Average Loss vs. Indices with Trend Line')\n",
    "plt.legend()\n",
    "plt.show()\n"
   ]
  },
  {
   "cell_type": "markdown",
   "id": "c7385127-d091-45f2-bb9a-acc72436e673",
   "metadata": {},
   "source": [
    "# Save and load model"
   ]
  },
  {
   "cell_type": "code",
   "execution_count": 89,
   "id": "fa92163a-c575-4db0-b636-c315fcb64fae",
   "metadata": {},
   "outputs": [],
   "source": [
    "import torch\n",
    "import torchvision.models as models"
   ]
  },
  {
   "cell_type": "code",
   "execution_count": 90,
   "id": "23e5f20a-2674-4603-aa50-1c9101039502",
   "metadata": {},
   "outputs": [],
   "source": [
    "model = models.vgg16(weights='IMAGENET1K_V1')\n",
    "torch.save(model.state_dict(), 'model_weights.pth')"
   ]
  },
  {
   "cell_type": "code",
   "execution_count": 91,
   "id": "90bc18fe-c28f-4323-9de3-eb03b59eb3aa",
   "metadata": {},
   "outputs": [
    {
     "data": {
      "text/plain": [
       "VGG(\n",
       "  (features): Sequential(\n",
       "    (0): Conv2d(3, 64, kernel_size=(3, 3), stride=(1, 1), padding=(1, 1))\n",
       "    (1): ReLU(inplace=True)\n",
       "    (2): Conv2d(64, 64, kernel_size=(3, 3), stride=(1, 1), padding=(1, 1))\n",
       "    (3): ReLU(inplace=True)\n",
       "    (4): MaxPool2d(kernel_size=2, stride=2, padding=0, dilation=1, ceil_mode=False)\n",
       "    (5): Conv2d(64, 128, kernel_size=(3, 3), stride=(1, 1), padding=(1, 1))\n",
       "    (6): ReLU(inplace=True)\n",
       "    (7): Conv2d(128, 128, kernel_size=(3, 3), stride=(1, 1), padding=(1, 1))\n",
       "    (8): ReLU(inplace=True)\n",
       "    (9): MaxPool2d(kernel_size=2, stride=2, padding=0, dilation=1, ceil_mode=False)\n",
       "    (10): Conv2d(128, 256, kernel_size=(3, 3), stride=(1, 1), padding=(1, 1))\n",
       "    (11): ReLU(inplace=True)\n",
       "    (12): Conv2d(256, 256, kernel_size=(3, 3), stride=(1, 1), padding=(1, 1))\n",
       "    (13): ReLU(inplace=True)\n",
       "    (14): Conv2d(256, 256, kernel_size=(3, 3), stride=(1, 1), padding=(1, 1))\n",
       "    (15): ReLU(inplace=True)\n",
       "    (16): MaxPool2d(kernel_size=2, stride=2, padding=0, dilation=1, ceil_mode=False)\n",
       "    (17): Conv2d(256, 512, kernel_size=(3, 3), stride=(1, 1), padding=(1, 1))\n",
       "    (18): ReLU(inplace=True)\n",
       "    (19): Conv2d(512, 512, kernel_size=(3, 3), stride=(1, 1), padding=(1, 1))\n",
       "    (20): ReLU(inplace=True)\n",
       "    (21): Conv2d(512, 512, kernel_size=(3, 3), stride=(1, 1), padding=(1, 1))\n",
       "    (22): ReLU(inplace=True)\n",
       "    (23): MaxPool2d(kernel_size=2, stride=2, padding=0, dilation=1, ceil_mode=False)\n",
       "    (24): Conv2d(512, 512, kernel_size=(3, 3), stride=(1, 1), padding=(1, 1))\n",
       "    (25): ReLU(inplace=True)\n",
       "    (26): Conv2d(512, 512, kernel_size=(3, 3), stride=(1, 1), padding=(1, 1))\n",
       "    (27): ReLU(inplace=True)\n",
       "    (28): Conv2d(512, 512, kernel_size=(3, 3), stride=(1, 1), padding=(1, 1))\n",
       "    (29): ReLU(inplace=True)\n",
       "    (30): MaxPool2d(kernel_size=2, stride=2, padding=0, dilation=1, ceil_mode=False)\n",
       "  )\n",
       "  (avgpool): AdaptiveAvgPool2d(output_size=(7, 7))\n",
       "  (classifier): Sequential(\n",
       "    (0): Linear(in_features=25088, out_features=4096, bias=True)\n",
       "    (1): ReLU(inplace=True)\n",
       "    (2): Dropout(p=0.5, inplace=False)\n",
       "    (3): Linear(in_features=4096, out_features=4096, bias=True)\n",
       "    (4): ReLU(inplace=True)\n",
       "    (5): Dropout(p=0.5, inplace=False)\n",
       "    (6): Linear(in_features=4096, out_features=1000, bias=True)\n",
       "  )\n",
       ")"
      ]
     },
     "execution_count": 91,
     "metadata": {},
     "output_type": "execute_result"
    }
   ],
   "source": [
    "model = models.vgg16() # we do not specify ``weights``, i.e. create untrained model\n",
    "model.load_state_dict(torch.load('model_weights.pth'))\n",
    "model.eval()"
   ]
  },
  {
   "cell_type": "code",
   "execution_count": 92,
   "id": "0cd01a7e-8871-4e7b-ac11-192d48a0c9f2",
   "metadata": {},
   "outputs": [],
   "source": [
    "torch.save(model, \"Trained_models/toy_model_to_save\")"
   ]
  },
  {
   "cell_type": "code",
   "execution_count": 93,
   "id": "e62f8882-2997-4fdc-93a9-86d7a15b65d6",
   "metadata": {},
   "outputs": [],
   "source": [
    "model = torch.load(\"Trained_models/toy_model_to_save\")"
   ]
  }
 ],
 "metadata": {
  "kernelspec": {
   "display_name": "Python 3 (ipykernel)",
   "language": "python",
   "name": "python3"
  },
  "language_info": {
   "codemirror_mode": {
    "name": "ipython",
    "version": 3
   },
   "file_extension": ".py",
   "mimetype": "text/x-python",
   "name": "python",
   "nbconvert_exporter": "python",
   "pygments_lexer": "ipython3",
   "version": "3.12.3"
  }
 },
 "nbformat": 4,
 "nbformat_minor": 5
}
