{
  "nbformat": 4,
  "nbformat_minor": 0,
  "metadata": {
    "colab": {
      "provenance": []
    },
    "kernelspec": {
      "name": "python3",
      "display_name": "Python 3"
    }
  },
  "cells": [
    {
      "cell_type": "code",
      "metadata": {
        "id": "4fHDGDO95YGC"
      },
      "source": [
        "import numpy as np\n",
        "import pandas as pd\n",
        "import matplotlib.pyplot as plt\n",
        "import seaborn as sns"
      ],
      "execution_count": 12,
      "outputs": []
    },
    {
      "cell_type": "code",
      "metadata": {
        "id": "DfYF1LgMLcNe"
      },
      "source": [
        "C = np.array([[1,5],\n",
        "              [3,2]])"
      ],
      "execution_count": 32,
      "outputs": []
    },
    {
      "cell_type": "code",
      "metadata": {
        "id": "fULq3pXduRov",
        "outputId": "830c7e6c-8718-4010-bf12-1a1f8c92cbaf",
        "colab": {
          "base_uri": "https://localhost:8080/"
        }
      },
      "source": [
        "def softmax(matrix):\n",
        "\n",
        "    # Subtract the max for numerical stability\n",
        "    exp_matrix = np.exp(matrix - np.max(matrix, axis=0, keepdims=True))\n",
        "    # Apply softmax\n",
        "    softmax_matrix = exp_matrix / np.sum(exp_matrix, axis=0, keepdims=True)\n",
        "    return softmax_matrix\n",
        "\n",
        "softmax_matrix = softmax(C)\n",
        "print(softmax_matrix)\n"
      ],
      "execution_count": 33,
      "outputs": [
        {
          "output_type": "stream",
          "name": "stdout",
          "text": [
            "[[0.11920292 0.95257413]\n",
            " [0.88079708 0.04742587]]\n"
          ]
        }
      ]
    },
    {
      "cell_type": "code",
      "source": [
        "def normalize_row(row):\n",
        "    row_sum = np.sum(row)\n",
        "    if row_sum > 1:\n",
        "        return row / row_sum\n",
        "    return row\n",
        "\n",
        "def normalize_matrix_rows(matrix):\n",
        "    # Apply normalization to each row\n",
        "    normalized_mat = np.array([normalize_row(row) for row in matrix])\n",
        "    return normalized_mat\n",
        "\n",
        "\n",
        "# Example usage\n",
        "matrix = C.copy()\n",
        "\n",
        "normalized_matrix = normalize_matrix_rows(matrix)\n",
        "print(normalized_matrix)\n",
        "\n"
      ],
      "metadata": {
        "id": "aLnsluvE4_rp",
        "outputId": "47419f71-2500-4026-8db1-1dd03494f936",
        "colab": {
          "base_uri": "https://localhost:8080/"
        }
      },
      "execution_count": 34,
      "outputs": [
        {
          "output_type": "stream",
          "name": "stdout",
          "text": [
            "[[0.16666667 0.83333333]\n",
            " [0.6        0.4       ]]\n"
          ]
        }
      ]
    },
    {
      "cell_type": "code",
      "source": [
        "def get_row_sums(matrix):\n",
        "  return np.sum(matrix, axis=1)\n",
        "def get_col_sums(matrix):\n",
        "  return np.sum(matrix, axis=0)"
      ],
      "metadata": {
        "id": "TmHJYs3W9oOi"
      },
      "execution_count": 35,
      "outputs": []
    },
    {
      "cell_type": "code",
      "source": [
        "get_row_sums(matrix = C.copy()),get_col_sums(matrix = C.copy())"
      ],
      "metadata": {
        "colab": {
          "base_uri": "https://localhost:8080/"
        },
        "id": "w1ftcMwp9-4-",
        "outputId": "7d32d2ec-e838-4b8a-d564-4ef9f7e7cddc"
      },
      "execution_count": 36,
      "outputs": [
        {
          "output_type": "execute_result",
          "data": {
            "text/plain": [
              "(array([6, 5]), array([4, 7]))"
            ]
          },
          "metadata": {},
          "execution_count": 36
        }
      ]
    },
    {
      "cell_type": "code",
      "source": [
        "def g(matrix):\n",
        "  ret_mat = normalize_matrix_rows(softmax(matrix)).copy()\n",
        "  r = get_row_sums(ret_mat)\n",
        "  c = get_col_sums(ret_mat)\n",
        "  r_tild = np.ones(len(ret_mat)) - r\n",
        "  c_tild = np.ones(len(ret_mat)) - c\n",
        "  # Actual computation\n",
        "  ret_mat = ret_mat + (1/np.sum(c_tild))*np.outer(r_tild,c_tild)\n",
        "  return ret_mat\n",
        "\n",
        "output_mat = g(C.copy())"
      ],
      "metadata": {
        "id": "veYQpycP5fJr"
      },
      "execution_count": 37,
      "outputs": []
    },
    {
      "cell_type": "code",
      "source": [
        "get_row_sums(output_mat), get_col_sums(output_mat)"
      ],
      "metadata": {
        "colab": {
          "base_uri": "https://localhost:8080/"
        },
        "id": "8uzrr3S9--gG",
        "outputId": "3b395a97-ebd6-4c13-d371-4399bb7c01c6"
      },
      "execution_count": 38,
      "outputs": [
        {
          "output_type": "execute_result",
          "data": {
            "text/plain": [
              "(array([1., 1.]), array([1., 1.]))"
            ]
          },
          "metadata": {},
          "execution_count": 38
        }
      ]
    },
    {
      "cell_type": "code",
      "source": [],
      "metadata": {
        "id": "UeukzgorAp4b"
      },
      "execution_count": null,
      "outputs": []
    }
  ]
}