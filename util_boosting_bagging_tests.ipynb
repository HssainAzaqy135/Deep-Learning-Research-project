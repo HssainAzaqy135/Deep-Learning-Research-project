{
  "nbformat": 4,
  "nbformat_minor": 0,
  "metadata": {
    "colab": {
      "provenance": []
    },
    "kernelspec": {
      "name": "python3",
      "display_name": "Python 3"
    },
    "language_info": {
      "name": "python"
    }
  },
  "cells": [
    {
      "cell_type": "markdown",
      "source": [
        "Boosting example"
      ],
      "metadata": {
        "id": "2IsgcmOQI2y1"
      }
    },
    {
      "cell_type": "code",
      "source": [
        "import warnings\n",
        "\n",
        "# Ignore all warnings\n",
        "warnings.filterwarnings('ignore')"
      ],
      "metadata": {
        "id": "uyzbdQLD8AXl"
      },
      "execution_count": null,
      "outputs": []
    },
    {
      "cell_type": "code",
      "execution_count": null,
      "metadata": {
        "id": "tY-Jx_lZIsK8"
      },
      "outputs": [],
      "source": [
        "from sklearn.ensemble import AdaBoostClassifier,BaggingClassifier\n",
        "from sklearn.datasets import load_digits\n",
        "from sklearn.model_selection import train_test_split, cross_val_score\n",
        "from sklearn.metrics import accuracy_score\n",
        "# --------- Classifiers ------------\n",
        "from sklearn.ensemble import RandomForestClassifier\n",
        "from sklearn.linear_model import LogisticRegression\n",
        "from sklearn.tree import DecisionTreeClassifier\n"
      ]
    },
    {
      "cell_type": "code",
      "source": [
        "def train_and_evaluate_adaboost(base_estimator, n_estimators=10, test_size=0.2, random_state=42, cv_folds=5, bagging=False, n_bags=10, max_samples=1.0, max_features=1.0):\n",
        "    # Load the Iris dataset\n",
        "    X, y = load_digits(return_X_y=True)\n",
        "\n",
        "    # Split the dataset into training and testing sets\n",
        "    X_train, X_test, y_train, y_test = train_test_split(X, y, test_size=test_size, random_state=random_state)\n",
        "\n",
        "    # Apply bagging if specified\n",
        "    if bagging:\n",
        "        base_estimator = BaggingClassifier(\n",
        "            base_estimator=base_estimator,\n",
        "            n_estimators=n_bags,\n",
        "            max_samples=max_samples,\n",
        "            max_features=max_features,\n",
        "            random_state=random_state,\n",
        "            n_jobs = -1\n",
        "        )\n",
        "\n",
        "    # Initialize the AdaBoost Classifier with the specified base estimator\n",
        "    clf = AdaBoostClassifier(estimator=base_estimator, n_estimators=n_estimators, random_state=random_state)\n",
        "\n",
        "    # Perform cross-validation\n",
        "    cv_scores = cross_val_score(clf, X_train, y_train, cv=cv_folds, scoring='accuracy')\n",
        "\n",
        "    # Fit the model on the entire training set\n",
        "    clf.fit(X_train, y_train)\n",
        "\n",
        "    # Predict the test set\n",
        "    y_pred = clf.predict(X_test)\n",
        "\n",
        "    # Evaluate the model on the test set\n",
        "    test_accuracy = accuracy_score(y_test, y_pred)\n",
        "\n",
        "    # Print results\n",
        "    print(\"---------------------------------------------------------\")\n",
        "    print(f\"Cross-validation accuracy with {'Bagged ' if bagging else ''}{type(base_estimator).__name__} as base estimator: {cv_scores.mean():.2f} ± {cv_scores.std():.2f}\")\n",
        "    print(f\"Test set accuracy with {'Bagged ' if bagging else ''}{type(base_estimator).__name__} as base estimator: {test_accuracy:.2f}\")\n",
        "    print(\"---------------------------------------------------------\")\n",
        "    # Return the trained classifier\n",
        "    return clf\n"
      ],
      "metadata": {
        "id": "Jed1esm8FMeQ"
      },
      "execution_count": null,
      "outputs": []
    },
    {
      "cell_type": "markdown",
      "source": [
        "## Non Bagged tests"
      ],
      "metadata": {
        "id": "OwWMsGW1AbPd"
      }
    },
    {
      "cell_type": "code",
      "source": [
        "decision_tree_base = DecisionTreeClassifier(max_depth=12)\n",
        "trained_clf_dt = train_and_evaluate_adaboost(decision_tree_base,\n",
        "                                             n_estimators=8,\n",
        "                                              cv_folds=10)"
      ],
      "metadata": {
        "colab": {
          "base_uri": "https://localhost:8080/"
        },
        "id": "ul_JR9JCAnuc",
        "outputId": "dd4450ae-3546-4b32-da3b-814a4bc3597b"
      },
      "execution_count": null,
      "outputs": [
        {
          "output_type": "stream",
          "name": "stdout",
          "text": [
            "---------------------------------------------------------\n",
            "Cross-validation accuracy with DecisionTreeClassifier as base estimator: 0.90 ± 0.05\n",
            "Test set accuracy with DecisionTreeClassifier as base estimator: 0.94\n",
            "---------------------------------------------------------\n"
          ]
        }
      ]
    },
    {
      "cell_type": "code",
      "source": [
        "rf_base = RandomForestClassifier(n_estimators=10, max_depth=6, random_state=42)\n",
        "trained_clf_randomforest = train_and_evaluate_adaboost(rf_base,\n",
        "                                              n_estimators=8,\n",
        "                                              cv_folds=10)"
      ],
      "metadata": {
        "colab": {
          "base_uri": "https://localhost:8080/"
        },
        "id": "mTL4beSTCpDB",
        "outputId": "2c0e20da-2257-422a-a789-521de7b366bf"
      },
      "execution_count": null,
      "outputs": [
        {
          "output_type": "stream",
          "name": "stdout",
          "text": [
            "---------------------------------------------------------\n",
            "Cross-validation accuracy with RandomForestClassifier as base estimator: 0.92 ± 0.02\n",
            "Test set accuracy with RandomForestClassifier as base estimator: 0.96\n",
            "---------------------------------------------------------\n"
          ]
        }
      ]
    },
    {
      "cell_type": "code",
      "source": [
        "logreg_base = LogisticRegression(solver='lbfgs', max_iter=500)\n",
        "trained_clf_logreg = train_and_evaluate_adaboost(logreg_base,\n",
        "                                              n_estimators=8,\n",
        "                                              cv_folds=10)"
      ],
      "metadata": {
        "colab": {
          "base_uri": "https://localhost:8080/"
        },
        "id": "bS5VbNN0PBxW",
        "outputId": "640db3a9-19fa-438d-e061-0c01ae6bc6f2"
      },
      "execution_count": null,
      "outputs": [
        {
          "output_type": "stream",
          "name": "stdout",
          "text": [
            "---------------------------------------------------------\n",
            "Cross-validation accuracy with LogisticRegression as base estimator: 0.93 ± 0.02\n",
            "Test set accuracy with LogisticRegression as base estimator: 0.94\n",
            "---------------------------------------------------------\n"
          ]
        }
      ]
    },
    {
      "cell_type": "markdown",
      "source": [
        "## Trying Grad-Boosting"
      ],
      "metadata": {
        "id": "O-iBU4KyPUGc"
      }
    },
    {
      "cell_type": "code",
      "source": [
        "from sklearn.ensemble import GradientBoostingClassifier\n",
        "gradient_boosting_base = GradientBoostingClassifier(n_estimators=15,\n",
        "                                                    learning_rate=0.2,\n",
        "                                                    max_depth=1)\n",
        "trained_clf_gb = train_and_evaluate_adaboost(gradient_boosting_base,\n",
        "                                             n_estimators=8,\n",
        "                                             cv_folds=10)\n"
      ],
      "metadata": {
        "colab": {
          "base_uri": "https://localhost:8080/"
        },
        "id": "5Ll-vKvmPCTO",
        "outputId": "6ce24516-b891-4848-8b6e-7276c75c2e10"
      },
      "execution_count": null,
      "outputs": [
        {
          "output_type": "stream",
          "name": "stdout",
          "text": [
            "---------------------------------------------------------\n",
            "Cross-validation accuracy with GradientBoostingClassifier as base estimator: 0.91 ± 0.02\n",
            "Test set accuracy with GradientBoostingClassifier as base estimator: 0.93\n",
            "---------------------------------------------------------\n"
          ]
        }
      ]
    },
    {
      "cell_type": "markdown",
      "source": [
        "## Different Descision tree"
      ],
      "metadata": {
        "id": "Yhd7l--mSD0C"
      }
    },
    {
      "cell_type": "code",
      "source": [
        "gradient_boosting_base = GradientBoostingClassifier(n_estimators=15,\n",
        "                                                    learning_rate=0.2,\n",
        "                                                    max_depth=3)\n",
        "trained_clf_gb = train_and_evaluate_adaboost(gradient_boosting_base,\n",
        "                                             n_estimators=8,\n",
        "                                             cv_folds=10)"
      ],
      "metadata": {
        "colab": {
          "base_uri": "https://localhost:8080/"
        },
        "id": "iayFUKRVRNMt",
        "outputId": "ba67864e-a597-490e-ddf8-551e285e5c5e"
      },
      "execution_count": null,
      "outputs": [
        {
          "output_type": "stream",
          "name": "stdout",
          "text": [
            "---------------------------------------------------------\n",
            "Cross-validation accuracy with GradientBoostingClassifier as base estimator: 0.89 ± 0.09\n",
            "Test set accuracy with GradientBoostingClassifier as base estimator: 0.96\n",
            "---------------------------------------------------------\n"
          ]
        }
      ]
    },
    {
      "cell_type": "markdown",
      "source": [
        "# Bagging and boosting"
      ],
      "metadata": {
        "id": "408FAfXU7WBX"
      }
    },
    {
      "cell_type": "code",
      "source": [
        "decision_tree_base = DecisionTreeClassifier(max_depth=12)\n",
        "trained_clf_dt = train_and_evaluate_adaboost(decision_tree_base,\n",
        "                                             n_estimators=8,\n",
        "                                             bagging = True,\n",
        "                                             n_bags = 8,\n",
        "                                              cv_folds=10)"
      ],
      "metadata": {
        "colab": {
          "base_uri": "https://localhost:8080/"
        },
        "id": "16yanOvi7ZrA",
        "outputId": "54fb4894-c8e9-46e8-9051-bfecbe6ac40c"
      },
      "execution_count": null,
      "outputs": [
        {
          "output_type": "stream",
          "name": "stdout",
          "text": [
            "---------------------------------------------------------\n",
            "Cross-validation accuracy with Bagged BaggingClassifier as base estimator: 0.96 ± 0.02\n",
            "Test set accuracy with Bagged BaggingClassifier as base estimator: 0.98\n",
            "---------------------------------------------------------\n"
          ]
        }
      ]
    },
    {
      "cell_type": "code",
      "source": [
        "rf_base = RandomForestClassifier(n_estimators=10, max_depth=6, random_state=42)\n",
        "trained_clf_randomforest = train_and_evaluate_adaboost(rf_base,\n",
        "                                              n_estimators=8,\n",
        "                                              bagging = True,\n",
        "                                              n_bags = 8,\n",
        "                                              cv_folds=10)"
      ],
      "metadata": {
        "colab": {
          "base_uri": "https://localhost:8080/"
        },
        "id": "n3efqo3SAt0H",
        "outputId": "faf30a1a-1ba2-44a6-e7f8-8f6c9647dc22"
      },
      "execution_count": null,
      "outputs": [
        {
          "output_type": "stream",
          "name": "stdout",
          "text": [
            "---------------------------------------------------------\n",
            "Cross-validation accuracy with Bagged BaggingClassifier as base estimator: 0.98 ± 0.01\n",
            "Test set accuracy with Bagged BaggingClassifier as base estimator: 0.97\n",
            "---------------------------------------------------------\n"
          ]
        }
      ]
    },
    {
      "cell_type": "code",
      "source": [],
      "metadata": {
        "id": "o5Cc1W3Kxm3S"
      },
      "execution_count": null,
      "outputs": []
    },
    {
      "cell_type": "markdown",
      "source": [
        "## Grad boosted, adaptive boosted and bootstrap aggregated model"
      ],
      "metadata": {
        "id": "1nRxEtDbG9p8"
      }
    },
    {
      "cell_type": "code",
      "source": [
        "gradient_boosting_base = GradientBoostingClassifier(n_estimators=20,\n",
        "                                                    learning_rate=0.2,\n",
        "                                                    max_depth=3)\n",
        "trained_clf_gb = train_and_evaluate_adaboost(gradient_boosting_base,\n",
        "                                             n_estimators=8,\n",
        "                                             bagging = True,\n",
        "                                             n_bags = 8,\n",
        "                                             cv_folds=10)"
      ],
      "metadata": {
        "colab": {
          "base_uri": "https://localhost:8080/"
        },
        "id": "Oh_NGiHmBFzb",
        "outputId": "a9830bf8-7532-482b-cd84-23069c0c842b"
      },
      "execution_count": null,
      "outputs": [
        {
          "output_type": "stream",
          "name": "stdout",
          "text": [
            "---------------------------------------------------------\n",
            "Cross-validation accuracy with Bagged BaggingClassifier as base estimator: 0.96 ± 0.02\n",
            "Test set accuracy with Bagged BaggingClassifier as base estimator: 0.98\n",
            "---------------------------------------------------------\n"
          ]
        }
      ]
    },
    {
      "cell_type": "code",
      "source": [],
      "metadata": {
        "id": "shd9PUdOHNiS"
      },
      "execution_count": null,
      "outputs": []
    }
  ]
}