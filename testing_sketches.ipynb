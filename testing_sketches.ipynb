{
 "cells": [
  {
   "cell_type": "code",
   "execution_count": 1,
   "id": "ce5ab5b8-d150-4057-876b-1c4badee3d2d",
   "metadata": {},
   "outputs": [],
   "source": [
    "import torch"
   ]
  },
  {
   "cell_type": "code",
   "execution_count": 13,
   "id": "00523e4a-b1f8-4a4f-8628-4807f699b636",
   "metadata": {},
   "outputs": [],
   "source": [
    "matrix = torch.tensor([[1222222222222,12222],[11222,11222]])"
   ]
  },
  {
   "cell_type": "code",
   "execution_count": null,
   "id": "6a205730-3ddc-4322-ad73-58daadaea8dc",
   "metadata": {},
   "outputs": [],
   "source": []
  }
 ],
 "metadata": {
  "kernelspec": {
   "display_name": "Python 3 (ipykernel)",
   "language": "python",
   "name": "python3"
  },
  "language_info": {
   "codemirror_mode": {
    "name": "ipython",
    "version": 3
   },
   "file_extension": ".py",
   "mimetype": "text/x-python",
   "name": "python",
   "nbconvert_exporter": "python",
   "pygments_lexer": "ipython3",
   "version": "3.12.3"
  }
 },
 "nbformat": 4,
 "nbformat_minor": 5
}
