{
 "cells": [
  {
   "cell_type": "code",
   "execution_count": 2,
   "metadata": {
    "id": "4fHDGDO95YGC"
   },
   "outputs": [],
   "source": [
    "import numpy as np\n",
    "import pandas as pd\n",
    "import matplotlib.pyplot as plt\n",
    "import seaborn as sns"
   ]
  },
  {
   "cell_type": "code",
   "execution_count": 3,
   "metadata": {
    "id": "DfYF1LgMLcNe"
   },
   "outputs": [],
   "source": [
    "C = np.array([[1,5],\n",
    "              [3,2]])"
   ]
  },
  {
   "cell_type": "code",
   "execution_count": 4,
   "metadata": {
    "colab": {
     "base_uri": "https://localhost:8080/"
    },
    "id": "fULq3pXduRov",
    "outputId": "830c7e6c-8718-4010-bf12-1a1f8c92cbaf"
   },
   "outputs": [
    {
     "name": "stdout",
     "output_type": "stream",
     "text": [
      "[[0.11920292 0.95257413]\n",
      " [0.88079708 0.04742587]]\n"
     ]
    }
   ],
   "source": [
    "def softmax(matrix):\n",
    "\n",
    "    # Subtract the max for numerical stability\n",
    "    exp_matrix = np.exp(matrix - np.max(matrix, axis=0, keepdims=True))\n",
    "    # Apply softmax\n",
    "    softmax_matrix = exp_matrix / np.sum(exp_matrix, axis=0, keepdims=True)\n",
    "    return softmax_matrix\n",
    "\n",
    "softmax_matrix = softmax(C)\n",
    "print(softmax_matrix)\n"
   ]
  },
  {
   "cell_type": "code",
   "execution_count": 5,
   "metadata": {
    "colab": {
     "base_uri": "https://localhost:8080/"
    },
    "id": "aLnsluvE4_rp",
    "outputId": "47419f71-2500-4026-8db1-1dd03494f936"
   },
   "outputs": [
    {
     "name": "stdout",
     "output_type": "stream",
     "text": [
      "[[0.16666667 0.83333333]\n",
      " [0.6        0.4       ]]\n"
     ]
    }
   ],
   "source": [
    "def normalize_row(row):\n",
    "    row_sum = np.sum(row)\n",
    "    if row_sum > 1:\n",
    "        return row / row_sum\n",
    "    return row\n",
    "\n",
    "def normalize_matrix_rows(matrix):\n",
    "    # Apply normalization to each row\n",
    "    normalized_mat = np.array([normalize_row(row) for row in matrix])\n",
    "    return normalized_mat\n",
    "\n",
    "\n",
    "# Example usage\n",
    "matrix = C.copy()\n",
    "\n",
    "normalized_matrix = normalize_matrix_rows(matrix)\n",
    "print(normalized_matrix)\n",
    "\n"
   ]
  },
  {
   "cell_type": "code",
   "execution_count": 6,
   "metadata": {
    "id": "TmHJYs3W9oOi"
   },
   "outputs": [],
   "source": [
    "def get_row_sums(matrix):\n",
    "  return np.sum(matrix, axis=1)\n",
    "def get_col_sums(matrix):\n",
    "  return np.sum(matrix, axis=0)"
   ]
  },
  {
   "cell_type": "code",
   "execution_count": 7,
   "metadata": {
    "colab": {
     "base_uri": "https://localhost:8080/"
    },
    "id": "w1ftcMwp9-4-",
    "outputId": "7d32d2ec-e838-4b8a-d564-4ef9f7e7cddc"
   },
   "outputs": [
    {
     "data": {
      "text/plain": [
       "(array([6, 5]), array([4, 7]))"
      ]
     },
     "execution_count": 7,
     "metadata": {},
     "output_type": "execute_result"
    }
   ],
   "source": [
    "get_row_sums(matrix = C.copy()),get_col_sums(matrix = C.copy())"
   ]
  },
  {
   "cell_type": "code",
   "execution_count": 8,
   "metadata": {
    "id": "veYQpycP5fJr"
   },
   "outputs": [],
   "source": [
    "def g(matrix):\n",
    "  ret_mat = normalize_matrix_rows(softmax(matrix)).copy()\n",
    "  r = get_row_sums(ret_mat)\n",
    "  c = get_col_sums(ret_mat)\n",
    "  r_tild = np.ones(len(ret_mat)) - r\n",
    "  c_tild = np.ones(len(ret_mat)) - c\n",
    "  # Actual computation\n",
    "  ret_mat = ret_mat + (1/np.sum(c_tild))*np.outer(r_tild,c_tild)\n",
    "  return ret_mat\n",
    "\n",
    "output_mat = g(C.copy())"
   ]
  },
  {
   "cell_type": "code",
   "execution_count": 9,
   "metadata": {
    "colab": {
     "base_uri": "https://localhost:8080/"
    },
    "id": "8uzrr3S9--gG",
    "outputId": "3b395a97-ebd6-4c13-d371-4399bb7c01c6"
   },
   "outputs": [],
   "source": [
    "def check_bistoch(matrix,tolerance = 1e-12):\n",
    "    if np.any(matrix < 0):\n",
    "        return False\n",
    "        \n",
    "    row_sums = get_row_sums(matrix) \n",
    "    if not np.all(np.abs(row_sums - 1) <= tolerance):\n",
    "        return False\n",
    "        \n",
    "    col_sums = get_col_sums(matrix)\n",
    "    if not np.all(np.abs(col_sums - 1) <= tolerance):\n",
    "        return False\n",
    "    else:\n",
    "        return True\n"
   ]
  },
  {
   "cell_type": "code",
   "execution_count": 20,
   "metadata": {
    "id": "UeukzgorAp4b"
   },
   "outputs": [
    {
     "name": "stdout",
     "output_type": "stream",
     "text": [
      "True\n",
      "False\n"
     ]
    }
   ],
   "source": [
    "print(check_bistoch(output_mat))\n",
    "print(check_bistoch(output_mat + 1e-11*np.ones((2,2))))"
   ]
  },
  {
   "cell_type": "code",
   "execution_count": null,
   "metadata": {},
   "outputs": [],
   "source": []
  }
 ],
 "metadata": {
  "colab": {
   "provenance": []
  },
  "kernelspec": {
   "display_name": "Python 3 (ipykernel)",
   "language": "python",
   "name": "python3"
  },
  "language_info": {
   "codemirror_mode": {
    "name": "ipython",
    "version": 3
   },
   "file_extension": ".py",
   "mimetype": "text/x-python",
   "name": "python",
   "nbconvert_exporter": "python",
   "pygments_lexer": "ipython3",
   "version": "3.12.3"
  }
 },
 "nbformat": 4,
 "nbformat_minor": 4
}
