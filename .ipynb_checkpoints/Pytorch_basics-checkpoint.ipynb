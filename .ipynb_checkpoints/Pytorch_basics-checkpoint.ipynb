{
 "cells": [
  {
   "cell_type": "markdown",
   "id": "e8c855b0-c373-451a-a0ef-343967639f2c",
   "metadata": {},
   "source": [
    "#  - - - - - - - - - - - - - - Quickstart - - - - - - - - - - - - - -"
   ]
  },
  {
   "cell_type": "code",
   "execution_count": 1,
   "id": "362d6dd5-cd76-4d8f-b41c-682ef40878b8",
   "metadata": {},
   "outputs": [],
   "source": [
    "import torch\n",
    "from torch import nn\n",
    "from torch.utils.data import DataLoader\n",
    "from torchvision import datasets\n",
    "from torchvision.transforms import ToTensor"
   ]
  },
  {
   "cell_type": "code",
   "execution_count": 2,
   "id": "40f463fe-eb03-4142-a54c-51588a0acc64",
   "metadata": {},
   "outputs": [],
   "source": [
    "# Download training data from open datasets.\n",
    "training_data = datasets.FashionMNIST(\n",
    "    root=\"data\",\n",
    "    train=True,\n",
    "    download=True,\n",
    "    transform=ToTensor(),\n",
    ")\n",
    "\n",
    "# Download test data from open datasets.\n",
    "test_data = datasets.FashionMNIST(\n",
    "    root=\"data\",\n",
    "    train=False,\n",
    "    download=True,\n",
    "    transform=ToTensor(),\n",
    ")"
   ]
  },
  {
   "cell_type": "code",
   "execution_count": 3,
   "id": "c00bc66f-2836-45fe-910e-906e6795474a",
   "metadata": {},
   "outputs": [
    {
     "name": "stdout",
     "output_type": "stream",
     "text": [
      "Shape of X [N, C, H, W]: torch.Size([64, 1, 28, 28])\n",
      "Shape of y: torch.Size([64]) torch.int64\n"
     ]
    }
   ],
   "source": [
    "batch_size = 64\n",
    "\n",
    "# Create data loaders.\n",
    "train_dataloader = DataLoader(training_data, batch_size=batch_size)\n",
    "test_dataloader = DataLoader(test_data, batch_size=batch_size)\n",
    "\n",
    "for X, y in test_dataloader:\n",
    "    print(f\"Shape of X [N, C, H, W]: {X.shape}\")\n",
    "    print(f\"Shape of y: {y.shape} {y.dtype}\")\n",
    "    break"
   ]
  },
  {
   "cell_type": "code",
   "execution_count": 4,
   "id": "b0505d6a-9ba3-4a29-89e7-7ea529597530",
   "metadata": {},
   "outputs": [
    {
     "name": "stdout",
     "output_type": "stream",
     "text": [
      "Using cuda device\n"
     ]
    }
   ],
   "source": [
    "# Get cpu, gpu or mps device for training.\n",
    "device = (\n",
    "    \"cuda\"\n",
    "    if torch.cuda.is_available()\n",
    "    else \"mps\"\n",
    "    if torch.backends.mps.is_available()\n",
    "    else \"cpu\"\n",
    ")\n",
    "print(f\"Using {device} device\")\n"
   ]
  },
  {
   "cell_type": "code",
   "execution_count": 5,
   "id": "7a6b672c-e986-41be-be9e-30c3be5101fb",
   "metadata": {},
   "outputs": [
    {
     "name": "stdout",
     "output_type": "stream",
     "text": [
      "NeuralNetwork(\n",
      "  (flatten): Flatten(start_dim=1, end_dim=-1)\n",
      "  (linear_relu_stack): Sequential(\n",
      "    (0): Linear(in_features=784, out_features=512, bias=True)\n",
      "    (1): ReLU()\n",
      "    (2): Linear(in_features=512, out_features=512, bias=True)\n",
      "    (3): ReLU()\n",
      "    (4): Linear(in_features=512, out_features=10, bias=True)\n",
      "  )\n",
      ")\n"
     ]
    }
   ],
   "source": [
    "# Define model\n",
    "class NeuralNetwork(nn.Module):\n",
    "    def __init__(self):\n",
    "        super().__init__()\n",
    "        self.flatten = nn.Flatten()\n",
    "        self.linear_relu_stack = nn.Sequential(\n",
    "            nn.Linear(28*28, 512),\n",
    "            nn.ReLU(),\n",
    "            nn.Linear(512, 512),\n",
    "            nn.ReLU(),\n",
    "            nn.Linear(512, 10)\n",
    "        )\n",
    "\n",
    "    def forward(self, x):\n",
    "        x = self.flatten(x)\n",
    "        logits = self.linear_relu_stack(x)\n",
    "        return logits\n",
    "\n",
    "model = NeuralNetwork().to(device)\n",
    "print(model)"
   ]
  },
  {
   "cell_type": "markdown",
   "id": "d0783fa0-895f-4f50-b61e-781906e64254",
   "metadata": {},
   "source": [
    "### Setting up loss function and optimizer"
   ]
  },
  {
   "cell_type": "code",
   "execution_count": 6,
   "id": "fbca6918-464f-4a4e-8520-476c5d15f043",
   "metadata": {},
   "outputs": [],
   "source": [
    "loss_fn = nn.CrossEntropyLoss()\n",
    "optimizer = torch.optim.SGD(model.parameters(), lr=1e-3)"
   ]
  },
  {
   "cell_type": "markdown",
   "id": "8fbdd92f-97b6-4a29-857f-f1a259879e02",
   "metadata": {},
   "source": [
    "### Setting up training function"
   ]
  },
  {
   "cell_type": "code",
   "execution_count": 7,
   "id": "6769e199-6ef3-458e-8f05-43a6209b24ad",
   "metadata": {},
   "outputs": [],
   "source": [
    "def train(dataloader, model, loss_fn, optimizer):\n",
    "    size = len(dataloader.dataset)\n",
    "    model.train()\n",
    "    for batch, (X, y) in enumerate(dataloader):\n",
    "        X, y = X.to(device), y.to(device)\n",
    "\n",
    "        # Compute prediction error\n",
    "        pred = model(X)\n",
    "        loss = loss_fn(pred, y)\n",
    "\n",
    "        # Backpropagation\n",
    "        loss.backward()\n",
    "        optimizer.step()\n",
    "        optimizer.zero_grad()\n",
    "\n",
    "        if batch % 100 == 0:\n",
    "            loss, current = loss.item(), (batch + 1) * len(X)\n",
    "            print(f\"loss: {loss:>7f}  [{current:>5d}/{size:>5d}]\")"
   ]
  },
  {
   "cell_type": "markdown",
   "id": "5ad6eb73-6aa1-414b-9bd7-ecadf92c527d",
   "metadata": {},
   "source": [
    "### Setting up testing function"
   ]
  },
  {
   "cell_type": "code",
   "execution_count": 8,
   "id": "4c171f96-ae90-4f1b-a6ba-62ab0d5b10b1",
   "metadata": {},
   "outputs": [],
   "source": [
    "def test(dataloader, model, loss_fn):\n",
    "    size = len(dataloader.dataset)\n",
    "    num_batches = len(dataloader)\n",
    "    model.eval()\n",
    "    test_loss, correct = 0, 0\n",
    "    with torch.no_grad():\n",
    "        for X, y in dataloader:\n",
    "            X, y = X.to(device), y.to(device)\n",
    "            pred = model(X)\n",
    "            test_loss += loss_fn(pred, y).item()\n",
    "            correct += (pred.argmax(1) == y).type(torch.float).sum().item()\n",
    "    test_loss /= num_batches\n",
    "    correct /= size\n",
    "    print(f\"Test Error: \\n Accuracy: {(100*correct):>0.1f}%, Avg loss: {test_loss:>8f} \\n\")"
   ]
  },
  {
   "cell_type": "markdown",
   "id": "0927acd6-f1c6-48cc-bd00-148e236095fb",
   "metadata": {},
   "source": [
    "### Training model and checking convergence"
   ]
  },
  {
   "cell_type": "code",
   "execution_count": 9,
   "id": "29557c3e-e2a7-4cad-8332-474a0ba1d964",
   "metadata": {},
   "outputs": [
    {
     "name": "stdout",
     "output_type": "stream",
     "text": [
      "Epoch 1\n",
      "-------------------------------\n",
      "loss: 2.307021  [   64/60000]\n",
      "loss: 2.298681  [ 6464/60000]\n",
      "loss: 2.285290  [12864/60000]\n",
      "loss: 2.278459  [19264/60000]\n",
      "loss: 2.254663  [25664/60000]\n",
      "loss: 2.226397  [32064/60000]\n",
      "loss: 2.232929  [38464/60000]\n",
      "loss: 2.204734  [44864/60000]\n",
      "loss: 2.201994  [51264/60000]\n",
      "loss: 2.174015  [57664/60000]\n",
      "Test Error: \n",
      " Accuracy: 48.6%, Avg loss: 2.165748 \n",
      "\n",
      "Epoch 2\n",
      "-------------------------------\n",
      "loss: 2.170921  [   64/60000]\n",
      "loss: 2.164480  [ 6464/60000]\n",
      "loss: 2.113990  [12864/60000]\n",
      "loss: 2.130167  [19264/60000]\n",
      "loss: 2.078559  [25664/60000]\n",
      "loss: 2.016557  [32064/60000]\n",
      "loss: 2.049517  [38464/60000]\n",
      "loss: 1.976953  [44864/60000]\n",
      "loss: 1.980458  [51264/60000]\n",
      "loss: 1.918926  [57664/60000]\n",
      "Test Error: \n",
      " Accuracy: 57.1%, Avg loss: 1.906773 \n",
      "\n",
      "Epoch 3\n",
      "-------------------------------\n",
      "loss: 1.935483  [   64/60000]\n",
      "loss: 1.904712  [ 6464/60000]\n",
      "loss: 1.795454  [12864/60000]\n",
      "loss: 1.837793  [19264/60000]\n",
      "loss: 1.727260  [25664/60000]\n",
      "loss: 1.675181  [32064/60000]\n",
      "loss: 1.706778  [38464/60000]\n",
      "loss: 1.613071  [44864/60000]\n",
      "loss: 1.638835  [51264/60000]\n",
      "loss: 1.543895  [57664/60000]\n",
      "Test Error: \n",
      " Accuracy: 60.2%, Avg loss: 1.544753 \n",
      "\n",
      "Epoch 4\n",
      "-------------------------------\n",
      "loss: 1.608323  [   64/60000]\n",
      "loss: 1.566889  [ 6464/60000]\n",
      "loss: 1.428702  [12864/60000]\n",
      "loss: 1.498605  [19264/60000]\n",
      "loss: 1.380082  [25664/60000]\n",
      "loss: 1.368090  [32064/60000]\n",
      "loss: 1.386403  [38464/60000]\n",
      "loss: 1.320487  [44864/60000]\n",
      "loss: 1.354164  [51264/60000]\n",
      "loss: 1.260288  [57664/60000]\n",
      "Test Error: \n",
      " Accuracy: 62.8%, Avg loss: 1.274740 \n",
      "\n",
      "Epoch 5\n",
      "-------------------------------\n",
      "loss: 1.348135  [   64/60000]\n",
      "loss: 1.323779  [ 6464/60000]\n",
      "loss: 1.173908  [12864/60000]\n",
      "loss: 1.274501  [19264/60000]\n",
      "loss: 1.149942  [25664/60000]\n",
      "loss: 1.164733  [32064/60000]\n",
      "loss: 1.186570  [38464/60000]\n",
      "loss: 1.137365  [44864/60000]\n",
      "loss: 1.174765  [51264/60000]\n",
      "loss: 1.096382  [57664/60000]\n",
      "Test Error: \n",
      " Accuracy: 64.5%, Avg loss: 1.106977 \n",
      "\n",
      "Done!\n"
     ]
    }
   ],
   "source": [
    "epochs = 5\n",
    "for t in range(epochs):\n",
    "    print(f\"Epoch {t+1}\\n-------------------------------\")\n",
    "    train(train_dataloader, model, loss_fn, optimizer)\n",
    "    test(test_dataloader, model, loss_fn)\n",
    "print(\"Done!\")"
   ]
  },
  {
   "cell_type": "markdown",
   "id": "5b543c15-ef5e-4c24-9420-92eef84d76f1",
   "metadata": {},
   "source": [
    "### Model saving"
   ]
  },
  {
   "cell_type": "code",
   "execution_count": 10,
   "id": "bf7d5a93-c503-4821-9d32-48b86dc17570",
   "metadata": {},
   "outputs": [
    {
     "name": "stdout",
     "output_type": "stream",
     "text": [
      "Saved PyTorch Model State to Trained_models/first_model.pth\n"
     ]
    }
   ],
   "source": [
    "torch.save(model.state_dict(), \"Trained_models/first_model.pth\")\n",
    "print(\"Saved PyTorch Model State to Trained_models/first_model.pth\")"
   ]
  },
  {
   "cell_type": "markdown",
   "id": "a277b506-c7a6-4dfc-a6b4-b4f670215445",
   "metadata": {},
   "source": [
    "### Loading Model"
   ]
  },
  {
   "cell_type": "code",
   "execution_count": 11,
   "id": "090ead6a-1e8f-4a07-bb63-03daba7ccaa6",
   "metadata": {},
   "outputs": [
    {
     "data": {
      "text/plain": [
       "<All keys matched successfully>"
      ]
     },
     "execution_count": 11,
     "metadata": {},
     "output_type": "execute_result"
    }
   ],
   "source": [
    "model = NeuralNetwork().to(device)\n",
    "model.load_state_dict(torch.load(\"Trained_models/first_model.pth\"))"
   ]
  },
  {
   "cell_type": "markdown",
   "id": "729300aa-2075-4820-aef7-7c43a53bf620",
   "metadata": {},
   "source": [
    "### Making predictions"
   ]
  },
  {
   "cell_type": "code",
   "execution_count": 12,
   "id": "8f7853eb-1ac7-4972-9607-8de4285ef324",
   "metadata": {},
   "outputs": [
    {
     "name": "stdout",
     "output_type": "stream",
     "text": [
      "Predicted: \"Ankle boot\", Actual: \"Ankle boot\"\n"
     ]
    }
   ],
   "source": [
    "classes = [\n",
    "    \"T-shirt/top\",\n",
    "    \"Trouser\",\n",
    "    \"Pullover\",\n",
    "    \"Dress\",\n",
    "    \"Coat\",\n",
    "    \"Sandal\",\n",
    "    \"Shirt\",\n",
    "    \"Sneaker\",\n",
    "    \"Bag\",\n",
    "    \"Ankle boot\",\n",
    "]\n",
    "\n",
    "model.eval()\n",
    "x, y = test_data[0][0], test_data[0][1]\n",
    "with torch.no_grad():\n",
    "    x = x.to(device)\n",
    "    pred = model(x)\n",
    "    predicted = classes[pred[0].argmax(0)]\n",
    "    actual = classes[y]\n",
    "    print(f'Predicted: \"{predicted}\", Actual: \"{actual}\"')"
   ]
  },
  {
   "cell_type": "markdown",
   "id": "14333f3b-b531-42d2-b9f3-f220f2df3502",
   "metadata": {},
   "source": [
    "#  - - - - - - - - - - - - - - Tensors - - - - - - - - - - - - - -"
   ]
  },
  {
   "cell_type": "code",
   "execution_count": 13,
   "id": "c2397754-283d-4263-a0b1-174da5928768",
   "metadata": {},
   "outputs": [],
   "source": [
    "import torch\n",
    "import numpy as np"
   ]
  },
  {
   "cell_type": "markdown",
   "id": "961f0d46-f06d-4059-b17c-ed88fee51c34",
   "metadata": {},
   "source": [
    "### Tensor initialization methods"
   ]
  },
  {
   "cell_type": "code",
   "execution_count": 14,
   "id": "5864327a-3b98-4d7d-9a0a-5f9c4e44a499",
   "metadata": {},
   "outputs": [
    {
     "data": {
      "text/plain": [
       "tensor([[1, 2],\n",
       "        [3, 4]])"
      ]
     },
     "execution_count": 14,
     "metadata": {},
     "output_type": "execute_result"
    }
   ],
   "source": [
    "data = [[1, 2],[3, 4]]\n",
    "x_data = torch.tensor(data)\n",
    "x_data"
   ]
  },
  {
   "cell_type": "code",
   "execution_count": 15,
   "id": "60d0a4db-11d5-41dd-81f7-c609d6ea4e8e",
   "metadata": {},
   "outputs": [
    {
     "data": {
      "text/plain": [
       "tensor([[1, 2],\n",
       "        [3, 4]], dtype=torch.int32)"
      ]
     },
     "execution_count": 15,
     "metadata": {},
     "output_type": "execute_result"
    }
   ],
   "source": [
    "np_array = np.array(data)\n",
    "x_np = torch.from_numpy(np_array)\n",
    "x_np"
   ]
  },
  {
   "cell_type": "code",
   "execution_count": 16,
   "id": "28ded06a-5ac1-496e-a390-f0089d240d15",
   "metadata": {},
   "outputs": [
    {
     "name": "stdout",
     "output_type": "stream",
     "text": [
      "Ones Tensor: \n",
      " tensor([[1, 1],\n",
      "        [1, 1]]) \n",
      "\n",
      "Random Tensor: \n",
      " tensor([[0.3924, 0.3774],\n",
      "        [0.6959, 0.1848]]) \n",
      "\n"
     ]
    }
   ],
   "source": [
    "x_ones = torch.ones_like(x_data) # retains the properties of x_data\n",
    "print(f\"Ones Tensor: \\n {x_ones} \\n\")\n",
    "\n",
    "x_rand = torch.rand_like(x_data, dtype=torch.float) # overrides the datatype of x_data\n",
    "print(f\"Random Tensor: \\n {x_rand} \\n\")"
   ]
  },
  {
   "cell_type": "code",
   "execution_count": 17,
   "id": "ed3a3945-be1d-4b37-94e4-1a91a9007c8b",
   "metadata": {},
   "outputs": [
    {
     "name": "stdout",
     "output_type": "stream",
     "text": [
      "Random Tensor: \n",
      " tensor([[0.5438, 0.2461, 0.3851],\n",
      "        [0.2425, 0.8163, 0.9086]]) \n",
      "\n",
      "Ones Tensor: \n",
      " tensor([[1., 1., 1.],\n",
      "        [1., 1., 1.]]) \n",
      "\n",
      "Zeros Tensor: \n",
      " tensor([[0., 0., 0.],\n",
      "        [0., 0., 0.]])\n"
     ]
    }
   ],
   "source": [
    "shape = (2,3,)\n",
    "rand_tensor = torch.rand(shape)\n",
    "ones_tensor = torch.ones(shape)\n",
    "zeros_tensor = torch.zeros(shape)\n",
    "\n",
    "print(f\"Random Tensor: \\n {rand_tensor} \\n\")\n",
    "print(f\"Ones Tensor: \\n {ones_tensor} \\n\")\n",
    "print(f\"Zeros Tensor: \\n {zeros_tensor}\")"
   ]
  },
  {
   "cell_type": "markdown",
   "id": "dc67414f-2534-4340-99d1-3f528aeb3ba3",
   "metadata": {},
   "source": [
    "### Tensor attributes"
   ]
  },
  {
   "cell_type": "code",
   "execution_count": 18,
   "id": "dd88fe3f-8263-46ad-9974-a76cad22e5cb",
   "metadata": {},
   "outputs": [
    {
     "name": "stdout",
     "output_type": "stream",
     "text": [
      "Shape of tensor: torch.Size([3, 4])\n",
      "Datatype of tensor: torch.float32\n",
      "Device tensor is stored on: cpu\n"
     ]
    }
   ],
   "source": [
    "tensor = torch.rand(3,4)\n",
    "\n",
    "print(f\"Shape of tensor: {tensor.shape}\")\n",
    "print(f\"Datatype of tensor: {tensor.dtype}\")\n",
    "print(f\"Device tensor is stored on: {tensor.device}\")"
   ]
  },
  {
   "cell_type": "markdown",
   "id": "16c9e3a4-943b-4945-9cd0-a2a54cbefdeb",
   "metadata": {},
   "source": [
    "### Tensor operations"
   ]
  },
  {
   "cell_type": "code",
   "execution_count": 19,
   "id": "eda8d729-45ec-4e23-9525-4a059a1f467a",
   "metadata": {},
   "outputs": [
    {
     "name": "stdout",
     "output_type": "stream",
     "text": [
      "Device tensor is stored on: cuda:0\n"
     ]
    }
   ],
   "source": [
    "# We move our tensor to the GPU if available\n",
    "if torch.cuda.is_available():\n",
    "    tensor = tensor.to(\"cuda\")\n",
    "print(f\"Device tensor is stored on: {tensor.device}\")"
   ]
  },
  {
   "cell_type": "code",
   "execution_count": 20,
   "id": "8cbdac28-c682-4947-8f6a-218d2ce761c5",
   "metadata": {},
   "outputs": [
    {
     "name": "stdout",
     "output_type": "stream",
     "text": [
      "First row: tensor([1., 1., 1., 1.])\n",
      "First column: tensor([1., 1., 1., 1.])\n",
      "Last column: tensor([1., 1., 1., 1.])\n",
      "tensor([[1., 0., 1., 1.],\n",
      "        [1., 0., 1., 1.],\n",
      "        [1., 0., 1., 1.],\n",
      "        [1., 0., 1., 1.]])\n"
     ]
    }
   ],
   "source": [
    "tensor = torch.ones(4, 4)\n",
    "print(f\"First row: {tensor[0]}\")\n",
    "print(f\"First column: {tensor[:, 0]}\")\n",
    "print(f\"Last column: {tensor[..., -1]}\")\n",
    "tensor[:,1] = 0\n",
    "print(tensor)"
   ]
  },
  {
   "cell_type": "code",
   "execution_count": 21,
   "id": "ec3eaed1-b224-4f8c-8d44-40ec11162852",
   "metadata": {},
   "outputs": [
    {
     "name": "stdout",
     "output_type": "stream",
     "text": [
      "tensor([[1., 0., 1., 1., 1., 0., 1., 1., 1., 0., 1., 1.],\n",
      "        [1., 0., 1., 1., 1., 0., 1., 1., 1., 0., 1., 1.],\n",
      "        [1., 0., 1., 1., 1., 0., 1., 1., 1., 0., 1., 1.],\n",
      "        [1., 0., 1., 1., 1., 0., 1., 1., 1., 0., 1., 1.]])\n"
     ]
    }
   ],
   "source": [
    "t1 = torch.cat([tensor, tensor, tensor], dim=1)\n",
    "print(t1)"
   ]
  },
  {
   "cell_type": "code",
   "execution_count": 22,
   "id": "a2107f75-2bd1-4c58-954b-9f5c46f2e1a3",
   "metadata": {},
   "outputs": [
    {
     "data": {
      "text/plain": [
       "tensor([[1., 0., 1., 1.],\n",
       "        [1., 0., 1., 1.],\n",
       "        [1., 0., 1., 1.],\n",
       "        [1., 0., 1., 1.]])"
      ]
     },
     "execution_count": 22,
     "metadata": {},
     "output_type": "execute_result"
    }
   ],
   "source": [
    "# This computes the matrix multiplication between two tensors. y1, y2, y3 will have the same value\n",
    "# ``tensor.T`` returns the transpose of a tensor\n",
    "y1 = tensor @ tensor.T\n",
    "y2 = tensor.matmul(tensor.T)\n",
    "\n",
    "y3 = torch.rand_like(y1)\n",
    "torch.matmul(tensor, tensor.T, out=y3)\n",
    "\n",
    "\n",
    "# This computes the element-wise product. z1, z2, z3 will have the same value\n",
    "z1 = tensor * tensor\n",
    "z2 = tensor.mul(tensor)\n",
    "\n",
    "z3 = torch.rand_like(tensor)\n",
    "torch.mul(tensor, tensor, out=z3)"
   ]
  },
  {
   "cell_type": "code",
   "execution_count": 23,
   "id": "a2d23864-cc29-4de2-9305-23802bdf3bae",
   "metadata": {},
   "outputs": [
    {
     "name": "stdout",
     "output_type": "stream",
     "text": [
      "12.0 <class 'float'>\n"
     ]
    }
   ],
   "source": [
    "agg = tensor.sum()\n",
    "agg_item = agg.item()\n",
    "print(agg_item, type(agg_item))"
   ]
  },
  {
   "cell_type": "code",
   "execution_count": 24,
   "id": "2c728b81-8e33-4767-aad2-c1e846a354b1",
   "metadata": {},
   "outputs": [
    {
     "name": "stdout",
     "output_type": "stream",
     "text": [
      "tensor([[1., 0., 1., 1.],\n",
      "        [1., 0., 1., 1.],\n",
      "        [1., 0., 1., 1.],\n",
      "        [1., 0., 1., 1.]]) \n",
      "\n",
      "tensor([[6., 5., 6., 6.],\n",
      "        [6., 5., 6., 6.],\n",
      "        [6., 5., 6., 6.],\n",
      "        [6., 5., 6., 6.]])\n"
     ]
    }
   ],
   "source": [
    "print(f\"{tensor} \\n\")\n",
    "tensor.add_(5)\n",
    "print(tensor)"
   ]
  },
  {
   "cell_type": "markdown",
   "id": "df90eb87-d574-4086-b44a-eec2b77593ef",
   "metadata": {},
   "source": [
    "### NOTE:\n",
    "    \n",
    "    In-place operations save some memory,\n",
    "    but can be problematic when computing derivatives because of an immediate loss of history. \n",
    "    Hence, their use is discouraged."
   ]
  },
  {
   "cell_type": "code",
   "execution_count": 25,
   "id": "143bca2f-73ab-46ac-9da7-117fcc37801c",
   "metadata": {},
   "outputs": [
    {
     "name": "stdout",
     "output_type": "stream",
     "text": [
      "t: tensor([1., 1., 1., 1., 1.])\n",
      "n: [1. 1. 1. 1. 1.]\n"
     ]
    }
   ],
   "source": [
    "t = torch.ones(5)\n",
    "print(f\"t: {t}\")\n",
    "n = t.numpy()\n",
    "print(f\"n: {n}\")"
   ]
  },
  {
   "cell_type": "code",
   "execution_count": 26,
   "id": "b9f5d5c4-d21d-476d-9291-b879524fb8f1",
   "metadata": {},
   "outputs": [
    {
     "name": "stdout",
     "output_type": "stream",
     "text": [
      "t: tensor([2., 2., 2., 2., 2.])\n",
      "n: [2. 2. 2. 2. 2.]\n"
     ]
    }
   ],
   "source": [
    "t.add_(1)\n",
    "print(f\"t: {t}\")\n",
    "print(f\"n: {n}\")"
   ]
  },
  {
   "cell_type": "code",
   "execution_count": 27,
   "id": "c174a4f9-b23e-420b-bb3f-8f4b3d552ae5",
   "metadata": {},
   "outputs": [],
   "source": [
    "n = np.ones(5)\n",
    "t = torch.from_numpy(n)"
   ]
  },
  {
   "cell_type": "code",
   "execution_count": 28,
   "id": "df2957ff-1492-4690-95af-0fbbd250eaa0",
   "metadata": {},
   "outputs": [
    {
     "name": "stdout",
     "output_type": "stream",
     "text": [
      "t: tensor([2., 2., 2., 2., 2.], dtype=torch.float64)\n",
      "n: [2. 2. 2. 2. 2.]\n"
     ]
    }
   ],
   "source": [
    "np.add(n, 1, out=n)\n",
    "print(f\"t: {t}\")\n",
    "print(f\"n: {n}\")"
   ]
  },
  {
   "cell_type": "markdown",
   "id": "ff99d682-277b-49d8-8bd7-f979afc641eb",
   "metadata": {},
   "source": [
    "# Datasets & DataLoaders"
   ]
  },
  {
   "cell_type": "code",
   "execution_count": 29,
   "id": "4c8191e5-a70e-45aa-a9b0-d8d449bf7119",
   "metadata": {},
   "outputs": [],
   "source": [
    "import torch\n",
    "from torch.utils.data import Dataset\n",
    "from torchvision import datasets\n",
    "from torchvision.transforms import ToTensor\n",
    "import matplotlib.pyplot as plt\n",
    "\n",
    "\n",
    "training_data = datasets.FashionMNIST(\n",
    "    root=\"data\",\n",
    "    train=True,\n",
    "    download=True,\n",
    "    transform=ToTensor()\n",
    ")\n",
    "\n",
    "test_data = datasets.FashionMNIST(\n",
    "    root=\"data\",\n",
    "    train=False,\n",
    "    download=True,\n",
    "    transform=ToTensor()\n",
    ")"
   ]
  },
  {
   "cell_type": "code",
   "execution_count": 30,
   "id": "f5eb947f-2c00-4b8d-916b-924208630c4a",
   "metadata": {},
   "outputs": [
    {
     "data": {
      "image/png": "[encoded data removed]",
      "text/plain": [
       "<Figure size 800x800 with 9 Axes>"
      ]
     },
     "metadata": {},
     "output_type": "display_data"
    }
   ],
   "source": [
    "labels_map = {\n",
    "    0: \"T-Shirt\",\n",
    "    1: \"Trouser\",\n",
    "    2: \"Pullover\",\n",
    "    3: \"Dress\",\n",
    "    4: \"Coat\",\n",
    "    5: \"Sandal\",\n",
    "    6: \"Shirt\",\n",
    "    7: \"Sneaker\",\n",
    "    8: \"Bag\",\n",
    "    9: \"Ankle Boot\",\n",
    "}\n",
    "figure = plt.figure(figsize=(8, 8))\n",
    "cols, rows = 3, 3\n",
    "for i in range(1, cols * rows + 1):\n",
    "    sample_idx = torch.randint(len(training_data), size=(1,)).item()\n",
    "    img, label = training_data[sample_idx]\n",
    "    figure.add_subplot(rows, cols, i)\n",
    "    plt.title(labels_map[label])\n",
    "    plt.axis(\"off\")\n",
    "    plt.imshow(img.squeeze(),cmap=\"gray\")\n",
    "plt.show()"
   ]
  },
  {
   "cell_type": "markdown",
   "id": "5968a938-2a77-444a-a34e-ea0891730736",
   "metadata": {},
   "source": [
    "# Preparing your data for training with DataLoaders"
   ]
  },
  {
   "cell_type": "code",
   "execution_count": 31,
   "id": "36c3a2a9-d26b-4548-95c8-ac259da08f8d",
   "metadata": {},
   "outputs": [],
   "source": [
    "from torch.utils.data import DataLoader\n",
    "\n",
    "train_dataloader = DataLoader(training_data, batch_size=64, shuffle=True)\n",
    "test_dataloader = DataLoader(test_data, batch_size=64, shuffle=True)"
   ]
  },
  {
   "cell_type": "code",
   "execution_count": 32,
   "id": "beddbc6f-901f-4bb4-acd0-f04659e40a32",
   "metadata": {},
   "outputs": [
    {
     "name": "stdout",
     "output_type": "stream",
     "text": [
      "Feature batch shape: torch.Size([64, 1, 28, 28])\n",
      "Labels batch shape: torch.Size([64])\n"
     ]
    },
    {
     "data": {
      "image/png": "[encoded data removed]",
      "text/plain": [
       "<Figure size 640x480 with 1 Axes>"
      ]
     },
     "metadata": {},
     "output_type": "display_data"
    },
    {
     "name": "stdout",
     "output_type": "stream",
     "text": [
      "Label: 4\n"
     ]
    }
   ],
   "source": [
    "# Display image and label.\n",
    "train_features, train_labels = next(iter(train_dataloader))\n",
    "print(f\"Feature batch shape: {train_features.size()}\")\n",
    "print(f\"Labels batch shape: {train_labels.size()}\")\n",
    "img = train_features[0].squeeze()\n",
    "label = train_labels[0]\n",
    "plt.imshow(img, cmap=\"gray\")\n",
    "plt.show()\n",
    "print(f\"Label: {label}\")"
   ]
  },
  {
   "cell_type": "markdown",
   "id": "a2d847f6-cfd0-4641-a128-3089bbca9bef",
   "metadata": {},
   "source": [
    "# Transforms"
   ]
  },
  {
   "cell_type": "markdown",
   "id": "c4dcb836-1e4f-4e51-ae8b-8fe72630c431",
   "metadata": {},
   "source": [
    "The FashionMNIST features are in PIL Image format, and the labels are integers. For training, we need the features as normalized tensors,\n",
    "and the labels as one-hot encoded tensors.\n",
    "To make these transformations, we use ToTensor and Lambda."
   ]
  },
  {
   "cell_type": "code",
   "execution_count": 33,
   "id": "e375421a-f32a-4558-b266-cf40347f19f1",
   "metadata": {},
   "outputs": [],
   "source": [
    "import torch\n",
    "from torchvision import datasets\n",
    "from torchvision.transforms import ToTensor, Lambda\n",
    "\n",
    "ds = datasets.FashionMNIST(\n",
    "    root=\"data\",\n",
    "    train=True,\n",
    "    download=True,\n",
    "    transform=ToTensor(),\n",
    "    target_transform=Lambda(lambda y: torch.zeros(10, dtype=torch.float).scatter_(0, torch.tensor(y), value=1))\n",
    ")"
   ]
  },
  {
   "cell_type": "markdown",
   "id": "473df41d-cd4e-4183-8a41-a12ea9df454b",
   "metadata": {},
   "source": [
    "# Build a Neural Network"
   ]
  },
  {
   "cell_type": "code",
   "execution_count": 34,
   "id": "5ec47d4d-8e3a-4a8e-b574-cfd85dee184a",
   "metadata": {},
   "outputs": [],
   "source": [
    "import os\n",
    "import torch\n",
    "from torch import nn\n",
    "from torch.utils.data import DataLoader\n",
    "from torchvision import datasets, transforms"
   ]
  },
  {
   "cell_type": "code",
   "execution_count": 35,
   "id": "9e138715-fb96-4274-8f5f-ca6d1844f4e6",
   "metadata": {},
   "outputs": [
    {
     "name": "stdout",
     "output_type": "stream",
     "text": [
      "Using cuda:0 device\n"
     ]
    }
   ],
   "source": [
    "device = (\n",
    "    \"cuda:0\"\n",
    "    if torch.cuda.is_available()\n",
    "    else \"mps\"\n",
    "    if torch.backends.mps.is_available()\n",
    "    else \"cpu\"\n",
    ")\n",
    "\n",
    "print(f\"Using {device} device\")"
   ]
  },
  {
   "cell_type": "markdown",
   "id": "afa76516-125d-4000-8f0a-aa6e54bd1314",
   "metadata": {},
   "source": [
    "### Network class definition"
   ]
  },
  {
   "cell_type": "code",
   "execution_count": 36,
   "id": "3be741f1-ffb2-407a-adaf-31e81f7c3950",
   "metadata": {},
   "outputs": [],
   "source": [
    "class NeuralNetwork(nn.Module):\n",
    "    def __init__(self):\n",
    "        super().__init__()\n",
    "        self.flatten = nn.Flatten()\n",
    "        self.linear_relu_stack = nn.Sequential(\n",
    "            nn.Linear(28*28, 512),\n",
    "            nn.ReLU(),\n",
    "            nn.Linear(512, 512),\n",
    "            nn.ReLU(),\n",
    "            nn.Linear(512, 10),\n",
    "        )\n",
    "\n",
    "    def forward(self, x):\n",
    "        x = self.flatten(x)\n",
    "        logits = self.linear_relu_stack(x)\n",
    "        return logits"
   ]
  },
  {
   "cell_type": "code",
   "execution_count": 37,
   "id": "3113b807-3585-4dcd-8b4d-d800d07da1bc",
   "metadata": {},
   "outputs": [
    {
     "name": "stdout",
     "output_type": "stream",
     "text": [
      "NeuralNetwork(\n",
      "  (flatten): Flatten(start_dim=1, end_dim=-1)\n",
      "  (linear_relu_stack): Sequential(\n",
      "    (0): Linear(in_features=784, out_features=512, bias=True)\n",
      "    (1): ReLU()\n",
      "    (2): Linear(in_features=512, out_features=512, bias=True)\n",
      "    (3): ReLU()\n",
      "    (4): Linear(in_features=512, out_features=10, bias=True)\n",
      "  )\n",
      ")\n"
     ]
    }
   ],
   "source": [
    "model = NeuralNetwork().to(device)\n",
    "print(model)"
   ]
  },
  {
   "cell_type": "code",
   "execution_count": 38,
   "id": "a3811919-4d47-4cde-8f2e-2dd9efc2425c",
   "metadata": {},
   "outputs": [
    {
     "name": "stdout",
     "output_type": "stream",
     "text": [
      "Predicted class: tensor([6], device='cuda:0')\n"
     ]
    }
   ],
   "source": [
    "X = torch.rand(1, 28, 28, device=device)\n",
    "logits = model(X)\n",
    "pred_probab = nn.Softmax(dim=1)(logits)\n",
    "y_pred = pred_probab.argmax(1)\n",
    "print(f\"Predicted class: {y_pred}\")"
   ]
  },
  {
   "cell_type": "code",
   "execution_count": 39,
   "id": "9af23854-e784-463b-8fab-0a832f0e5459",
   "metadata": {},
   "outputs": [
    {
     "name": "stdout",
     "output_type": "stream",
     "text": [
      "torch.Size([3, 28, 28])\n"
     ]
    }
   ],
   "source": [
    "input_image = torch.rand(3,28,28)\n",
    "print(input_image.size())"
   ]
  },
  {
   "cell_type": "code",
   "execution_count": 40,
   "id": "9a58283d-1a4e-4b52-ae17-51c7dadb757c",
   "metadata": {},
   "outputs": [
    {
     "name": "stdout",
     "output_type": "stream",
     "text": [
      "torch.Size([3, 784])\n"
     ]
    }
   ],
   "source": [
    "flatten = nn.Flatten()\n",
    "flat_image = flatten(input_image)\n",
    "print(flat_image.size())"
   ]
  },
  {
   "cell_type": "code",
   "execution_count": 41,
   "id": "d0866b33-653c-432e-adfc-6afdc8ac1f72",
   "metadata": {},
   "outputs": [
    {
     "name": "stdout",
     "output_type": "stream",
     "text": [
      "torch.Size([3, 20])\n"
     ]
    }
   ],
   "source": [
    "layer1 = nn.Linear(in_features=28*28, out_features=20)\n",
    "hidden1 = layer1(flat_image)\n",
    "print(hidden1.size())"
   ]
  },
  {
   "cell_type": "code",
   "execution_count": 42,
   "id": "4b5037d2-a722-4eb9-b839-dd6a52cd5612",
   "metadata": {},
   "outputs": [
    {
     "name": "stdout",
     "output_type": "stream",
     "text": [
      "Before ReLU: tensor([[ 0.1162, -0.1632, -0.2730,  1.1639, -0.4261,  0.0513, -0.0774, -0.0995,\n",
      "          0.1370,  0.2100,  0.1503, -0.1087,  0.0596, -0.1938, -0.0707,  0.7091,\n",
      "          0.2821, -0.2871,  0.4152, -0.1894],\n",
      "        [ 0.1771,  0.1278, -0.4769,  0.5455, -0.1871, -0.0202,  0.1895,  0.1108,\n",
      "          0.0740,  0.4294,  0.3962, -0.3147, -0.2337,  0.2986, -0.0353,  0.6546,\n",
      "          0.3085, -0.2027,  0.1123,  0.0263],\n",
      "        [-0.2341, -0.0242, -0.4906,  0.7944, -0.2657, -0.2744,  0.0171, -0.2125,\n",
      "          0.0383,  0.1387, -0.2270, -0.3426,  0.0394,  0.2340, -0.5009,  0.3382,\n",
      "         -0.0386, -0.5550,  0.3387,  0.1795]], grad_fn=<AddmmBackward0>)\n",
      "\n",
      "\n",
      "After ReLU: tensor([[0.1162, 0.0000, 0.0000, 1.1639, 0.0000, 0.0513, 0.0000, 0.0000, 0.1370,\n",
      "         0.2100, 0.1503, 0.0000, 0.0596, 0.0000, 0.0000, 0.7091, 0.2821, 0.0000,\n",
      "         0.4152, 0.0000],\n",
      "        [0.1771, 0.1278, 0.0000, 0.5455, 0.0000, 0.0000, 0.1895, 0.1108, 0.0740,\n",
      "         0.4294, 0.3962, 0.0000, 0.0000, 0.2986, 0.0000, 0.6546, 0.3085, 0.0000,\n",
      "         0.1123, 0.0263],\n",
      "        [0.0000, 0.0000, 0.0000, 0.7944, 0.0000, 0.0000, 0.0171, 0.0000, 0.0383,\n",
      "         0.1387, 0.0000, 0.0000, 0.0394, 0.2340, 0.0000, 0.3382, 0.0000, 0.0000,\n",
      "         0.3387, 0.1795]], grad_fn=<ReluBackward0>)\n"
     ]
    }
   ],
   "source": [
    "print(f\"Before ReLU: {hidden1}\\n\\n\")\n",
    "hidden1 = nn.ReLU()(hidden1)\n",
    "print(f\"After ReLU: {hidden1}\")"
   ]
  },
  {
   "cell_type": "code",
   "execution_count": 43,
   "id": "cdba3b89-5094-4449-9882-23cbf201854a",
   "metadata": {},
   "outputs": [],
   "source": [
    "seq_modules = nn.Sequential(\n",
    "    flatten,\n",
    "    layer1,\n",
    "    nn.ReLU(),\n",
    "    nn.Linear(20, 10)\n",
    ")\n",
    "input_image = torch.rand(3,28,28)\n",
    "logits = seq_modules(input_image)"
   ]
  },
  {
   "cell_type": "code",
   "execution_count": 44,
   "id": "66fe58c1-2b0b-4d69-bc01-ccf9e0f22818",
   "metadata": {},
   "outputs": [
    {
     "data": {
      "text/plain": [
       "tensor([1.0000, 1.0000, 1.0000], grad_fn=<SumBackward1>)"
      ]
     },
     "execution_count": 44,
     "metadata": {},
     "output_type": "execute_result"
    }
   ],
   "source": [
    "softmax = nn.Softmax(dim=1)\n",
    "pred_probab = softmax(logits)\n",
    "pred_probab.sum(axis = 1)"
   ]
  },
  {
   "cell_type": "code",
   "execution_count": 45,
   "id": "276359df-4531-4886-8ffb-1572beb66a11",
   "metadata": {},
   "outputs": [
    {
     "name": "stdout",
     "output_type": "stream",
     "text": [
      "Model structure: NeuralNetwork(\n",
      "  (flatten): Flatten(start_dim=1, end_dim=-1)\n",
      "  (linear_relu_stack): Sequential(\n",
      "    (0): Linear(in_features=784, out_features=512, bias=True)\n",
      "    (1): ReLU()\n",
      "    (2): Linear(in_features=512, out_features=512, bias=True)\n",
      "    (3): ReLU()\n",
      "    (4): Linear(in_features=512, out_features=10, bias=True)\n",
      "  )\n",
      ")\n",
      "\n",
      "\n",
      "Layer: linear_relu_stack.0.weight | Size: torch.Size([512, 784]) | Values : tensor([[ 0.0230, -0.0277, -0.0271,  ...,  0.0236,  0.0183,  0.0317],\n",
      "        [ 0.0114, -0.0265,  0.0315,  ..., -0.0356, -0.0106, -0.0164]],\n",
      "       device='cuda:0', grad_fn=<SliceBackward0>) \n",
      "\n",
      "Layer: linear_relu_stack.0.bias | Size: torch.Size([512]) | Values : tensor([0.0115, 0.0201], device='cuda:0', grad_fn=<SliceBackward0>) \n",
      "\n",
      "Layer: linear_relu_stack.2.weight | Size: torch.Size([512, 512]) | Values : tensor([[ 0.0270,  0.0424,  0.0127,  ...,  0.0081,  0.0353,  0.0348],\n",
      "        [-0.0002, -0.0221,  0.0094,  ..., -0.0416, -0.0017,  0.0441]],\n",
      "       device='cuda:0', grad_fn=<SliceBackward0>) \n",
      "\n",
      "Layer: linear_relu_stack.2.bias | Size: torch.Size([512]) | Values : tensor([0.0261, 0.0386], device='cuda:0', grad_fn=<SliceBackward0>) \n",
      "\n",
      "Layer: linear_relu_stack.4.weight | Size: torch.Size([10, 512]) | Values : tensor([[ 0.0345,  0.0058, -0.0077,  ..., -0.0325, -0.0066, -0.0233],\n",
      "        [-0.0265,  0.0314,  0.0163,  ...,  0.0226, -0.0428,  0.0170]],\n",
      "       device='cuda:0', grad_fn=<SliceBackward0>) \n",
      "\n",
      "Layer: linear_relu_stack.4.bias | Size: torch.Size([10]) | Values : tensor([0.0077, 0.0339], device='cuda:0', grad_fn=<SliceBackward0>) \n",
      "\n"
     ]
    }
   ],
   "source": [
    "print(f\"Model structure: {model}\\n\\n\")\n",
    "\n",
    "for name, param in model.named_parameters():\n",
    "    print(f\"Layer: {name} | Size: {param.size()} | Values : {param[:2]} \\n\")"
   ]
  },
  {
   "cell_type": "markdown",
   "id": "2e8c6382-670c-464e-9a25-5b3d264a5e5e",
   "metadata": {},
   "source": [
    "# Automatic Differentiation with torch.autograd"
   ]
  },
  {
   "cell_type": "code",
   "execution_count": 46,
   "id": "fcd6d6b4-a287-4524-9cd1-9276d10760d9",
   "metadata": {},
   "outputs": [],
   "source": [
    "import torch\n",
    "\n",
    "x = torch.ones(5)  # input tensor\n",
    "y = torch.zeros(3)  # expected output\n",
    "w = torch.randn(5, 3, requires_grad=True)\n",
    "b = torch.randn(3, requires_grad=True)\n",
    "z = torch.matmul(x, w)+b\n",
    "loss = torch.nn.functional.binary_cross_entropy_with_logits(z, y)"
   ]
  },
  {
   "cell_type": "code",
   "execution_count": 47,
   "id": "dabd7bba-402e-4934-80bf-2517a96cc029",
   "metadata": {},
   "outputs": [
    {
     "name": "stdout",
     "output_type": "stream",
     "text": [
      "Gradient function for z = <AddBackward0 object at 0x000001A9FBEE9960>\n",
      "Gradient function for loss = <BinaryCrossEntropyWithLogitsBackward0 object at 0x000001A9FBAA65F0>\n"
     ]
    }
   ],
   "source": [
    "print(f\"Gradient function for z = {z.grad_fn}\")\n",
    "print(f\"Gradient function for loss = {loss.grad_fn}\")"
   ]
  },
  {
   "cell_type": "code",
   "execution_count": 48,
   "id": "e4ff48ed-a5b9-41ee-a0cf-02208f5733e6",
   "metadata": {},
   "outputs": [
    {
     "name": "stdout",
     "output_type": "stream",
     "text": [
      "tensor([[0.1228, 0.0652, 0.2439],\n",
      "        [0.1228, 0.0652, 0.2439],\n",
      "        [0.1228, 0.0652, 0.2439],\n",
      "        [0.1228, 0.0652, 0.2439],\n",
      "        [0.1228, 0.0652, 0.2439]])\n",
      "tensor([0.1228, 0.0652, 0.2439])\n"
     ]
    }
   ],
   "source": [
    "loss.backward()\n",
    "print(w.grad)\n",
    "print(b.grad)"
   ]
  },
  {
   "cell_type": "markdown",
   "id": "450f7ed6-907d-4284-bf30-808e867f6135",
   "metadata": {},
   "source": [
    "### NOTE\n",
    "\n",
    "We can only obtain the grad properties for the leaf nodes of the computational graph, \n",
    "which have requires_grad property set to True. For all other nodes in our graph, gradients will not be available.\n",
    "\n",
    "We can only perform gradient calculations using backward once on a given graph,\n",
    "for performance reasons. If we need to do several backward calls on the same graph, we need to pass retain_graph=True to the backward call."
   ]
  },
  {
   "cell_type": "code",
   "execution_count": 49,
   "id": "c08ec7c3-8332-434d-87df-63635989d3ac",
   "metadata": {},
   "outputs": [
    {
     "name": "stdout",
     "output_type": "stream",
     "text": [
      "True\n",
      "False\n"
     ]
    }
   ],
   "source": [
    "z = torch.matmul(x, w)+b\n",
    "print(z.requires_grad)\n",
    "\n",
    "with torch.no_grad():\n",
    "    z = torch.matmul(x, w)+b\n",
    "print(z.requires_grad)"
   ]
  },
  {
   "cell_type": "code",
   "execution_count": 50,
   "id": "91a77dde-c671-4d40-94a9-6dbbf1118ef0",
   "metadata": {},
   "outputs": [
    {
     "name": "stdout",
     "output_type": "stream",
     "text": [
      "False\n"
     ]
    }
   ],
   "source": [
    "z = torch.matmul(x, w)+b\n",
    "z_det = z.detach()\n",
    "print(z_det.requires_grad)"
   ]
  },
  {
   "cell_type": "markdown",
   "id": "3efe38d0-8211-4d65-9f8c-347b3935b75b",
   "metadata": {},
   "source": [
    "There are reasons you might want to disable gradient tracking:\n",
    " - To mark some parameters in your neural network as frozen parameters.\n",
    "\n",
    " - To speed up computations when you are only doing forward pass,\n",
    "because computations on tensors that do not track gradients would be more efficient."
   ]
  },
  {
   "cell_type": "markdown",
   "id": "2af375be-c137-449e-bf29-46bca38e9a2f",
   "metadata": {},
   "source": [
    "NOTE\n",
    "\n",
    " - Previously we were calling backward() function without parameters. This is essentially equivalent to calling backward(torch.tensor(1.0)), \n",
    "which is a useful way to compute the gradients in case of a scalar-valued function,\n",
    "such as loss during neural network training."
   ]
  },
  {
   "cell_type": "code",
   "execution_count": 51,
   "id": "0b633e62-b386-4b6a-a6cc-26c1ee5138d0",
   "metadata": {},
   "outputs": [
    {
     "name": "stdout",
     "output_type": "stream",
     "text": [
      "First call\n",
      "tensor([[4., 2., 2., 2., 2.],\n",
      "        [2., 4., 2., 2., 2.],\n",
      "        [2., 2., 4., 2., 2.],\n",
      "        [2., 2., 2., 4., 2.]])\n",
      "\n",
      "Second call\n",
      "tensor([[8., 4., 4., 4., 4.],\n",
      "        [4., 8., 4., 4., 4.],\n",
      "        [4., 4., 8., 4., 4.],\n",
      "        [4., 4., 4., 8., 4.]])\n",
      "\n",
      "Call after zeroing gradients\n",
      "tensor([[4., 2., 2., 2., 2.],\n",
      "        [2., 4., 2., 2., 2.],\n",
      "        [2., 2., 4., 2., 2.],\n",
      "        [2., 2., 2., 4., 2.]])\n"
     ]
    }
   ],
   "source": [
    "inp = torch.eye(4, 5, requires_grad=True)\n",
    "out = (inp+1).pow(2).t()\n",
    "out.backward(torch.ones_like(out), retain_graph=True)\n",
    "print(f\"First call\\n{inp.grad}\")\n",
    "out.backward(torch.ones_like(out), retain_graph=True)\n",
    "print(f\"\\nSecond call\\n{inp.grad}\")\n",
    "inp.grad.zero_()\n",
    "out.backward(torch.ones_like(out), retain_graph=True)\n",
    "print(f\"\\nCall after zeroing gradients\\n{inp.grad}\")"
   ]
  },
  {
   "cell_type": "markdown",
   "id": "a8c1055e-efe7-49ee-9546-9de85b22f253",
   "metadata": {},
   "source": [
    "# Optimizing Model Parameters"
   ]
  },
  {
   "cell_type": "code",
   "execution_count": 52,
   "id": "3a5c90b7-039c-4296-90c6-08cd97e1e00d",
   "metadata": {},
   "outputs": [],
   "source": [
    "import torch\n",
    "from torch import nn\n",
    "from torch.utils.data import DataLoader\n",
    "from torchvision import datasets\n",
    "from torchvision.transforms import ToTensor\n",
    "\n",
    "training_data = datasets.FashionMNIST(\n",
    "    root=\"data\",\n",
    "    train=True,\n",
    "    download=True,\n",
    "    transform=ToTensor()\n",
    ")\n",
    "\n",
    "test_data = datasets.FashionMNIST(\n",
    "    root=\"data\",\n",
    "    train=False,\n",
    "    download=True,\n",
    "    transform=ToTensor()\n",
    ")\n",
    "\n",
    "train_dataloader = DataLoader(training_data, batch_size=64)\n",
    "test_dataloader = DataLoader(test_data, batch_size=64)\n",
    "\n",
    "class NeuralNetwork(nn.Module):\n",
    "    def __init__(self):\n",
    "        super().__init__()\n",
    "        self.flatten = nn.Flatten()\n",
    "        self.linear_relu_stack = nn.Sequential(\n",
    "            nn.Linear(28*28, 512),\n",
    "            nn.ReLU(),\n",
    "            nn.Linear(512, 512),\n",
    "            nn.ReLU(),\n",
    "            nn.Linear(512, 128),\n",
    "            nn.ReLU(),\n",
    "            nn.Linear(128, 10),\n",
    "        )\n",
    "\n",
    "    def forward(self, x):\n",
    "        x = self.flatten(x)\n",
    "        logits = self.linear_relu_stack(x)\n",
    "        return logits\n",
    "\n",
    "model = NeuralNetwork().to(device)"
   ]
  },
  {
   "cell_type": "markdown",
   "id": "853836d9-59cc-4c8a-9627-f5e7579905a6",
   "metadata": {},
   "source": [
    "### Hyper parameters"
   ]
  },
  {
   "cell_type": "code",
   "execution_count": 53,
   "id": "8447881c-535a-4c7a-b791-f2613d4a927b",
   "metadata": {},
   "outputs": [],
   "source": [
    "learning_rate = 1e-3\n",
    "batch_size = 64\n",
    "epochs = 5 # not used actually\n"
   ]
  },
  {
   "cell_type": "markdown",
   "id": "03c7e43d-d8b1-414e-bfe6-002b3da23a75",
   "metadata": {},
   "source": [
    "### Optimization Loop\n",
    "Each epoch consists of two main parts:\n",
    "\n",
    "\n",
    "The Train Loop - iterate over the training dataset and try to converge to optimal parameters\n",
    "  .\n",
    "\r\n",
    "The Validation/Test Loop - iterate over the test dataset to check if model performance is improving."
   ]
  },
  {
   "cell_type": "markdown",
   "id": "634319b2-3b8f-437d-9453-a4c73a132c28",
   "metadata": {},
   "source": [
    "### Setup Loss function"
   ]
  },
  {
   "cell_type": "code",
   "execution_count": 54,
   "id": "a06f7617-1c88-4f11-b9ae-56c80eca8534",
   "metadata": {},
   "outputs": [],
   "source": [
    "# Initialize the loss function\n",
    "loss_fn = nn.CrossEntropyLoss()"
   ]
  },
  {
   "cell_type": "markdown",
   "id": "62cfd29d-eed6-48e6-b58c-f0dba8063994",
   "metadata": {},
   "source": [
    "### Setup Optimizer"
   ]
  },
  {
   "cell_type": "code",
   "execution_count": 55,
   "id": "5ef6be5d-e356-401e-a686-84dd34a9e94c",
   "metadata": {},
   "outputs": [],
   "source": [
    "optimizer = torch.optim.SGD(model.parameters(), lr=learning_rate)"
   ]
  },
  {
   "cell_type": "markdown",
   "id": "63f1a6a8-bd37-4543-b791-141d03a019aa",
   "metadata": {},
   "source": [
    "Inside the training loop, optimization happens in three steps:\n",
    "1. Call optimizer.zero_grad() to reset the gradients of model parameters. \n",
    "Gradients by default add up; to prevent double-counting, we explicitly zero them at each iteration.\n",
    "\n",
    "2. Backpropagate the prediction loss with a call to loss.backward(). PyTorch deposits the gradients of the loss w.r.t. each parameter.\n",
    "\n",
    "3. Once we have our gradients, we call optimizer.step() to adjust the parameters by the gradients collected in the backward pass."
   ]
  },
  {
   "cell_type": "markdown",
   "id": "95e0af5e-7fae-40d8-83f8-f833edda4f61",
   "metadata": {},
   "source": [
    "### Train loop and test loop full implementation"
   ]
  },
  {
   "cell_type": "code",
   "execution_count": 56,
   "id": "29074c4c-ffc3-422e-b6a4-9522f2b5e402",
   "metadata": {},
   "outputs": [],
   "source": [
    "def train_loop(dataloader, model, loss_fn, optimizer,device):\n",
    "    size = len(dataloader.dataset)\n",
    "    # Set the model to training mode - important for batch normalization and dropout layers\n",
    "    # Unnecessary in this situation but added for best practices\n",
    "    model.train()\n",
    "    for batch, (X, y) in enumerate(dataloader):\n",
    "        # Compute prediction and loss\n",
    "        pred = model(X.to(device)).cpu()\n",
    "        loss = loss_fn(pred, y)\n",
    "\n",
    "        # Backpropagation\n",
    "        loss.backward()\n",
    "        optimizer.step()\n",
    "        optimizer.zero_grad()\n",
    "\n",
    "        if batch % 100 == 0:\n",
    "            loss, current = loss.item(), batch * batch_size + len(X)\n",
    "            print(f\"loss: {loss:>7f}  [{current:>5d}/{size:>5d}]\")\n",
    "\n",
    "\n",
    "def test_loop(dataloader, model, loss_fn,device):\n",
    "    # Set the model to evaluation mode - important for batch normalization and dropout layers\n",
    "    # Unnecessary in this situation but added for best practices\n",
    "    model.eval()\n",
    "    size = len(dataloader.dataset)\n",
    "    num_batches = len(dataloader)\n",
    "    test_loss, correct = 0, 0\n",
    "\n",
    "    # Evaluating the model with torch.no_grad() ensures that no gradients are computed during test mode\n",
    "    # also serves to reduce unnecessary gradient computations and memory usage for tensors with requires_grad=True\n",
    "    with torch.no_grad():\n",
    "        for X, y in dataloader:\n",
    "            pred = model(X.to(device)).cpu()\n",
    "            test_loss += loss_fn(pred, y).item()\n",
    "            correct += (pred.argmax(1) == y).type(torch.float).sum().item()\n",
    "\n",
    "    test_loss /= num_batches\n",
    "    correct /= size\n",
    "    print(f\"Test Error: \\n Accuracy: {(100*correct):>0.1f}%, Avg loss: {test_loss:>8f} \\n\")\n",
    "    return correct , test_loss"
   ]
  },
  {
   "cell_type": "markdown",
   "id": "ed9e66d3-3f7d-44f4-af9b-c09bb251947f",
   "metadata": {},
   "source": [
    "### Full learning testing run"
   ]
  },
  {
   "cell_type": "code",
   "execution_count": 57,
   "id": "b09e9acf-0d61-433b-81a0-54d163be9a9c",
   "metadata": {},
   "outputs": [
    {
     "name": "stdout",
     "output_type": "stream",
     "text": [
      "Epoch 1\n",
      "-------------------------------\n",
      "loss: 2.307658  [   64/60000]\n",
      "loss: 2.306222  [ 6464/60000]\n",
      "loss: 2.299528  [12864/60000]\n",
      "loss: 2.290130  [19264/60000]\n",
      "loss: 2.307666  [25664/60000]\n",
      "loss: 2.291909  [32064/60000]\n",
      "loss: 2.283659  [38464/60000]\n",
      "loss: 2.279753  [44864/60000]\n",
      "loss: 2.280747  [51264/60000]\n",
      "loss: 2.278251  [57664/60000]\n",
      "Test Error: \n",
      " Accuracy: 20.3%, Avg loss: 2.279290 \n",
      "\n",
      "Epoch 2\n",
      "-------------------------------\n",
      "loss: 2.282493  [   64/60000]\n",
      "loss: 2.283303  [ 6464/60000]\n",
      "loss: 2.271406  [12864/60000]\n",
      "loss: 2.268893  [19264/60000]\n",
      "loss: 2.276759  [25664/60000]\n",
      "loss: 2.259876  [32064/60000]\n",
      "loss: 2.257886  [38464/60000]\n",
      "loss: 2.248067  [44864/60000]\n",
      "loss: 2.251829  [51264/60000]\n",
      "loss: 2.239330  [57664/60000]\n",
      "Test Error: \n",
      " Accuracy: 40.4%, Avg loss: 2.241432 \n",
      "\n",
      "Epoch 3\n",
      "-------------------------------\n",
      "loss: 2.247306  [   64/60000]\n",
      "loss: 2.246831  [ 6464/60000]\n",
      "loss: 2.226155  [12864/60000]\n",
      "loss: 2.230731  [19264/60000]\n",
      "loss: 2.223941  [25664/60000]\n",
      "loss: 2.202515  [32064/60000]\n",
      "loss: 2.208543  [38464/60000]\n",
      "loss: 2.186306  [44864/60000]\n",
      "loss: 2.192515  [51264/60000]\n",
      "loss: 2.161834  [57664/60000]\n",
      "Test Error: \n",
      " Accuracy: 38.6%, Avg loss: 2.166379 \n",
      "\n",
      "Epoch 4\n",
      "-------------------------------\n",
      "loss: 2.177604  [   64/60000]\n",
      "loss: 2.173156  [ 6464/60000]\n",
      "loss: 2.132535  [12864/60000]\n",
      "loss: 2.147783  [19264/60000]\n",
      "loss: 2.112997  [25664/60000]\n",
      "loss: 2.074916  [32064/60000]\n",
      "loss: 2.096838  [38464/60000]\n",
      "loss: 2.042637  [44864/60000]\n",
      "loss: 2.052008  [51264/60000]\n",
      "loss: 1.986856  [57664/60000]\n",
      "Test Error: \n",
      " Accuracy: 42.9%, Avg loss: 1.995283 \n",
      "\n",
      "Epoch 5\n",
      "-------------------------------\n",
      "loss: 2.021518  [   64/60000]\n",
      "loss: 1.998506  [ 6464/60000]\n",
      "loss: 1.916610  [12864/60000]\n",
      "loss: 1.950364  [19264/60000]\n",
      "loss: 1.866470  [25664/60000]\n",
      "loss: 1.815005  [32064/60000]\n",
      "loss: 1.855656  [38464/60000]\n",
      "loss: 1.759399  [44864/60000]\n",
      "loss: 1.779999  [51264/60000]\n",
      "loss: 1.693311  [57664/60000]\n",
      "Test Error: \n",
      " Accuracy: 48.5%, Avg loss: 1.699323 \n",
      "\n",
      "Epoch 6\n",
      "-------------------------------\n",
      "loss: 1.751000  [   64/60000]\n",
      "loss: 1.703941  [ 6464/60000]\n",
      "loss: 1.589817  [12864/60000]\n",
      "loss: 1.646573  [19264/60000]\n",
      "loss: 1.554307  [25664/60000]\n",
      "loss: 1.525552  [32064/60000]\n",
      "loss: 1.557141  [38464/60000]\n",
      "loss: 1.472224  [44864/60000]\n",
      "loss: 1.494626  [51264/60000]\n",
      "loss: 1.415747  [57664/60000]\n",
      "Test Error: \n",
      " Accuracy: 55.9%, Avg loss: 1.427793 \n",
      "\n",
      "Epoch 7\n",
      "-------------------------------\n",
      "loss: 1.495486  [   64/60000]\n",
      "loss: 1.459651  [ 6464/60000]\n",
      "loss: 1.330222  [12864/60000]\n",
      "loss: 1.402762  [19264/60000]\n",
      "loss: 1.325402  [25664/60000]\n",
      "loss: 1.320558  [32064/60000]\n",
      "loss: 1.341704  [38464/60000]\n",
      "loss: 1.278904  [44864/60000]\n",
      "loss: 1.299289  [51264/60000]\n",
      "loss: 1.235690  [57664/60000]\n",
      "Test Error: \n",
      " Accuracy: 58.6%, Avg loss: 1.245354 \n",
      "\n",
      "Epoch 8\n",
      "-------------------------------\n",
      "loss: 1.316516  [   64/60000]\n",
      "loss: 1.294752  [ 6464/60000]\n",
      "loss: 1.149904  [12864/60000]\n",
      "loss: 1.248984  [19264/60000]\n",
      "loss: 1.162708  [25664/60000]\n",
      "loss: 1.177486  [32064/60000]\n",
      "loss: 1.206553  [38464/60000]\n",
      "loss: 1.147598  [44864/60000]\n",
      "loss: 1.166866  [51264/60000]\n",
      "loss: 1.119865  [57664/60000]\n",
      "Test Error: \n",
      " Accuracy: 60.8%, Avg loss: 1.121381 \n",
      "\n",
      "Epoch 9\n",
      "-------------------------------\n",
      "loss: 1.190737  [   64/60000]\n",
      "loss: 1.184114  [ 6464/60000]\n",
      "loss: 1.019017  [12864/60000]\n",
      "loss: 1.141639  [19264/60000]\n",
      "loss: 1.041813  [25664/60000]\n",
      "loss: 1.068944  [32064/60000]\n",
      "loss: 1.112842  [38464/60000]\n",
      "loss: 1.050634  [44864/60000]\n",
      "loss: 1.063935  [51264/60000]\n",
      "loss: 1.036008  [57664/60000]\n",
      "Test Error: \n",
      " Accuracy: 63.0%, Avg loss: 1.029439 \n",
      "\n",
      "Epoch 10\n",
      "-------------------------------\n",
      "loss: 1.092163  [   64/60000]\n",
      "loss: 1.102954  [ 6464/60000]\n",
      "loss: 0.919051  [12864/60000]\n",
      "loss: 1.059457  [19264/60000]\n",
      "loss: 0.949975  [25664/60000]\n",
      "loss: 0.981391  [32064/60000]\n",
      "loss: 1.041568  [38464/60000]\n",
      "loss: 0.978041  [44864/60000]\n",
      "loss: 0.978600  [51264/60000]\n",
      "loss: 0.971541  [57664/60000]\n",
      "Test Error: \n",
      " Accuracy: 64.7%, Avg loss: 0.958287 \n",
      "\n",
      "Epoch 11\n",
      "-------------------------------\n",
      "loss: 1.010281  [   64/60000]\n",
      "loss: 1.039000  [ 6464/60000]\n",
      "loss: 0.840949  [12864/60000]\n",
      "loss: 0.994083  [19264/60000]\n",
      "loss: 0.880858  [25664/60000]\n",
      "loss: 0.909634  [32064/60000]\n",
      "loss: 0.984597  [38464/60000]\n",
      "loss: 0.925297  [44864/60000]\n",
      "loss: 0.908380  [51264/60000]\n",
      "loss: 0.920882  [57664/60000]\n",
      "Test Error: \n",
      " Accuracy: 66.2%, Avg loss: 0.902531 \n",
      "\n",
      "Epoch 12\n",
      "-------------------------------\n",
      "loss: 0.941870  [   64/60000]\n",
      "loss: 0.986509  [ 6464/60000]\n",
      "loss: 0.779187  [12864/60000]\n",
      "loss: 0.941398  [19264/60000]\n",
      "loss: 0.828973  [25664/60000]\n",
      "loss: 0.852478  [32064/60000]\n",
      "loss: 0.938373  [38464/60000]\n",
      "loss: 0.887253  [44864/60000]\n",
      "loss: 0.852903  [51264/60000]\n",
      "loss: 0.880440  [57664/60000]\n",
      "Test Error: \n",
      " Accuracy: 67.8%, Avg loss: 0.858866 \n",
      "\n",
      "Epoch 13\n",
      "-------------------------------\n",
      "loss: 0.885221  [   64/60000]\n",
      "loss: 0.942656  [ 6464/60000]\n",
      "loss: 0.729854  [12864/60000]\n",
      "loss: 0.898864  [19264/60000]\n",
      "loss: 0.789057  [25664/60000]\n",
      "loss: 0.806699  [32064/60000]\n",
      "loss: 0.900934  [38464/60000]\n",
      "loss: 0.859615  [44864/60000]\n",
      "loss: 0.809417  [51264/60000]\n",
      "loss: 0.847071  [57664/60000]\n",
      "Test Error: \n",
      " Accuracy: 69.2%, Avg loss: 0.824068 \n",
      "\n",
      "Epoch 14\n",
      "-------------------------------\n",
      "loss: 0.837634  [   64/60000]\n",
      "loss: 0.904710  [ 6464/60000]\n",
      "loss: 0.688948  [12864/60000]\n",
      "loss: 0.864197  [19264/60000]\n",
      "loss: 0.757095  [25664/60000]\n",
      "loss: 0.769515  [32064/60000]\n",
      "loss: 0.870295  [38464/60000]\n",
      "loss: 0.837936  [44864/60000]\n",
      "loss: 0.776319  [51264/60000]\n",
      "loss: 0.819389  [57664/60000]\n",
      "Test Error: \n",
      " Accuracy: 70.1%, Avg loss: 0.795808 \n",
      "\n",
      "Epoch 15\n",
      "-------------------------------\n",
      "loss: 0.797184  [   64/60000]\n",
      "loss: 0.871017  [ 6464/60000]\n",
      "loss: 0.654166  [12864/60000]\n",
      "loss: 0.836082  [19264/60000]\n",
      "loss: 0.731078  [25664/60000]\n",
      "loss: 0.738569  [32064/60000]\n",
      "loss: 0.844488  [38464/60000]\n",
      "loss: 0.820264  [44864/60000]\n",
      "loss: 0.750593  [51264/60000]\n",
      "loss: 0.795800  [57664/60000]\n",
      "Test Error: \n",
      " Accuracy: 70.9%, Avg loss: 0.772334 \n",
      "\n",
      "Epoch 16\n",
      "-------------------------------\n",
      "loss: 0.761933  [   64/60000]\n",
      "loss: 0.840921  [ 6464/60000]\n",
      "loss: 0.624286  [12864/60000]\n",
      "loss: 0.812883  [19264/60000]\n",
      "loss: 0.709341  [25664/60000]\n",
      "loss: 0.712651  [32064/60000]\n",
      "loss: 0.821912  [38464/60000]\n",
      "loss: 0.804946  [44864/60000]\n",
      "loss: 0.729971  [51264/60000]\n",
      "loss: 0.775132  [57664/60000]\n",
      "Test Error: \n",
      " Accuracy: 71.7%, Avg loss: 0.752250 \n",
      "\n",
      "Epoch 17\n",
      "-------------------------------\n",
      "loss: 0.730956  [   64/60000]\n",
      "loss: 0.814311  [ 6464/60000]\n",
      "loss: 0.598475  [12864/60000]\n",
      "loss: 0.793351  [19264/60000]\n",
      "loss: 0.691404  [25664/60000]\n",
      "loss: 0.690604  [32064/60000]\n",
      "loss: 0.801227  [38464/60000]\n",
      "loss: 0.791059  [44864/60000]\n",
      "loss: 0.712928  [51264/60000]\n",
      "loss: 0.756788  [57664/60000]\n",
      "Test Error: \n",
      " Accuracy: 72.6%, Avg loss: 0.734569 \n",
      "\n",
      "Epoch 18\n",
      "-------------------------------\n",
      "loss: 0.703264  [   64/60000]\n",
      "loss: 0.791032  [ 6464/60000]\n",
      "loss: 0.576032  [12864/60000]\n",
      "loss: 0.776394  [19264/60000]\n",
      "loss: 0.676616  [25664/60000]\n",
      "loss: 0.671585  [32064/60000]\n",
      "loss: 0.781858  [38464/60000]\n",
      "loss: 0.778102  [44864/60000]\n",
      "loss: 0.698287  [51264/60000]\n",
      "loss: 0.740123  [57664/60000]\n",
      "Test Error: \n",
      " Accuracy: 73.5%, Avg loss: 0.718585 \n",
      "\n",
      "Epoch 19\n",
      "-------------------------------\n",
      "loss: 0.678519  [   64/60000]\n",
      "loss: 0.770368  [ 6464/60000]\n",
      "loss: 0.556306  [12864/60000]\n",
      "loss: 0.761239  [19264/60000]\n",
      "loss: 0.664533  [25664/60000]\n",
      "loss: 0.654742  [32064/60000]\n",
      "loss: 0.763540  [38464/60000]\n",
      "loss: 0.765853  [44864/60000]\n",
      "loss: 0.685086  [51264/60000]\n",
      "loss: 0.725181  [57664/60000]\n",
      "Test Error: \n",
      " Accuracy: 74.2%, Avg loss: 0.703885 \n",
      "\n",
      "Epoch 20\n",
      "-------------------------------\n",
      "loss: 0.656243  [   64/60000]\n",
      "loss: 0.752016  [ 6464/60000]\n",
      "loss: 0.538840  [12864/60000]\n",
      "loss: 0.747456  [19264/60000]\n",
      "loss: 0.654878  [25664/60000]\n",
      "loss: 0.639634  [32064/60000]\n",
      "loss: 0.746159  [38464/60000]\n",
      "loss: 0.754058  [44864/60000]\n",
      "loss: 0.673047  [51264/60000]\n",
      "loss: 0.711548  [57664/60000]\n",
      "Test Error: \n",
      " Accuracy: 74.8%, Avg loss: 0.690215 \n",
      "\n",
      "Epoch 21\n",
      "-------------------------------\n",
      "loss: 0.636132  [   64/60000]\n",
      "loss: 0.735638  [ 6464/60000]\n",
      "loss: 0.523153  [12864/60000]\n",
      "loss: 0.734771  [19264/60000]\n",
      "loss: 0.647111  [25664/60000]\n",
      "loss: 0.626363  [32064/60000]\n",
      "loss: 0.729505  [38464/60000]\n",
      "loss: 0.742630  [44864/60000]\n",
      "loss: 0.661972  [51264/60000]\n",
      "loss: 0.698972  [57664/60000]\n",
      "Test Error: \n",
      " Accuracy: 75.3%, Avg loss: 0.677415 \n",
      "\n",
      "Epoch 22\n",
      "-------------------------------\n",
      "loss: 0.617960  [   64/60000]\n",
      "loss: 0.720956  [ 6464/60000]\n",
      "loss: 0.509104  [12864/60000]\n",
      "loss: 0.722782  [19264/60000]\n",
      "loss: 0.641052  [25664/60000]\n",
      "loss: 0.614696  [32064/60000]\n",
      "loss: 0.713552  [38464/60000]\n",
      "loss: 0.731828  [44864/60000]\n",
      "loss: 0.651622  [51264/60000]\n",
      "loss: 0.687055  [57664/60000]\n",
      "Test Error: \n",
      " Accuracy: 75.7%, Avg loss: 0.665419 \n",
      "\n",
      "Epoch 23\n",
      "-------------------------------\n",
      "loss: 0.601508  [   64/60000]\n",
      "loss: 0.707678  [ 6464/60000]\n",
      "loss: 0.496515  [12864/60000]\n",
      "loss: 0.711353  [19264/60000]\n",
      "loss: 0.636340  [25664/60000]\n",
      "loss: 0.604565  [32064/60000]\n",
      "loss: 0.698368  [38464/60000]\n",
      "loss: 0.721716  [44864/60000]\n",
      "loss: 0.642144  [51264/60000]\n",
      "loss: 0.675649  [57664/60000]\n",
      "Test Error: \n",
      " Accuracy: 76.2%, Avg loss: 0.654243 \n",
      "\n",
      "Epoch 24\n",
      "-------------------------------\n",
      "loss: 0.586638  [   64/60000]\n",
      "loss: 0.695766  [ 6464/60000]\n",
      "loss: 0.485186  [12864/60000]\n",
      "loss: 0.700358  [19264/60000]\n",
      "loss: 0.632712  [25664/60000]\n",
      "loss: 0.595659  [32064/60000]\n",
      "loss: 0.684000  [38464/60000]\n",
      "loss: 0.712583  [44864/60000]\n",
      "loss: 0.633519  [51264/60000]\n",
      "loss: 0.664677  [57664/60000]\n",
      "Test Error: \n",
      " Accuracy: 76.7%, Avg loss: 0.643816 \n",
      "\n",
      "Epoch 25\n",
      "-------------------------------\n",
      "loss: 0.573226  [   64/60000]\n",
      "loss: 0.684828  [ 6464/60000]\n",
      "loss: 0.474875  [12864/60000]\n",
      "loss: 0.689888  [19264/60000]\n",
      "loss: 0.629762  [25664/60000]\n",
      "loss: 0.587791  [32064/60000]\n",
      "loss: 0.670362  [38464/60000]\n",
      "loss: 0.704416  [44864/60000]\n",
      "loss: 0.625745  [51264/60000]\n",
      "loss: 0.654230  [57664/60000]\n",
      "Test Error: \n",
      " Accuracy: 77.1%, Avg loss: 0.634118 \n",
      "\n",
      "Epoch 26\n",
      "-------------------------------\n",
      "loss: 0.560849  [   64/60000]\n",
      "loss: 0.674708  [ 6464/60000]\n",
      "loss: 0.465406  [12864/60000]\n",
      "loss: 0.679798  [19264/60000]\n",
      "loss: 0.627443  [25664/60000]\n",
      "loss: 0.580807  [32064/60000]\n",
      "loss: 0.657415  [38464/60000]\n",
      "loss: 0.697178  [44864/60000]\n",
      "loss: 0.618895  [51264/60000]\n",
      "loss: 0.644214  [57664/60000]\n",
      "Test Error: \n",
      " Accuracy: 77.4%, Avg loss: 0.625100 \n",
      "\n",
      "Epoch 27\n",
      "-------------------------------\n",
      "loss: 0.549562  [   64/60000]\n",
      "loss: 0.665342  [ 6464/60000]\n",
      "loss: 0.456642  [12864/60000]\n",
      "loss: 0.670088  [19264/60000]\n",
      "loss: 0.625407  [25664/60000]\n",
      "loss: 0.574628  [32064/60000]\n",
      "loss: 0.645269  [38464/60000]\n",
      "loss: 0.690819  [44864/60000]\n",
      "loss: 0.612903  [51264/60000]\n",
      "loss: 0.634504  [57664/60000]\n",
      "Test Error: \n",
      " Accuracy: 77.7%, Avg loss: 0.616720 \n",
      "\n",
      "Epoch 28\n",
      "-------------------------------\n",
      "loss: 0.539017  [   64/60000]\n",
      "loss: 0.656532  [ 6464/60000]\n",
      "loss: 0.448464  [12864/60000]\n",
      "loss: 0.660741  [19264/60000]\n",
      "loss: 0.623562  [25664/60000]\n",
      "loss: 0.569226  [32064/60000]\n",
      "loss: 0.633811  [38464/60000]\n",
      "loss: 0.685521  [44864/60000]\n",
      "loss: 0.607649  [51264/60000]\n",
      "loss: 0.625109  [57664/60000]\n",
      "Test Error: \n",
      " Accuracy: 78.1%, Avg loss: 0.608908 \n",
      "\n",
      "Epoch 29\n",
      "-------------------------------\n",
      "loss: 0.529195  [   64/60000]\n",
      "loss: 0.648289  [ 6464/60000]\n",
      "loss: 0.440776  [12864/60000]\n",
      "loss: 0.651822  [19264/60000]\n",
      "loss: 0.621900  [25664/60000]\n",
      "loss: 0.564258  [32064/60000]\n",
      "loss: 0.622998  [38464/60000]\n",
      "loss: 0.681174  [44864/60000]\n",
      "loss: 0.602959  [51264/60000]\n",
      "loss: 0.616069  [57664/60000]\n",
      "Test Error: \n",
      " Accuracy: 78.3%, Avg loss: 0.601633 \n",
      "\n",
      "Epoch 30\n",
      "-------------------------------\n",
      "loss: 0.519939  [   64/60000]\n",
      "loss: 0.640468  [ 6464/60000]\n",
      "loss: 0.433562  [12864/60000]\n",
      "loss: 0.643342  [19264/60000]\n",
      "loss: 0.620070  [25664/60000]\n",
      "loss: 0.559679  [32064/60000]\n",
      "loss: 0.612773  [38464/60000]\n",
      "loss: 0.677555  [44864/60000]\n",
      "loss: 0.598712  [51264/60000]\n",
      "loss: 0.607240  [57664/60000]\n",
      "Test Error: \n",
      " Accuracy: 78.6%, Avg loss: 0.594830 \n",
      "\n",
      "Epoch 31\n",
      "-------------------------------\n",
      "loss: 0.511136  [   64/60000]\n",
      "loss: 0.633187  [ 6464/60000]\n",
      "loss: 0.426822  [12864/60000]\n",
      "loss: 0.635229  [19264/60000]\n",
      "loss: 0.618270  [25664/60000]\n",
      "loss: 0.555278  [32064/60000]\n",
      "loss: 0.603113  [38464/60000]\n",
      "loss: 0.674904  [44864/60000]\n",
      "loss: 0.594899  [51264/60000]\n",
      "loss: 0.598687  [57664/60000]\n",
      "Test Error: \n",
      " Accuracy: 78.9%, Avg loss: 0.588431 \n",
      "\n",
      "Epoch 32\n",
      "-------------------------------\n",
      "loss: 0.502707  [   64/60000]\n",
      "loss: 0.626269  [ 6464/60000]\n",
      "loss: 0.420444  [12864/60000]\n",
      "loss: 0.627433  [19264/60000]\n",
      "loss: 0.616214  [25664/60000]\n",
      "loss: 0.551042  [32064/60000]\n",
      "loss: 0.593840  [38464/60000]\n",
      "loss: 0.672781  [44864/60000]\n",
      "loss: 0.591565  [51264/60000]\n",
      "loss: 0.590394  [57664/60000]\n",
      "Test Error: \n",
      " Accuracy: 79.2%, Avg loss: 0.582402 \n",
      "\n",
      "Epoch 33\n",
      "-------------------------------\n",
      "loss: 0.494421  [   64/60000]\n",
      "loss: 0.619626  [ 6464/60000]\n",
      "loss: 0.414523  [12864/60000]\n",
      "loss: 0.619867  [19264/60000]\n",
      "loss: 0.614045  [25664/60000]\n",
      "loss: 0.546911  [32064/60000]\n",
      "loss: 0.584969  [38464/60000]\n",
      "loss: 0.671064  [44864/60000]\n",
      "loss: 0.588327  [51264/60000]\n",
      "loss: 0.582458  [57664/60000]\n",
      "Test Error: \n",
      " Accuracy: 79.4%, Avg loss: 0.576692 \n",
      "\n",
      "Epoch 34\n",
      "-------------------------------\n",
      "loss: 0.486350  [   64/60000]\n",
      "loss: 0.613297  [ 6464/60000]\n",
      "loss: 0.408959  [12864/60000]\n",
      "loss: 0.612725  [19264/60000]\n",
      "loss: 0.611304  [25664/60000]\n",
      "loss: 0.542778  [32064/60000]\n",
      "loss: 0.576587  [38464/60000]\n",
      "loss: 0.669846  [44864/60000]\n",
      "loss: 0.585470  [51264/60000]\n",
      "loss: 0.574841  [57664/60000]\n",
      "Test Error: \n",
      " Accuracy: 79.6%, Avg loss: 0.571274 \n",
      "\n",
      "Epoch 35\n",
      "-------------------------------\n",
      "loss: 0.478383  [   64/60000]\n",
      "loss: 0.607231  [ 6464/60000]\n",
      "loss: 0.403602  [12864/60000]\n",
      "loss: 0.605941  [19264/60000]\n",
      "loss: 0.608193  [25664/60000]\n",
      "loss: 0.538653  [32064/60000]\n",
      "loss: 0.568737  [38464/60000]\n",
      "loss: 0.668939  [44864/60000]\n",
      "loss: 0.582738  [51264/60000]\n",
      "loss: 0.567298  [57664/60000]\n",
      "Test Error: \n",
      " Accuracy: 79.8%, Avg loss: 0.566133 \n",
      "\n",
      "Epoch 36\n",
      "-------------------------------\n",
      "loss: 0.470548  [   64/60000]\n",
      "loss: 0.601460  [ 6464/60000]\n",
      "loss: 0.398528  [12864/60000]\n",
      "loss: 0.599356  [19264/60000]\n",
      "loss: 0.604764  [25664/60000]\n",
      "loss: 0.534487  [32064/60000]\n",
      "loss: 0.561028  [38464/60000]\n",
      "loss: 0.668325  [44864/60000]\n",
      "loss: 0.580353  [51264/60000]\n",
      "loss: 0.559896  [57664/60000]\n",
      "Test Error: \n",
      " Accuracy: 79.9%, Avg loss: 0.561187 \n",
      "\n",
      "Epoch 37\n",
      "-------------------------------\n",
      "loss: 0.462853  [   64/60000]\n",
      "loss: 0.595698  [ 6464/60000]\n",
      "loss: 0.393625  [12864/60000]\n",
      "loss: 0.592981  [19264/60000]\n",
      "loss: 0.600941  [25664/60000]\n",
      "loss: 0.530217  [32064/60000]\n",
      "loss: 0.553658  [38464/60000]\n",
      "loss: 0.667912  [44864/60000]\n",
      "loss: 0.578077  [51264/60000]\n",
      "loss: 0.552779  [57664/60000]\n",
      "Test Error: \n",
      " Accuracy: 80.2%, Avg loss: 0.556434 \n",
      "\n",
      "Epoch 38\n",
      "-------------------------------\n",
      "loss: 0.455177  [   64/60000]\n",
      "loss: 0.590076  [ 6464/60000]\n",
      "loss: 0.388957  [12864/60000]\n",
      "loss: 0.586936  [19264/60000]\n",
      "loss: 0.596753  [25664/60000]\n",
      "loss: 0.525988  [32064/60000]\n",
      "loss: 0.546583  [38464/60000]\n",
      "loss: 0.667859  [44864/60000]\n",
      "loss: 0.575958  [51264/60000]\n",
      "loss: 0.545674  [57664/60000]\n",
      "Test Error: \n",
      " Accuracy: 80.3%, Avg loss: 0.551863 \n",
      "\n",
      "Epoch 39\n",
      "-------------------------------\n",
      "loss: 0.447679  [   64/60000]\n",
      "loss: 0.584631  [ 6464/60000]\n",
      "loss: 0.384540  [12864/60000]\n",
      "loss: 0.581091  [19264/60000]\n",
      "loss: 0.592341  [25664/60000]\n",
      "loss: 0.521715  [32064/60000]\n",
      "loss: 0.539790  [38464/60000]\n",
      "loss: 0.668024  [44864/60000]\n",
      "loss: 0.574090  [51264/60000]\n",
      "loss: 0.538761  [57664/60000]\n",
      "Test Error: \n",
      " Accuracy: 80.5%, Avg loss: 0.547456 \n",
      "\n",
      "Epoch 40\n",
      "-------------------------------\n",
      "loss: 0.440282  [   64/60000]\n",
      "loss: 0.579328  [ 6464/60000]\n",
      "loss: 0.380290  [12864/60000]\n",
      "loss: 0.575366  [19264/60000]\n",
      "loss: 0.587645  [25664/60000]\n",
      "loss: 0.517658  [32064/60000]\n",
      "loss: 0.533290  [38464/60000]\n",
      "loss: 0.668289  [44864/60000]\n",
      "loss: 0.572404  [51264/60000]\n",
      "loss: 0.532113  [57664/60000]\n",
      "Test Error: \n",
      " Accuracy: 80.6%, Avg loss: 0.543211 \n",
      "\n",
      "Done!\n"
     ]
    }
   ],
   "source": [
    "# Set-up\n",
    "device = (\n",
    "    \"cuda:0\"\n",
    "    if torch.cuda.is_available()\n",
    "    else \"mps\"\n",
    "    if torch.backends.mps.is_available()\n",
    "    else \"cpu\"\n",
    ")\n",
    "# Model instance\n",
    "model = NeuralNetwork().to(device)\n",
    "# Loss and optimizer\n",
    "loss_fn = nn.CrossEntropyLoss()\n",
    "optimizer = torch.optim.SGD(model.parameters(), lr=learning_rate)\n",
    "# Hyper params\n",
    "learning_rate = 1e-3\n",
    "batch_size = 64\n",
    "epochs = 40\n",
    "# data set up\n",
    "train_dataloader = DataLoader(training_data, batch_size=batch_size)\n",
    "test_dataloader = DataLoader(test_data, batch_size=batch_size)\n",
    "\n",
    "avg_acc = np.ones(epochs)\n",
    "avg_loss = np.ones(epochs)\n",
    "# Training and test loops\n",
    "for t in range(epochs):\n",
    "    print(f\"Epoch {t+1}\\n-------------------------------\")\n",
    "    train_loop(dataloader= train_dataloader, model= model, loss_fn= loss_fn, optimizer= optimizer,device= device)\n",
    "    avg_acc[t],avg_loss[t] = test_loop(dataloader= test_dataloader, model= model, loss_fn= loss_fn,device= device)\n",
    "print(\"Done!\")"
   ]
  },
  {
   "cell_type": "code",
   "execution_count": 58,
   "id": "8870f973-1e9f-4ade-8564-66fa394493d0",
   "metadata": {},
   "outputs": [
    {
     "name": "stdout",
     "output_type": "stream",
     "text": [
      "Model saved to Trained_models/pre_trained_network\n"
     ]
    }
   ],
   "source": [
    "# Save model\n",
    "model_path = \"Trained_models/pre_trained_network\"\n",
    "torch.save(model.state_dict(), model_path)\n",
    "print(f\"Model saved to {model_path}\")\n"
   ]
  },
  {
   "cell_type": "code",
   "execution_count": 59,
   "id": "8bb7eb4e-a6cd-4d12-beac-c1fa083726a3",
   "metadata": {},
   "outputs": [
    {
     "name": "stdout",
     "output_type": "stream",
     "text": [
      "Model loaded successfully\n"
     ]
    }
   ],
   "source": [
    "model_path = \"Trained_models/pre_trained_network\"\n",
    "model = NeuralNetwork().to(device)\n",
    "\n",
    "# Load the model parameters from the file\n",
    "model.load_state_dict(torch.load(model_path))\n",
    "model.eval()  # Set the model to evaluation mode if you're going to use it for inference\n",
    "print(\"Model loaded successfully\")\n"
   ]
  },
  {
   "cell_type": "code",
   "execution_count": 60,
   "id": "fa5004fd-371c-4ae0-b23e-4164eb40c795",
   "metadata": {},
   "outputs": [
    {
     "data": {
      "image/png": "[encoded data removed]",
      "text/plain": [
       "<Figure size 1200x600 with 1 Axes>"
      ]
     },
     "metadata": {},
     "output_type": "display_data"
    },
    {
     "data": {
      "image/png": "[encoded data removed]",
      "text/plain": [
       "<Figure size 1200x600 with 1 Axes>"
      ]
     },
     "metadata": {},
     "output_type": "display_data"
    }
   ],
   "source": [
    "import seaborn as sns\n",
    "import matplotlib.pyplot as plt\n",
    "\n",
    "\n",
    "# Create an index array\n",
    "indices = np.arange(len(avg_acc))\n",
    "\n",
    "# Plot for Average Accuracy\n",
    "plt.figure(figsize=(12, 6))\n",
    "sns.scatterplot(x=indices, y=avg_acc, label='Average Accuracy', color='blue')\n",
    "sns.lineplot(x=indices, y=avg_acc, label='Accuracy Trend', color='blue')\n",
    "plt.xlabel('Index')\n",
    "plt.ylabel('Average Accuracy')\n",
    "plt.title('Scatter plot of Average Accuracy vs. Indices with Trend Line')\n",
    "plt.legend()\n",
    "plt.show()\n",
    "\n",
    "# Plot for Average Loss\n",
    "plt.figure(figsize=(12, 6))\n",
    "sns.scatterplot(x=indices, y=avg_loss, label='Average Loss', color='red')\n",
    "sns.lineplot(x=indices, y=avg_loss, label='Loss Trend', color='red')\n",
    "plt.xlabel('Index')\n",
    "plt.ylabel('Average Loss')\n",
    "plt.title('Scatter plot of Average Loss vs. Indices with Trend Line')\n",
    "plt.legend()\n",
    "plt.show()\n"
   ]
  },
  {
   "cell_type": "markdown",
   "id": "d7f87fdf-028c-4678-8d62-6e6e0cda2e12",
   "metadata": {},
   "source": [
    "### Timing predictions"
   ]
  },
  {
   "cell_type": "code",
   "execution_count": 61,
   "id": "165e5f32-5a21-40a3-93c4-13301b3609af",
   "metadata": {},
   "outputs": [
    {
     "name": "stdout",
     "output_type": "stream",
     "text": [
      "Time taken (Neural network):3.607182741165161 for 10000 predictions\n"
     ]
    }
   ],
   "source": [
    "import time\n",
    "model.eval()\n",
    "with torch.no_grad():\n",
    "    start_time = time.time()\n",
    "    for (x,y) in test_data:\n",
    "        x = x.to(device)\n",
    "        model(x)\n",
    "\n",
    "print(f\"Time taken (Neural network):{time.time() - start_time} for {len(test_data)} predictions\")\n",
    "\n"
   ]
  },
  {
   "cell_type": "code",
   "execution_count": null,
   "id": "87f9fe08-1c47-40a1-8c0f-090b76757144",
   "metadata": {},
   "outputs": [],
   "source": []
  }
 ],
 "metadata": {
  "kernelspec": {
   "display_name": "Python 3 (ipykernel)",
   "language": "python",
   "name": "python3"
  },
  "language_info": {
   "codemirror_mode": {
    "name": "ipython",
    "version": 3
   },
   "file_extension": ".py",
   "mimetype": "text/x-python",
   "name": "python",
   "nbconvert_exporter": "python",
   "pygments_lexer": "ipython3",
   "version": "3.12.3"
  }
 },
 "nbformat": 4,
 "nbformat_minor": 5
}
