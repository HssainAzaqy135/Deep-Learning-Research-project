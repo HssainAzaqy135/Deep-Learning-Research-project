{
 "cells": [
  {
   "cell_type": "code",
   "execution_count": 1,
   "id": "5c7bc87d-fe52-45e2-839c-97f7362d03f9",
   "metadata": {},
   "outputs": [],
   "source": [
    "import numpy as np\n",
    "import pandas as pd\n",
    "import torch\n",
    "from torch import nn\n",
    "from collections import OrderedDict\n",
    "from torch.utils.data import DataLoader, TensorDataset\n",
    "import matplotlib.pyplot as plt\n",
    "from sklearn.model_selection import train_test_split\n",
    "\n",
    "from utils import *"
   ]
  },
  {
   "cell_type": "code",
   "execution_count": 2,
   "id": "a75f0b73-753c-41eb-b1ef-a5692801f918",
   "metadata": {},
   "outputs": [],
   "source": [
    "# Modify `generate_train_test_split` to return separate data and labels for DataLoader usage\n",
    "def generate_train_test_split(count: int, dim: int, n: int, device: torch.device, coord_max: float, test_size: float = 0.2, seed: int = 42):\n",
    "    all_batches = generate_vector_batches(count, dim, n, device, coord_max, seed)\n",
    "    labels = torch.arange(count)  # Placeholder labels if needed\n",
    "\n",
    "    train_indices, test_indices = train_test_split(range(count), test_size=test_size, random_state=seed)\n",
    "    train_batches, test_batches = all_batches[train_indices], all_batches[test_indices]\n",
    "\n",
    "    return train_batches, test_batches\n"
   ]
  },
  {
   "cell_type": "code",
   "execution_count": 29,
   "id": "4d77857c-a4ba-4182-84c6-4d766a6b6746",
   "metadata": {},
   "outputs": [],
   "source": [
    "class Base_Wasser_NN(nn.Module):\n",
    "    def __init__(self, n: int, d: int):\n",
    "        super().__init__()\n",
    "        self.n = n\n",
    "        self.d = d\n",
    "        self.flatten = nn.Flatten()\n",
    "        self.linear_relu_stack = nn.Sequential(OrderedDict([\n",
    "            ('Lin1', nn.Linear(2 * n * d, 4 * n * d)),\n",
    "            ('relu1', nn.ReLU()),\n",
    "            ('Lin2', nn.Linear(4 * n * d, n * n + 2 * n))  # n x n matrix and two n-long vectors\n",
    "        ]))\n",
    "\n",
    "    def forward(self, batch):\n",
    "        # Reshape batch to (batch_size, 2 * n * d) for the Linear layer\n",
    "        batch_size = batch.size(0)\n",
    "        flattened_batch = batch.view(batch_size, 2 * self.n * self.d)  # (batch_size, 2 * n * d)\n",
    "        \n",
    "        # Pass through the sequential layers\n",
    "        logits = self.linear_relu_stack(flattened_batch)\n",
    "        return logits\n",
    "    def predict_interval(self, batch):\n",
    "        # Unpack batched vectors from the input batch\n",
    "        vecs1 = batch[:, 0, :, :]  # Shape: (batch_size, n, d)\n",
    "        vecs2 = batch[:, 1, :, :]  # Shape: (batch_size, n, d)\n",
    "\n",
    "        # Forward pass to get predictions\n",
    "        pred = self.forward(batch)  # Now expects batched output of shape (batch_size, n * n + 2 * n)\n",
    "        batch_size = pred.size(0)\n",
    "        \n",
    "        results = []\n",
    "        for i in range(batch_size):\n",
    "            # Compute distance matrix for the i-th element in the batch\n",
    "            distances_mat = compute_distance_matrix(vecs1=vecs1[i], vecs2=vecs2[i])  # Shape: (n, n)\n",
    "    \n",
    "            # Separate the i-th prediction output into its components\n",
    "            single_pred = pred[i]\n",
    "            out_put_mat = single_pred[:n * n].view(n, n)  # Shape: (n, n)\n",
    "            f = single_pred[n * n:n * n + n]              # Shape: (n,)\n",
    "            g = single_pred[n * n + n:]                   # Shape: (n,)\n",
    "    \n",
    "            # Compute primal and dual solutions\n",
    "            sol_prim = primal_sol(out_put_mat=out_put_mat, distances_mat=distances_mat)\n",
    "            sol_dual = dual_sol(f=f, g=g, distances_mat=distances_mat)\n",
    "            \n",
    "            # Append the result (sol_prim, sol_dual) for each batch element\n",
    "            results.append((sol_prim, sol_dual))\n",
    "        \n",
    "        return results  # Returns a list of tuples, each containing (sol_prim, sol_dual) for a batch element\n"
   ]
  },
  {
   "cell_type": "code",
   "execution_count": 17,
   "id": "4641a8ef-5e0a-47b3-8197-ef9efa200846",
   "metadata": {},
   "outputs": [],
   "source": [
    "def make_wass_loss(n: int, d: int):\n",
    "    def wass_loss(batch, pred):\n",
    "        # Unpack batched vectors from the input batch\n",
    "        vecs1 = batch[:, 0, :, :]  # Shape: (batch_size, n, d)\n",
    "        vecs2 = batch[:, 1, :, :]  # Shape: (batch_size, n, d)\n",
    "\n",
    "        batch_size = pred.size(0)  # Determine batch size from pred\n",
    "\n",
    "        # Compute distance matrix for each item in the batch\n",
    "        total_loss = 0\n",
    "        for i in range(batch_size):\n",
    "            distances_mat = torch.cdist(vecs1[i],vecs2[i])  # Shape: (n, n)\n",
    "            \n",
    "            # Separate the i-th prediction output into its components\n",
    "            single_pred = pred[i]\n",
    "            out_put_mat = single_pred[:n * n].view(n, n)  # Shape: (n, n)\n",
    "            f = single_pred[n * n:n * n + n]              # Shape: (n,)\n",
    "            g = single_pred[n * n + n:]                   # Shape: (n,)\n",
    "            \n",
    "            # Compute primal and dual solutions for each item in the batch\n",
    "            sol_prim = primal_sol(out_put_mat=out_put_mat, distances_mat=distances_mat)\n",
    "            sol_dual = dual_sol(f=f, g=g, distances_mat=distances_mat)\n",
    "            \n",
    "            # Accumulate loss\n",
    "            total_loss += sol_prim - sol_dual\n",
    "\n",
    "        # Return average loss across the batch\n",
    "        return total_loss / batch_size\n",
    "        \n",
    "    return wass_loss\n"
   ]
  },
  {
   "cell_type": "code",
   "execution_count": 18,
   "id": "b9197dea-80dd-4053-bc4b-5df4c4fecb9c",
   "metadata": {},
   "outputs": [],
   "source": [
    "def train_model(model, dataloader, loss_fn, optimizer):\n",
    "    model.train()\n",
    "    for batch in dataloader:\n",
    "        batch = batch[0].to(device)  # Extract batch tensor from DataLoader tuple\n",
    "        optimizer.zero_grad()\n",
    "\n",
    "        # Forward pass\n",
    "        logits = model(batch)\n",
    "        \n",
    "        # Compute loss\n",
    "        loss = loss_fn(batch, logits)\n",
    "        \n",
    "        # Backward pass and optimization step\n",
    "        loss.backward()\n",
    "        optimizer.step()\n",
    "\n",
    "def test_model(model, dataloader, loss_fn):\n",
    "    model.eval()\n",
    "    total_loss = 0.0\n",
    "    with torch.no_grad():\n",
    "        for batch in dataloader:\n",
    "            batch = batch[0].to(device)\n",
    "            logits = model(batch)\n",
    "            loss = loss_fn(batch, logits)\n",
    "            total_loss += loss.item()\n",
    "    \n",
    "    avg_loss = total_loss / len(dataloader)\n",
    "    return avg_loss\n"
   ]
  },
  {
   "cell_type": "code",
   "execution_count": 30,
   "id": "b2c9fd50-37a6-4b49-a672-818c9016f40b",
   "metadata": {},
   "outputs": [
    {
     "name": "stdout",
     "output_type": "stream",
     "text": [
      "Epoch 1\n",
      "-------------------------------\n",
      "Average Test Loss: -1.5114\n",
      "-------------------------------\n",
      "Epoch 2\n",
      "-------------------------------\n"
     ]
    },
    {
     "ename": "KeyboardInterrupt",
     "evalue": "",
     "output_type": "error",
     "traceback": [
      "\u001b[1;31m---------------------------------------------------------------------------\u001b[0m",
      "\u001b[1;31mKeyboardInterrupt\u001b[0m                         Traceback (most recent call last)",
      "Cell \u001b[1;32mIn[30], line 31\u001b[0m\n\u001b[0;32m     28\u001b[0m \u001b[38;5;28mprint\u001b[39m(\u001b[38;5;124mf\u001b[39m\u001b[38;5;124m\"\u001b[39m\u001b[38;5;124mEpoch \u001b[39m\u001b[38;5;132;01m{\u001b[39;00mt\u001b[38;5;250m \u001b[39m\u001b[38;5;241m+\u001b[39m\u001b[38;5;250m \u001b[39m\u001b[38;5;241m1\u001b[39m\u001b[38;5;132;01m}\u001b[39;00m\u001b[38;5;130;01m\\n\u001b[39;00m\u001b[38;5;124m-------------------------------\u001b[39m\u001b[38;5;124m\"\u001b[39m)\n\u001b[0;32m     30\u001b[0m \u001b[38;5;66;03m# Training\u001b[39;00m\n\u001b[1;32m---> 31\u001b[0m train_model(model, train_loader, loss_fn, optimizer)\n\u001b[0;32m     33\u001b[0m \u001b[38;5;66;03m# Testing\u001b[39;00m\n\u001b[0;32m     34\u001b[0m avg_loss \u001b[38;5;241m=\u001b[39m test_model(model, test_loader, loss_fn)\n",
      "Cell \u001b[1;32mIn[18], line 11\u001b[0m, in \u001b[0;36mtrain_model\u001b[1;34m(model, dataloader, loss_fn, optimizer)\u001b[0m\n\u001b[0;32m      8\u001b[0m logits \u001b[38;5;241m=\u001b[39m model(batch)\n\u001b[0;32m     10\u001b[0m \u001b[38;5;66;03m# Compute loss\u001b[39;00m\n\u001b[1;32m---> 11\u001b[0m loss \u001b[38;5;241m=\u001b[39m loss_fn(batch, logits)\n\u001b[0;32m     13\u001b[0m \u001b[38;5;66;03m# Backward pass and optimization step\u001b[39;00m\n\u001b[0;32m     14\u001b[0m loss\u001b[38;5;241m.\u001b[39mbackward()\n",
      "Cell \u001b[1;32mIn[17], line 25\u001b[0m, in \u001b[0;36mmake_wass_loss.<locals>.wass_loss\u001b[1;34m(batch, pred)\u001b[0m\n\u001b[0;32m     22\u001b[0m     sol_dual \u001b[38;5;241m=\u001b[39m dual_sol(f\u001b[38;5;241m=\u001b[39mf, g\u001b[38;5;241m=\u001b[39mg, distances_mat\u001b[38;5;241m=\u001b[39mdistances_mat)\n\u001b[0;32m     24\u001b[0m     \u001b[38;5;66;03m# Accumulate loss\u001b[39;00m\n\u001b[1;32m---> 25\u001b[0m     total_loss \u001b[38;5;241m+\u001b[39m\u001b[38;5;241m=\u001b[39m sol_prim \u001b[38;5;241m-\u001b[39m sol_dual\n\u001b[0;32m     27\u001b[0m \u001b[38;5;66;03m# Return average loss across the batch\u001b[39;00m\n\u001b[0;32m     28\u001b[0m \u001b[38;5;28;01mreturn\u001b[39;00m total_loss \u001b[38;5;241m/\u001b[39m batch_size\n",
      "\u001b[1;31mKeyboardInterrupt\u001b[0m: "
     ]
    }
   ],
   "source": [
    "# Define parameters\n",
    "count = 1500\n",
    "d = 2\n",
    "n = 4\n",
    "seed = 16\n",
    "device = torch.device(\"cuda\" if torch.cuda.is_available() else \"cpu\")\n",
    "coords_max = 3\n",
    "\n",
    "# Generate train and test batches\n",
    "train_batches, test_batches = generate_train_test_split(count=count, dim=d, n=n, device=device, coord_max=coords_max, test_size=0.2, seed=seed)\n",
    "\n",
    "# Create DataLoaders\n",
    "batch_size = 32  # Define batch size\n",
    "train_dataset = TensorDataset(train_batches)\n",
    "test_dataset = TensorDataset(test_batches)\n",
    "train_loader = DataLoader(train_dataset, batch_size=batch_size, shuffle=True)\n",
    "test_loader = DataLoader(test_dataset, batch_size=batch_size)\n",
    "\n",
    "# Model, loss, optimizer\n",
    "model = Base_Wasser_NN(n=n, d=d).to(device)\n",
    "loss_fn = make_wass_loss(n=n, d=d)\n",
    "lr = 1e-2\n",
    "optimizer = torch.optim.SGD(model.parameters(), lr=lr)\n",
    "\n",
    "# Training and testing loop\n",
    "epochs = 10\n",
    "for t in range(epochs):\n",
    "    print(f\"Epoch {t + 1}\\n-------------------------------\")\n",
    "    \n",
    "    # Training\n",
    "    train_model(model, train_loader, loss_fn, optimizer)\n",
    "    \n",
    "    # Testing\n",
    "    avg_loss = test_model(model, test_loader, loss_fn)\n",
    "    print(f\"Average Test Loss: {avg_loss:.4f}\")\n",
    "    print(\"-------------------------------\")\n",
    "\n",
    "print(\"Done!\")"
   ]
  },
  {
   "cell_type": "code",
   "execution_count": 39,
   "id": "40ae5bc5-320f-47ab-8ef7-1727011ea392",
   "metadata": {},
   "outputs": [
    {
     "data": {
      "text/plain": [
       "[(tensor(6.7444, device='cuda:0'), tensor(7.3258, device='cuda:0')),\n",
       " (tensor(5.8258, device='cuda:0'), tensor(7.8025, device='cuda:0')),\n",
       " (tensor(6.7130, device='cuda:0'), tensor(13.3457, device='cuda:0')),\n",
       " (tensor(6.3029, device='cuda:0'), tensor(4.3001, device='cuda:0')),\n",
       " (tensor(6.5032, device='cuda:0'), tensor(16.2124, device='cuda:0')),\n",
       " (tensor(5.8196, device='cuda:0'), tensor(7.2226, device='cuda:0')),\n",
       " (tensor(5.4294, device='cuda:0'), tensor(6.1103, device='cuda:0')),\n",
       " (tensor(6.3813, device='cuda:0'), tensor(6.5450, device='cuda:0')),\n",
       " (tensor(6.6986, device='cuda:0'), tensor(10.4587, device='cuda:0')),\n",
       " (tensor(5.3045, device='cuda:0'), tensor(6.1379, device='cuda:0')),\n",
       " (tensor(8.5821, device='cuda:0'), tensor(12.1455, device='cuda:0')),\n",
       " (tensor(8.3406, device='cuda:0'), tensor(5.9521, device='cuda:0')),\n",
       " (tensor(6.0838, device='cuda:0'), tensor(10.6871, device='cuda:0')),\n",
       " (tensor(7.0196, device='cuda:0'), tensor(10.9312, device='cuda:0')),\n",
       " (tensor(7.8760, device='cuda:0'), tensor(4.5097, device='cuda:0')),\n",
       " (tensor(7.4062, device='cuda:0'), tensor(3.7098, device='cuda:0')),\n",
       " (tensor(7.0249, device='cuda:0'), tensor(13.3188, device='cuda:0')),\n",
       " (tensor(5.9385, device='cuda:0'), tensor(9.0731, device='cuda:0')),\n",
       " (tensor(6.9981, device='cuda:0'), tensor(8.4014, device='cuda:0')),\n",
       " (tensor(8.3618, device='cuda:0'), tensor(14.9904, device='cuda:0')),\n",
       " (tensor(6.0800, device='cuda:0'), tensor(12.1133, device='cuda:0')),\n",
       " (tensor(6.9997, device='cuda:0'), tensor(9.3964, device='cuda:0')),\n",
       " (tensor(7.1532, device='cuda:0'), tensor(8.9871, device='cuda:0')),\n",
       " (tensor(8.3816, device='cuda:0'), tensor(10.9397, device='cuda:0')),\n",
       " (tensor(7.0375, device='cuda:0'), tensor(8.3247, device='cuda:0')),\n",
       " (tensor(7.0729, device='cuda:0'), tensor(6.0967, device='cuda:0')),\n",
       " (tensor(8.5566, device='cuda:0'), tensor(14.9410, device='cuda:0')),\n",
       " (tensor(6.3370, device='cuda:0'), tensor(10.9741, device='cuda:0')),\n",
       " (tensor(5.5214, device='cuda:0'), tensor(7.3834, device='cuda:0')),\n",
       " (tensor(8.1779, device='cuda:0'), tensor(17.8274, device='cuda:0')),\n",
       " (tensor(5.6628, device='cuda:0'), tensor(8.1397, device='cuda:0')),\n",
       " (tensor(7.2065, device='cuda:0'), tensor(7.9628, device='cuda:0'))]"
      ]
     },
     "execution_count": 39,
     "metadata": {},
     "output_type": "execute_result"
    }
   ],
   "source": [
    "# Assuming `test_loader` is a DataLoader object for the test set, with batch size of 32\n",
    "model.eval()  # Set the model to evaluation mode\n",
    "all_results = []\n",
    "\n",
    "with torch.no_grad():  # Disable gradient computation for efficiency\n",
    "    for batch in test_loader:\n",
    "        for sets in batch:\n",
    "            sets = sets.to(device)\n",
    "\n",
    "            # Get batched primal and dual solutions\n",
    "            batch_results = model.predict_interval(sets)\n",
    "            all_results.extend(batch_results)  # Collect results for each batch\n",
    "        break\n",
    "\n"
   ]
  },
  {
   "cell_type": "code",
   "execution_count": 70,
   "id": "921edf2c-68c7-4ca6-b77c-76d954263ed0",
   "metadata": {},
   "outputs": [
    {
     "data": {
      "image/png": "[encoded data removed]",
      "text/plain": [
       "<Figure size 1000x600 with 1 Axes>"
      ]
     },
     "metadata": {},
     "output_type": "display_data"
    }
   ],
   "source": [
    "# Set up lists to hold primal and dual solutions\n",
    "primal_solutions = []\n",
    "dual_solutions = []\n",
    "\n",
    "model.eval()  # Set the model to evaluation mode\n",
    "with torch.no_grad():  # Disable gradient computation for efficiency\n",
    "    for batch in test_loader:\n",
    "        sets = batch[0].to(device)\n",
    "\n",
    "        # Get batched primal and dual solutions\n",
    "        sets_results = model.predict_interval(sets)\n",
    "            \n",
    "        # Separate primal and dual solutions\n",
    "        for sol_prim, sol_dual in sets_results:\n",
    "            primal_solutions.append(sol_prim.item())  # Assuming sol_prim is a tensor\n",
    "            dual_solutions.append(sol_dual.item())    # Assuming sol_dual is a tensor\n",
    "\n",
    "        # Since we are breaking after the first batch, we can exit the loop here\n",
    "        break  # Remove this line if you want to process more batches\n",
    "\n",
    "# Convert to numpy arrays for easier plotting\n",
    "primal_solutions = np.array(primal_solutions)\n",
    "dual_solutions = np.array(dual_solutions)\n",
    "\n",
    "# Plotting the results\n",
    "plt.figure(figsize=(10, 6))\n",
    "\n",
    "# Plot primal solutions in blue\n",
    "plt.plot(primal_solutions, label='Primal Solutions', color='blue', marker='o', linestyle='-')\n",
    "\n",
    "# Plot dual solutions in red\n",
    "plt.plot(dual_solutions, label='Dual Solutions', color='red', marker='o', linestyle='-')\n",
    "\n",
    "plt.title('Primal vs. Dual Solutions')\n",
    "plt.xlabel('Index')\n",
    "plt.ylabel('Value')\n",
    "plt.grid(True)\n",
    "plt.legend()\n",
    "plt.show()\n"
   ]
  },
  {
   "cell_type": "code",
   "execution_count": 71,
   "id": "365fbd6b-2285-4c31-8684-c2daabcc8a9c",
   "metadata": {},
   "outputs": [
    {
     "data": {
      "text/plain": [
       "(tensor(6.3029, device='cuda:0'), tensor(4.3001, device='cuda:0'))"
      ]
     },
     "execution_count": 71,
     "metadata": {},
     "output_type": "execute_result"
    }
   ],
   "source": [
    "all_results[3]"
   ]
  },
  {
   "cell_type": "code",
   "execution_count": 85,
   "id": "d593903a-9eb0-41a9-8764-b65a272260df",
   "metadata": {},
   "outputs": [],
   "source": [
    "vecs = None\n",
    "for batch in test_loader:\n",
    "    vecs =batch[0][3]\n",
    "    break"
   ]
  },
  {
   "cell_type": "code",
   "execution_count": 86,
   "id": "442f37c4-d5fb-4372-90ed-dad06dafcfdc",
   "metadata": {},
   "outputs": [
    {
     "data": {
      "text/plain": [
       "torch.Size([1, 2, 4, 2])"
      ]
     },
     "execution_count": 86,
     "metadata": {},
     "output_type": "execute_result"
    }
   ],
   "source": [
    "vecs.unsqueeze(0).shape"
   ]
  },
  {
   "cell_type": "code",
   "execution_count": 87,
   "id": "49703555-8aae-4637-a6bb-f68ed0374f6c",
   "metadata": {},
   "outputs": [
    {
     "data": {
      "text/plain": [
       "[(tensor(6.3029, device='cuda:0', grad_fn=<SqrtBackward0>),\n",
       "  tensor(4.3001, device='cuda:0', grad_fn=<SumBackward0>))]"
      ]
     },
     "execution_count": 87,
     "metadata": {},
     "output_type": "execute_result"
    }
   ],
   "source": [
    "model.predict_interval(vecs.unsqueeze(0))"
   ]
  },
  {
   "cell_type": "code",
   "execution_count": 88,
   "id": "798a39c7-eadb-4a19-a68e-2d4947496b75",
   "metadata": {},
   "outputs": [
    {
     "data": {
      "text/plain": [
       "tensor(4.0095, device='cuda:0')"
      ]
     },
     "execution_count": 88,
     "metadata": {},
     "output_type": "execute_result"
    }
   ],
   "source": [
    "wass_hungarian(vecs)"
   ]
  },
  {
   "cell_type": "code",
   "execution_count": 89,
   "id": "5d081c32-7b87-425b-ac98-63e672110b16",
   "metadata": {},
   "outputs": [
    {
     "data": {
      "text/plain": [
       "tensor([[-0.4680, -0.5599, -0.4332,  0.4865, -0.3721, -0.3968,  0.5037, -0.4984,\n",
       "         -0.3400, -0.1336, -0.2579, -0.5398,  0.9185, -0.3565, -1.2960, -0.2131,\n",
       "          2.3978,  1.5809,  2.5138,  2.4007,  2.6567,  3.4100,  2.2181,  2.8881]],\n",
       "       device='cuda:0', grad_fn=<AddmmBackward0>)"
      ]
     },
     "execution_count": 89,
     "metadata": {},
     "output_type": "execute_result"
    }
   ],
   "source": [
    "model.forward(vecs.unsqueeze(0))"
   ]
  },
  {
   "cell_type": "code",
   "execution_count": null,
   "id": "3d478df3-359e-42e4-b47d-e07e9e49f683",
   "metadata": {},
   "outputs": [],
   "source": []
  }
 ],
 "metadata": {
  "kernelspec": {
   "display_name": "Python 3 (ipykernel)",
   "language": "python",
   "name": "python3"
  },
  "language_info": {
   "codemirror_mode": {
    "name": "ipython",
    "version": 3
   },
   "file_extension": ".py",
   "mimetype": "text/x-python",
   "name": "python",
   "nbconvert_exporter": "python",
   "pygments_lexer": "ipython3",
   "version": "3.12.3"
  }
 },
 "nbformat": 4,
 "nbformat_minor": 5
}
