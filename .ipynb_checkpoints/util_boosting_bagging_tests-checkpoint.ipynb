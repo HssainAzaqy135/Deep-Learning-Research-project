{
 "cells": [
  {
   "cell_type": "markdown",
   "metadata": {
    "id": "2IsgcmOQI2y1"
   },
   "source": [
    "Boosting example"
   ]
  },
  {
   "cell_type": "code",
   "execution_count": 14,
   "metadata": {
    "id": "uyzbdQLD8AXl"
   },
   "outputs": [],
   "source": [
    "import warnings\n",
    "\n",
    "# Ignore all warnings\n",
    "warnings.filterwarnings('ignore')"
   ]
  },
  {
   "cell_type": "code",
   "execution_count": 2,
   "metadata": {
    "id": "tY-Jx_lZIsK8"
   },
   "outputs": [],
   "source": [
    "from sklearn.ensemble import AdaBoostClassifier,BaggingClassifier\n",
    "from sklearn.datasets import load_digits\n",
    "from sklearn.model_selection import train_test_split, cross_val_score\n",
    "from sklearn.metrics import accuracy_score\n",
    "# --------- Classifiers ------------\n",
    "from sklearn.ensemble import RandomForestClassifier\n",
    "from sklearn.linear_model import LogisticRegression\n",
    "from sklearn.tree import DecisionTreeClassifier\n"
   ]
  },
  {
   "cell_type": "code",
   "execution_count": 33,
   "metadata": {
    "id": "Jed1esm8FMeQ"
   },
   "outputs": [],
   "source": [
    "def train_and_evaluate_adaboost(base_estimator, n_estimators=10, test_size=0.2, random_state=42, cv_folds=5, bagging=False, n_bags=10, max_samples=1.0, max_features=1.0):\n",
    "    # Load the Iris dataset\n",
    "    X, y = load_digits(return_X_y=True)\n",
    "\n",
    "    # Split the dataset into training and testing sets\n",
    "    X_train, X_test, y_train, y_test = train_test_split(X, y, test_size=test_size, random_state=random_state)\n",
    "\n",
    "    # Apply bagging if specified\n",
    "    if bagging:\n",
    "        bagged_estimator = BaggingClassifier(\n",
    "            estimator=base_estimator,\n",
    "            n_estimators=n_bags,\n",
    "            max_samples=max_samples,\n",
    "            max_features=max_features,\n",
    "            random_state=random_state,\n",
    "            n_jobs = -1\n",
    "        )\n",
    "\n",
    "    # Initialize the AdaBoost Classifier with the specified base estimator\n",
    "    if(bagging):\n",
    "        clf = AdaBoostClassifier(estimator=bagged_estimator, n_estimators=n_estimators, random_state=random_state)\n",
    "    else:\n",
    "        clf = AdaBoostClassifier(estimator=base_estimator, n_estimators=n_estimators, random_state=random_state)\n",
    "    # Perform cross-validation\n",
    "    cv_scores = cross_val_score(clf, X_train, y_train, cv=cv_folds, scoring='accuracy')\n",
    "\n",
    "    # Fit the model on the entire training set\n",
    "    clf.fit(X_train, y_train)\n",
    "\n",
    "    # Predict the test set\n",
    "    y_pred = clf.predict(X_test)\n",
    "\n",
    "    # Evaluate the model on the test set\n",
    "    test_accuracy = accuracy_score(y_test, y_pred)\n",
    "\n",
    "    # Print results\n",
    "    print(\"---------------------------------------------------------\")\n",
    "    print(f\"Cross-validation accuracy with {'Bagged ' if bagging else ''}{type(base_estimator).__name__} as base estimator: {cv_scores.mean():.2f} ± {cv_scores.std():.2f}\")\n",
    "    print(f\"Test set accuracy with {'Bagged ' if bagging else ''}{type(base_estimator).__name__} as base estimator: {test_accuracy:.2f}\")\n",
    "    print(\"---------------------------------------------------------\")\n",
    "    # Return the trained classifier\n",
    "    return clf\n"
   ]
  },
  {
   "cell_type": "markdown",
   "metadata": {
    "id": "OwWMsGW1AbPd"
   },
   "source": [
    "## Non Bagged tests"
   ]
  },
  {
   "cell_type": "code",
   "execution_count": 34,
   "metadata": {
    "colab": {
     "base_uri": "https://localhost:8080/"
    },
    "id": "ul_JR9JCAnuc",
    "outputId": "dd4450ae-3546-4b32-da3b-814a4bc3597b"
   },
   "outputs": [
    {
     "name": "stdout",
     "output_type": "stream",
     "text": [
      "---------------------------------------------------------\n",
      "Cross-validation accuracy with DecisionTreeClassifier as base estimator: 0.90 ± 0.05\n",
      "Test set accuracy with DecisionTreeClassifier as base estimator: 0.94\n",
      "---------------------------------------------------------\n"
     ]
    }
   ],
   "source": [
    "decision_tree_base = DecisionTreeClassifier(max_depth=12)\n",
    "trained_clf_dt = train_and_evaluate_adaboost(decision_tree_base,\n",
    "                                             n_estimators=8,\n",
    "                                              cv_folds=10)"
   ]
  },
  {
   "cell_type": "code",
   "execution_count": 35,
   "metadata": {
    "colab": {
     "base_uri": "https://localhost:8080/"
    },
    "id": "mTL4beSTCpDB",
    "outputId": "2c0e20da-2257-422a-a789-521de7b366bf"
   },
   "outputs": [
    {
     "name": "stdout",
     "output_type": "stream",
     "text": [
      "---------------------------------------------------------\n",
      "Cross-validation accuracy with RandomForestClassifier as base estimator: 0.93 ± 0.02\n",
      "Test set accuracy with RandomForestClassifier as base estimator: 0.96\n",
      "---------------------------------------------------------\n"
     ]
    }
   ],
   "source": [
    "rf_base = RandomForestClassifier(n_estimators=10, max_depth=6, random_state=42)\n",
    "trained_clf_randomforest = train_and_evaluate_adaboost(rf_base,\n",
    "                                              n_estimators=8,\n",
    "                                              cv_folds=10)"
   ]
  },
  {
   "cell_type": "code",
   "execution_count": 36,
   "metadata": {
    "colab": {
     "base_uri": "https://localhost:8080/"
    },
    "id": "bS5VbNN0PBxW",
    "outputId": "640db3a9-19fa-438d-e061-0c01ae6bc6f2"
   },
   "outputs": [],
   "source": [
    "# logreg_base = LogisticRegression(solver='lbfgs', max_iter=500)\n",
    "# trained_clf_logreg = train_and_evaluate_adaboost(logreg_base,\n",
    "#                                               n_estimators=8,\n",
    "#                                               cv_folds=10)"
   ]
  },
  {
   "cell_type": "markdown",
   "metadata": {
    "id": "O-iBU4KyPUGc"
   },
   "source": [
    "## Trying Grad-Boosting"
   ]
  },
  {
   "cell_type": "code",
   "execution_count": 37,
   "metadata": {
    "colab": {
     "base_uri": "https://localhost:8080/"
    },
    "id": "5Ll-vKvmPCTO",
    "outputId": "6ce24516-b891-4848-8b6e-7276c75c2e10"
   },
   "outputs": [],
   "source": [
    "# from sklearn.ensemble import GradientBoostingClassifier\n",
    "# gradient_boosting_base = GradientBoostingClassifier(n_estimators=15,\n",
    "#                                                     learning_rate=0.2,\n",
    "#                                                     max_depth=1)\n",
    "# trained_clf_gb = train_and_evaluate_adaboost(gradient_boosting_base,\n",
    "#                                              n_estimators=8,\n",
    "#                                              cv_folds=10)\n"
   ]
  },
  {
   "cell_type": "markdown",
   "metadata": {
    "id": "Yhd7l--mSD0C"
   },
   "source": [
    "## Different Descision tree"
   ]
  },
  {
   "cell_type": "code",
   "execution_count": 38,
   "metadata": {
    "colab": {
     "base_uri": "https://localhost:8080/"
    },
    "id": "iayFUKRVRNMt",
    "outputId": "ba67864e-a597-490e-ddf8-551e285e5c5e"
   },
   "outputs": [],
   "source": [
    "# gradient_boosting_base = GradientBoostingClassifier(n_estimators=15,\n",
    "#                                                     learning_rate=0.2,\n",
    "#                                                     max_depth=3)\n",
    "# trained_clf_gb = train_and_evaluate_adaboost(gradient_boosting_base,\n",
    "#                                              n_estimators=8,\n",
    "#                                              cv_folds=10)"
   ]
  },
  {
   "cell_type": "markdown",
   "metadata": {
    "id": "408FAfXU7WBX"
   },
   "source": [
    "# Bagging and boosting"
   ]
  },
  {
   "cell_type": "code",
   "execution_count": 39,
   "metadata": {
    "colab": {
     "base_uri": "https://localhost:8080/"
    },
    "id": "16yanOvi7ZrA",
    "outputId": "54fb4894-c8e9-46e8-9051-bfecbe6ac40c"
   },
   "outputs": [
    {
     "name": "stdout",
     "output_type": "stream",
     "text": [
      "---------------------------------------------------------\n",
      "Cross-validation accuracy with Bagged DecisionTreeClassifier as base estimator: 0.96 ± 0.02\n",
      "Test set accuracy with Bagged DecisionTreeClassifier as base estimator: 0.97\n",
      "---------------------------------------------------------\n"
     ]
    }
   ],
   "source": [
    "decision_tree_base = DecisionTreeClassifier(max_depth=12)\n",
    "trained_clf_dt = train_and_evaluate_adaboost(decision_tree_base,\n",
    "                                             n_estimators=8,\n",
    "                                             bagging = True,\n",
    "                                             n_bags = 8,\n",
    "                                              cv_folds=10)"
   ]
  },
  {
   "cell_type": "code",
   "execution_count": 40,
   "metadata": {
    "colab": {
     "base_uri": "https://localhost:8080/"
    },
    "id": "n3efqo3SAt0H",
    "outputId": "faf30a1a-1ba2-44a6-e7f8-8f6c9647dc22"
   },
   "outputs": [
    {
     "name": "stdout",
     "output_type": "stream",
     "text": [
      "---------------------------------------------------------\n",
      "Cross-validation accuracy with Bagged RandomForestClassifier as base estimator: 0.97 ± 0.01\n",
      "Test set accuracy with Bagged RandomForestClassifier as base estimator: 0.98\n",
      "---------------------------------------------------------\n"
     ]
    }
   ],
   "source": [
    "rf_base = RandomForestClassifier(n_estimators=10, max_depth=6, random_state=42)\n",
    "trained_clf_randomforest = train_and_evaluate_adaboost(rf_base,\n",
    "                                              n_estimators=8,\n",
    "                                              bagging = True,\n",
    "                                              n_bags = 8,\n",
    "                                              cv_folds=10)"
   ]
  },
  {
   "cell_type": "markdown",
   "metadata": {
    "id": "1nRxEtDbG9p8"
   },
   "source": [
    "## Grad boosted, adaptive boosted and bootstrap aggregated model"
   ]
  },
  {
   "cell_type": "code",
   "execution_count": 55,
   "metadata": {
    "colab": {
     "base_uri": "https://localhost:8080/"
    },
    "id": "Oh_NGiHmBFzb",
    "outputId": "a9830bf8-7532-482b-cd84-23069c0c842b"
   },
   "outputs": [
    {
     "name": "stdout",
     "output_type": "stream",
     "text": [
      "---------------------------------------------------------\n",
      "Cross-validation accuracy with Bagged GradientBoostingClassifier as base estimator: 0.96 ± 0.02\n",
      "Test set accuracy with Bagged GradientBoostingClassifier as base estimator: 0.97\n",
      "---------------------------------------------------------\n"
     ]
    }
   ],
   "source": [
    "gradient_boosting_base = GradientBoostingClassifier(n_estimators=15,\n",
    "                                                    learning_rate=0.1,\n",
    "                                                    max_depth=3)\n",
    "trained_clf_gb = train_and_evaluate_adaboost(gradient_boosting_base,\n",
    "                                             n_estimators=12,\n",
    "                                             bagging = True,\n",
    "                                             n_bags = 5,\n",
    "                                             cv_folds=10)"
   ]
  },
  {
   "cell_type": "markdown",
   "metadata": {
    "id": "shd9PUdOHNiS"
   },
   "source": [
    "# XGBoosting"
   ]
  },
  {
   "cell_type": "code",
   "execution_count": 59,
   "metadata": {},
   "outputs": [
    {
     "name": "stdout",
     "output_type": "stream",
     "text": [
      "Random Forest Accuracy: 0.9204\n",
      "Random Forest Cross-Validation Accuracy: 0.9199\n",
      "\n",
      "Logistic Regression Accuracy: 0.9685\n",
      "Logistic Regression Cross-Validation Accuracy: 0.9666\n",
      "\n",
      "Decision Tree Accuracy: 0.8426\n",
      "Decision Tree Cross-Validation Accuracy: 0.8547\n",
      "\n",
      "AdaBoost Accuracy: 0.9370\n",
      "AdaBoost Cross-Validation Accuracy: 0.9421\n",
      "\n",
      "XGBoost Accuracy: 0.9685\n",
      "XGBoost Cross-Validation Accuracy: 0.9738\n",
      "\n"
     ]
    }
   ],
   "source": [
    "from sklearn.ensemble import AdaBoostClassifier, BaggingClassifier, RandomForestClassifier\n",
    "from sklearn.linear_model import LogisticRegression\n",
    "from sklearn.tree import DecisionTreeClassifier\n",
    "from sklearn.model_selection import train_test_split, cross_val_score ,StratifiedKFold\n",
    "from sklearn.metrics import accuracy_score\n",
    "from sklearn.datasets import load_digits\n",
    "import xgboost as xgb\n",
    "import numpy as np\n",
    "\n",
    "# Set a random seed for reproducibility\n",
    "random_seed = 42\n",
    "np.random.seed(random_seed)\n",
    "\n",
    "# Load dataset\n",
    "digits = load_digits()\n",
    "X, y = digits.data, digits.target\n",
    "\n",
    "# Split dataset into training and test sets (with random seed)\n",
    "X_train, X_test, y_train, y_test = train_test_split(X, y, test_size=0.3, random_state=random_seed)\n",
    "\n",
    "# Initialize classifiers (with random_state where applicable)\n",
    "classifiers = {\n",
    "    'Random Forest': RandomForestClassifier(n_estimators=10, max_depth=6,criterion = 'entropy', \n",
    "                                            random_state=random_seed,n_jobs=-1),\n",
    "    'Logistic Regression': LogisticRegression(max_iter=500,\n",
    "                                              random_state=random_seed),\n",
    "    'Decision Tree': DecisionTreeClassifier(max_depth=15,\n",
    "                                            random_state=random_seed),\n",
    "    'AdaBoost': AdaBoostClassifier(estimator = DecisionTreeClassifier(max_depth=3,criterion = 'entropy',random_state=random_seed),\n",
    "                                   n_estimators=250,learning_rate=0.5,\n",
    "                                   random_state=random_seed),\n",
    "    'XGBoost': xgb.XGBClassifier(max_depth=5,learning_rate=0.2,n_estimators=180,subsample= 0.6,colsample_bytree=0.6,\n",
    "                                 use_label_encoder=False, eval_metric='mlogloss', \n",
    "                                 random_state=random_seed,n_jobs=-1)\n",
    "}\n",
    "\n",
    "# Train and evaluate classifiers\n",
    "for name, clf in classifiers.items():\n",
    "    # Fit the classifier\n",
    "    clf.fit(X_train, y_train)\n",
    "    \n",
    "    # Make predictions on the test set\n",
    "    y_pred = clf.predict(X_test)\n",
    "    \n",
    "    # Calculate accuracy\n",
    "    accuracy = accuracy_score(y_test, y_pred)\n",
    "    print(f\"{name} Accuracy: {accuracy:.4f}\")\n",
    "\n",
    "    # Optional: Cross-validation with random seed\n",
    "    cv_scores = cross_val_score(clf, X, y, cv=StratifiedKFold(n_splits=5, shuffle=True, random_state=random_seed))\n",
    "    print(f\"{name} Cross-Validation Accuracy: {cv_scores.mean():.4f}\\n\")\n"
   ]
  },
  {
   "cell_type": "code",
   "execution_count": 60,
   "metadata": {},
   "outputs": [
    {
     "data": {
      "image/png": "[encoded data removed]",
      "text/plain": [
       "<Figure size 1400x600 with 2 Axes>"
      ]
     },
     "metadata": {},
     "output_type": "display_data"
    }
   ],
   "source": [
    "import matplotlib.pyplot as plt\n",
    "\n",
    "# Dictionaries to store accuracies\n",
    "train_accuracies = {}\n",
    "test_accuracies = {}\n",
    "\n",
    "# Train and evaluate classifiers\n",
    "for name, clf in classifiers.items():\n",
    "    # Fit the classifier\n",
    "    clf.fit(X_train, y_train)\n",
    "    \n",
    "    # Calculate training accuracy\n",
    "    y_train_pred = clf.predict(X_train)\n",
    "    train_accuracy = accuracy_score(y_train, y_train_pred)\n",
    "    train_accuracies[name] = train_accuracy\n",
    "    \n",
    "    # Calculate test accuracy\n",
    "    y_test_pred = clf.predict(X_test)\n",
    "    test_accuracy = accuracy_score(y_test, y_test_pred)\n",
    "    test_accuracies[name] = test_accuracy\n",
    "\n",
    "# Plotting the training accuracies\n",
    "plt.figure(figsize=(14, 6))\n",
    "\n",
    "# Training Accuracy Plot\n",
    "plt.subplot(1, 2, 1)\n",
    "plt.barh(list(train_accuracies.keys()), list(train_accuracies.values()), color='lightcoral')\n",
    "plt.xlabel('Training Accuracy')\n",
    "plt.title('Training Accuracy for Different Classifiers')\n",
    "plt.xlim(0.8, 1.0)  # Adjust the range if necessary\n",
    "\n",
    "# Test Accuracy Plot\n",
    "plt.subplot(1, 2, 2)\n",
    "plt.barh(list(test_accuracies.keys()), list(test_accuracies.values()), color='skyblue')\n",
    "plt.xlabel('Test Accuracy')\n",
    "plt.title('Test Accuracy for Different Classifiers')\n",
    "plt.xlim(0.8, 1.0)  # Adjust the range if necessary\n",
    "\n",
    "plt.tight_layout()\n",
    "plt.show()\n"
   ]
  },
  {
   "cell_type": "code",
   "execution_count": null,
   "metadata": {},
   "outputs": [],
   "source": []
  }
 ],
 "metadata": {
  "colab": {
   "provenance": []
  },
  "kernelspec": {
   "display_name": "Python 3 (ipykernel)",
   "language": "python",
   "name": "python3"
  },
  "language_info": {
   "codemirror_mode": {
    "name": "ipython",
    "version": 3
   },
   "file_extension": ".py",
   "mimetype": "text/x-python",
   "name": "python",
   "nbconvert_exporter": "python",
   "pygments_lexer": "ipython3",
   "version": "3.12.3"
  }
 },
 "nbformat": 4,
 "nbformat_minor": 4
}
